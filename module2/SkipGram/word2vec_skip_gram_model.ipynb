{
  "nbformat": 4,
  "nbformat_minor": 0,
  "metadata": {
    "kernelspec": {
      "name": "python3",
      "display_name": "Python 3"
    },
    "language_info": {
      "codemirror_mode": {
        "name": "ipython",
        "version": 3
      },
      "file_extension": ".py",
      "mimetype": "text/x-python",
      "name": "python",
      "nbconvert_exporter": "python",
      "pygments_lexer": "ipython3",
      "version": "3.5.2"
    },
    "colab": {
      "name": "word2vec_skip_gram_model.ipynb",
      "version": "0.3.2",
      "provenance": []
    },
    "accelerator": "TPU"
  },
  "cells": [
    {
      "cell_type": "code",
      "metadata": {
        "id": "NHt6lJIJa7ZI",
        "colab_type": "code",
        "colab": {}
      },
      "source": [
        ""
      ],
      "execution_count": 0,
      "outputs": []
    },
    {
      "cell_type": "code",
      "metadata": {
        "id": "9FiwDXiob9gf",
        "colab_type": "code",
        "colab": {}
      },
      "source": [
        ""
      ],
      "execution_count": 0,
      "outputs": []
    },
    {
      "cell_type": "code",
      "metadata": {
        "id": "_uIIo-KkaxoF",
        "colab_type": "code",
        "colab": {}
      },
      "source": [
        "%reload_ext autoreload\n",
        "%autoreload 2\n",
        "%matplotlib inline"
      ],
      "execution_count": 0,
      "outputs": []
    },
    {
      "cell_type": "code",
      "metadata": {
        "id": "19zVxmGOaxoL",
        "colab_type": "code",
        "colab": {}
      },
      "source": [
        "import mpld3\n",
        "mpld3.enable_notebook()"
      ],
      "execution_count": 0,
      "outputs": []
    },
    {
      "cell_type": "code",
      "metadata": {
        "id": "kp3-xsWQaxoO",
        "colab_type": "code",
        "colab": {}
      },
      "source": [
        "from pylab import rcParams\n",
        "rcParams['figure.figsize'] = 10, 10"
      ],
      "execution_count": 0,
      "outputs": []
    },
    {
      "cell_type": "code",
      "metadata": {
        "id": "YOUGFS2FaxoR",
        "colab_type": "code",
        "colab": {}
      },
      "source": [
        "import sys\n",
        "import numpy as np \n",
        "import random\n",
        "import math\n",
        "import tensorflow as tf\n",
        "import matplotlib.pyplot as plt \n",
        "\n",
        "sys.path.append(\"/content/drive/GoogleDrive_Utils/\")"
      ],
      "execution_count": 0,
      "outputs": []
    },
    {
      "cell_type": "code",
      "metadata": {
        "id": "Oy_jX4uLaxoU",
        "colab_type": "code",
        "colab": {}
      },
      "source": [
        "from readWikiData import get_wikipedia_data"
      ],
      "execution_count": 0,
      "outputs": []
    },
    {
      "cell_type": "markdown",
      "metadata": {
        "id": "t-t4s3WEaxoX",
        "colab_type": "text"
      },
      "source": [
        "#### Get data "
      ]
    },
    {
      "cell_type": "code",
      "metadata": {
        "id": "ie7R40fnaxoY",
        "colab_type": "code",
        "colab": {}
      },
      "source": [
        "sentences, word2idx, idx2word, _ = get_wikipedia_data(n_files=10, n_vocab=1000, by_paragraph=True)"
      ],
      "execution_count": 0,
      "outputs": []
    },
    {
      "cell_type": "code",
      "metadata": {
        "id": "vNBtKmg3axoc",
        "colab_type": "code",
        "colab": {}
      },
      "source": [
        "def get_wiki_data_skip_gram(sentences, word2idx, window_size=5):\n",
        "    training_data = []\n",
        "    vocab_size = len(word2idx)\n",
        "    for sentence in sentences:\n",
        "        if len(sentence) < window_size * 2 + 1:\n",
        "            continue\n",
        "        for i in range(len(sentence)):\n",
        "            left_context = sentence[max(i-window_size, 0): i]\n",
        "            right_context = sentence[i+1:window_size + i + 1]\n",
        "            centre = sentence[i]\n",
        "            \n",
        "            if len(left_context + right_context) < (2*window_size):\n",
        "                len_left = len(left_context)\n",
        "                len_right = len(right_context)\n",
        "                \n",
        "                if len_left < len_right:\n",
        "                    right_context = sentence[i+1 : window_size + i + 1 + (len_right - len_left)]\n",
        "                else:\n",
        "                    left_context = sentence[max(i-window_size - (len_left - len_right), 0): i]\n",
        "            \n",
        "            temp = left_context + right_context\n",
        "            \n",
        "            if len(temp) < window_size * 2:\n",
        "                print (sentence)\n",
        "                print (left_context)\n",
        "                print (right_context)\n",
        "                print (centre)\n",
        "                break \n",
        "            \n",
        "            training_data.append((centre, tuple(temp)))\n",
        "            \n",
        "            \n",
        "    print (training_data[:10])\n",
        "    training_data = list(set(training_data))\n",
        "    idx2word = {v:k for k, v in word2idx.items()}\n",
        "    return len(word2idx), training_data, word2idx, idx2word"
      ],
      "execution_count": 0,
      "outputs": []
    },
    {
      "cell_type": "code",
      "metadata": {
        "id": "ZdgJYgRwaxog",
        "colab_type": "code",
        "colab": {}
      },
      "source": [
        "vocab_size, training_data, word2idx, idx2word = get_wiki_data_skip_gram(sentences, word2idx)"
      ],
      "execution_count": 0,
      "outputs": []
    },
    {
      "cell_type": "code",
      "metadata": {
        "id": "tMIyd889axok",
        "colab_type": "code",
        "colab": {}
      },
      "source": [
        "len(training_data)"
      ],
      "execution_count": 0,
      "outputs": []
    },
    {
      "cell_type": "code",
      "metadata": {
        "id": "ylGYGPOVaxoo",
        "colab_type": "code",
        "colab": {}
      },
      "source": [
        "training_data[:10]"
      ],
      "execution_count": 0,
      "outputs": []
    },
    {
      "cell_type": "markdown",
      "metadata": {
        "id": "zISV37qBaxos",
        "colab_type": "text"
      },
      "source": [
        "##### Get batches"
      ]
    },
    {
      "cell_type": "code",
      "metadata": {
        "id": "4nFMOoVNaxot",
        "colab_type": "code",
        "colab": {}
      },
      "source": [
        "bucket_list = []\n",
        "\n",
        "def getNextBatchSkipGram(bi_grams_, window_size=5, batch_size=10000):\n",
        "    global bucket_list\n",
        "    docs_ids_to_select = list(set(bi_grams_) - set(bucket_list))\n",
        "    \n",
        "    if len(docs_ids_to_select) < batch_size:\n",
        "        bucket_list = []\n",
        "        docs_ids_to_select = bi_grams_\n",
        "        \n",
        "    # Initialize two variables \n",
        "    train_X = np.ndarray(shape=(batch_size, 1), dtype=np.int32)\n",
        "    train_label = np.ndarray(shape=(batch_size, window_size*2), dtype=np.int32)\n",
        "    \n",
        "    # Get a random set of docs \n",
        "    random_docs = random.sample(docs_ids_to_select, batch_size)\n",
        "    bucket_list += random_docs\n",
        "    \n",
        "    \n",
        "    index = 0 \n",
        "    \n",
        "    # Iterate threw all the docs \n",
        "    for item in random_docs:\n",
        "        train_X[index] = item[0]\n",
        "        train_label[index] = item[1]  \n",
        "        index += 1\n",
        "            \n",
        "    return train_X, train_label"
      ],
      "execution_count": 0,
      "outputs": []
    },
    {
      "cell_type": "code",
      "metadata": {
        "id": "SpO3Y0bFaxow",
        "colab_type": "code",
        "colab": {}
      },
      "source": [
        "getNextBatchSkipGram(training_data)"
      ],
      "execution_count": 0,
      "outputs": []
    },
    {
      "cell_type": "markdown",
      "metadata": {
        "id": "jGdHgm3laxo2",
        "colab_type": "text"
      },
      "source": [
        "##### Let's design the graph for skip gram model "
      ]
    },
    {
      "cell_type": "code",
      "metadata": {
        "id": "0MqKoZPGaxo3",
        "colab_type": "code",
        "colab": {}
      },
      "source": [
        "def init_weight(Mi, Mo):\n",
        "    shape_sum = float(Mi + Mo) \n",
        "    return np.random.uniform(-np.sqrt(6/shape_sum),np.sqrt(6/shape_sum), [Mi, Mo])"
      ],
      "execution_count": 0,
      "outputs": []
    },
    {
      "cell_type": "code",
      "metadata": {
        "id": "b8K0ucAFaxo6",
        "colab_type": "code",
        "colab": {}
      },
      "source": [
        "embedding_size_w = 100\n",
        "vocab_size = len(word2idx)\n",
        "n_neg_samples = 20\n",
        "learning_rate = 10e-5\n",
        "epochs = 2\n",
        "batch_size=10000\n",
        "mu = 0.99\n",
        "window_size = 5"
      ],
      "execution_count": 0,
      "outputs": []
    },
    {
      "cell_type": "code",
      "metadata": {
        "id": "aQHTo6_Naxo-",
        "colab_type": "code",
        "colab": {}
      },
      "source": [
        "# Define placeholders for training \n",
        "train_X = tf.placeholder(tf.int32, shape=[batch_size, 1])\n",
        "train_label = tf.placeholder(tf.int32, shape=[batch_size, None])"
      ],
      "execution_count": 0,
      "outputs": []
    },
    {
      "cell_type": "code",
      "metadata": {
        "id": "wZ_5GUX-axpB",
        "colab_type": "code",
        "colab": {}
      },
      "source": [
        "# Define matrix for doc_embedding and word_embedding \n",
        "W1 = tf.Variable(init_weight(vocab_size, embedding_size_w), name=\"W1\", dtype=tf.float32)"
      ],
      "execution_count": 0,
      "outputs": []
    },
    {
      "cell_type": "code",
      "metadata": {
        "id": "7sdCitdaaxpE",
        "colab_type": "code",
        "colab": {}
      },
      "source": [
        "# Define weights for the output unit \n",
        "W2 = tf.Variable(init_weight(vocab_size, embedding_size_w), name=\"W2\", dtype=tf.float32)\n",
        "biases = tf.Variable(tf.zeros(vocab_size))"
      ],
      "execution_count": 0,
      "outputs": []
    },
    {
      "cell_type": "code",
      "metadata": {
        "id": "KeNvUoVmaxpH",
        "colab_type": "code",
        "colab": {}
      },
      "source": [
        "print(train_X.get_shape(), train_label.get_shape(), W1.get_shape(), W2.get_shape())"
      ],
      "execution_count": 0,
      "outputs": []
    },
    {
      "cell_type": "code",
      "metadata": {
        "id": "vs7qHRAPaxpK",
        "colab_type": "code",
        "colab": {}
      },
      "source": [
        "embed = tf.nn.embedding_lookup(W1, train_X[0])"
      ],
      "execution_count": 0,
      "outputs": []
    },
    {
      "cell_type": "code",
      "metadata": {
        "id": "vLRK3asjaxpO",
        "colab_type": "code",
        "colab": {}
      },
      "source": [
        "loss = tf.nn.sampled_softmax_loss(weights=W2, \\\n",
        "                                  biases=biases, \\\n",
        "                                  labels=train_label, \\\n",
        "                                  inputs=embed, \\\n",
        "                                  num_sampled=n_neg_samples, \\\n",
        "                                  num_classes=vocab_size, \n",
        "                                  num_true=window_size*2)"
      ],
      "execution_count": 0,
      "outputs": []
    },
    {
      "cell_type": "code",
      "metadata": {
        "id": "L74AM6nnaxpV",
        "colab_type": "code",
        "colab": {}
      },
      "source": [
        "loss = tf.reduce_mean(loss)"
      ],
      "execution_count": 0,
      "outputs": []
    },
    {
      "cell_type": "code",
      "metadata": {
        "id": "Tr3BVPx5axpb",
        "colab_type": "code",
        "colab": {}
      },
      "source": [
        "#optimizer = tf.train.MomentumOptimizer(learning_rate=learning_rate, momentum=mu).minimize(loss)\n",
        "#optimizer = tf.train.AdagradOptimizer(learning_rate).minimize(loss)\n",
        "\n",
        "\n",
        "global_step = tf.Variable(0, trainable=False)\n",
        "starter_learning_rate = 10e-5\n",
        "learning_rate = tf.train.exponential_decay(starter_learning_rate, global_step,\n",
        "                                           1000, 0.96, staircase=True)\n",
        "# Passing global_step to minimize() will increment it at each step.\n",
        "optimizer = (\n",
        "    tf.train.MomentumOptimizer(learning_rate, momentum=mu).minimize(loss, global_step=global_step)\n",
        ")\n"
      ],
      "execution_count": 0,
      "outputs": []
    },
    {
      "cell_type": "code",
      "metadata": {
        "id": "UUHBp0nqaxpe",
        "colab_type": "code",
        "colab": {}
      },
      "source": [
        "saver = tf.train.Saver()\n",
        "\n",
        "with tf.Session() as sess:\n",
        "    init = tf.global_variables_initializer()\n",
        "    sess.run(init)\n",
        "    average_loss = 0\n",
        "    \n",
        "    for step in range(epochs):\n",
        "        epoch_error = 0.0\n",
        "        temp_X , temp_labels = getNextBatchSkipGram(window_size=5, bi_grams_=training_data)\n",
        "        \n",
        "        feed_dict = {train_X : temp_X, train_label : temp_labels}\n",
        "        \n",
        "        op, l = sess.run([optimizer, loss], \n",
        "                                    feed_dict=feed_dict)\n",
        "        \n",
        "        epoch_error += l\n",
        "                \n",
        "        if step % 100 == 0:\n",
        "            print (\"Error at epoch : \", step, \" = \", epoch_error)\n",
        "            \n",
        "    save_path = saver.save(sess, \"./models/model_skipgram_model.ckpt\")\n",
        "    print(\"Model saved in file: %s\" % save_path)"
      ],
      "execution_count": 0,
      "outputs": []
    },
    {
      "cell_type": "markdown",
      "metadata": {
        "id": "EUE9_L_daxpg",
        "colab_type": "text"
      },
      "source": [
        "##### Embeddings "
      ]
    },
    {
      "cell_type": "code",
      "metadata": {
        "id": "uYo1KNY2axph",
        "colab_type": "code",
        "colab": {}
      },
      "source": [
        "W1_embedding = None\n",
        "W2_embedding = None \n",
        "\n",
        "with tf.Session() as sess:\n",
        "    saver = tf.train.Saver()\n",
        "    # Restore variables from disk.\n",
        "    saver.restore(sess, \"./models/model_skipgram_model.ckpt\")\n",
        "    print(\"Model restored.\")\n",
        "    \n",
        "    # Normalize word2vec \n",
        "    W1_embedding = W1.eval()\n",
        "    \n",
        "    # Normalize word2vec \n",
        "    W2_embedding = W2.eval()"
      ],
      "execution_count": 0,
      "outputs": []
    },
    {
      "cell_type": "code",
      "metadata": {
        "id": "9e7g_CbYaxpl",
        "colab_type": "code",
        "colab": {}
      },
      "source": [
        "word2vec = np.mean([W1_embedding, W2_embedding], axis=0)"
      ],
      "execution_count": 0,
      "outputs": []
    },
    {
      "cell_type": "markdown",
      "metadata": {
        "id": "VZR0XzMmaxpn",
        "colab_type": "text"
      },
      "source": [
        "##### Projection of embeddings using t-SNE "
      ]
    },
    {
      "cell_type": "code",
      "metadata": {
        "id": "uo3811K_axpo",
        "colab_type": "code",
        "colab": {}
      },
      "source": [
        "idx2word = {v:k for k, v in word2idx.items()}"
      ],
      "execution_count": 0,
      "outputs": []
    },
    {
      "cell_type": "code",
      "metadata": {
        "id": "_x_Ble9Haxpr",
        "colab_type": "code",
        "colab": {}
      },
      "source": [
        "from sklearn.manifold import TSNE\n",
        "model = TSNE()\n",
        "Z = model.fit_transform(word2vec) "
      ],
      "execution_count": 0,
      "outputs": []
    },
    {
      "cell_type": "code",
      "metadata": {
        "id": "m6RHYT9Jaxpt",
        "colab_type": "code",
        "colab": {}
      },
      "source": [
        "plt.scatter(Z[:,0], Z[:,1])\n",
        "for i in range(len(idx2word)):\n",
        "    try:\n",
        "        plt.annotate(s=idx2word[i].encode(\"utf8\"), xy=(Z[i,0], Z[i,1]))\n",
        "    except:\n",
        "        print (\"bad string:\", idx2word[i])\n",
        "plt.show()"
      ],
      "execution_count": 0,
      "outputs": []
    },
    {
      "cell_type": "code",
      "metadata": {
        "id": "1yGgilQGaxpw",
        "colab_type": "code",
        "colab": {}
      },
      "source": [
        ""
      ],
      "execution_count": 0,
      "outputs": []
    },
    {
      "cell_type": "code",
      "metadata": {
        "id": "POlZUIOHaxp5",
        "colab_type": "code",
        "colab": {}
      },
      "source": [
        ""
      ],
      "execution_count": 0,
      "outputs": []
    },
    {
      "cell_type": "code",
      "metadata": {
        "id": "QsEVD0T6axp9",
        "colab_type": "code",
        "colab": {}
      },
      "source": [
        ""
      ],
      "execution_count": 0,
      "outputs": []
    }
  ]
}