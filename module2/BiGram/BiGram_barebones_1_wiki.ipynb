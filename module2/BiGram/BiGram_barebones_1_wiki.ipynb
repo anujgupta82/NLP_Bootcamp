{
 "cells": [
  {
   "cell_type": "markdown",
   "metadata": {},
   "source": [
    "---------\n",
    "\n",
    "# Gentle introduction to BiGram model\n",
    "\n",
    "----------\n",
    "\n",
    "### Objective is correctness and clarity of basic concepts and not efficiency\n",
    "\n",
    "#### Author : Anuj\n",
    "\n",
    "#### Uses Wikipedia Dataset"
   ]
  },
  {
   "cell_type": "code",
   "execution_count": 39,
   "metadata": {},
   "outputs": [],
   "source": [
    "import sys\n",
    "import tensorflow as tf\n",
    "import numpy as np\n",
    "import random\n",
    "import itertools"
   ]
  },
  {
   "cell_type": "code",
   "execution_count": 40,
   "metadata": {},
   "outputs": [],
   "source": [
    "sys.path.append(\"../../Utils/\")"
   ]
  },
  {
   "cell_type": "code",
   "execution_count": 41,
   "metadata": {},
   "outputs": [],
   "source": [
    "from readWikiData import get_wikipedia_data"
   ]
  },
  {
   "cell_type": "code",
   "execution_count": null,
   "metadata": {},
   "outputs": [],
   "source": []
  },
  {
   "cell_type": "code",
   "execution_count": 42,
   "metadata": {},
   "outputs": [],
   "source": [
    "def get_wiki_data(n_vocab_=1000):\n",
    "    sentences, word2idx, _, _ = get_wikipedia_data(n_vocab=n_vocab_, n_files=10, by_paragraph=True)\n",
    "    training_data = []\n",
    "    vocab_size = len(word2idx)\n",
    "    for sentence in sentences:\n",
    "        for elem1, elem2 in zip(sentence[:-1], sentence[1:]):\n",
    "            training_data.append((elem1, elem2))\n",
    "    \n",
    "    # this destroys the order of words in a wondow but for bigram its harmless\n",
    "    # all we want is - pair of all bigrams\n",
    "    training_data = list(set(training_data))   \n",
    "    \n",
    "    idx2word = {v:k for k, v in word2idx.items()}\n",
    "    return len(word2idx), training_data, word2idx, idx2word"
   ]
  },
  {
   "cell_type": "code",
   "execution_count": 43,
   "metadata": {},
   "outputs": [],
   "source": [
    "vocab_size, training_data, word2idx, idx2word = get_wiki_data(n_vocab_=9999)"
   ]
  },
  {
   "cell_type": "code",
   "execution_count": 44,
   "metadata": {},
   "outputs": [
    {
     "name": "stdout",
     "output_type": "stream",
     "text": [
      "10000\n",
      "<class 'list'>\n"
     ]
    }
   ],
   "source": [
    "print (vocab_size)\n",
    "print (type(training_data))"
   ]
  },
  {
   "cell_type": "code",
   "execution_count": 45,
   "metadata": {},
   "outputs": [
    {
     "data": {
      "text/plain": [
       "[(1151, 604),\n",
       " (7332, 2077),\n",
       " (147, 4616),\n",
       " (2488, 1459),\n",
       " (8721, 904),\n",
       " (9999, 5827),\n",
       " (632, 8197),\n",
       " (8883, 6811),\n",
       " (3136, 5063),\n",
       " (147, 5285)]"
      ]
     },
     "execution_count": 45,
     "metadata": {},
     "output_type": "execute_result"
    }
   ],
   "source": [
    "training_data[:10]"
   ]
  },
  {
   "cell_type": "markdown",
   "metadata": {},
   "source": [
    "##### Get batches"
   ]
  },
  {
   "cell_type": "code",
   "execution_count": 46,
   "metadata": {},
   "outputs": [],
   "source": [
    "# contains list of pairs that have already been selected\n",
    "bucket_list = []\n",
    "\n",
    "def getNextBatch(bi_grams_, batch_size=1000):\n",
    "    \n",
    "    global bucket_list\n",
    "    \n",
    "    # list of possible pairs to pick from\n",
    "    docs_ids_to_select = list(set(bi_grams_) - set(bucket_list))\n",
    "    \n",
    "    # once you exhaust the possible pais, reset\n",
    "    if len(docs_ids_to_select) < batch_size:\n",
    "        bucket_list = []\n",
    "        docs_ids_to_select = bi_grams_\n",
    "        \n",
    "    # Initialize two variables \n",
    "    train_X = np.ndarray(shape=(batch_size, 1), dtype=np.int32)\n",
    "    train_label = np.ndarray(shape=(batch_size, 1), dtype=np.int32)\n",
    "    \n",
    "    # pick a random chunks of pairs \n",
    "    random_docs = random.sample(docs_ids_to_select, batch_size)\n",
    "    bucket_list += random_docs\n",
    "    \n",
    "    index = 0 \n",
    "    \n",
    "    # Iterate threw all the docs \n",
    "    for item in random_docs:\n",
    "        train_X[index] = item[0]\n",
    "        train_label[index] = item[1]  \n",
    "        index += 1\n",
    "        \n",
    "    #flatten list of lists to a single list\n",
    "    train_X = list(itertools.chain(*train_X))\n",
    "    train_label = list(itertools.chain(*train_label))\n",
    "            \n",
    "    return train_X, train_label"
   ]
  },
  {
   "cell_type": "code",
   "execution_count": 47,
   "metadata": {},
   "outputs": [],
   "source": [
    "X, Y = getNextBatch(bi_grams_=training_data, batch_size=32)"
   ]
  },
  {
   "cell_type": "code",
   "execution_count": 48,
   "metadata": {},
   "outputs": [
    {
     "name": "stdout",
     "output_type": "stream",
     "text": [
      "32 32\n"
     ]
    }
   ],
   "source": [
    "print (len(X), len(Y))"
   ]
  },
  {
   "cell_type": "code",
   "execution_count": 49,
   "metadata": {},
   "outputs": [
    {
     "name": "stdout",
     "output_type": "stream",
     "text": [
      "[16, 1397, 8199, 2597, 2283, 6847, 2, 8, 1236, 1548] [1743, 265, 2398, 9999, 739, 28, 3100, 1256, 167, 4]\n"
     ]
    }
   ],
   "source": [
    "print (X[:10], Y[:10])"
   ]
  },
  {
   "cell_type": "markdown",
   "metadata": {},
   "source": [
    "# Network"
   ]
  },
  {
   "cell_type": "code",
   "execution_count": 50,
   "metadata": {},
   "outputs": [
    {
     "name": "stdout",
     "output_type": "stream",
     "text": [
      "Number of batches = 42816\n"
     ]
    }
   ],
   "source": [
    "batch_size=32\n",
    "num_batches = len(training_data)/batch_size\n",
    "\n",
    "print (\"Number of batches = %d\" %num_batches)\n",
    "\n",
    "embedding_dims = 128\n",
    "\n"
   ]
  },
  {
   "cell_type": "code",
   "execution_count": 51,
   "metadata": {},
   "outputs": [],
   "source": [
    "X = tf.placeholder(shape=(batch_size,), dtype = tf.int32)\n",
    "Y = tf.placeholder(shape=(batch_size,), dtype = tf.int32)"
   ]
  },
  {
   "cell_type": "code",
   "execution_count": 52,
   "metadata": {},
   "outputs": [],
   "source": [
    "y_oh = tf.one_hot(indices=X, depth=vocab_size)"
   ]
  },
  {
   "cell_type": "code",
   "execution_count": 53,
   "metadata": {},
   "outputs": [
    {
     "name": "stdout",
     "output_type": "stream",
     "text": [
      "(32,)\n",
      "(32,)\n",
      "(32, 10000)\n"
     ]
    }
   ],
   "source": [
    "print (X.get_shape())\n",
    "print (Y.get_shape())\n",
    "print (y_oh.get_shape())"
   ]
  },
  {
   "cell_type": "code",
   "execution_count": 54,
   "metadata": {},
   "outputs": [],
   "source": [
    "embedding_layer_1 = tf.Variable(tf.truncated_normal(shape=(vocab_size, embedding_dims), \n",
    "                                                    mean=0.0, stddev=1.0, dtype=tf.float32))\n",
    "embeded = tf.nn.embedding_lookup(embedding_layer_1, ids=X)"
   ]
  },
  {
   "cell_type": "code",
   "execution_count": 55,
   "metadata": {},
   "outputs": [
    {
     "data": {
      "text/plain": [
       "TensorShape([Dimension(32), Dimension(128)])"
      ]
     },
     "execution_count": 55,
     "metadata": {},
     "output_type": "execute_result"
    }
   ],
   "source": [
    "embeded.get_shape()"
   ]
  },
  {
   "cell_type": "code",
   "execution_count": 56,
   "metadata": {},
   "outputs": [],
   "source": [
    "#softmax weights, bias\n",
    "W = tf.Variable(tf.truncated_normal(shape=(embedding_dims, vocab_size),mean=0.0, stddev=1.0, dtype=tf.float32))\n",
    "b = tf.Variable(tf.zeros(shape=(vocab_size,)))\n"
   ]
  },
  {
   "cell_type": "code",
   "execution_count": 57,
   "metadata": {},
   "outputs": [],
   "source": [
    "logits = tf.add(tf.matmul(embeded, W), b )\n",
    "\n",
    "#define loss\n",
    "loss = tf.nn.softmax_cross_entropy_with_logits(logits=logits, labels=y_oh)\n",
    "mean_loss = tf.reduce_mean(loss)"
   ]
  },
  {
   "cell_type": "code",
   "execution_count": 58,
   "metadata": {},
   "outputs": [
    {
     "name": "stdout",
     "output_type": "stream",
     "text": [
      "(32, 10000)\n",
      "(32, 10000)\n"
     ]
    }
   ],
   "source": [
    "print (logits.get_shape())\n",
    "print (y_oh.get_shape())"
   ]
  },
  {
   "cell_type": "code",
   "execution_count": null,
   "metadata": {},
   "outputs": [],
   "source": []
  },
  {
   "cell_type": "code",
   "execution_count": 59,
   "metadata": {},
   "outputs": [],
   "source": [
    "optimizer = tf.train.GradientDescentOptimizer(0.5).minimize(mean_loss)"
   ]
  },
  {
   "cell_type": "code",
   "execution_count": null,
   "metadata": {},
   "outputs": [],
   "source": []
  },
  {
   "cell_type": "code",
   "execution_count": 60,
   "metadata": {},
   "outputs": [
    {
     "name": "stdout",
     "output_type": "stream",
     "text": [
      "For epoch = 0, batch id = 0, batch loss = 32.628548\n",
      "For epoch = 0, batch id = 100, batch loss = 29.545616\n",
      "For epoch = 0, batch id = 200, batch loss = 27.514614\n",
      "For epoch = 0, batch id = 300, batch loss = 22.346369\n",
      "For epoch = 0, batch id = 400, batch loss = 21.961580\n",
      "For epoch = 0, batch id = 500, batch loss = 17.446415\n",
      "For epoch = 0, batch id = 600, batch loss = 22.300009\n",
      "For epoch = 0, batch id = 700, batch loss = 14.901987\n",
      "For epoch = 0, batch id = 800, batch loss = 13.546486\n",
      "For epoch = 0, batch id = 900, batch loss = 12.539949\n",
      "For epoch = 0, batch id = 1000, batch loss = 15.827174\n",
      "For epoch = 0, batch id = 1100, batch loss = 13.441044\n",
      "For epoch = 0, batch id = 1200, batch loss = 13.772314\n",
      "For epoch = 0, batch id = 1300, batch loss = 12.863209\n",
      "For epoch = 0, batch id = 1400, batch loss = 11.866285\n",
      "For epoch = 0, batch id = 1500, batch loss = 12.184096\n",
      "For epoch = 0, batch id = 1600, batch loss = 10.843259\n",
      "For epoch = 0, batch id = 1700, batch loss = 7.720001\n",
      "For epoch = 0, batch id = 1800, batch loss = 10.512144\n",
      "For epoch = 0, batch id = 1900, batch loss = 9.375719\n",
      "For epoch = 0, batch id = 2000, batch loss = 9.528612\n",
      "For epoch = 0, batch id = 2100, batch loss = 8.820250\n",
      "For epoch = 0, batch id = 2200, batch loss = 7.074725\n",
      "For epoch = 0, batch id = 2300, batch loss = 10.859400\n",
      "For epoch = 0, batch id = 2400, batch loss = 9.205738\n",
      "For epoch = 0, batch id = 2500, batch loss = 5.615418\n",
      "For epoch = 0, batch id = 2600, batch loss = 3.982654\n",
      "For epoch = 0, batch id = 2700, batch loss = 6.453649\n",
      "For epoch = 0, batch id = 2800, batch loss = 6.942132\n"
     ]
    },
    {
     "ename": "KeyboardInterrupt",
     "evalue": "",
     "output_type": "error",
     "traceback": [
      "\u001b[0;31m---------------------------------------------------------------------------\u001b[0m",
      "\u001b[0;31mKeyboardInterrupt\u001b[0m                         Traceback (most recent call last)",
      "\u001b[0;32m<ipython-input-60-13e939d26749>\u001b[0m in \u001b[0;36m<module>\u001b[0;34m()\u001b[0m\n\u001b[1;32m     13\u001b[0m         \u001b[0;32mfor\u001b[0m \u001b[0mbatch_id\u001b[0m \u001b[0;32min\u001b[0m \u001b[0mrange\u001b[0m\u001b[0;34m(\u001b[0m\u001b[0mint\u001b[0m\u001b[0;34m(\u001b[0m\u001b[0mnum_batches\u001b[0m\u001b[0;34m)\u001b[0m\u001b[0;34m)\u001b[0m\u001b[0;34m:\u001b[0m\u001b[0;34m\u001b[0m\u001b[0m\n\u001b[1;32m     14\u001b[0m \u001b[0;34m\u001b[0m\u001b[0m\n\u001b[0;32m---> 15\u001b[0;31m             \u001b[0mX_\u001b[0m\u001b[0;34m,\u001b[0m \u001b[0mY_\u001b[0m \u001b[0;34m=\u001b[0m \u001b[0mgetNextBatch\u001b[0m\u001b[0;34m(\u001b[0m\u001b[0mbi_grams_\u001b[0m\u001b[0;34m=\u001b[0m\u001b[0mtraining_data\u001b[0m\u001b[0;34m,\u001b[0m \u001b[0mbatch_size\u001b[0m\u001b[0;34m=\u001b[0m\u001b[0mbatch_size\u001b[0m\u001b[0;34m)\u001b[0m\u001b[0;34m\u001b[0m\u001b[0m\n\u001b[0m\u001b[1;32m     16\u001b[0m \u001b[0;34m\u001b[0m\u001b[0m\n\u001b[1;32m     17\u001b[0m             \u001b[0mfeed_dict\u001b[0m \u001b[0;34m=\u001b[0m \u001b[0;34m{\u001b[0m\u001b[0;34m}\u001b[0m\u001b[0;34m\u001b[0m\u001b[0m\n",
      "\u001b[0;32m<ipython-input-46-9785089d1385>\u001b[0m in \u001b[0;36mgetNextBatch\u001b[0;34m(bi_grams_, batch_size)\u001b[0m\n\u001b[1;32m      7\u001b[0m \u001b[0;34m\u001b[0m\u001b[0m\n\u001b[1;32m      8\u001b[0m     \u001b[0;31m# list of possible pairs to pick from\u001b[0m\u001b[0;34m\u001b[0m\u001b[0;34m\u001b[0m\u001b[0m\n\u001b[0;32m----> 9\u001b[0;31m     \u001b[0mdocs_ids_to_select\u001b[0m \u001b[0;34m=\u001b[0m \u001b[0mlist\u001b[0m\u001b[0;34m(\u001b[0m\u001b[0mset\u001b[0m\u001b[0;34m(\u001b[0m\u001b[0mbi_grams_\u001b[0m\u001b[0;34m)\u001b[0m \u001b[0;34m-\u001b[0m \u001b[0mset\u001b[0m\u001b[0;34m(\u001b[0m\u001b[0mbucket_list\u001b[0m\u001b[0;34m)\u001b[0m\u001b[0;34m)\u001b[0m\u001b[0;34m\u001b[0m\u001b[0m\n\u001b[0m\u001b[1;32m     10\u001b[0m \u001b[0;34m\u001b[0m\u001b[0m\n\u001b[1;32m     11\u001b[0m     \u001b[0;31m# once you exhaust the possible pais, reset\u001b[0m\u001b[0;34m\u001b[0m\u001b[0;34m\u001b[0m\u001b[0m\n",
      "\u001b[0;31mKeyboardInterrupt\u001b[0m: "
     ]
    }
   ],
   "source": [
    "num_of_epochs = 20\n",
    "\n",
    "#batch = BatchData(batch_size=32, list_of_token_ids=data)\n",
    "\n",
    "with tf.Session() as sess:\n",
    "\n",
    "    tf.global_variables_initializer().run()\n",
    "\n",
    "    for epoch_id in range(num_of_epochs):\n",
    "\n",
    "        av_batch_loss = 0\n",
    "\n",
    "        for batch_id in range(int(num_batches)):\n",
    "\n",
    "            X_, Y_ = getNextBatch(bi_grams_=training_data, batch_size=batch_size)\n",
    "\n",
    "            feed_dict = {}\n",
    "            feed_dict[X] = X_\n",
    "            feed_dict[Y] = Y_\n",
    "\n",
    "            batch_loss, _ = sess.run([mean_loss, optimizer], feed_dict=feed_dict)\n",
    "\n",
    "            av_batch_loss += batch_loss\n",
    "            \n",
    "            if batch_id % 100 == 0:\n",
    "                print (\"For epoch = %d, batch id = %d, batch loss = %f\" %(epoch_id, batch_id, batch_loss))\n",
    "\n",
    "        print (\"For epoch = %d, Av loss = %f\" %(epoch_id, av_batch_loss/num_batches))\n",
    "        \n",
    "        batch.reset()\n",
    "        \n",
    "        \n",
    "        \n",
    "        \n",
    "        \n",
    "        "
   ]
  },
  {
   "cell_type": "code",
   "execution_count": null,
   "metadata": {},
   "outputs": [],
   "source": []
  },
  {
   "cell_type": "code",
   "execution_count": null,
   "metadata": {},
   "outputs": [],
   "source": []
  }
 ],
 "metadata": {
  "kernelspec": {
   "display_name": "Python 3",
   "language": "python",
   "name": "python3"
  }
 },
 "nbformat": 4,
 "nbformat_minor": 2
}
