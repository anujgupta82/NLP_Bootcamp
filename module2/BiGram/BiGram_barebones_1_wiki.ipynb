{
  "nbformat": 4,
  "nbformat_minor": 0,
  "metadata": {
    "kernelspec": {
      "name": "python3",
      "display_name": "Python 3"
    },
    "language_info": {
      "codemirror_mode": {
        "name": "ipython",
        "version": 3
      },
      "file_extension": ".py",
      "mimetype": "text/x-python",
      "name": "python",
      "nbconvert_exporter": "python",
      "pygments_lexer": "ipython3",
      "version": "3.5.2"
    },
    "colab": {
      "name": "BiGram_barebones_1_wiki.ipynb",
      "version": "0.3.2",
      "provenance": [],
      "include_colab_link": true
    },
    "accelerator": "GPU"
  },
  "cells": [
    {
      "cell_type": "markdown",
      "metadata": {
        "id": "view-in-github",
        "colab_type": "text"
      },
      "source": [
        "<a href=\"https://colab.research.google.com/github/anujgupta82/NLP_Bootcamp/blob/V_2_0/module2/BiGram/BiGram_barebones_1_wiki.ipynb\" target=\"_parent\"><img src=\"https://colab.research.google.com/assets/colab-badge.svg\" alt=\"Open In Colab\"/></a>"
      ]
    },
    {
      "cell_type": "markdown",
      "metadata": {
        "id": "jXH9xyxeAsNs",
        "colab_type": "text"
      },
      "source": [
        "---------\n",
        "\n",
        "# Gentle introduction to BiGram model\n",
        "\n",
        "----------\n",
        "\n",
        "### Objective is correctness and clarity of basic concepts and not efficiency\n",
        "\n",
        "#### Author : Anuj\n",
        "\n",
        "#### Uses Wikipedia Dataset"
      ]
    },
    {
      "cell_type": "code",
      "metadata": {
        "id": "ngPRTSYvAsNx",
        "colab_type": "code",
        "colab": {}
      },
      "source": [
        "import sys\n",
        "import tensorflow as tf\n",
        "import numpy as np\n",
        "import random\n",
        "import itertools"
      ],
      "execution_count": 0,
      "outputs": []
    },
    {
      "cell_type": "code",
      "metadata": {
        "id": "qQtN3Sv5A_Rn",
        "colab_type": "code",
        "colab": {}
      },
      "source": [
        "!apt-get install -y -qq software-properties-common python-software-properties module-init-tools\n",
        "!add-apt-repository -y ppa:alessandro-strada/ppa 2>&1 > /dev/null\n",
        "!apt-get update -qq 2>&1 > /dev/null\n",
        "!apt-get -y install -qq google-drive-ocamlfuse fuse\n",
        "from google.colab import auth\n",
        "auth.authenticate_user()\n",
        "from oauth2client.client import GoogleCredentials\n",
        "creds = GoogleCredentials.get_application_default()\n",
        "import getpass\n",
        "!google-drive-ocamlfuse -headless -id={creds.client_id} -secret={creds.client_secret} < /dev/null 2>&1 | grep URL\n",
        "vcode = getpass.getpass()\n",
        "!echo {vcode} | google-drive-ocamlfuse -headless -id={creds.client_id} -secret={creds.client_secret}\n",
        "!mkdir -p drive\n",
        "!google-drive-ocamlfuse drive"
      ],
      "execution_count": 0,
      "outputs": []
    },
    {
      "cell_type": "code",
      "metadata": {
        "id": "vvAfyBc7AsN4",
        "colab_type": "code",
        "colab": {}
      },
      "source": [
        "sys.path.append(\"/content/drive/GoogleDrive_Utils/\")"
      ],
      "execution_count": 0,
      "outputs": []
    },
    {
      "cell_type": "code",
      "metadata": {
        "id": "rl9IVMItAsN8",
        "colab_type": "code",
        "colab": {}
      },
      "source": [
        "from readWikiData import get_wikipedia_data"
      ],
      "execution_count": 0,
      "outputs": []
    },
    {
      "cell_type": "code",
      "metadata": {
        "id": "RAaJnYY7AsOB",
        "colab_type": "code",
        "colab": {}
      },
      "source": [
        "def get_wiki_data(n_vocab_=1000):\n",
        "    sentences, word2idx, _, _ = get_wikipedia_data(n_vocab=n_vocab_, n_files=10, by_paragraph=True)\n",
        "    training_data = []\n",
        "    vocab_size = len(word2idx)\n",
        "    for sentence in sentences:\n",
        "        for elem1, elem2 in zip(sentence[:-1], sentence[1:]):\n",
        "            training_data.append((elem1, elem2))\n",
        "    \n",
        "    # this destroys the order of words in a wondow but for bigram its harmless\n",
        "    # all we want is - pair of all bigrams\n",
        "    training_data = list(set(training_data))   \n",
        "    \n",
        "    idx2word = {v:k for k, v in word2idx.items()}\n",
        "    return len(word2idx), training_data, word2idx, idx2word"
      ],
      "execution_count": 0,
      "outputs": []
    },
    {
      "cell_type": "code",
      "metadata": {
        "id": "-o4MdA90AsOH",
        "colab_type": "code",
        "colab": {}
      },
      "source": [
        "vocab_size, training_data, word2idx, idx2word = get_wiki_data(n_vocab_=9999)"
      ],
      "execution_count": 0,
      "outputs": []
    },
    {
      "cell_type": "code",
      "metadata": {
        "id": "fxgDfXYSAsOK",
        "colab_type": "code",
        "colab": {},
        "outputId": "b402e30d-d247-4335-9727-4d30bb29f06d"
      },
      "source": [
        "print (vocab_size)\n",
        "print (type(training_data))"
      ],
      "execution_count": 0,
      "outputs": [
        {
          "output_type": "stream",
          "text": [
            "10000\n",
            "<class 'list'>\n"
          ],
          "name": "stdout"
        }
      ]
    },
    {
      "cell_type": "code",
      "metadata": {
        "id": "0jaAiVmiAsOP",
        "colab_type": "code",
        "colab": {},
        "outputId": "4e590cf4-574a-47ac-da5a-8e2e9fca6eb6"
      },
      "source": [
        "training_data[:10]"
      ],
      "execution_count": 0,
      "outputs": [
        {
          "output_type": "execute_result",
          "data": {
            "text/plain": [
              "[(1760, 65),\n",
              " (197, 1097),\n",
              " (381, 392),\n",
              " (3174, 1259),\n",
              " (9999, 5827),\n",
              " (7926, 433),\n",
              " (312, 241),\n",
              " (803, 2857),\n",
              " (784, 1839),\n",
              " (25, 701)]"
            ]
          },
          "metadata": {
            "tags": []
          },
          "execution_count": 7
        }
      ]
    },
    {
      "cell_type": "markdown",
      "metadata": {
        "id": "wig1JXhMAsOS",
        "colab_type": "text"
      },
      "source": [
        "##### Get batches"
      ]
    },
    {
      "cell_type": "code",
      "metadata": {
        "id": "kdgqsvE3AsOW",
        "colab_type": "code",
        "colab": {}
      },
      "source": [
        "# contains list of pairs that have already been selected\n",
        "bucket_list = []\n",
        "\n",
        "def getNextBatch(bi_grams_, batch_size=1000):\n",
        "    \n",
        "    global bucket_list\n",
        "    \n",
        "    # list of possible pairs to pick from\n",
        "    docs_ids_to_select = list(set(bi_grams_) - set(bucket_list))\n",
        "    \n",
        "    # once you exhaust the possible pais, reset\n",
        "    if len(docs_ids_to_select) < batch_size:\n",
        "        bucket_list = []\n",
        "        docs_ids_to_select = bi_grams_\n",
        "        \n",
        "    # Initialize two variables \n",
        "    train_X = np.ndarray(shape=(batch_size, 1), dtype=np.int32)\n",
        "    train_label = np.ndarray(shape=(batch_size, 1), dtype=np.int32)\n",
        "    \n",
        "    # pick a random chunks of pairs \n",
        "    random_docs = random.sample(docs_ids_to_select, batch_size)\n",
        "    bucket_list += random_docs\n",
        "    \n",
        "    index = 0 \n",
        "    \n",
        "    # Iterate threw all the docs \n",
        "    for item in random_docs:\n",
        "        train_X[index] = item[0]\n",
        "        train_label[index] = item[1]  \n",
        "        index += 1\n",
        "        \n",
        "    #flatten list of lists to a single list\n",
        "    train_X = list(itertools.chain(*train_X))\n",
        "    train_label = list(itertools.chain(*train_label))\n",
        "            \n",
        "    return train_X, train_label"
      ],
      "execution_count": 0,
      "outputs": []
    },
    {
      "cell_type": "code",
      "metadata": {
        "id": "0kL1bzfIAsOa",
        "colab_type": "code",
        "colab": {}
      },
      "source": [
        "X, Y = getNextBatch(bi_grams_=training_data, batch_size=32)"
      ],
      "execution_count": 0,
      "outputs": []
    },
    {
      "cell_type": "code",
      "metadata": {
        "id": "gQKNUPPyAsOf",
        "colab_type": "code",
        "colab": {},
        "outputId": "1de65ada-5f34-41d8-8d0c-1b9b7b8b2557"
      },
      "source": [
        "print (len(X), len(Y))"
      ],
      "execution_count": 0,
      "outputs": [
        {
          "output_type": "stream",
          "text": [
            "32 32\n"
          ],
          "name": "stdout"
        }
      ]
    },
    {
      "cell_type": "code",
      "metadata": {
        "id": "JAV8h7eBAsOm",
        "colab_type": "code",
        "colab": {},
        "outputId": "6a6448ec-2503-41a8-c9da-d6cd2988118f"
      },
      "source": [
        "print (X[:10], Y[:10])"
      ],
      "execution_count": 0,
      "outputs": [
        {
          "output_type": "stream",
          "text": [
            "[78, 2657, 6185, 2904, 587, 33, 6106, 3677, 6850, 2780] [186, 1755, 2432, 527, 3309, 1059, 56, 202, 4, 10]\n"
          ],
          "name": "stdout"
        }
      ]
    },
    {
      "cell_type": "markdown",
      "metadata": {
        "id": "MbsYXj2pAsOr",
        "colab_type": "text"
      },
      "source": [
        "# Network"
      ]
    },
    {
      "cell_type": "code",
      "metadata": {
        "id": "9SETOrWwAsOs",
        "colab_type": "code",
        "colab": {},
        "outputId": "1e3d0803-0751-4fa1-e78c-d28488c4a33b"
      },
      "source": [
        "batch_size=32\n",
        "num_batches = len(training_data)/batch_size\n",
        "\n",
        "print (\"Number of batches = %d\" %num_batches)\n",
        "\n",
        "embedding_dims = 128\n",
        "\n"
      ],
      "execution_count": 0,
      "outputs": [
        {
          "output_type": "stream",
          "text": [
            "Number of batches = 52019\n"
          ],
          "name": "stdout"
        }
      ]
    },
    {
      "cell_type": "code",
      "metadata": {
        "id": "8-s3kCUVAsOw",
        "colab_type": "code",
        "colab": {}
      },
      "source": [
        "X = tf.placeholder(shape=(batch_size,), dtype = tf.int32)\n",
        "Y = tf.placeholder(shape=(batch_size,), dtype = tf.int32)"
      ],
      "execution_count": 0,
      "outputs": []
    },
    {
      "cell_type": "code",
      "metadata": {
        "id": "nF75dO3eAsO0",
        "colab_type": "code",
        "colab": {}
      },
      "source": [
        "y_oh = tf.one_hot(indices=X, depth=vocab_size)"
      ],
      "execution_count": 0,
      "outputs": []
    },
    {
      "cell_type": "code",
      "metadata": {
        "id": "wDF6FFndAsO3",
        "colab_type": "code",
        "colab": {},
        "outputId": "aac3e432-8917-46d9-d976-dd279246661b"
      },
      "source": [
        "print (X.get_shape())\n",
        "print (Y.get_shape())\n",
        "print (y_oh.get_shape())"
      ],
      "execution_count": 0,
      "outputs": [
        {
          "output_type": "stream",
          "text": [
            "(32,)\n",
            "(32,)\n",
            "(32, 10000)\n"
          ],
          "name": "stdout"
        }
      ]
    },
    {
      "cell_type": "code",
      "metadata": {
        "id": "RFDhZnSaAsO6",
        "colab_type": "code",
        "colab": {}
      },
      "source": [
        "embedding_layer_1 = tf.Variable(tf.truncated_normal(shape=(vocab_size, embedding_dims), \n",
        "                                                    mean=0.0, stddev=1.0, dtype=tf.float32))\n",
        "embeded = tf.nn.embedding_lookup(embedding_layer_1, ids=X)"
      ],
      "execution_count": 0,
      "outputs": []
    },
    {
      "cell_type": "code",
      "metadata": {
        "id": "7aO3iuORAsO-",
        "colab_type": "code",
        "colab": {},
        "outputId": "46fd91fd-ce4a-4e9b-9ac1-a5c40bc6e6e7"
      },
      "source": [
        "embeded.get_shape()"
      ],
      "execution_count": 0,
      "outputs": [
        {
          "output_type": "execute_result",
          "data": {
            "text/plain": [
              "TensorShape([Dimension(32), Dimension(128)])"
            ]
          },
          "metadata": {
            "tags": []
          },
          "execution_count": 17
        }
      ]
    },
    {
      "cell_type": "code",
      "metadata": {
        "id": "j4DqFOSeAsPB",
        "colab_type": "code",
        "colab": {}
      },
      "source": [
        "#softmax weights, bias\n",
        "W = tf.Variable(tf.truncated_normal(shape=(embedding_dims, vocab_size),mean=0.0, stddev=1.0, dtype=tf.float32))\n",
        "b = tf.Variable(tf.zeros(shape=(vocab_size,)))\n"
      ],
      "execution_count": 0,
      "outputs": []
    },
    {
      "cell_type": "code",
      "metadata": {
        "id": "isvwWmcqAsPE",
        "colab_type": "code",
        "colab": {},
        "outputId": "625008f5-6451-4bf8-d6b3-b51a6928a151"
      },
      "source": [
        "logits = tf.add(tf.matmul(embeded, W), b )\n",
        "\n",
        "#define loss\n",
        "loss = tf.nn.softmax_cross_entropy_with_logits(logits=logits, labels=y_oh)\n",
        "mean_loss = tf.reduce_mean(loss)"
      ],
      "execution_count": 0,
      "outputs": [
        {
          "output_type": "stream",
          "text": [
            "WARNING:tensorflow:From <ipython-input-19-8fb07acf76d3>:4: softmax_cross_entropy_with_logits (from tensorflow.python.ops.nn_ops) is deprecated and will be removed in a future version.\n",
            "Instructions for updating:\n",
            "\n",
            "Future major versions of TensorFlow will allow gradients to flow\n",
            "into the labels input on backprop by default.\n",
            "\n",
            "See @{tf.nn.softmax_cross_entropy_with_logits_v2}.\n",
            "\n"
          ],
          "name": "stdout"
        }
      ]
    },
    {
      "cell_type": "code",
      "metadata": {
        "id": "ksliAA7dAsPK",
        "colab_type": "code",
        "colab": {},
        "outputId": "8d1271ff-ed32-443d-b96f-2bae0543cbd8"
      },
      "source": [
        "print (logits.get_shape())\n",
        "print (y_oh.get_shape())"
      ],
      "execution_count": 0,
      "outputs": [
        {
          "output_type": "stream",
          "text": [
            "(32, 10000)\n",
            "(32, 10000)\n"
          ],
          "name": "stdout"
        }
      ]
    },
    {
      "cell_type": "code",
      "metadata": {
        "id": "Ct7xYRerAsPX",
        "colab_type": "code",
        "colab": {}
      },
      "source": [
        "optimizer = tf.train.GradientDescentOptimizer(0.5).minimize(mean_loss)"
      ],
      "execution_count": 0,
      "outputs": []
    },
    {
      "cell_type": "code",
      "metadata": {
        "id": "edjacMUhAsPd",
        "colab_type": "code",
        "colab": {},
        "outputId": "aa09b387-a748-4ff3-e308-4910c9922a32"
      },
      "source": [
        "num_of_epochs = 20\n",
        "\n",
        "#batch = BatchData(batch_size=32, list_of_token_ids=data)\n",
        "\n",
        "with tf.Session() as sess:\n",
        "\n",
        "    tf.global_variables_initializer().run()\n",
        "\n",
        "    for epoch_id in range(num_of_epochs):\n",
        "\n",
        "        av_batch_loss = 0\n",
        "\n",
        "        for batch_id in range(int(num_batches)):\n",
        "\n",
        "            X_, Y_ = getNextBatch(bi_grams_=training_data, batch_size=batch_size)\n",
        "\n",
        "            feed_dict = {}\n",
        "            feed_dict[X] = X_\n",
        "            feed_dict[Y] = Y_\n",
        "\n",
        "            batch_loss, _ = sess.run([mean_loss, optimizer], feed_dict=feed_dict)\n",
        "\n",
        "            av_batch_loss += batch_loss\n",
        "            \n",
        "            if batch_id % 100 == 0:\n",
        "                print (\"For epoch = %d, batch id = %d, batch loss = %f\" %(epoch_id, batch_id, batch_loss))\n",
        "\n",
        "        print (\"For epoch = %d, Av loss = %f\" %(epoch_id, av_batch_loss/num_batches))\n",
        "        \n",
        "        batch.reset()\n",
        "        \n",
        "        \n",
        "        \n",
        "        \n",
        "        \n",
        "        "
      ],
      "execution_count": 0,
      "outputs": [
        {
          "output_type": "stream",
          "text": [
            "For epoch = 0, batch id = 0, batch loss = 34.728737\n"
          ],
          "name": "stdout"
        }
      ]
    }
  ]
}