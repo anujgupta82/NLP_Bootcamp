{
 "cells": [
  {
   "cell_type": "markdown",
   "metadata": {
    "collapsed": true
   },
   "source": [
    "# Implement Tweet2Vec from Dhingra et al."
   ]
  },
  {
   "cell_type": "markdown",
   "metadata": {},
   "source": [
    "Ensure to install graphviz: https://www.graphviz.org/\n",
    "For, ubuntu install using \"sudo apt-get install graphviz\""
   ]
  },
  {
   "cell_type": "code",
   "execution_count": 1,
   "metadata": {},
   "outputs": [],
   "source": [
    "%matplotlib inline"
   ]
  },
  {
   "cell_type": "code",
   "execution_count": 2,
   "metadata": {},
   "outputs": [],
   "source": [
    "import numpy as np\n",
    "np.random.seed(13)"
   ]
  },
  {
   "cell_type": "code",
   "execution_count": 3,
   "metadata": {},
   "outputs": [
    {
     "name": "stderr",
     "output_type": "stream",
     "text": [
      "Using TensorFlow backend.\n"
     ]
    }
   ],
   "source": [
    "from keras.models import Model\n",
    "from keras.layers import Dense, Embedding, GRU, Input, Bidirectional\n",
    "from keras.preprocessing.text import Tokenizer\n",
    "from keras.preprocessing import sequence\n",
    "from keras.regularizers import l2\n",
    "from keras.utils import np_utils\n",
    "from keras.utils.vis_utils import model_to_dot"
   ]
  },
  {
   "cell_type": "code",
   "execution_count": 4,
   "metadata": {},
   "outputs": [],
   "source": [
    "from IPython.display import SVG\n",
    "from matplotlib import pyplot as plt\n",
    "plt.style.use(\"ggplot\")"
   ]
  },
  {
   "cell_type": "code",
   "execution_count": 5,
   "metadata": {},
   "outputs": [],
   "source": [
    "#tweets.tsv is in the format of <tweet text><tab><hashtag_id> where hashtag_id is a unique id given to each hashtag\n",
    "\n",
    "tweets = []\n",
    "labels = []\n",
    "with open(\"./../data/tweets.tsv\") as f:\n",
    "    for l in f:\n",
    "        tweet, label = l.strip().split(\"\\t\")\n",
    "        tweets.append(\" \".join(list(tweet)))\n",
    "        labels.append(int(label))\n"
   ]
  },
  {
   "cell_type": "code",
   "execution_count": 6,
   "metadata": {},
   "outputs": [],
   "source": [
    "maxlen = 140\n",
    "\n",
    "tokenizer = Tokenizer(filters=\"\")\n",
    "tokenizer.fit_on_texts(tweets)\n",
    "X_train = tokenizer.texts_to_sequences(tweets)\n",
    "X_train = sequence.pad_sequences(X_train, maxlen=maxlen)\n",
    "#Y_train = np_utils.to_categorical(labels, len(set(labels)))\n",
    "Y_train = np_utils.to_categorical(labels, len(set(labels)))\n",
    "V = len(tokenizer.word_index) + 1"
   ]
  },
  {
   "cell_type": "code",
   "execution_count": 7,
   "metadata": {},
   "outputs": [
    {
     "data": {
      "text/plain": [
       "(3, 3)"
      ]
     },
     "execution_count": 7,
     "metadata": {},
     "output_type": "execute_result"
    }
   ],
   "source": [
    "Y_train.shape"
   ]
  },
  {
   "cell_type": "code",
   "execution_count": 8,
   "metadata": {},
   "outputs": [
    {
     "name": "stderr",
     "output_type": "stream",
     "text": [
      "/home/piyush/Piyush/study/anthill/anthill/lib/python3.5/site-packages/ipykernel_launcher.py:3: UserWarning: Update your `Embedding` call to the Keras 2 API: `Embedding(30, 128, embeddings_regularizer=<keras.reg..., input_length=140)`\n",
      "  This is separate from the ipykernel package so we can avoid doing imports until\n",
      "/home/piyush/Piyush/study/anthill/anthill/lib/python3.5/site-packages/ipykernel_launcher.py:7: UserWarning: Update your `GRU` call to the Keras 2 API: `GRU(128, return_sequences=False, kernel_regularizer=<keras.reg..., bias_regularizer=<keras.reg..., recurrent_regularizer=<keras.reg...)`\n",
      "  import sys\n",
      "/home/piyush/Piyush/study/anthill/anthill/lib/python3.5/site-packages/ipykernel_launcher.py:9: UserWarning: Update your `Dense` call to the Keras 2 API: `Dense(3, activation=\"softmax\", kernel_regularizer=<keras.reg...)`\n",
      "  if __name__ == '__main__':\n"
     ]
    },
    {
     "data": {
      "image/svg+xml": [
       "<svg height=\"304pt\" viewBox=\"0.00 0.00 427.00 304.00\" width=\"427pt\" xmlns=\"http://www.w3.org/2000/svg\" xmlns:xlink=\"http://www.w3.org/1999/xlink\">\n",
       "<g class=\"graph\" id=\"graph0\" transform=\"scale(1 1) rotate(0) translate(4 300)\">\n",
       "<title>G</title>\n",
       "<polygon fill=\"white\" points=\"-4,4 -4,-300 423,-300 423,4 -4,4\" stroke=\"none\"/>\n",
       "<!-- 140029537461360 -->\n",
       "<g class=\"node\" id=\"node1\"><title>140029537461360</title>\n",
       "<polygon fill=\"none\" points=\"78,-249.5 78,-295.5 341,-295.5 341,-249.5 78,-249.5\" stroke=\"black\"/>\n",
       "<text font-family=\"Times,serif\" font-size=\"14.00\" text-anchor=\"middle\" x=\"140.5\" y=\"-268.8\">input_1: InputLayer</text>\n",
       "<polyline fill=\"none\" points=\"203,-249.5 203,-295.5 \" stroke=\"black\"/>\n",
       "<text font-family=\"Times,serif\" font-size=\"14.00\" text-anchor=\"middle\" x=\"230.5\" y=\"-280.3\">input:</text>\n",
       "<polyline fill=\"none\" points=\"203,-272.5 258,-272.5 \" stroke=\"black\"/>\n",
       "<text font-family=\"Times,serif\" font-size=\"14.00\" text-anchor=\"middle\" x=\"230.5\" y=\"-257.3\">output:</text>\n",
       "<polyline fill=\"none\" points=\"258,-249.5 258,-295.5 \" stroke=\"black\"/>\n",
       "<text font-family=\"Times,serif\" font-size=\"14.00\" text-anchor=\"middle\" x=\"299.5\" y=\"-280.3\">(None, 140)</text>\n",
       "<polyline fill=\"none\" points=\"258,-272.5 341,-272.5 \" stroke=\"black\"/>\n",
       "<text font-family=\"Times,serif\" font-size=\"14.00\" text-anchor=\"middle\" x=\"299.5\" y=\"-257.3\">(None, 140)</text>\n",
       "</g>\n",
       "<!-- 140029537462592 -->\n",
       "<g class=\"node\" id=\"node2\"><title>140029537462592</title>\n",
       "<polygon fill=\"none\" points=\"46.5,-166.5 46.5,-212.5 372.5,-212.5 372.5,-166.5 46.5,-166.5\" stroke=\"black\"/>\n",
       "<text font-family=\"Times,serif\" font-size=\"14.00\" text-anchor=\"middle\" x=\"127\" y=\"-185.8\">embedding_1: Embedding</text>\n",
       "<polyline fill=\"none\" points=\"207.5,-166.5 207.5,-212.5 \" stroke=\"black\"/>\n",
       "<text font-family=\"Times,serif\" font-size=\"14.00\" text-anchor=\"middle\" x=\"235\" y=\"-197.3\">input:</text>\n",
       "<polyline fill=\"none\" points=\"207.5,-189.5 262.5,-189.5 \" stroke=\"black\"/>\n",
       "<text font-family=\"Times,serif\" font-size=\"14.00\" text-anchor=\"middle\" x=\"235\" y=\"-174.3\">output:</text>\n",
       "<polyline fill=\"none\" points=\"262.5,-166.5 262.5,-212.5 \" stroke=\"black\"/>\n",
       "<text font-family=\"Times,serif\" font-size=\"14.00\" text-anchor=\"middle\" x=\"317.5\" y=\"-197.3\">(None, 140)</text>\n",
       "<polyline fill=\"none\" points=\"262.5,-189.5 372.5,-189.5 \" stroke=\"black\"/>\n",
       "<text font-family=\"Times,serif\" font-size=\"14.00\" text-anchor=\"middle\" x=\"317.5\" y=\"-174.3\">(None, 140, 128)</text>\n",
       "</g>\n",
       "<!-- 140029537461360&#45;&gt;140029537462592 -->\n",
       "<g class=\"edge\" id=\"edge1\"><title>140029537461360-&gt;140029537462592</title>\n",
       "<path d=\"M209.5,-249.366C209.5,-241.152 209.5,-231.658 209.5,-222.725\" fill=\"none\" stroke=\"black\"/>\n",
       "<polygon fill=\"black\" points=\"213,-222.607 209.5,-212.607 206,-222.607 213,-222.607\" stroke=\"black\"/>\n",
       "</g>\n",
       "<!-- 140029537544456 -->\n",
       "<g class=\"node\" id=\"node3\"><title>140029537544456</title>\n",
       "<polygon fill=\"none\" points=\"-2.84217e-14,-83.5 -2.84217e-14,-129.5 419,-129.5 419,-83.5 -2.84217e-14,-83.5\" stroke=\"black\"/>\n",
       "<text font-family=\"Times,serif\" font-size=\"14.00\" text-anchor=\"middle\" x=\"127\" y=\"-102.8\">bidirectional_1(gru_1): Bidirectional(GRU)</text>\n",
       "<polyline fill=\"none\" points=\"254,-83.5 254,-129.5 \" stroke=\"black\"/>\n",
       "<text font-family=\"Times,serif\" font-size=\"14.00\" text-anchor=\"middle\" x=\"281.5\" y=\"-114.3\">input:</text>\n",
       "<polyline fill=\"none\" points=\"254,-106.5 309,-106.5 \" stroke=\"black\"/>\n",
       "<text font-family=\"Times,serif\" font-size=\"14.00\" text-anchor=\"middle\" x=\"281.5\" y=\"-91.3\">output:</text>\n",
       "<polyline fill=\"none\" points=\"309,-83.5 309,-129.5 \" stroke=\"black\"/>\n",
       "<text font-family=\"Times,serif\" font-size=\"14.00\" text-anchor=\"middle\" x=\"364\" y=\"-114.3\">(None, 140, 128)</text>\n",
       "<polyline fill=\"none\" points=\"309,-106.5 419,-106.5 \" stroke=\"black\"/>\n",
       "<text font-family=\"Times,serif\" font-size=\"14.00\" text-anchor=\"middle\" x=\"364\" y=\"-91.3\">(None, 128)</text>\n",
       "</g>\n",
       "<!-- 140029537462592&#45;&gt;140029537544456 -->\n",
       "<g class=\"edge\" id=\"edge2\"><title>140029537462592-&gt;140029537544456</title>\n",
       "<path d=\"M209.5,-166.366C209.5,-158.152 209.5,-148.658 209.5,-139.725\" fill=\"none\" stroke=\"black\"/>\n",
       "<polygon fill=\"black\" points=\"213,-139.607 209.5,-129.607 206,-139.607 213,-139.607\" stroke=\"black\"/>\n",
       "</g>\n",
       "<!-- 140029537153320 -->\n",
       "<g class=\"node\" id=\"node4\"><title>140029537153320</title>\n",
       "<polygon fill=\"none\" points=\"89.5,-0.5 89.5,-46.5 329.5,-46.5 329.5,-0.5 89.5,-0.5\" stroke=\"black\"/>\n",
       "<text font-family=\"Times,serif\" font-size=\"14.00\" text-anchor=\"middle\" x=\"140.5\" y=\"-19.8\">dense_1: Dense</text>\n",
       "<polyline fill=\"none\" points=\"191.5,-0.5 191.5,-46.5 \" stroke=\"black\"/>\n",
       "<text font-family=\"Times,serif\" font-size=\"14.00\" text-anchor=\"middle\" x=\"219\" y=\"-31.3\">input:</text>\n",
       "<polyline fill=\"none\" points=\"191.5,-23.5 246.5,-23.5 \" stroke=\"black\"/>\n",
       "<text font-family=\"Times,serif\" font-size=\"14.00\" text-anchor=\"middle\" x=\"219\" y=\"-8.3\">output:</text>\n",
       "<polyline fill=\"none\" points=\"246.5,-0.5 246.5,-46.5 \" stroke=\"black\"/>\n",
       "<text font-family=\"Times,serif\" font-size=\"14.00\" text-anchor=\"middle\" x=\"288\" y=\"-31.3\">(None, 128)</text>\n",
       "<polyline fill=\"none\" points=\"246.5,-23.5 329.5,-23.5 \" stroke=\"black\"/>\n",
       "<text font-family=\"Times,serif\" font-size=\"14.00\" text-anchor=\"middle\" x=\"288\" y=\"-8.3\">(None, 3)</text>\n",
       "</g>\n",
       "<!-- 140029537544456&#45;&gt;140029537153320 -->\n",
       "<g class=\"edge\" id=\"edge3\"><title>140029537544456-&gt;140029537153320</title>\n",
       "<path d=\"M209.5,-83.3664C209.5,-75.1516 209.5,-65.6579 209.5,-56.7252\" fill=\"none\" stroke=\"black\"/>\n",
       "<polygon fill=\"black\" points=\"213,-56.6068 209.5,-46.6068 206,-56.6069 213,-56.6068\" stroke=\"black\"/>\n",
       "</g>\n",
       "</g>\n",
       "</svg>"
      ],
      "text/plain": [
       "<IPython.core.display.SVG object>"
      ]
     },
     "execution_count": 8,
     "metadata": {},
     "output_type": "execute_result"
    }
   ],
   "source": [
    "l2_coef = 0.001\n",
    "tweet = Input(shape=(maxlen,), dtype='int32')\n",
    "x = Embedding(V, 128, input_length=maxlen, W_regularizer=l2(l=l2_coef))(tweet)\n",
    "x = Bidirectional(layer=GRU(128, return_sequences=False, \n",
    "                            W_regularizer=l2(l=l2_coef),\n",
    "                            b_regularizer=l2(l=l2_coef),\n",
    "                            U_regularizer=l2(l=l2_coef)),\n",
    "                  merge_mode='sum')(x)\n",
    "x = Dense(len(set(labels)), W_regularizer=l2(l=l2_coef), activation=\"softmax\")(x)\n",
    "\n",
    "tweet2vec = Model(inputs=tweet, outputs=x)\n",
    "\n",
    "tweet2vec.compile(loss='categorical_crossentropy',\n",
    "                  optimizer='RMSprop',\n",
    "                  metrics=['accuracy'])\n",
    "\n",
    "SVG(model_to_dot(tweet2vec, show_shapes=True).create(prog='dot', format='svg'))"
   ]
  },
  {
   "cell_type": "code",
   "execution_count": 9,
   "metadata": {},
   "outputs": [
    {
     "name": "stdout",
     "output_type": "stream",
     "text": [
      "Train on 2 samples, validate on 1 samples\n",
      "Epoch 1/10\n",
      "2/2 [==============================] - 1s 663ms/step - loss: 1.7800 - acc: 0.0000e+00 - val_loss: 1.9400 - val_acc: 0.0000e+00\n",
      "Epoch 2/10\n",
      "2/2 [==============================] - 0s 52ms/step - loss: 1.5549 - acc: 1.0000 - val_loss: 2.1600 - val_acc: 0.0000e+00\n",
      "Epoch 3/10\n",
      "2/2 [==============================] - 0s 56ms/step - loss: 1.4028 - acc: 1.0000 - val_loss: 2.4700 - val_acc: 0.0000e+00\n",
      "Epoch 4/10\n",
      "2/2 [==============================] - 0s 56ms/step - loss: 1.2605 - acc: 1.0000 - val_loss: 2.9268 - val_acc: 0.0000e+00\n",
      "Epoch 5/10\n",
      "2/2 [==============================] - 0s 58ms/step - loss: 1.1209 - acc: 1.0000 - val_loss: 3.6293 - val_acc: 0.0000e+00\n",
      "Epoch 6/10\n",
      "2/2 [==============================] - 0s 60ms/step - loss: 0.9844 - acc: 1.0000 - val_loss: 4.7528 - val_acc: 0.0000e+00\n",
      "Epoch 7/10\n",
      "2/2 [==============================] - 0s 58ms/step - loss: 0.8541 - acc: 1.0000 - val_loss: 6.1632 - val_acc: 0.0000e+00\n",
      "Epoch 8/10\n",
      "2/2 [==============================] - 0s 58ms/step - loss: 0.7295 - acc: 1.0000 - val_loss: 6.8864 - val_acc: 0.0000e+00\n",
      "Epoch 9/10\n",
      "2/2 [==============================] - 0s 58ms/step - loss: 0.6008 - acc: 1.0000 - val_loss: 8.6968 - val_acc: 0.0000e+00\n",
      "Epoch 10/10\n",
      "2/2 [==============================] - 0s 59ms/step - loss: 1.1128 - acc: 0.5000 - val_loss: 5.3917 - val_acc: 0.0000e+00\n"
     ]
    },
    {
     "data": {
      "text/plain": [
       "<keras.callbacks.History at 0x7f5b2ad5c518>"
      ]
     },
     "execution_count": 9,
     "metadata": {},
     "output_type": "execute_result"
    }
   ],
   "source": [
    "tweet2vec.fit(X_train, Y_train, epochs=10, batch_size=32, validation_split=0.1)"
   ]
  }
 ],
 "metadata": {
  "kernelspec": {
   "display_name": "Python 3",
   "language": "python",
   "name": "python3"
  },
  "language_info": {
   "codemirror_mode": {
    "name": "ipython",
    "version": 3
   },
   "file_extension": ".py",
   "mimetype": "text/x-python",
   "name": "python",
   "nbconvert_exporter": "python",
   "pygments_lexer": "ipython3",
   "version": "3.5.2"
  }
 },
 "nbformat": 4,
 "nbformat_minor": 2
}
