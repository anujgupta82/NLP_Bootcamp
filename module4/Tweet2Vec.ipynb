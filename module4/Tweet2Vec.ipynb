{
  "nbformat": 4,
  "nbformat_minor": 0,
  "metadata": {
    "kernelspec": {
      "name": "python3",
      "display_name": "Python 3"
    },
    "language_info": {
      "codemirror_mode": {
        "name": "ipython",
        "version": 3
      },
      "file_extension": ".py",
      "mimetype": "text/x-python",
      "name": "python",
      "nbconvert_exporter": "python",
      "pygments_lexer": "ipython3",
      "version": "3.5.2"
    },
    "colab": {
      "name": "Tweet2Vec.ipynb",
      "provenance": []
    },
    "accelerator": "GPU"
  },
  "cells": [
    {
      "cell_type": "markdown",
      "metadata": {
        "collapsed": true,
        "id": "aZIHPeyPp9sl",
        "colab_type": "text"
      },
      "source": [
        "# Implement Tweet2Vec from Dhingra et al."
      ]
    },
    {
      "cell_type": "markdown",
      "metadata": {
        "id": "IOJainRRp9so",
        "colab_type": "text"
      },
      "source": [
        "Ensure to install graphviz: https://www.graphviz.org/\n",
        "For, ubuntu install using \"sudo apt-get install graphviz\""
      ]
    },
    {
      "cell_type": "code",
      "metadata": {
        "id": "mkEbctaWqAgF",
        "colab_type": "code",
        "colab": {
          "base_uri": "https://localhost:8080/",
          "height": 1000
        },
        "outputId": "4fc88ebc-287c-4bf9-ac28-1b59a1cb9088"
      },
      "source": [
        "!apt-get install -y -qq software-properties-common python-software-properties module-init-tools\n",
        "!add-apt-repository -y ppa:alessandro-strada/ppa 2>&1 > /dev/null\n",
        "!apt-get update -qq 2>&1 > /dev/null\n",
        "!apt-get -y install -qq google-drive-ocamlfuse fuse\n",
        "from google.colab import auth\n",
        "auth.authenticate_user()\n",
        "from oauth2client.client import GoogleCredentials\n",
        "creds = GoogleCredentials.get_application_default()\n",
        "import getpass\n",
        "!google-drive-ocamlfuse -headless -id={creds.client_id} -secret={creds.client_secret} < /dev/null 2>&1 | grep URL\n",
        "vcode = getpass.getpass()\n",
        "!echo {vcode} | google-drive-ocamlfuse -headless -id={creds.client_id} -secret={creds.client_secret}\n",
        "!mkdir -p drive\n",
        "!google-drive-ocamlfuse drive\n",
        "!ls /content/drive/*"
      ],
      "execution_count": 1,
      "outputs": [
        {
          "output_type": "stream",
          "text": [
            "E: Package 'python-software-properties' has no installation candidate\n",
            "Selecting previously unselected package google-drive-ocamlfuse.\n",
            "(Reading database ... 131183 files and directories currently installed.)\n",
            "Preparing to unpack .../google-drive-ocamlfuse_0.7.11-0ubuntu1~ubuntu18.04.1_amd64.deb ...\n",
            "Unpacking google-drive-ocamlfuse (0.7.11-0ubuntu1~ubuntu18.04.1) ...\n",
            "Setting up google-drive-ocamlfuse (0.7.11-0ubuntu1~ubuntu18.04.1) ...\n",
            "Processing triggers for man-db (2.8.3-2ubuntu0.1) ...\n",
            "Please, open the following URL in a web browser: https://accounts.google.com/o/oauth2/auth?client_id=32555940559.apps.googleusercontent.com&redirect_uri=urn%3Aietf%3Awg%3Aoauth%3A2.0%3Aoob&scope=https%3A%2F%2Fwww.googleapis.com%2Fauth%2Fdrive&response_type=code&access_type=offline&approval_prompt=force\n",
            "··········\n",
            "Please, open the following URL in a web browser: https://accounts.google.com/o/oauth2/auth?client_id=32555940559.apps.googleusercontent.com&redirect_uri=urn%3Aietf%3Awg%3Aoauth%3A2.0%3Aoob&scope=https%3A%2F%2Fwww.googleapis.com%2Fauth%2Fdrive&response_type=code&access_type=offline&approval_prompt=force\n",
            "Please enter the verification code: Access token retrieved correctly.\n",
            " /content/drive/2019_04_02_21_25_42.mp3\n",
            "'/content/drive/2019_04_11_22_01_00 (3ce053a2).mp3'\n",
            " /content/drive/2019_04_11_22_01_00.mp3\n",
            " /content/drive/2019_04_14_19_15_20.mp3\n",
            " /content/drive/2019_06_19_21_37_06.mp3\n",
            " /content/drive/continlonus.mp3\n",
            " /content/drive/help.mp3\n",
            " /content/drive/NLP_Bootcamp_codebase_status.desktop\n",
            " /content/drive/nlphistory.txt\n",
            " /content/drive/nytarticle.txt\n",
            "\n",
            "'/content/drive/Auto Call Recorder':\n",
            "All\n",
            "\n",
            "'/content/drive/Colab Notebooks':\n",
            "'Copy of bag-of-words.ipynb'\n",
            "'Copy of CharacterEmbedding_SkipGram (585d2fb1).ipynb'\n",
            "'Copy of CharacterEmbedding_SkipGram.ipynb'\n",
            "'Copy of doc2vec PV-DBOW Distributed Bag of Words version of Paragraph Vector.ipynb'\n",
            "'Copy of doc2vec PV-DM Distributed Memory version of Paragraph Vector (1d49939f).ipynb'\n",
            "'Copy of doc2vec PV-DM Distributed Memory version of Paragraph Vector (47ce74b2).ipynb'\n",
            "'Copy of doc2vec PV-DM Distributed Memory version of Paragraph Vector (b44c69fc).ipynb'\n",
            "'Copy of doc2vec PV-DM Distributed Memory version of Paragraph Vector.ipynb'\n",
            "'Copy of Introduction to Character Embeddings (keras).ipynb'\n",
            "'Copy of Introduction to Character Embeddings (keras)_master (764a9c3a).ipynb'\n",
            "'Copy of Introduction to Character Embeddings (keras)_master.ipynb'\n",
            "'Copy of N-gram (a78598d1).ipynb'\n",
            "'Copy of N-gram.ipynb'\n",
            "'Copy of SkipGram_barebones_wiki (2f5da025).ipynb'\n",
            "'Copy of SkipGram_barebones_wiki (429e8042).ipynb'\n",
            "'Copy of SkipGram_barebones_wiki (8b2b576a).ipynb'\n",
            "'Copy of SkipGram_barebones_wiki (a39d018e).ipynb'\n",
            "'Copy of SkipGram_barebones_wiki.ipynb'\n",
            "'Copy of skip-thoughts original paper implementation.ipynb'\n",
            "'Copy of textacy-MY'\n",
            "'Copy of t-SNE Fallacies.ipynb'\n",
            "'Copy of Tweet2Vec.ipynb'\n",
            "'Copy of Untitled3.ipynb'\n",
            "'Copy of word2vec_glove_model_tensorflow.ipynb'\n",
            "'Copy of word2vec_skip_gram_model.ipynb'\n",
            " ENTITY_LINKING\n",
            " EntityLinking-AzureTextAnalytics.ipynb\n",
            "'KPE (b603411b).ipynb'\n",
            " KPE.ipynb\n",
            " LEARNING_PANDAS.ipynb\n",
            " MUSCLE-NEW-1.ipynb\n",
            " N-gram.ipynb\n",
            " SPACY\n",
            " textacy\n",
            " textacy-MY\n",
            " Untitled0.ipynb\n",
            " Untitled1.ipynb\n",
            " Untitled2.ipynb\n",
            " Untitled3.ipynb\n",
            " Untitled4.ipynb\n",
            " Untitled5.ipynb\n",
            " Untitled6.ipynb\n",
            " Untitled7.ipynb\n",
            " Untitled8.ipynb\n",
            "\n",
            "/content/drive/GoogleDrive_Utils:\n",
            "load_imdb_data.py  __pycache__\treadWikiData.py  tsne_python\n",
            "\n",
            "/content/drive/NLP_bootcamp:\n",
            "Data\n"
          ],
          "name": "stdout"
        }
      ]
    },
    {
      "cell_type": "code",
      "metadata": {
        "id": "klZFC_gQqMCN",
        "colab_type": "code",
        "outputId": "96b02d68-b12c-4508-cd19-8c6d040c336a",
        "colab": {
          "base_uri": "https://localhost:8080/",
          "height": 34
        }
      },
      "source": [
        "!ls /content/drive/NLP_bootcamp/Data/tweets.tsv"
      ],
      "execution_count": 2,
      "outputs": [
        {
          "output_type": "stream",
          "text": [
            "/content/drive/NLP_bootcamp/Data/tweets.tsv\n"
          ],
          "name": "stdout"
        }
      ]
    },
    {
      "cell_type": "code",
      "metadata": {
        "id": "6sPwm4c5p9sp",
        "colab_type": "code",
        "colab": {}
      },
      "source": [
        "%matplotlib inline"
      ],
      "execution_count": 0,
      "outputs": []
    },
    {
      "cell_type": "code",
      "metadata": {
        "id": "31W51sItp9st",
        "colab_type": "code",
        "colab": {}
      },
      "source": [
        "import numpy as np\n",
        "np.random.seed(13)"
      ],
      "execution_count": 0,
      "outputs": []
    },
    {
      "cell_type": "code",
      "metadata": {
        "id": "xayhDrgsp9sw",
        "colab_type": "code",
        "outputId": "f5cf7f47-071c-4940-907e-83689ad5949f",
        "colab": {
          "base_uri": "https://localhost:8080/",
          "height": 34
        }
      },
      "source": [
        "from keras.models import Model\n",
        "from keras.layers import Dense, Embedding, GRU, Input, Bidirectional\n",
        "from keras.preprocessing.text import Tokenizer\n",
        "from keras.preprocessing import sequence\n",
        "from keras.regularizers import l2\n",
        "from keras.utils import np_utils\n",
        "from keras.utils.vis_utils import model_to_dot"
      ],
      "execution_count": 5,
      "outputs": [
        {
          "output_type": "stream",
          "text": [
            "Using TensorFlow backend.\n"
          ],
          "name": "stderr"
        }
      ]
    },
    {
      "cell_type": "code",
      "metadata": {
        "id": "sCr821iZp9s1",
        "colab_type": "code",
        "colab": {}
      },
      "source": [
        "from IPython.display import SVG\n",
        "from matplotlib import pyplot as plt\n",
        "plt.style.use(\"ggplot\")"
      ],
      "execution_count": 0,
      "outputs": []
    },
    {
      "cell_type": "code",
      "metadata": {
        "id": "hl1UuRLAp9s4",
        "colab_type": "code",
        "colab": {}
      },
      "source": [
        "#tweets.tsv is in the format of <tweet text><tab><hashtag_id> where hashtag_id is a unique id given to each hashtag\n",
        "\n",
        "tweets = []\n",
        "labels = []\n",
        "with open(\"/content/drive/NLP_bootcamp/Data/tweets.tsv\") as f:\n",
        "    for l in f:\n",
        "        tweet, label = l.strip().split(\"\\t\")\n",
        "        tweets.append(\" \".join(list(tweet)))\n",
        "        labels.append(int(label))\n"
      ],
      "execution_count": 0,
      "outputs": []
    },
    {
      "cell_type": "code",
      "metadata": {
        "id": "tsepV66wp9s7",
        "colab_type": "code",
        "colab": {}
      },
      "source": [
        "maxlen = 140\n",
        "\n",
        "tokenizer = Tokenizer(filters=\"\")\n",
        "tokenizer.fit_on_texts(tweets)\n",
        "X_train = tokenizer.texts_to_sequences(tweets)\n",
        "X_train = sequence.pad_sequences(X_train, maxlen=maxlen)\n",
        "#Y_train = np_utils.to_categorical(labels, len(set(labels)))\n",
        "Y_train = np_utils.to_categorical(labels, len(set(labels)))\n",
        "V = len(tokenizer.word_index) + 1"
      ],
      "execution_count": 0,
      "outputs": []
    },
    {
      "cell_type": "code",
      "metadata": {
        "id": "eptcsT5tp9s-",
        "colab_type": "code",
        "outputId": "7a26bbfe-1028-4f90-8515-00545a6269ae",
        "colab": {
          "base_uri": "https://localhost:8080/",
          "height": 34
        }
      },
      "source": [
        "Y_train.shape"
      ],
      "execution_count": 9,
      "outputs": [
        {
          "output_type": "execute_result",
          "data": {
            "text/plain": [
              "(3, 3)"
            ]
          },
          "metadata": {
            "tags": []
          },
          "execution_count": 9
        }
      ]
    },
    {
      "cell_type": "code",
      "metadata": {
        "id": "lpSl1N2wp9tC",
        "colab_type": "code",
        "outputId": "4a32c4e9-7fd3-4dde-c810-eeae63581b48",
        "colab": {
          "base_uri": "https://localhost:8080/",
          "height": 853
        }
      },
      "source": [
        "l2_coef = 0.001\n",
        "tweet = Input(shape=(maxlen,), dtype='int32')\n",
        "x = Embedding(V, 128, input_length=maxlen, W_regularizer=l2(l=l2_coef))(tweet)\n",
        "x = Bidirectional(layer=GRU(128, return_sequences=False, \n",
        "                            W_regularizer=l2(l=l2_coef),\n",
        "                            b_regularizer=l2(l=l2_coef),\n",
        "                            U_regularizer=l2(l=l2_coef)),\n",
        "                  merge_mode='sum')(x)\n",
        "x = Dense(len(set(labels)), W_regularizer=l2(l=l2_coef), activation=\"softmax\")(x)\n",
        "\n",
        "tweet2vec = Model(inputs=tweet, outputs=x)\n",
        "\n",
        "tweet2vec.compile(loss='categorical_crossentropy',\n",
        "                  optimizer='RMSprop',\n",
        "                  metrics=['accuracy'])\n",
        "\n",
        "SVG(model_to_dot(tweet2vec, show_shapes=True).create(prog='dot', format='svg'))"
      ],
      "execution_count": 10,
      "outputs": [
        {
          "output_type": "stream",
          "text": [
            "WARNING:tensorflow:From /usr/local/lib/python3.6/dist-packages/keras/backend/tensorflow_backend.py:66: The name tf.get_default_graph is deprecated. Please use tf.compat.v1.get_default_graph instead.\n",
            "\n",
            "WARNING:tensorflow:From /usr/local/lib/python3.6/dist-packages/keras/backend/tensorflow_backend.py:541: The name tf.placeholder is deprecated. Please use tf.compat.v1.placeholder instead.\n",
            "\n",
            "WARNING:tensorflow:From /usr/local/lib/python3.6/dist-packages/keras/backend/tensorflow_backend.py:4432: The name tf.random_uniform is deprecated. Please use tf.random.uniform instead.\n",
            "\n"
          ],
          "name": "stdout"
        },
        {
          "output_type": "stream",
          "text": [
            "/usr/local/lib/python3.6/dist-packages/ipykernel_launcher.py:3: UserWarning: Update your `Embedding` call to the Keras 2 API: `Embedding(30, 128, input_length=140, embeddings_regularizer=<keras.reg...)`\n",
            "  This is separate from the ipykernel package so we can avoid doing imports until\n",
            "/usr/local/lib/python3.6/dist-packages/ipykernel_launcher.py:7: UserWarning: Update your `GRU` call to the Keras 2 API: `GRU(128, return_sequences=False, kernel_regularizer=<keras.reg..., bias_regularizer=<keras.reg..., recurrent_regularizer=<keras.reg...)`\n",
            "  import sys\n"
          ],
          "name": "stderr"
        },
        {
          "output_type": "stream",
          "text": [
            "WARNING:tensorflow:From /usr/local/lib/python3.6/dist-packages/keras/optimizers.py:793: The name tf.train.Optimizer is deprecated. Please use tf.compat.v1.train.Optimizer instead.\n",
            "\n",
            "WARNING:tensorflow:From /usr/local/lib/python3.6/dist-packages/keras/backend/tensorflow_backend.py:3576: The name tf.log is deprecated. Please use tf.math.log instead.\n",
            "\n"
          ],
          "name": "stdout"
        },
        {
          "output_type": "stream",
          "text": [
            "/usr/local/lib/python3.6/dist-packages/ipykernel_launcher.py:9: UserWarning: Update your `Dense` call to the Keras 2 API: `Dense(3, activation=\"softmax\", kernel_regularizer=<keras.reg...)`\n",
            "  if __name__ == '__main__':\n"
          ],
          "name": "stderr"
        },
        {
          "output_type": "execute_result",
          "data": {
            "text/plain": [
              "<IPython.core.display.SVG object>"
            ],
            "image/svg+xml": "<svg height=\"405pt\" viewBox=\"0.00 0.00 450.00 304.00\" width=\"600pt\" xmlns=\"http://www.w3.org/2000/svg\" xmlns:xlink=\"http://www.w3.org/1999/xlink\">\n<g class=\"graph\" id=\"graph0\" transform=\"scale(1.3333 1.3333) rotate(0) translate(4 300)\">\n<title>G</title>\n<polygon fill=\"#ffffff\" points=\"-4,4 -4,-300 446,-300 446,4 -4,4\" stroke=\"transparent\"/>\n<!-- 140470874262272 -->\n<g class=\"node\" id=\"node1\">\n<title>140470874262272</title>\n<polygon fill=\"none\" points=\"82,-249.5 82,-295.5 360,-295.5 360,-249.5 82,-249.5\" stroke=\"#000000\"/>\n<text fill=\"#000000\" font-family=\"Times,serif\" font-size=\"14.00\" text-anchor=\"middle\" x=\"148.5\" y=\"-268.8\">input_1: InputLayer</text>\n<polyline fill=\"none\" points=\"215,-249.5 215,-295.5 \" stroke=\"#000000\"/>\n<text fill=\"#000000\" font-family=\"Times,serif\" font-size=\"14.00\" text-anchor=\"middle\" x=\"244\" y=\"-280.3\">input:</text>\n<polyline fill=\"none\" points=\"215,-272.5 273,-272.5 \" stroke=\"#000000\"/>\n<text fill=\"#000000\" font-family=\"Times,serif\" font-size=\"14.00\" text-anchor=\"middle\" x=\"244\" y=\"-257.3\">output:</text>\n<polyline fill=\"none\" points=\"273,-249.5 273,-295.5 \" stroke=\"#000000\"/>\n<text fill=\"#000000\" font-family=\"Times,serif\" font-size=\"14.00\" text-anchor=\"middle\" x=\"316.5\" y=\"-280.3\">(None, 140)</text>\n<polyline fill=\"none\" points=\"273,-272.5 360,-272.5 \" stroke=\"#000000\"/>\n<text fill=\"#000000\" font-family=\"Times,serif\" font-size=\"14.00\" text-anchor=\"middle\" x=\"316.5\" y=\"-257.3\">(None, 140)</text>\n</g>\n<!-- 140470874262328 -->\n<g class=\"node\" id=\"node2\">\n<title>140470874262328</title>\n<polygon fill=\"none\" points=\"48,-166.5 48,-212.5 394,-212.5 394,-166.5 48,-166.5\" stroke=\"#000000\"/>\n<text fill=\"#000000\" font-family=\"Times,serif\" font-size=\"14.00\" text-anchor=\"middle\" x=\"133.5\" y=\"-185.8\">embedding_1: Embedding</text>\n<polyline fill=\"none\" points=\"219,-166.5 219,-212.5 \" stroke=\"#000000\"/>\n<text fill=\"#000000\" font-family=\"Times,serif\" font-size=\"14.00\" text-anchor=\"middle\" x=\"248\" y=\"-197.3\">input:</text>\n<polyline fill=\"none\" points=\"219,-189.5 277,-189.5 \" stroke=\"#000000\"/>\n<text fill=\"#000000\" font-family=\"Times,serif\" font-size=\"14.00\" text-anchor=\"middle\" x=\"248\" y=\"-174.3\">output:</text>\n<polyline fill=\"none\" points=\"277,-166.5 277,-212.5 \" stroke=\"#000000\"/>\n<text fill=\"#000000\" font-family=\"Times,serif\" font-size=\"14.00\" text-anchor=\"middle\" x=\"335.5\" y=\"-197.3\">(None, 140)</text>\n<polyline fill=\"none\" points=\"277,-189.5 394,-189.5 \" stroke=\"#000000\"/>\n<text fill=\"#000000\" font-family=\"Times,serif\" font-size=\"14.00\" text-anchor=\"middle\" x=\"335.5\" y=\"-174.3\">(None, 140, 128)</text>\n</g>\n<!-- 140470874262272&#45;&gt;140470874262328 -->\n<g class=\"edge\" id=\"edge1\">\n<title>140470874262272-&gt;140470874262328</title>\n<path d=\"M221,-249.3799C221,-241.1745 221,-231.7679 221,-222.8786\" fill=\"none\" stroke=\"#000000\"/>\n<polygon fill=\"#000000\" points=\"224.5001,-222.784 221,-212.784 217.5001,-222.784 224.5001,-222.784\" stroke=\"#000000\"/>\n</g>\n<!-- 140470874300032 -->\n<g class=\"node\" id=\"node3\">\n<title>140470874300032</title>\n<polygon fill=\"none\" points=\"0,-83.5 0,-129.5 442,-129.5 442,-83.5 0,-83.5\" stroke=\"#000000\"/>\n<text fill=\"#000000\" font-family=\"Times,serif\" font-size=\"14.00\" text-anchor=\"middle\" x=\"133.5\" y=\"-102.8\">bidirectional_1(gru_1): Bidirectional(GRU)</text>\n<polyline fill=\"none\" points=\"267,-83.5 267,-129.5 \" stroke=\"#000000\"/>\n<text fill=\"#000000\" font-family=\"Times,serif\" font-size=\"14.00\" text-anchor=\"middle\" x=\"296\" y=\"-114.3\">input:</text>\n<polyline fill=\"none\" points=\"267,-106.5 325,-106.5 \" stroke=\"#000000\"/>\n<text fill=\"#000000\" font-family=\"Times,serif\" font-size=\"14.00\" text-anchor=\"middle\" x=\"296\" y=\"-91.3\">output:</text>\n<polyline fill=\"none\" points=\"325,-83.5 325,-129.5 \" stroke=\"#000000\"/>\n<text fill=\"#000000\" font-family=\"Times,serif\" font-size=\"14.00\" text-anchor=\"middle\" x=\"383.5\" y=\"-114.3\">(None, 140, 128)</text>\n<polyline fill=\"none\" points=\"325,-106.5 442,-106.5 \" stroke=\"#000000\"/>\n<text fill=\"#000000\" font-family=\"Times,serif\" font-size=\"14.00\" text-anchor=\"middle\" x=\"383.5\" y=\"-91.3\">(None, 128)</text>\n</g>\n<!-- 140470874262328&#45;&gt;140470874300032 -->\n<g class=\"edge\" id=\"edge2\">\n<title>140470874262328-&gt;140470874300032</title>\n<path d=\"M221,-166.3799C221,-158.1745 221,-148.7679 221,-139.8786\" fill=\"none\" stroke=\"#000000\"/>\n<polygon fill=\"#000000\" points=\"224.5001,-139.784 221,-129.784 217.5001,-139.784 224.5001,-139.784\" stroke=\"#000000\"/>\n</g>\n<!-- 140470874442944 -->\n<g class=\"node\" id=\"node4\">\n<title>140470874442944</title>\n<polygon fill=\"none\" points=\"95,-.5 95,-46.5 347,-46.5 347,-.5 95,-.5\" stroke=\"#000000\"/>\n<text fill=\"#000000\" font-family=\"Times,serif\" font-size=\"14.00\" text-anchor=\"middle\" x=\"148.5\" y=\"-19.8\">dense_1: Dense</text>\n<polyline fill=\"none\" points=\"202,-.5 202,-46.5 \" stroke=\"#000000\"/>\n<text fill=\"#000000\" font-family=\"Times,serif\" font-size=\"14.00\" text-anchor=\"middle\" x=\"231\" y=\"-31.3\">input:</text>\n<polyline fill=\"none\" points=\"202,-23.5 260,-23.5 \" stroke=\"#000000\"/>\n<text fill=\"#000000\" font-family=\"Times,serif\" font-size=\"14.00\" text-anchor=\"middle\" x=\"231\" y=\"-8.3\">output:</text>\n<polyline fill=\"none\" points=\"260,-.5 260,-46.5 \" stroke=\"#000000\"/>\n<text fill=\"#000000\" font-family=\"Times,serif\" font-size=\"14.00\" text-anchor=\"middle\" x=\"303.5\" y=\"-31.3\">(None, 128)</text>\n<polyline fill=\"none\" points=\"260,-23.5 347,-23.5 \" stroke=\"#000000\"/>\n<text fill=\"#000000\" font-family=\"Times,serif\" font-size=\"14.00\" text-anchor=\"middle\" x=\"303.5\" y=\"-8.3\">(None, 3)</text>\n</g>\n<!-- 140470874300032&#45;&gt;140470874442944 -->\n<g class=\"edge\" id=\"edge3\">\n<title>140470874300032-&gt;140470874442944</title>\n<path d=\"M221,-83.3799C221,-75.1745 221,-65.7679 221,-56.8786\" fill=\"none\" stroke=\"#000000\"/>\n<polygon fill=\"#000000\" points=\"224.5001,-56.784 221,-46.784 217.5001,-56.784 224.5001,-56.784\" stroke=\"#000000\"/>\n</g>\n</g>\n</svg>"
          },
          "metadata": {
            "tags": []
          },
          "execution_count": 10
        }
      ]
    },
    {
      "cell_type": "code",
      "metadata": {
        "id": "_Lg6XweYp9tF",
        "colab_type": "code",
        "outputId": "3d1bf03b-c1af-46dc-9bd8-0b5acf57f80a",
        "colab": {
          "base_uri": "https://localhost:8080/",
          "height": 496
        }
      },
      "source": [
        "tweet2vec.fit(X_train, Y_train, epochs=10, batch_size=32, validation_split=0.1)"
      ],
      "execution_count": 11,
      "outputs": [
        {
          "output_type": "stream",
          "text": [
            "WARNING:tensorflow:From /usr/local/lib/python3.6/dist-packages/tensorflow/python/ops/math_grad.py:1250: add_dispatch_support.<locals>.wrapper (from tensorflow.python.ops.array_ops) is deprecated and will be removed in a future version.\n",
            "Instructions for updating:\n",
            "Use tf.where in 2.0, which has the same broadcast rule as np.where\n",
            "WARNING:tensorflow:From /usr/local/lib/python3.6/dist-packages/keras/backend/tensorflow_backend.py:1033: The name tf.assign_add is deprecated. Please use tf.compat.v1.assign_add instead.\n",
            "\n",
            "Train on 2 samples, validate on 1 samples\n",
            "Epoch 1/10\n",
            "2/2 [==============================] - 6s 3s/step - loss: 1.7800 - acc: 0.0000e+00 - val_loss: 1.9400 - val_acc: 0.0000e+00\n",
            "Epoch 2/10\n",
            "2/2 [==============================] - 1s 340ms/step - loss: 1.5549 - acc: 1.0000 - val_loss: 2.1600 - val_acc: 0.0000e+00\n",
            "Epoch 3/10\n",
            "2/2 [==============================] - 1s 319ms/step - loss: 1.4028 - acc: 1.0000 - val_loss: 2.4700 - val_acc: 0.0000e+00\n",
            "Epoch 4/10\n",
            "2/2 [==============================] - 1s 326ms/step - loss: 1.2605 - acc: 1.0000 - val_loss: 2.9268 - val_acc: 0.0000e+00\n",
            "Epoch 5/10\n",
            "2/2 [==============================] - 1s 327ms/step - loss: 1.1209 - acc: 1.0000 - val_loss: 3.6294 - val_acc: 0.0000e+00\n",
            "Epoch 6/10\n",
            "2/2 [==============================] - 1s 334ms/step - loss: 0.9844 - acc: 1.0000 - val_loss: 4.7528 - val_acc: 0.0000e+00\n",
            "Epoch 7/10\n",
            "2/2 [==============================] - 1s 368ms/step - loss: 0.8541 - acc: 1.0000 - val_loss: 6.1632 - val_acc: 0.0000e+00\n",
            "Epoch 8/10\n",
            "2/2 [==============================] - 1s 337ms/step - loss: 0.7295 - acc: 1.0000 - val_loss: 6.8864 - val_acc: 0.0000e+00\n",
            "Epoch 9/10\n",
            "2/2 [==============================] - 1s 361ms/step - loss: 0.6008 - acc: 1.0000 - val_loss: 8.6968 - val_acc: 0.0000e+00\n",
            "Epoch 10/10\n",
            "2/2 [==============================] - 1s 352ms/step - loss: 1.1128 - acc: 0.5000 - val_loss: 5.3917 - val_acc: 0.0000e+00\n"
          ],
          "name": "stdout"
        },
        {
          "output_type": "execute_result",
          "data": {
            "text/plain": [
              "<keras.callbacks.History at 0x7fc22416d7b8>"
            ]
          },
          "metadata": {
            "tags": []
          },
          "execution_count": 11
        }
      ]
    }
  ]
}