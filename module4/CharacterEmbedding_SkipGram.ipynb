{
  "nbformat": 4,
  "nbformat_minor": 0,
  "metadata": {
    "kernelspec": {
      "name": "python3",
      "display_name": "Python 3"
    },
    "language_info": {
      "codemirror_mode": {
        "name": "ipython",
        "version": 3
      },
      "file_extension": ".py",
      "mimetype": "text/x-python",
      "name": "python",
      "nbconvert_exporter": "python",
      "pygments_lexer": "ipython3",
      "version": "3.5.2"
    },
    "colab": {
      "name": "CharacterEmbedding_SkipGram.ipynb",
      "provenance": [],
      "include_colab_link": true
    },
    "accelerator": "TPU"
  },
  "cells": [
    {
      "cell_type": "markdown",
      "metadata": {
        "id": "view-in-github",
        "colab_type": "text"
      },
      "source": [
        "<a href=\"https://colab.research.google.com/github/anujgupta82/NLP_Bootcamp/blob/V_2_0/module4/CharacterEmbedding_SkipGram.ipynb\" target=\"_parent\"><img src=\"https://colab.research.google.com/assets/colab-badge.svg\" alt=\"Open In Colab\"/></a>"
      ]
    },
    {
      "cell_type": "markdown",
      "metadata": {
        "id": "OnA5BLSwbbxS",
        "colab_type": "text"
      },
      "source": [
        "# Train character embeddings using word2vec skipgram approach \n",
        "\n",
        "We look at ith character and try to predict (i-1) and (i+1) character"
      ]
    },
    {
      "cell_type": "code",
      "metadata": {
        "id": "SpKOTobGhDIJ",
        "colab_type": "code",
        "colab": {
          "base_uri": "https://localhost:8080/",
          "height": 360
        },
        "outputId": "7eb931a9-9bf3-4474-9be0-914e7afe773a"
      },
      "source": [
        "!apt-get install -y -qq software-properties-common python-software-properties module-init-tools\n",
        "!add-apt-repository -y ppa:alessandro-strada/ppa 2>&1 > /dev/null\n",
        "!apt-get update -qq 2>&1 > /dev/null\n",
        "!apt-get -y install -qq google-drive-ocamlfuse fuse\n",
        "from google.colab import auth\n",
        "auth.authenticate_user()\n",
        "from oauth2client.client import GoogleCredentials\n",
        "creds = GoogleCredentials.get_application_default()\n",
        "import getpass\n",
        "!google-drive-ocamlfuse -headless -id={creds.client_id} -secret={creds.client_secret} < /dev/null 2>&1 | grep URL\n",
        "vcode = getpass.getpass()\n",
        "!echo {vcode} | google-drive-ocamlfuse -headless -id={creds.client_id} -secret={creds.client_secret}\n",
        "!mkdir -p drive\n",
        "!google-drive-ocamlfuse drive"
      ],
      "execution_count": 1,
      "outputs": [
        {
          "output_type": "stream",
          "text": [
            "E: Package 'python-software-properties' has no installation candidate\n",
            "Selecting previously unselected package google-drive-ocamlfuse.\n",
            "(Reading database ... 131183 files and directories currently installed.)\n",
            "Preparing to unpack .../google-drive-ocamlfuse_0.7.11-0ubuntu1~ubuntu18.04.1_amd64.deb ...\n",
            "Unpacking google-drive-ocamlfuse (0.7.11-0ubuntu1~ubuntu18.04.1) ...\n",
            "Setting up google-drive-ocamlfuse (0.7.11-0ubuntu1~ubuntu18.04.1) ...\n",
            "Processing triggers for man-db (2.8.3-2ubuntu0.1) ...\n",
            "WARNING:tensorflow:\n",
            "The TensorFlow contrib module will not be included in TensorFlow 2.0.\n",
            "For more information, please see:\n",
            "  * https://github.com/tensorflow/community/blob/master/rfcs/20180907-contrib-sunset.md\n",
            "  * https://github.com/tensorflow/addons\n",
            "  * https://github.com/tensorflow/io (for I/O related ops)\n",
            "If you depend on functionality not listed there, please file an issue.\n",
            "\n",
            "Please, open the following URL in a web browser: https://accounts.google.com/o/oauth2/auth?client_id=32555940559.apps.googleusercontent.com&redirect_uri=urn%3Aietf%3Awg%3Aoauth%3A2.0%3Aoob&scope=https%3A%2F%2Fwww.googleapis.com%2Fauth%2Fdrive&response_type=code&access_type=offline&approval_prompt=force\n",
            "··········\n",
            "Please, open the following URL in a web browser: https://accounts.google.com/o/oauth2/auth?client_id=32555940559.apps.googleusercontent.com&redirect_uri=urn%3Aietf%3Awg%3Aoauth%3A2.0%3Aoob&scope=https%3A%2F%2Fwww.googleapis.com%2Fauth%2Fdrive&response_type=code&access_type=offline&approval_prompt=force\n",
            "Please enter the verification code: Access token retrieved correctly.\n"
          ],
          "name": "stdout"
        }
      ]
    },
    {
      "cell_type": "code",
      "metadata": {
        "id": "hW9wAjcebfLr",
        "colab_type": "code",
        "outputId": "182ee14c-2eac-4ef7-cd07-37f444a3857e",
        "colab": {
          "base_uri": "https://localhost:8080/",
          "height": 34
        }
      },
      "source": [
        "!ls /content/drive/NLP_bootcamp/Data/harry_potter_3.txt"
      ],
      "execution_count": 2,
      "outputs": [
        {
          "output_type": "stream",
          "text": [
            "/content/drive/NLP_bootcamp/Data/harry_potter_3.txt\n"
          ],
          "name": "stdout"
        }
      ]
    },
    {
      "cell_type": "code",
      "metadata": {
        "id": "N1sDhyWsbbxV",
        "colab_type": "code",
        "colab": {}
      },
      "source": [
        "#for inline plotting in notebooks\n",
        "%matplotlib inline  "
      ],
      "execution_count": 0,
      "outputs": []
    },
    {
      "cell_type": "code",
      "metadata": {
        "id": "GT2Yh1igbbxb",
        "colab_type": "code",
        "colab": {
          "base_uri": "https://localhost:8080/",
          "height": 34
        },
        "outputId": "5cc33e0b-366e-4502-b0a8-68c1144e5dd5"
      },
      "source": [
        "from keras.layers import Input, Dense\n",
        "from keras.models import Model"
      ],
      "execution_count": 4,
      "outputs": [
        {
          "output_type": "stream",
          "text": [
            "Using TensorFlow backend.\n"
          ],
          "name": "stderr"
        }
      ]
    },
    {
      "cell_type": "code",
      "metadata": {
        "id": "jALgVLzAbbxh",
        "colab_type": "code",
        "colab": {}
      },
      "source": [
        "import numpy as np\n",
        "import matplotlib.pyplot as plt\n",
        "import random"
      ],
      "execution_count": 0,
      "outputs": []
    },
    {
      "cell_type": "markdown",
      "metadata": {
        "id": "Q7-o_DTebbxm",
        "colab_type": "text"
      },
      "source": [
        "# Get data"
      ]
    },
    {
      "cell_type": "code",
      "metadata": {
        "id": "GbsIu6w2bbxn",
        "colab_type": "code",
        "outputId": "7cfab72f-4408-4ef8-c966-24239b29ecfd",
        "colab": {
          "base_uri": "https://localhost:8080/",
          "height": 34
        }
      },
      "source": [
        "# load data\n",
        "path = \"/content/drive/NLP_bootcamp/Data/harry_potter_3.txt\"\n",
        "text = open(path).read()\n",
        "\n",
        "corpus_length = len(text)\n",
        "\n",
        "print('corpus length:', corpus_length)"
      ],
      "execution_count": 6,
      "outputs": [
        {
          "output_type": "stream",
          "text": [
            "corpus length: 611606\n"
          ],
          "name": "stdout"
        }
      ]
    },
    {
      "cell_type": "code",
      "metadata": {
        "id": "M4OCLvY2bbxq",
        "colab_type": "code",
        "outputId": "74a3c71e-1b39-4eab-ab72-e1d1139e6cd5",
        "colab": {
          "base_uri": "https://localhost:8080/",
          "height": 105
        }
      },
      "source": [
        "unique_chars = list(set(text))\n",
        "print('total no of unique chars:', len(unique_chars))\n",
        "\n",
        "print (\"\\nSet of characters : \\n\" + str(unique_chars))"
      ],
      "execution_count": 7,
      "outputs": [
        {
          "output_type": "stream",
          "text": [
            "total no of unique chars: 79\n",
            "\n",
            "Set of characters : \n",
            "['w', 'f', 'Q', 'y', 'a', 'B', 'O', 'L', '5', '&', '4', 'T', 'J', 'm', '_', 'q', '6', 'D', 'S', 'k', ':', 's', 'H', 'R', 'C', '\"', \"'\", 'W', 'K', ')', 'P', 'p', '0', 'c', 'u', 'F', 'b', '\\\\', '3', 't', 'l', 'e', 'N', '!', '7', 'g', '9', '\\n', 'j', 'Z', 'M', 'z', 'U', '*', '2', ' ', 'i', 'r', ',', 'v', 'n', '`', 'I', '?', '1', 'o', 'Y', 'G', ';', '-', 'X', '.', 'E', '(', 'd', 'x', 'h', 'A', 'V']\n"
          ],
          "name": "stdout"
        }
      ]
    },
    {
      "cell_type": "code",
      "metadata": {
        "id": "N3AM9jm2bbxt",
        "colab_type": "code",
        "colab": {}
      },
      "source": [
        "def classToOneHot(item, classes):\n",
        "\n",
        "\tx = [0. for _ in classes]\n",
        "\t\n",
        "\tx[classes.index(item)] = 1.\n",
        "\n",
        "\treturn x"
      ],
      "execution_count": 0,
      "outputs": []
    },
    {
      "cell_type": "code",
      "metadata": {
        "id": "DiMoi2hYbbxw",
        "colab_type": "code",
        "outputId": "2d1c0bb1-7bc7-4c3c-db06-7d7a0f85344f",
        "colab": {
          "base_uri": "https://localhost:8080/",
          "height": 1000
        }
      },
      "source": [
        "classToOneHot('a', unique_chars)"
      ],
      "execution_count": 9,
      "outputs": [
        {
          "output_type": "execute_result",
          "data": {
            "text/plain": [
              "[0.0,\n",
              " 0.0,\n",
              " 0.0,\n",
              " 0.0,\n",
              " 1.0,\n",
              " 0.0,\n",
              " 0.0,\n",
              " 0.0,\n",
              " 0.0,\n",
              " 0.0,\n",
              " 0.0,\n",
              " 0.0,\n",
              " 0.0,\n",
              " 0.0,\n",
              " 0.0,\n",
              " 0.0,\n",
              " 0.0,\n",
              " 0.0,\n",
              " 0.0,\n",
              " 0.0,\n",
              " 0.0,\n",
              " 0.0,\n",
              " 0.0,\n",
              " 0.0,\n",
              " 0.0,\n",
              " 0.0,\n",
              " 0.0,\n",
              " 0.0,\n",
              " 0.0,\n",
              " 0.0,\n",
              " 0.0,\n",
              " 0.0,\n",
              " 0.0,\n",
              " 0.0,\n",
              " 0.0,\n",
              " 0.0,\n",
              " 0.0,\n",
              " 0.0,\n",
              " 0.0,\n",
              " 0.0,\n",
              " 0.0,\n",
              " 0.0,\n",
              " 0.0,\n",
              " 0.0,\n",
              " 0.0,\n",
              " 0.0,\n",
              " 0.0,\n",
              " 0.0,\n",
              " 0.0,\n",
              " 0.0,\n",
              " 0.0,\n",
              " 0.0,\n",
              " 0.0,\n",
              " 0.0,\n",
              " 0.0,\n",
              " 0.0,\n",
              " 0.0,\n",
              " 0.0,\n",
              " 0.0,\n",
              " 0.0,\n",
              " 0.0,\n",
              " 0.0,\n",
              " 0.0,\n",
              " 0.0,\n",
              " 0.0,\n",
              " 0.0,\n",
              " 0.0,\n",
              " 0.0,\n",
              " 0.0,\n",
              " 0.0,\n",
              " 0.0,\n",
              " 0.0,\n",
              " 0.0,\n",
              " 0.0,\n",
              " 0.0,\n",
              " 0.0,\n",
              " 0.0,\n",
              " 0.0,\n",
              " 0.0]"
            ]
          },
          "metadata": {
            "tags": []
          },
          "execution_count": 9
        }
      ]
    },
    {
      "cell_type": "code",
      "metadata": {
        "id": "GY_86ocpbbx0",
        "colab_type": "code",
        "colab": {}
      },
      "source": [
        "def findClosest(labels, coords, n=3):\n",
        "\tdef dist(p1, p2):\n",
        "\t\treturn np.linalg.norm(np.array(p1)-np.array(p2))\n",
        "\tfor label, pos in zip(labels, coords):\n",
        "\t\tprint(label)\n",
        "\t\tdists = []\n",
        "\t\tfor l2, p2 in zip(labels, coords):\n",
        "\t\t\tif l2==label: continue\n",
        "\t\t\tdists.append((l2, dist(pos, p2)))\n",
        "\t\tdists = sorted(dists, key=lambda x : x[1])\n",
        "\t\tif n == -1:\n",
        "\t\t\tif dists[0][1] >= 0.2:\n",
        "\t\t\t\tprint(\"\\t{}\\t{}\".format(dists[0][0], dists[0][1]))\n",
        "\t\t\telse:\n",
        "\t\t\t\tfor d in dists:\n",
        "\t\t\t\t\tif d[1] <= 0.15:\n",
        "\t\t\t\t\t\tprint(\"\\t{}\\t{}\".format(d[0], d[1]))\n",
        "\t\telse:\t\t\n",
        "\t\t\tfor d in dists[:n]:\n",
        "\t\t\t\tprint(\"\\t{}\\t{}\".format(d[0], d[1]))"
      ],
      "execution_count": 0,
      "outputs": []
    },
    {
      "cell_type": "code",
      "metadata": {
        "id": "GPDjETRUbbx3",
        "colab_type": "code",
        "colab": {}
      },
      "source": [
        "# prepare training data X, y\n",
        "# both X,y are are characters \n",
        "\n",
        "skip_window = 1 # how much we see on either side of center word\n",
        "global_index = skip_window # \n",
        "\n",
        "X = []\n",
        "y = []\n",
        "\n",
        "for i in range(global_index, (corpus_length - skip_window)):\n",
        "\n",
        "    #print i\n",
        "    \n",
        "    X_char = text[i]\n",
        "    y1_char = text[i-1]\n",
        "    y2_char = text[i+1]\n",
        "    \n",
        "    #print X_char\n",
        "    #print y1_char, y2_char\n",
        "    X.append(classToOneHot(X_char, unique_chars))\n",
        "    yp=[classToOneHot(y1_char, unique_chars), classToOneHot(y2_char, unique_chars)] \n",
        "    \n",
        "    y.append(yp)\n",
        "    \n",
        "X=np.array(X)    \n",
        "    "
      ],
      "execution_count": 0,
      "outputs": []
    },
    {
      "cell_type": "code",
      "metadata": {
        "id": "6qdlQV_kbbx5",
        "colab_type": "code",
        "outputId": "2e6f1e84-63e9-4e1b-de35-bde6af5eff08",
        "colab": {
          "base_uri": "https://localhost:8080/",
          "height": 34
        }
      },
      "source": [
        "print(np.shape(X), np.shape(y), (len(unique_chars),), )"
      ],
      "execution_count": 12,
      "outputs": [
        {
          "output_type": "stream",
          "text": [
            "(611604, 79) (611604, 2, 79) (79,)\n"
          ],
          "name": "stdout"
        }
      ]
    },
    {
      "cell_type": "code",
      "metadata": {
        "id": "aRZTIzyWbbx-",
        "colab_type": "code",
        "colab": {
          "base_uri": "https://localhost:8080/",
          "height": 207
        },
        "outputId": "c68265f6-c9d4-4290-f749-ced7692d0f96"
      },
      "source": [
        "nb_cols = len(y[0])\n",
        "y_cols = [np.array([v[i] for v in y], np.float32) for i in range(nb_cols)]\n",
        "\n",
        "input_layer = Input(shape=(len(unique_chars),))\n",
        "encoding = Dense(2, activation='linear')(input_layer)\n",
        "\n",
        "output_1 = Dense(len(unique_chars), activation='softmax')(encoding)\n",
        "output_2 = Dense(len(unique_chars), activation='softmax')(encoding)\n",
        "\n",
        "model = Model(inputs=[input_layer], outputs=[output_1, output_2])#, output_3, output_4])\n",
        "\n",
        "encoder = Model(inputs = [input_layer], outputs=[encoding])\n",
        "\n",
        "# when using larger windows, remember to add more loss weights\n",
        "model.compile(optimizer='rmsprop', loss='categorical_crossentropy', loss_weights=[0.5, 0.5])\n",
        "\n",
        "#model.fit(X, y_cols, nb_epoch=15, batch_size=1024, shuffle=True, verbose=True)"
      ],
      "execution_count": 13,
      "outputs": [
        {
          "output_type": "stream",
          "text": [
            "WARNING:tensorflow:From /usr/local/lib/python3.6/dist-packages/keras/backend/tensorflow_backend.py:66: The name tf.get_default_graph is deprecated. Please use tf.compat.v1.get_default_graph instead.\n",
            "\n",
            "WARNING:tensorflow:From /usr/local/lib/python3.6/dist-packages/keras/backend/tensorflow_backend.py:541: The name tf.placeholder is deprecated. Please use tf.compat.v1.placeholder instead.\n",
            "\n",
            "WARNING:tensorflow:From /usr/local/lib/python3.6/dist-packages/keras/backend/tensorflow_backend.py:4432: The name tf.random_uniform is deprecated. Please use tf.random.uniform instead.\n",
            "\n",
            "WARNING:tensorflow:From /usr/local/lib/python3.6/dist-packages/keras/optimizers.py:793: The name tf.train.Optimizer is deprecated. Please use tf.compat.v1.train.Optimizer instead.\n",
            "\n",
            "WARNING:tensorflow:From /usr/local/lib/python3.6/dist-packages/keras/backend/tensorflow_backend.py:3576: The name tf.log is deprecated. Please use tf.math.log instead.\n",
            "\n"
          ],
          "name": "stdout"
        }
      ]
    },
    {
      "cell_type": "code",
      "metadata": {
        "id": "EG4qru1kbbyB",
        "colab_type": "code",
        "outputId": "2a54a647-894b-475c-e73b-676acc73ee6d",
        "colab": {
          "base_uri": "https://localhost:8080/",
          "height": 649
        }
      },
      "source": [
        "model.fit(X , y_cols, epochs=15, batch_size=1024, shuffle=True, verbose=True)"
      ],
      "execution_count": 14,
      "outputs": [
        {
          "output_type": "stream",
          "text": [
            "WARNING:tensorflow:From /usr/local/lib/python3.6/dist-packages/tensorflow/python/ops/math_grad.py:1250: add_dispatch_support.<locals>.wrapper (from tensorflow.python.ops.array_ops) is deprecated and will be removed in a future version.\n",
            "Instructions for updating:\n",
            "Use tf.where in 2.0, which has the same broadcast rule as np.where\n",
            "WARNING:tensorflow:From /usr/local/lib/python3.6/dist-packages/keras/backend/tensorflow_backend.py:1033: The name tf.assign_add is deprecated. Please use tf.compat.v1.assign_add instead.\n",
            "\n",
            "Epoch 1/15\n",
            "611604/611604 [==============================] - 8s 13us/step - loss: 3.7532 - dense_2_loss: 3.7663 - dense_3_loss: 3.7401\n",
            "Epoch 2/15\n",
            "611604/611604 [==============================] - 7s 11us/step - loss: 3.1199 - dense_2_loss: 3.1243 - dense_3_loss: 3.1155\n",
            "Epoch 3/15\n",
            "611604/611604 [==============================] - 7s 12us/step - loss: 3.0243 - dense_2_loss: 3.0225 - dense_3_loss: 3.0261\n",
            "Epoch 4/15\n",
            "611604/611604 [==============================] - 7s 11us/step - loss: 2.9917 - dense_2_loss: 2.9867 - dense_3_loss: 2.9968\n",
            "Epoch 5/15\n",
            "611604/611604 [==============================] - 7s 11us/step - loss: 2.9710 - dense_2_loss: 2.9660 - dense_3_loss: 2.9759\n",
            "Epoch 6/15\n",
            "611604/611604 [==============================] - 7s 11us/step - loss: 2.9546 - dense_2_loss: 2.9524 - dense_3_loss: 2.9568\n",
            "Epoch 7/15\n",
            "611604/611604 [==============================] - 7s 11us/step - loss: 2.9423 - dense_2_loss: 2.9429 - dense_3_loss: 2.9418\n",
            "Epoch 8/15\n",
            "611604/611604 [==============================] - 7s 11us/step - loss: 2.9331 - dense_2_loss: 2.9347 - dense_3_loss: 2.9315\n",
            "Epoch 9/15\n",
            "611604/611604 [==============================] - 7s 12us/step - loss: 2.9256 - dense_2_loss: 2.9262 - dense_3_loss: 2.9250\n",
            "Epoch 10/15\n",
            "611604/611604 [==============================] - 7s 12us/step - loss: 2.9188 - dense_2_loss: 2.9168 - dense_3_loss: 2.9208\n",
            "Epoch 11/15\n",
            "611604/611604 [==============================] - 7s 11us/step - loss: 2.9129 - dense_2_loss: 2.9080 - dense_3_loss: 2.9177\n",
            "Epoch 12/15\n",
            "611604/611604 [==============================] - 7s 12us/step - loss: 2.9077 - dense_2_loss: 2.9002 - dense_3_loss: 2.9152\n",
            "Epoch 13/15\n",
            "611604/611604 [==============================] - 7s 12us/step - loss: 2.9033 - dense_2_loss: 2.8941 - dense_3_loss: 2.9124\n",
            "Epoch 14/15\n",
            "611604/611604 [==============================] - 7s 12us/step - loss: 2.8995 - dense_2_loss: 2.8896 - dense_3_loss: 2.9094\n",
            "Epoch 15/15\n",
            "611604/611604 [==============================] - 7s 11us/step - loss: 2.8964 - dense_2_loss: 2.8858 - dense_3_loss: 2.9069\n"
          ],
          "name": "stdout"
        },
        {
          "output_type": "execute_result",
          "data": {
            "text/plain": [
              "<keras.callbacks.History at 0x7f4264d00ba8>"
            ]
          },
          "metadata": {
            "tags": []
          },
          "execution_count": 14
        }
      ]
    },
    {
      "cell_type": "code",
      "metadata": {
        "id": "mZfDnOWkbbyE",
        "colab_type": "code",
        "outputId": "512de8a0-36ed-4f59-f499-7fa47d29eb52",
        "colab": {
          "base_uri": "https://localhost:8080/",
          "height": 1000
        }
      },
      "source": [
        "x2 = [classToOneHot(ch, unique_chars) for ch in unique_chars[:-1]]\n",
        "encodings = encoder.predict(np.array(x2))\n",
        "for ch, e in zip(unique_chars[:-1], encodings):\n",
        "    print(\"{}\\t{}\\t{}\".format(ch, e[0], e[1]))"
      ],
      "execution_count": 15,
      "outputs": [
        {
          "output_type": "stream",
          "text": [
            "w\t-2.545854091644287\t0.128388911485672\n",
            "f\t-2.3383584022521973\t0.9405397176742554\n",
            "Q\t-1.945394515991211\t-1.3868865966796875\n",
            "y\t-2.289656162261963\t2.3939850330352783\n",
            "a\t-0.5912244915962219\t0.780730128288269\n",
            "B\t-1.6627146005630493\t-1.8436057567596436\n",
            "O\t-0.1904187798500061\t-0.9589291214942932\n",
            "L\t-1.761541724205017\t-2.103893995285034\n",
            "5\t-0.9248368740081787\t0.5586948394775391\n",
            "&\t-0.6775332689285278\t0.7584193348884583\n",
            "4\t-0.9952220916748047\t0.4537416398525238\n",
            "T\t-0.9285984635353088\t-0.677461564540863\n",
            "J\t-1.4980385303497314\t-0.7622146010398865\n",
            "m\t-2.96665620803833\t1.2342777252197266\n",
            "_\t-0.8159070611000061\t0.4532845914363861\n",
            "q\t-1.6398882865905762\t-0.9207335114479065\n",
            "6\t-0.8104060292243958\t0.5539237856864929\n",
            "D\t-1.585982322692871\t-1.761460781097412\n",
            "S\t-1.321016788482666\t-1.0583393573760986\n",
            "k\t-2.850963830947876\t1.3846962451934814\n",
            ":\t-0.6905620098114014\t1.986785888671875\n",
            "s\t-2.6496379375457764\t1.580122709274292\n",
            "H\t-2.4773707389831543\t-2.5039992332458496\n",
            "R\t-1.728684902191162\t-1.4328148365020752\n",
            "C\t-1.2195123434066772\t-1.0275506973266602\n",
            "\"\t0.6696724891662598\t0.2302318811416626\n",
            "'\t-0.26344239711761475\t1.8450088500976562\n",
            "W\t-1.5112972259521484\t-1.6400465965270996\n",
            "K\t-0.7664605975151062\t-1.088935375213623\n",
            ")\t-0.9006436467170715\t1.1088483333587646\n",
            "P\t-1.9423877000808716\t-1.46480131149292\n",
            "p\t-2.5326457023620605\t0.9234330654144287\n",
            "0\t-0.8416685461997986\t0.36007747054100037\n",
            "c\t-2.6474432945251465\t0.7391641736030579\n",
            "u\t-0.8182536363601685\t0.6109616756439209\n",
            "F\t-1.6938221454620361\t-1.5176806449890137\n",
            "b\t-2.588468551635742\t-0.13961809873580933\n",
            "\\\t-0.5196468830108643\t0.21807456016540527\n",
            "3\t-0.9408994913101196\t0.543300986289978\n",
            "t\t-2.790004253387451\t1.3768701553344727\n",
            "l\t-2.358710289001465\t1.1917563676834106\n",
            "e\t-0.5479267239570618\t1.8330700397491455\n",
            "N\t-1.0652104616165161\t-1.3949635028839111\n",
            "!\t0.6671274900436401\t2.947129964828491\n",
            "7\t-0.8015040159225464\t0.28482431173324585\n",
            "g\t-3.1137263774871826\t2.185521125793457\n",
            "9\t-0.6417828798294067\t0.33384573459625244\n",
            "\n",
            "\t0.6104053258895874\t0.842932939529419\n",
            "j\t-2.269465923309326\t-0.8961824774742126\n",
            "Z\t-1.1696813106536865\t0.06511175632476807\n",
            "M\t-1.783400535583496\t-1.5013630390167236\n",
            "z\t-3.2336387634277344\t0.5804865956306458\n",
            "U\t-0.39095890522003174\t-0.8292613625526428\n",
            "*\t-0.644035279750824\t0.3044643700122833\n",
            "2\t-0.4617867171764374\t0.05993759632110596\n",
            " \t0.2640049457550049\t1.1112756729125977\n",
            "i\t-0.4304589331150055\t0.9015114903450012\n",
            "r\t-2.4180727005004883\t1.4783546924591064\n",
            ",\t0.16274738311767578\t4.234933376312256\n",
            "v\t-4.522364616394043\t1.1743886470794678\n",
            "n\t-3.0879671573638916\t1.8196194171905518\n",
            "`\t-0.6862314939498901\t0.5186605453491211\n",
            "I\t-0.759585440158844\t-0.16629338264465332\n",
            "?\t0.6896628141403198\t3.3560216426849365\n",
            "1\t-0.256966769695282\t-0.26612359285354614\n",
            "o\t-0.5548110604286194\t0.7796390652656555\n",
            "Y\t-1.3621139526367188\t-1.8888132572174072\n",
            "G\t-1.5769871473312378\t-0.9202674031257629\n",
            ";\t-0.5603033304214478\t3.841003894805908\n",
            "-\t0.2451632022857666\t-0.08681774139404297\n",
            "X\t-0.39433011412620544\t0.2961406707763672\n",
            ".\t0.4380061626434326\t4.656711578369141\n",
            "E\t-0.0790092945098877\t-0.4626227617263794\n",
            "(\t-0.6081489324569702\t0.2311803549528122\n",
            "d\t-3.1628944873809814\t2.607956886291504\n",
            "x\t-1.1006085872650146\t1.4544742107391357\n",
            "h\t-2.4112794399261475\t0.08014598488807678\n",
            "A\t-0.4826864004135132\t-0.7726550698280334\n"
          ],
          "name": "stdout"
        }
      ]
    },
    {
      "cell_type": "code",
      "metadata": {
        "scrolled": false,
        "id": "Q3hOem89bbyH",
        "colab_type": "code",
        "outputId": "84b68a6a-bb32-4118-c253-0cf08873884b",
        "colab": {
          "base_uri": "https://localhost:8080/",
          "height": 1000
        }
      },
      "source": [
        "labels = unique_chars[:-1]\n",
        "xd = [e[0] for e in encodings]\n",
        "yd = [e[1] for e in encodings]\n",
        "fig, ax = plt.subplots()\n",
        "for i, txt in enumerate(labels):\n",
        "    _ = ax.annotate(txt, (xd[i],yd[i]))\n",
        "\n",
        "\n",
        "findClosest(labels, encodings, n=2)\n",
        "\n",
        "plt.show()"
      ],
      "execution_count": 16,
      "outputs": [
        {
          "output_type": "stream",
          "text": [
            "w\n",
            "\th\t0.1429605484008789\n",
            "\tb\t0.27137380838394165\n",
            "f\n",
            "\tp\t0.19503894448280334\n",
            "\tl\t0.25203970074653625\n",
            "Q\n",
            "\tP\t0.07797271013259888\n",
            "\tM\t0.19836053252220154\n",
            "y\n",
            "\tg\t0.8500287532806396\n",
            "\ts\t0.8899206519126892\n",
            "a\n",
            "\to\t0.03642977401614189\n",
            "\t&\t0.08914581686258316\n",
            "B\n",
            "\tD\t0.1124083548784256\n",
            "\tW\t0.25369971990585327\n",
            "O\n",
            "\tU\t0.23880968987941742\n",
            "\tA\t0.34658098220825195\n",
            "L\n",
            "\tB\t0.27841833233833313\n",
            "\tD\t0.38481375575065613\n",
            "5\n",
            "\t3\t0.02224810980260372\n",
            "\t6\t0.11453026533126831\n",
            "&\n",
            "\ta\t0.08914581686258316\n",
            "\to\t0.12454323470592499\n",
            "4\n",
            "\t3\t0.10474646091461182\n",
            "\t5\t0.12636950612068176\n",
            "T\n",
            "\tK\t0.44226619601249695\n",
            "\tC\t0.4551848769187927\n",
            "J\n",
            "\tG\t0.17667363584041595\n",
            "\tq\t0.21271952986717224\n",
            "m\n",
            "\tk\t0.18976421654224396\n",
            "\tt\t0.22702094912528992\n",
            "_\n",
            "\t0\t0.0967017114162445\n",
            "\t6\t0.10078942775726318\n",
            "q\n",
            "\tG\t0.06290286779403687\n",
            "\tJ\t0.21271952986717224\n",
            "6\n",
            "\tu\t0.05757521837949753\n",
            "\t_\t0.10078942775726318\n",
            "D\n",
            "\tB\t0.1124083548784256\n",
            "\tW\t0.1425456702709198\n",
            "S\n",
            "\tC\t0.10607117414474487\n",
            "\tG\t0.2908344566822052\n",
            "k\n",
            "\tt\t0.06145988777279854\n",
            "\tm\t0.18976421654224396\n",
            ":\n",
            "\te\t0.20969831943511963\n",
            "\t'\t0.45003542304039\n",
            "s\n",
            "\tt\t0.247010737657547\n",
            "\tr\t0.2529410719871521\n",
            "H\n",
            "\tL\t0.8200581669807434\n",
            "\tB\t1.0487059354782104\n",
            "R\n",
            "\tM\t0.08770778775215149\n",
            "\tF\t0.09174757450819016\n",
            "C\n",
            "\tS\t0.10607117414474487\n",
            "\tG\t0.3732263743877411\n",
            "\"\n",
            "\t-\t0.5298382639884949\n",
            "\t\n",
            "\t0.6155608892440796\n",
            "'\n",
            "\te\t0.2847347557544708\n",
            "\t:\t0.45003542304039\n",
            "W\n",
            "\tD\t0.1425456702709198\n",
            "\tF\t0.21974706649780273\n",
            "K\n",
            "\tA\t0.42492473125457764\n",
            "\tN\t0.4276735782623291\n",
            ")\n",
            "\tx\t0.3993034362792969\n",
            "\t&\t0.41542595624923706\n",
            "P\n",
            "\tQ\t0.07797271013259888\n",
            "\tM\t0.16313698887825012\n",
            "p\n",
            "\tf\t0.19503894448280334\n",
            "\tc\t0.2171025276184082\n",
            "0\n",
            "\t7\t0.08530080318450928\n",
            "\t_\t0.0967017114162445\n",
            "c\n",
            "\tp\t0.2171025276184082\n",
            "\tf\t0.36889776587486267\n",
            "u\n",
            "\t6\t0.05757521837949753\n",
            "\t5\t0.11870892345905304\n",
            "F\n",
            "\tM\t0.09105247259140015\n",
            "\tR\t0.09174757450819016\n",
            "b\n",
            "\tw\t0.27137380838394165\n",
            "\th\t0.28229814767837524\n",
            "\\\n",
            "\t(\t0.08946717530488968\n",
            "\tX\t0.14764352142810822\n",
            "3\n",
            "\t5\t0.02224810980260372\n",
            "\t4\t0.10474646091461182\n",
            "t\n",
            "\tk\t0.06145988777279854\n",
            "\tm\t0.22702094912528992\n",
            "l\n",
            "\tf\t0.25203970074653625\n",
            "\tr\t0.2926815450191498\n",
            "e\n",
            "\t:\t0.20969831943511963\n",
            "\t'\t0.2847347557544708\n",
            "N\n",
            "\tC\t0.3984987437725067\n",
            "\tS\t0.4227915406227112\n",
            "!\n",
            "\t?\t0.4095121920108795\n",
            "\t,\t1.3830534219741821\n",
            "7\n",
            "\t0\t0.08530080318450928\n",
            "\t*\t0.15868879854679108\n",
            "g\n",
            "\tn\t0.3668072819709778\n",
            "\td\t0.42528751492500305\n",
            "9\n",
            "\t*\t0.029467573389410973\n",
            "\t(\t0.10803435742855072\n",
            "\n",
            "\n",
            "\t \t0.43817922472953796\n",
            "\t\"\t0.6155608892440796\n",
            "j\n",
            "\tQ\t0.5880584716796875\n",
            "\tq\t0.6300561428070068\n",
            "Z\n",
            "\t4\t0.42599204182624817\n",
            "\t7\t0.4287518262863159\n",
            "M\n",
            "\tR\t0.08770778775215149\n",
            "\tF\t0.09105247259140015\n",
            "z\n",
            "\tc\t0.607292115688324\n",
            "\tm\t0.7062028646469116\n",
            "U\n",
            "\tA\t0.10778778046369553\n",
            "\tO\t0.23880968987941742\n",
            "*\n",
            "\t9\t0.029467573389410973\n",
            "\t(\t0.08159887790679932\n",
            "2\n",
            "\t\\\t0.1683897227048874\n",
            "\t(\t0.2252686768770218\n",
            " \n",
            "\t\n",
            "\t0.43817922472953796\n",
            "\ti\t0.7254523038864136\n",
            "i\n",
            "\to\t0.1741158813238144\n",
            "\ta\t0.20108133554458618\n",
            "r\n",
            "\ts\t0.2529410719871521\n",
            "\tl\t0.2926815450191498\n",
            ",\n",
            "\t.\t0.5036509037017822\n",
            "\t;\t0.8233970999717712\n",
            "v\n",
            "\tz\t1.4189903736114502\n",
            "\tm\t1.5568608045578003\n",
            "n\n",
            "\tg\t0.3668072819709778\n",
            "\tk\t0.49530673027038574\n",
            "`\n",
            "\t6\t0.129084512591362\n",
            "\t_\t0.14522315561771393\n",
            "I\n",
            "\t2\t0.3739846646785736\n",
            "\t(\t0.4253450632095337\n",
            "?\n",
            "\t!\t0.4095121920108795\n",
            "\t,\t1.0247564315795898\n",
            "1\n",
            "\tE\t0.2651052474975586\n",
            "\t2\t0.38505467772483826\n",
            "o\n",
            "\ta\t0.03642977401614189\n",
            "\t&\t0.12454323470592499\n",
            "Y\n",
            "\tD\t0.2575571835041046\n",
            "\tW\t0.2900698184967041\n",
            "G\n",
            "\tq\t0.06290286779403687\n",
            "\tJ\t0.17667363584041595\n",
            ";\n",
            "\t,\t0.8233970999717712\n",
            "\t.\t1.2891861200332642\n",
            "-\n",
            "\tE\t0.4963035583496094\n",
            "\t\"\t0.5298382639884949\n",
            "X\n",
            "\t\\\t0.14764352142810822\n",
            "\t(\t0.2234688550233841\n",
            ".\n",
            "\t,\t0.5036509037017822\n",
            "\t;\t1.2891861200332642\n",
            "E\n",
            "\t1\t0.2651052474975586\n",
            "\tU\t0.4813900887966156\n",
            "(\n",
            "\t*\t0.08159887790679932\n",
            "\t\\\t0.08946717530488968\n",
            "d\n",
            "\tg\t0.42528751492500305\n",
            "\tn\t0.7918902039527893\n",
            "x\n",
            "\t)\t0.3993034362792969\n",
            "\te\t0.6699194312095642\n",
            "h\n",
            "\tw\t0.1429605484008789\n",
            "\tb\t0.28229814767837524\n",
            "A\n",
            "\tU\t0.10778778046369553\n",
            "\tO\t0.34658098220825195\n"
          ],
          "name": "stdout"
        },
        {
          "output_type": "display_data",
          "data": {
            "image/png": "[encoded data removed]",
            "text/plain": [
              "<Figure size 432x288 with 1 Axes>"
            ]
          },
          "metadata": {
            "tags": []
          }
        }
      ]
    },
    {
      "cell_type": "code",
      "metadata": {
        "id": "DobQjGFIbbyK",
        "colab_type": "code",
        "colab": {}
      },
      "source": [
        ""
      ],
      "execution_count": 0,
      "outputs": []
    }
  ]
}