{
  "nbformat": 4,
  "nbformat_minor": 0,
  "metadata": {
    "kernelspec": {
      "name": "python3",
      "display_name": "Python 3"
    },
    "language_info": {
      "codemirror_mode": {
        "name": "ipython",
        "version": 3
      },
      "file_extension": ".py",
      "mimetype": "text/x-python",
      "name": "python",
      "nbconvert_exporter": "python",
      "pygments_lexer": "ipython3",
      "version": "3.5.2"
    },
    "colab": {
      "name": "CharacterEmbedding_SkipGram.ipynb",
      "version": "0.3.2",
      "provenance": []
    },
    "accelerator": "GPU"
  },
  "cells": [
    {
      "cell_type": "markdown",
      "metadata": {
        "id": "OnA5BLSwbbxS",
        "colab_type": "text"
      },
      "source": [
        "# Train character embeddings using word2vec skipgram approach \n",
        "\n",
        "We look at ith character and try to predict (i-1) and (i+1) character"
      ]
    },
    {
      "cell_type": "code",
      "metadata": {
        "id": "hW9wAjcebfLr",
        "colab_type": "code",
        "colab": {
          "base_uri": "https://localhost:8080/",
          "height": 34
        },
        "outputId": "ceb15151-6373-48b6-d095-542682bf147d"
      },
      "source": [
        "!ls /content/drive/NLP_bootcamp/Data/harry_potter_3.txt"
      ],
      "execution_count": 25,
      "outputs": [
        {
          "output_type": "stream",
          "text": [
            "/content/drive/NLP_bootcamp/Data/harry_potter_3.txt\n"
          ],
          "name": "stdout"
        }
      ]
    },
    {
      "cell_type": "code",
      "metadata": {
        "id": "N1sDhyWsbbxV",
        "colab_type": "code",
        "colab": {}
      },
      "source": [
        "#for inline plotting in notebooks\n",
        "%matplotlib inline  "
      ],
      "execution_count": 0,
      "outputs": []
    },
    {
      "cell_type": "code",
      "metadata": {
        "id": "GT2Yh1igbbxb",
        "colab_type": "code",
        "colab": {}
      },
      "source": [
        "from keras.layers import Input, Dense\n",
        "from keras.models import Model"
      ],
      "execution_count": 0,
      "outputs": []
    },
    {
      "cell_type": "code",
      "metadata": {
        "id": "jALgVLzAbbxh",
        "colab_type": "code",
        "colab": {}
      },
      "source": [
        "import numpy as np\n",
        "import matplotlib.pyplot as plt\n",
        "import random"
      ],
      "execution_count": 0,
      "outputs": []
    },
    {
      "cell_type": "markdown",
      "metadata": {
        "id": "Q7-o_DTebbxm",
        "colab_type": "text"
      },
      "source": [
        "# Get data"
      ]
    },
    {
      "cell_type": "code",
      "metadata": {
        "id": "GbsIu6w2bbxn",
        "colab_type": "code",
        "colab": {
          "base_uri": "https://localhost:8080/",
          "height": 34
        },
        "outputId": "698aa171-2baf-408d-a90b-2f210758bda0"
      },
      "source": [
        "# load data\n",
        "path = \"/content/drive/NLP_bootcamp/Data/harry_potter_3.txt\"\n",
        "text = open(path).read()\n",
        "\n",
        "corpus_length = len(text)\n",
        "\n",
        "print('corpus length:', corpus_length)"
      ],
      "execution_count": 29,
      "outputs": [
        {
          "output_type": "stream",
          "text": [
            "corpus length: 611606\n"
          ],
          "name": "stdout"
        }
      ]
    },
    {
      "cell_type": "code",
      "metadata": {
        "id": "M4OCLvY2bbxq",
        "colab_type": "code",
        "colab": {
          "base_uri": "https://localhost:8080/",
          "height": 107
        },
        "outputId": "9620102c-0e55-43b1-b2df-2022e8847715"
      },
      "source": [
        "unique_chars = list(set(text))\n",
        "print('total no of unique chars:', len(unique_chars))\n",
        "\n",
        "print (\"\\nSet of characters : \\n\" + str(unique_chars))"
      ],
      "execution_count": 30,
      "outputs": [
        {
          "output_type": "stream",
          "text": [
            "total no of unique chars: 79\n",
            "\n",
            "Set of characters : \n",
            "['d', 'D', ',', '2', 'M', ' ', 'm', '-', 'i', 'U', 'w', '\\\\', '`', 'P', 'R', '9', 'T', '!', 'v', 'W', 'o', 'a', 'u', '.', '\\n', 't', 'H', '*', 'F', 'J', 'z', 'p', '4', 'N', 'e', 'Z', 'x', 'r', 'B', 'l', 'b', 's', 'q', ':', 'Q', '1', 'k', 'Y', 'c', '0', 'S', 'f', '5', \"'\", 'G', 'j', 'L', 'n', 'y', 'C', 'E', 'O', 'I', '\"', 'V', '3', '&', ')', ';', '?', 'X', 'g', '(', 'h', '7', 'A', 'K', '_', '6']\n"
          ],
          "name": "stdout"
        }
      ]
    },
    {
      "cell_type": "code",
      "metadata": {
        "id": "N3AM9jm2bbxt",
        "colab_type": "code",
        "colab": {}
      },
      "source": [
        "def classToOneHot(item, classes):\n",
        "\n",
        "\tx = [0. for _ in classes]\n",
        "\t\n",
        "\tx[classes.index(item)] = 1.\n",
        "\n",
        "\treturn x"
      ],
      "execution_count": 0,
      "outputs": []
    },
    {
      "cell_type": "code",
      "metadata": {
        "id": "DiMoi2hYbbxw",
        "colab_type": "code",
        "colab": {
          "base_uri": "https://localhost:8080/",
          "height": 1000
        },
        "outputId": "7ae3707d-a524-41e2-992d-2a8d237b96b5"
      },
      "source": [
        "classToOneHot('a', unique_chars)"
      ],
      "execution_count": 32,
      "outputs": [
        {
          "output_type": "execute_result",
          "data": {
            "text/plain": [
              "[0.0,\n",
              " 0.0,\n",
              " 0.0,\n",
              " 0.0,\n",
              " 0.0,\n",
              " 0.0,\n",
              " 0.0,\n",
              " 0.0,\n",
              " 0.0,\n",
              " 0.0,\n",
              " 0.0,\n",
              " 0.0,\n",
              " 0.0,\n",
              " 0.0,\n",
              " 0.0,\n",
              " 0.0,\n",
              " 0.0,\n",
              " 0.0,\n",
              " 0.0,\n",
              " 0.0,\n",
              " 0.0,\n",
              " 1.0,\n",
              " 0.0,\n",
              " 0.0,\n",
              " 0.0,\n",
              " 0.0,\n",
              " 0.0,\n",
              " 0.0,\n",
              " 0.0,\n",
              " 0.0,\n",
              " 0.0,\n",
              " 0.0,\n",
              " 0.0,\n",
              " 0.0,\n",
              " 0.0,\n",
              " 0.0,\n",
              " 0.0,\n",
              " 0.0,\n",
              " 0.0,\n",
              " 0.0,\n",
              " 0.0,\n",
              " 0.0,\n",
              " 0.0,\n",
              " 0.0,\n",
              " 0.0,\n",
              " 0.0,\n",
              " 0.0,\n",
              " 0.0,\n",
              " 0.0,\n",
              " 0.0,\n",
              " 0.0,\n",
              " 0.0,\n",
              " 0.0,\n",
              " 0.0,\n",
              " 0.0,\n",
              " 0.0,\n",
              " 0.0,\n",
              " 0.0,\n",
              " 0.0,\n",
              " 0.0,\n",
              " 0.0,\n",
              " 0.0,\n",
              " 0.0,\n",
              " 0.0,\n",
              " 0.0,\n",
              " 0.0,\n",
              " 0.0,\n",
              " 0.0,\n",
              " 0.0,\n",
              " 0.0,\n",
              " 0.0,\n",
              " 0.0,\n",
              " 0.0,\n",
              " 0.0,\n",
              " 0.0,\n",
              " 0.0,\n",
              " 0.0,\n",
              " 0.0,\n",
              " 0.0]"
            ]
          },
          "metadata": {
            "tags": []
          },
          "execution_count": 32
        }
      ]
    },
    {
      "cell_type": "code",
      "metadata": {
        "id": "GY_86ocpbbx0",
        "colab_type": "code",
        "colab": {}
      },
      "source": [
        "def findClosest(labels, coords, n=3):\n",
        "\tdef dist(p1, p2):\n",
        "\t\treturn np.linalg.norm(np.array(p1)-np.array(p2))\n",
        "\tfor label, pos in zip(labels, coords):\n",
        "\t\tprint(label)\n",
        "\t\tdists = []\n",
        "\t\tfor l2, p2 in zip(labels, coords):\n",
        "\t\t\tif l2==label: continue\n",
        "\t\t\tdists.append((l2, dist(pos, p2)))\n",
        "\t\tdists = sorted(dists, key=lambda x : x[1])\n",
        "\t\tif n == -1:\n",
        "\t\t\tif dists[0][1] >= 0.2:\n",
        "\t\t\t\tprint(\"\\t{}\\t{}\".format(dists[0][0], dists[0][1]))\n",
        "\t\t\telse:\n",
        "\t\t\t\tfor d in dists:\n",
        "\t\t\t\t\tif d[1] <= 0.15:\n",
        "\t\t\t\t\t\tprint(\"\\t{}\\t{}\".format(d[0], d[1]))\n",
        "\t\telse:\t\t\n",
        "\t\t\tfor d in dists[:n]:\n",
        "\t\t\t\tprint(\"\\t{}\\t{}\".format(d[0], d[1]))"
      ],
      "execution_count": 0,
      "outputs": []
    },
    {
      "cell_type": "code",
      "metadata": {
        "id": "GPDjETRUbbx3",
        "colab_type": "code",
        "colab": {}
      },
      "source": [
        "# prepare training data X, y\n",
        "# both X,y are are characters \n",
        "\n",
        "skip_window = 1 # how much we see on either side of center word\n",
        "global_index = skip_window # \n",
        "\n",
        "X = []\n",
        "y = []\n",
        "\n",
        "for i in range(global_index, (corpus_length - skip_window)):\n",
        "\n",
        "    #print i\n",
        "    \n",
        "    X_char = text[i]\n",
        "    y1_char = text[i-1]\n",
        "    y2_char = text[i+1]\n",
        "    \n",
        "    #print X_char\n",
        "    #print y1_char, y2_char\n",
        "    X.append(classToOneHot(X_char, unique_chars))\n",
        "    yp=[classToOneHot(y1_char, unique_chars), classToOneHot(y2_char, unique_chars)] \n",
        "    \n",
        "    y.append(yp)\n",
        "    \n",
        "X=np.array(X)    \n",
        "    "
      ],
      "execution_count": 0,
      "outputs": []
    },
    {
      "cell_type": "code",
      "metadata": {
        "id": "6qdlQV_kbbx5",
        "colab_type": "code",
        "colab": {
          "base_uri": "https://localhost:8080/",
          "height": 34
        },
        "outputId": "871695c0-21d9-408c-9a3d-7352f6282b90"
      },
      "source": [
        "print(np.shape(X), np.shape(y), (len(unique_chars),), )"
      ],
      "execution_count": 35,
      "outputs": [
        {
          "output_type": "stream",
          "text": [
            "(611604, 79) (611604, 2, 79) (79,)\n"
          ],
          "name": "stdout"
        }
      ]
    },
    {
      "cell_type": "code",
      "metadata": {
        "id": "aRZTIzyWbbx-",
        "colab_type": "code",
        "colab": {}
      },
      "source": [
        "nb_cols = len(y[0])\n",
        "y_cols = [np.array([v[i] for v in y], np.float32) for i in range(nb_cols)]\n",
        "\n",
        "input_layer = Input(shape=(len(unique_chars),))\n",
        "encoding = Dense(2, activation='linear')(input_layer)\n",
        "\n",
        "output_1 = Dense(len(unique_chars), activation='softmax')(encoding)\n",
        "output_2 = Dense(len(unique_chars), activation='softmax')(encoding)\n",
        "\n",
        "model = Model(inputs=[input_layer], outputs=[output_1, output_2])#, output_3, output_4])\n",
        "\n",
        "encoder = Model(inputs = [input_layer], outputs=[encoding])\n",
        "\n",
        "# when using larger windows, remember to add more loss weights\n",
        "model.compile(optimizer='rmsprop', loss='categorical_crossentropy', loss_weights=[0.5, 0.5])\n",
        "\n",
        "#model.fit(X, y_cols, nb_epoch=15, batch_size=1024, shuffle=True, verbose=True)"
      ],
      "execution_count": 0,
      "outputs": []
    },
    {
      "cell_type": "code",
      "metadata": {
        "id": "EG4qru1kbbyB",
        "colab_type": "code",
        "colab": {
          "base_uri": "https://localhost:8080/",
          "height": 676
        },
        "outputId": "c94c62eb-15fc-4d2b-c831-eac6dc82c717"
      },
      "source": [
        "model.fit(X , y_cols, epochs=15, batch_size=1024, shuffle=True, verbose=True)"
      ],
      "execution_count": 37,
      "outputs": [
        {
          "output_type": "stream",
          "text": [
            "WARNING:tensorflow:From /usr/local/lib/python3.6/dist-packages/tensorflow/python/ops/math_grad.py:1250: add_dispatch_support.<locals>.wrapper (from tensorflow.python.ops.array_ops) is deprecated and will be removed in a future version.\n",
            "Instructions for updating:\n",
            "Use tf.where in 2.0, which has the same broadcast rule as np.where\n",
            "WARNING:tensorflow:From /usr/local/lib/python3.6/dist-packages/keras/backend/tensorflow_backend.py:1033: The name tf.assign_add is deprecated. Please use tf.compat.v1.assign_add instead.\n",
            "\n",
            "Epoch 1/15\n",
            "611604/611604 [==============================] - 9s 16us/step - loss: 3.7473 - dense_5_loss: 3.7473 - dense_6_loss: 3.7473\n",
            "Epoch 2/15\n",
            "611604/611604 [==============================] - 5s 8us/step - loss: 3.1494 - dense_5_loss: 3.1536 - dense_6_loss: 3.1452\n",
            "Epoch 3/15\n",
            "611604/611604 [==============================] - 5s 8us/step - loss: 3.0351 - dense_5_loss: 3.0335 - dense_6_loss: 3.0366\n",
            "Epoch 4/15\n",
            "611604/611604 [==============================] - 5s 8us/step - loss: 2.9670 - dense_5_loss: 2.9582 - dense_6_loss: 2.9757\n",
            "Epoch 5/15\n",
            "611604/611604 [==============================] - 5s 8us/step - loss: 2.9359 - dense_5_loss: 2.9334 - dense_6_loss: 2.9384\n",
            "Epoch 6/15\n",
            "611604/611604 [==============================] - 5s 8us/step - loss: 2.9204 - dense_5_loss: 2.9261 - dense_6_loss: 2.9146\n",
            "Epoch 7/15\n",
            "611604/611604 [==============================] - 5s 8us/step - loss: 2.9122 - dense_5_loss: 2.9222 - dense_6_loss: 2.9023\n",
            "Epoch 8/15\n",
            "611604/611604 [==============================] - 5s 8us/step - loss: 2.9073 - dense_5_loss: 2.9187 - dense_6_loss: 2.8960\n",
            "Epoch 9/15\n",
            "611604/611604 [==============================] - 5s 8us/step - loss: 2.9040 - dense_5_loss: 2.9150 - dense_6_loss: 2.8929\n",
            "Epoch 10/15\n",
            "611604/611604 [==============================] - 5s 8us/step - loss: 2.9015 - dense_5_loss: 2.9118 - dense_6_loss: 2.8913\n",
            "Epoch 11/15\n",
            "611604/611604 [==============================] - 5s 8us/step - loss: 2.8997 - dense_5_loss: 2.9088 - dense_6_loss: 2.8905\n",
            "Epoch 12/15\n",
            "611604/611604 [==============================] - 5s 8us/step - loss: 2.8982 - dense_5_loss: 2.9059 - dense_6_loss: 2.8906\n",
            "Epoch 13/15\n",
            "611604/611604 [==============================] - 5s 8us/step - loss: 2.8970 - dense_5_loss: 2.9034 - dense_6_loss: 2.8907\n",
            "Epoch 14/15\n",
            "611604/611604 [==============================] - 5s 8us/step - loss: 2.8961 - dense_5_loss: 2.9011 - dense_6_loss: 2.8912\n",
            "Epoch 15/15\n",
            "611604/611604 [==============================] - 5s 8us/step - loss: 2.8953 - dense_5_loss: 2.8993 - dense_6_loss: 2.8914\n"
          ],
          "name": "stdout"
        },
        {
          "output_type": "execute_result",
          "data": {
            "text/plain": [
              "<keras.callbacks.History at 0x7fc2a016c940>"
            ]
          },
          "metadata": {
            "tags": []
          },
          "execution_count": 37
        }
      ]
    },
    {
      "cell_type": "code",
      "metadata": {
        "id": "mZfDnOWkbbyE",
        "colab_type": "code",
        "colab": {
          "base_uri": "https://localhost:8080/",
          "height": 1000
        },
        "outputId": "992d8b2a-4c5e-4411-81af-cb703b165656"
      },
      "source": [
        "x2 = [classToOneHot(ch, unique_chars) for ch in unique_chars[:-1]]\n",
        "encodings = encoder.predict(np.array(x2))\n",
        "for ch, e in zip(unique_chars[:-1], encodings):\n",
        "    print(\"{}\\t{}\\t{}\".format(ch, e[0], e[1]))"
      ],
      "execution_count": 38,
      "outputs": [
        {
          "output_type": "stream",
          "text": [
            "d\t0.8480015993118286\t-3.071993589401245\n",
            "D\t1.9145036935806274\t-1.1364400386810303\n",
            ",\t-0.3209437131881714\t-1.9606263637542725\n",
            "2\t0.5666546821594238\t-0.3317507803440094\n",
            "M\t2.4053866863250732\t-1.265411138534546\n",
            " \t-0.007819831371307373\t-0.44611817598342896\n",
            "m\t2.157180070877075\t-2.3798983097076416\n",
            "-\t-0.788184642791748\t-1.9868220090866089\n",
            "i\t1.6024972200393677\t0.17167991399765015\n",
            "U\t0.5514820218086243\t0.2713876962661743\n",
            "w\t2.6179440021514893\t-1.8469085693359375\n",
            "\\\t0.4879927933216095\t-0.5129120349884033\n",
            "`\t0.6674946546554565\t-0.808260977268219\n",
            "P\t2.785186290740967\t-1.184247374534607\n",
            "R\t1.7328362464904785\t-1.6204140186309814\n",
            "9\t0.5213857293128967\t-0.7358134388923645\n",
            "T\t0.21381208300590515\t-1.871678113937378\n",
            "!\t-1.1462337970733643\t-2.206681251525879\n",
            "v\t3.416311740875244\t-3.1505396366119385\n",
            "W\t1.2996668815612793\t-2.227116584777832\n",
            "o\t1.4665076732635498\t-0.08558213710784912\n",
            "a\t1.7222235202789307\t0.09230560064315796\n",
            "u\t1.5592610836029053\t-0.28462544083595276\n",
            ".\t-0.8151683807373047\t-2.208906650543213\n",
            "\n",
            "\t-1.0151841640472412\t-1.6036403179168701\n",
            "t\t1.423890471458435\t-2.548686981201172\n",
            "H\t2.9257760047912598\t-1.7514474391937256\n",
            "*\t0.09410780668258667\t-0.6320880055427551\n",
            "F\t2.373366594314575\t-1.0684466361999512\n",
            "J\t1.667313814163208\t-1.3306223154067993\n",
            "z\t2.7937369346618652\t-2.8149373531341553\n",
            "p\t2.3493032455444336\t-1.7882901430130005\n",
            "4\t0.6034663319587708\t-0.6878569722175598\n",
            "N\t0.5947180390357971\t-1.3050572872161865\n",
            "e\t1.1398557424545288\t-0.0130690336227417\n",
            "Z\t0.8469233512878418\t-1.0607212781906128\n",
            "x\t0.6086143255233765\t-1.4908185005187988\n",
            "r\t1.896360158920288\t-1.6823406219482422\n",
            "B\t2.2373595237731934\t-1.0318324565887451\n",
            "l\t2.2513680458068848\t-1.4977855682373047\n",
            "b\t3.243783950805664\t-1.5411410331726074\n",
            "s\t1.3780903816223145\t-2.4367551803588867\n",
            "q\t2.905850887298584\t-0.769182562828064\n",
            ":\t0.16285216808319092\t-1.5215096473693848\n",
            "Q\t2.271491050720215\t-0.944429874420166\n",
            "1\t-0.06629472970962524\t-0.3000813126564026\n",
            "k\t2.4679880142211914\t-1.6503384113311768\n",
            "Y\t1.1243730783462524\t-1.6649103164672852\n",
            "c\t2.1144979000091553\t-2.1835713386535645\n",
            "0\t0.30514365434646606\t-0.37798693776130676\n",
            "S\t1.7339317798614502\t-0.9018053412437439\n",
            "f\t1.9185943603515625\t-1.8627063035964966\n",
            "5\t0.6669420003890991\t-0.6065257787704468\n",
            "'\t0.3044608533382416\t-0.7524418234825134\n",
            "G\t2.451665163040161\t-0.9044106006622314\n",
            "j\t3.331157684326172\t-1.160947322845459\n",
            "L\t2.2161865234375\t-0.9720039963722229\n",
            "n\t1.5391385555267334\t-2.827803611755371\n",
            "y\t0.9060614109039307\t-2.06182861328125\n",
            "C\t1.4582242965698242\t-1.098445177078247\n",
            "E\t0.3443935215473175\t0.5500768423080444\n",
            "O\t0.1929285228252411\t0.32788217067718506\n",
            "I\t0.5361195206642151\t-1.3173742294311523\n",
            "\"\t-1.2126247882843018\t-1.142141342163086\n",
            "V\t2.376833438873291\t-1.9001306295394897\n",
            "3\t0.7342524528503418\t-0.8793594241142273\n",
            "&\t0.8307745456695557\t-0.8557064533233643\n",
            ")\t0.25599363446235657\t-1.8028095960617065\n",
            ";\t0.031551480293273926\t-1.8175461292266846\n",
            "?\t-1.2308119535446167\t-2.4566516876220703\n",
            "X\t0.4519617259502411\t-0.6282545924186707\n",
            "g\t1.0104862451553345\t-2.960211992263794\n",
            "(\t0.616421639919281\t-1.1476060152053833\n",
            "h\t4.120222568511963\t-0.8078373670578003\n",
            "7\t0.7268977165222168\t-0.8988573551177979\n",
            "A\t0.6345059275627136\t0.09221339225769043\n",
            "K\t0.9279450178146362\t-0.29254111647605896\n",
            "_\t0.8389784097671509\t-0.8517705202102661\n"
          ],
          "name": "stdout"
        }
      ]
    },
    {
      "cell_type": "code",
      "metadata": {
        "scrolled": false,
        "id": "Q3hOem89bbyH",
        "colab_type": "code",
        "colab": {
          "base_uri": "https://localhost:8080/",
          "height": 1000
        },
        "outputId": "6bc18023-71ca-47f6-f6a0-9e0db561941a"
      },
      "source": [
        "labels = unique_chars[:-1]\n",
        "xd = [e[0] for e in encodings]\n",
        "yd = [e[1] for e in encodings]\n",
        "fig, ax = plt.subplots()\n",
        "for i, txt in enumerate(labels):\n",
        "    _ = ax.annotate(txt, (xd[i],yd[i]))\n",
        "\n",
        "\n",
        "findClosest(labels, encodings, n=2)\n",
        "\n",
        "plt.show()"
      ],
      "execution_count": 39,
      "outputs": [
        {
          "output_type": "stream",
          "text": [
            "d\n",
            "\tg\t0.19722166657447815\n",
            "\tn\t0.7330068349838257\n",
            "D\n",
            "\tS\t0.2960737347602844\n",
            "\tJ\t0.31433993577957153\n",
            ",\n",
            "\t;\t0.38042715191841125\n",
            "\t-\t0.4679746627807617\n",
            "2\n",
            "\t\\\t0.19750213623046875\n",
            "\t0\t0.26556694507598877\n",
            "M\n",
            "\tF\t0.19955025613307953\n",
            "\tl\t0.27878236770629883\n",
            " \n",
            "\t1\t0.15730886161327362\n",
            "\t*\t0.2120707929134369\n",
            "m\n",
            "\tc\t0.20091302692890167\n",
            "\tV\t0.5276595950126648\n",
            "-\n",
            "\t.\t0.22371792793273926\n",
            "\t!\t0.4201633930206299\n",
            "i\n",
            "\ta\t0.14364773035049438\n",
            "\to\t0.29099300503730774\n",
            "U\n",
            "\tA\t0.19747506082057953\n",
            "\tE\t0.34720784425735474\n",
            "w\n",
            "\tV\t0.24691474437713623\n",
            "\tk\t0.24723799526691437\n",
            "\\\n",
            "\tX\t0.12083932757377625\n",
            "\t2\t0.19750213623046875\n",
            "`\n",
            "\t3\t0.0975273922085762\n",
            "\t7\t0.10833479464054108\n",
            "P\n",
            "\tM\t0.3883751928806305\n",
            "\tF\t0.42779114842414856\n",
            "R\n",
            "\tr\t0.1748570054769516\n",
            "\tJ\t0.2971067428588867\n",
            "9\n",
            "\t4\t0.09506338834762573\n",
            "\tX\t0.12801796197891235\n",
            "T\n",
            "\t)\t0.08075986802577972\n",
            "\t;\t0.19012942910194397\n",
            "!\n",
            "\t?\t0.26389142870903015\n",
            "\t.\t0.3310728967189789\n",
            "v\n",
            "\tz\t0.7072681784629822\n",
            "\tm\t1.4762455224990845\n",
            "W\n",
            "\ts\t0.22382713854312897\n",
            "\tt\t0.34473034739494324\n",
            "o\n",
            "\tu\t0.21959379315376282\n",
            "\ti\t0.29099300503730774\n",
            "a\n",
            "\ti\t0.14364773035049438\n",
            "\to\t0.3115038275718689\n",
            "u\n",
            "\to\t0.21959379315376282\n",
            "\ta\t0.41065043210983276\n",
            ".\n",
            "\t-\t0.22371792793273926\n",
            "\t!\t0.3310728967189789\n",
            "\n",
            "\n",
            "\t-\t0.4453728497028351\n",
            "\t\"\t0.501960277557373\n",
            "t\n",
            "\ts\t0.12093956023454666\n",
            "\tn\t0.3019738495349884\n",
            "H\n",
            "\tw\t0.3222939074039459\n",
            "\tb\t0.3812582492828369\n",
            "*\n",
            "\t \t0.2120707929134369\n",
            "\t'\t0.24234984815120697\n",
            "F\n",
            "\tB\t0.1408492922782898\n",
            "\tQ\t0.16049543023109436\n",
            "J\n",
            "\tR\t0.2971067428588867\n",
            "\tC\t0.3124494254589081\n",
            "z\n",
            "\tv\t0.7072681784629822\n",
            "\tm\t0.7710146307945251\n",
            "p\n",
            "\tV\t0.11517901718616486\n",
            "\tk\t0.18198008835315704\n",
            "4\n",
            "\t9\t0.09506338834762573\n",
            "\t5\t0.10316939651966095\n",
            "N\n",
            "\tI\t0.059878990054130554\n",
            "\t(\t0.15894007682800293\n",
            "e\n",
            "\to\t0.3346036970615387\n",
            "\tK\t0.35072895884513855\n",
            "Z\n",
            "\t7\t0.2015095055103302\n",
            "\t&\t0.20564985275268555\n",
            "x\n",
            "\tN\t0.1862802654504776\n",
            "\tI\t0.1879851371049881\n",
            "r\n",
            "\tR\t0.1748570054769516\n",
            "\tf\t0.1817309558391571\n",
            "B\n",
            "\tL\t0.06346448510885239\n",
            "\tQ\t0.09383054822683334\n",
            "l\n",
            "\tk\t0.2649463713169098\n",
            "\tM\t0.27878236770629883\n",
            "b\n",
            "\tH\t0.3812582492828369\n",
            "\tj\t0.39010435342788696\n",
            "s\n",
            "\tt\t0.12093956023454666\n",
            "\tW\t0.22382713854312897\n",
            "q\n",
            "\tP\t0.43224847316741943\n",
            "\tG\t0.4738895297050476\n",
            ":\n",
            "\t)\t0.29631906747817993\n",
            "\t;\t0.3238478899002075\n",
            "Q\n",
            "\tL\t0.06179743632674217\n",
            "\tB\t0.09383054822683334\n",
            "1\n",
            "\t \t0.15730886161327362\n",
            "\t*\t0.3687240481376648\n",
            "k\n",
            "\tp\t0.18198008835315704\n",
            "\tw\t0.24723799526691437\n",
            "Y\n",
            "\ty\t0.45299461483955383\n",
            "\tx\t0.5443482995033264\n",
            "c\n",
            "\tm\t0.20091302692890167\n",
            "\tf\t0.3759422302246094\n",
            "0\n",
            "\t\\\t0.22724126279354095\n",
            "\t2\t0.26556694507598877\n",
            "S\n",
            "\tD\t0.2960737347602844\n",
            "\tC\t0.3386470675468445\n",
            "f\n",
            "\tr\t0.1817309558391571\n",
            "\tR\t0.3053057789802551\n",
            "5\n",
            "\t4\t0.10316939651966095\n",
            "\t9\t0.19468417763710022\n",
            "'\n",
            "\tX\t0.1928185075521469\n",
            "\t9\t0.217561274766922\n",
            "G\n",
            "\tF\t0.18176491558551788\n",
            "\tQ\t0.18456503748893738\n",
            "j\n",
            "\tb\t0.39010435342788696\n",
            "\tP\t0.5464683175086975\n",
            "L\n",
            "\tQ\t0.06179743632674217\n",
            "\tB\t0.06346448510885239\n",
            "n\n",
            "\tt\t0.3019738495349884\n",
            "\ts\t0.42291298508644104\n",
            "y\n",
            "\tW\t0.42690208554267883\n",
            "\tY\t0.45299461483955383\n",
            "C\n",
            "\tJ\t0.3124494254589081\n",
            "\tS\t0.3386470675468445\n",
            "E\n",
            "\tO\t0.26890912652015686\n",
            "\tU\t0.34720784425735474\n",
            "O\n",
            "\tE\t0.26890912652015686\n",
            "\tU\t0.36297690868377686\n",
            "I\n",
            "\tN\t0.059878990054130554\n",
            "\t(\t0.18780222535133362\n",
            "\"\n",
            "\t\n",
            "\t0.501960277557373\n",
            "\t-\t0.9453226327896118\n",
            "V\n",
            "\tp\t0.11517901718616486\n",
            "\tw\t0.24691474437713623\n",
            "3\n",
            "\t7\t0.020838940516114235\n",
            "\t`\t0.0975273922085762\n",
            "&\n",
            "\t_\t0.009099173359572887\n",
            "\t3\t0.09937795251607895\n",
            ")\n",
            "\tT\t0.08075986802577972\n",
            "\t;\t0.2249254286289215\n",
            ";\n",
            "\tT\t0.19012942910194397\n",
            "\t)\t0.2249254286289215\n",
            "?\n",
            "\t!\t0.26389142870903015\n",
            "\t.\t0.4838772416114807\n",
            "X\n",
            "\t\\\t0.12083932757377625\n",
            "\t9\t0.12801796197891235\n",
            "g\n",
            "\td\t0.19722166657447815\n",
            "\tn\t0.5449818968772888\n",
            "(\n",
            "\tN\t0.15894007682800293\n",
            "\tI\t0.18780222535133362\n",
            "h\n",
            "\tj\t0.8644709587097168\n",
            "\tb\t1.14275062084198\n",
            "7\n",
            "\t3\t0.020838940516114235\n",
            "\t`\t0.10833479464054108\n",
            "A\n",
            "\tU\t0.19747506082057953\n",
            "\t2\t0.4293592870235443\n",
            "K\n",
            "\te\t0.35072895884513855\n",
            "\t2\t0.3634117543697357\n",
            "_\n",
            "\t&\t0.009099173359572887\n",
            "\t3\t0.10829900205135345\n"
          ],
          "name": "stdout"
        },
        {
          "output_type": "display_data",
          "data": {
            "image/png": "[encoded data removed]",
            "text/plain": [
              "<Figure size 432x288 with 1 Axes>"
            ]
          },
          "metadata": {
            "tags": []
          }
        }
      ]
    },
    {
      "cell_type": "code",
      "metadata": {
        "id": "DobQjGFIbbyK",
        "colab_type": "code",
        "colab": {}
      },
      "source": [
        ""
      ],
      "execution_count": 0,
      "outputs": []
    }
  ]
}