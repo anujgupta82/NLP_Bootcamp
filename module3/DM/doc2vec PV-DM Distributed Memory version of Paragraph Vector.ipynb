{
  "nbformat": 4,
  "nbformat_minor": 0,
  "metadata": {
    "kernelspec": {
      "name": "python3",
      "display_name": "Python 3"
    },
    "language_info": {
      "codemirror_mode": {
        "name": "ipython",
        "version": 3
      },
      "file_extension": ".py",
      "mimetype": "text/x-python",
      "name": "python",
      "nbconvert_exporter": "python",
      "pygments_lexer": "ipython3",
      "version": "3.5.2"
    },
    "colab": {
      "name": "doc2vec PV-DM Distributed Memory version of Paragraph Vector.ipynb",
      "version": "0.3.2",
      "provenance": [],
      "include_colab_link": true
    },
    "accelerator": "GPU"
  },
  "cells": [
    {
      "cell_type": "markdown",
      "metadata": {
        "id": "view-in-github",
        "colab_type": "text"
      },
      "source": [
        "<a href=\"https://colab.research.google.com/github/anujgupta82/NLP_Bootcamp/blob/V_2_0/module3/DM/doc2vec%20PV-DM%20Distributed%20Memory%20version%20of%20Paragraph%20Vector.ipynb\" target=\"_parent\"><img src=\"https://colab.research.google.com/assets/colab-badge.svg\" alt=\"Open In Colab\"/></a>"
      ]
    },
    {
      "cell_type": "code",
      "metadata": {
        "id": "nmKc8B1M14Hu",
        "colab_type": "code",
        "colab": {}
      },
      "source": [
        "#NACHISS :-\n",
        "#import nltk\n",
        "# nltk.download('punkt') \n",
        "#pip install mpld3 \n",
        "# pip3 install git+https://github.com/sushinoya/ggpy"
      ],
      "execution_count": 0,
      "outputs": []
    },
    {
      "cell_type": "code",
      "metadata": {
        "id": "WP8ZAzyYrnNM",
        "colab_type": "code",
        "colab": {}
      },
      "source": [
        ""
      ],
      "execution_count": 0,
      "outputs": []
    },
    {
      "cell_type": "code",
      "metadata": {
        "id": "3FHd0FLT2ORn",
        "colab_type": "code",
        "colab": {
          "base_uri": "https://localhost:8080/",
          "height": 674
        },
        "outputId": "f2aa0cd8-0c34-468f-bc16-ae85c2db6b73"
      },
      "source": [
        "import nltk\n",
        "nltk.download('punkt') \n",
        "!pip install mpld3==0.3 \n",
        "!pip3 install git+https://github.com/sushinoya/ggpy"
      ],
      "execution_count": 2,
      "outputs": [
        {
          "output_type": "stream",
          "text": [
            "[nltk_data] Downloading package punkt to /root/nltk_data...\n",
            "[nltk_data]   Unzipping tokenizers/punkt.zip.\n",
            "Collecting mpld3==0.3\n",
            "\u001b[?25l  Downloading https://files.pythonhosted.org/packages/91/95/a52d3a83d0a29ba0d6898f6727e9858fe7a43f6c2ce81a5fe7e05f0f4912/mpld3-0.3.tar.gz (788kB)\n",
            "\u001b[K     |████████████████████████████████| 798kB 3.5MB/s \n",
            "\u001b[?25hBuilding wheels for collected packages: mpld3\n",
            "  Building wheel for mpld3 (setup.py) ... \u001b[?25l\u001b[?25hdone\n",
            "  Created wheel for mpld3: filename=mpld3-0.3-cp36-none-any.whl size=116679 sha256=ed180042a843c0d03b87ffa4a502e86fc5cb04c268a7d4e9d978f46495131bb2\n",
            "  Stored in directory: /root/.cache/pip/wheels/c0/47/fb/8a64f89aecfe0059830479308ad42d62e898a3e3cefdf6ba28\n",
            "Successfully built mpld3\n",
            "Installing collected packages: mpld3\n",
            "Successfully installed mpld3-0.3\n",
            "Collecting git+https://github.com/sushinoya/ggpy\n",
            "  Cloning https://github.com/sushinoya/ggpy to /tmp/pip-req-build-p4ij5ty7\n",
            "  Running command git clone -q https://github.com/sushinoya/ggpy /tmp/pip-req-build-p4ij5ty7\n",
            "Requirement already satisfied: six in /usr/local/lib/python3.6/dist-packages (from ggplot==0.11.5) (1.12.0)\n",
            "Requirement already satisfied: statsmodels in /usr/local/lib/python3.6/dist-packages (from ggplot==0.11.5) (0.10.1)\n",
            "Collecting brewer2mpl (from ggplot==0.11.5)\n",
            "  Downloading https://files.pythonhosted.org/packages/84/57/00c45a199719e617db0875181134fcb3aeef701deae346547ac722eaaf5e/brewer2mpl-1.4.1-py2.py3-none-any.whl\n",
            "Requirement already satisfied: matplotlib in /usr/local/lib/python3.6/dist-packages (from ggplot==0.11.5) (3.0.3)\n",
            "Requirement already satisfied: scipy in /usr/local/lib/python3.6/dist-packages (from ggplot==0.11.5) (1.3.1)\n",
            "Requirement already satisfied: patsy>=0.4 in /usr/local/lib/python3.6/dist-packages (from ggplot==0.11.5) (0.5.1)\n",
            "Requirement already satisfied: pandas in /usr/local/lib/python3.6/dist-packages (from ggplot==0.11.5) (0.24.2)\n",
            "Requirement already satisfied: cycler in /usr/local/lib/python3.6/dist-packages (from ggplot==0.11.5) (0.10.0)\n",
            "Requirement already satisfied: numpy in /usr/local/lib/python3.6/dist-packages (from ggplot==0.11.5) (1.16.5)\n",
            "Requirement already satisfied: pyparsing!=2.0.4,!=2.1.2,!=2.1.6,>=2.0.1 in /usr/local/lib/python3.6/dist-packages (from matplotlib->ggplot==0.11.5) (2.4.2)\n",
            "Requirement already satisfied: python-dateutil>=2.1 in /usr/local/lib/python3.6/dist-packages (from matplotlib->ggplot==0.11.5) (2.5.3)\n",
            "Requirement already satisfied: kiwisolver>=1.0.1 in /usr/local/lib/python3.6/dist-packages (from matplotlib->ggplot==0.11.5) (1.1.0)\n",
            "Requirement already satisfied: pytz>=2011k in /usr/local/lib/python3.6/dist-packages (from pandas->ggplot==0.11.5) (2018.9)\n",
            "Requirement already satisfied: setuptools in /usr/local/lib/python3.6/dist-packages (from kiwisolver>=1.0.1->matplotlib->ggplot==0.11.5) (41.2.0)\n",
            "Building wheels for collected packages: ggplot\n",
            "  Building wheel for ggplot (setup.py) ... \u001b[?25l\u001b[?25hdone\n",
            "  Created wheel for ggplot: filename=ggplot-0.11.5-py2.py3-none-any.whl size=2068166 sha256=510789c965028fc5de2758529ab0945bfa871ac7cc575aac879032783142e63c\n",
            "  Stored in directory: /tmp/pip-ephem-wheel-cache-ji3enisc/wheels/57/45/39/fd8099e124915971c3e352b59ad8fa224f39ae1c1a0445aaaa\n",
            "Successfully built ggplot\n",
            "Installing collected packages: brewer2mpl, ggplot\n",
            "Successfully installed brewer2mpl-1.4.1 ggplot-0.11.5\n"
          ],
          "name": "stdout"
        }
      ]
    },
    {
      "cell_type": "code",
      "metadata": {
        "id": "fqXlwEYoexPj",
        "colab_type": "code",
        "colab": {
          "base_uri": "https://localhost:8080/",
          "height": 232
        },
        "outputId": "33ef8602-2dd2-4a40-f599-4da60b4f1dc0"
      },
      "source": [
        "!apt-get install -y -qq software-properties-common python-software-properties module-init-tools\n",
        "!add-apt-repository -y ppa:alessandro-strada/ppa 2>&1 > /dev/null\n",
        "!apt-get update -qq 2>&1 > /dev/null\n",
        "!apt-get -y install -qq google-drive-ocamlfuse fuse\n",
        "from google.colab import auth\n",
        "auth.authenticate_user()\n",
        "from oauth2client.client import GoogleCredentials\n",
        "creds = GoogleCredentials.get_application_default()\n",
        "import getpass\n",
        "!google-drive-ocamlfuse -headless -id={creds.client_id} -secret={creds.client_secret} < /dev/null 2>&1 | grep URL\n",
        "vcode = getpass.getpass()\n",
        "!echo {vcode} | google-drive-ocamlfuse -headless -id={creds.client_id} -secret={creds.client_secret}\n",
        "!mkdir -p drive\n",
        "!google-drive-ocamlfuse drive"
      ],
      "execution_count": 11,
      "outputs": [
        {
          "output_type": "stream",
          "text": [
            "E: Package 'python-software-properties' has no installation candidate\n",
            "Selecting previously unselected package google-drive-ocamlfuse.\n",
            "(Reading database ... 131183 files and directories currently installed.)\n",
            "Preparing to unpack .../google-drive-ocamlfuse_0.7.11-0ubuntu1~ubuntu18.04.1_amd64.deb ...\n",
            "Unpacking google-drive-ocamlfuse (0.7.11-0ubuntu1~ubuntu18.04.1) ...\n",
            "Setting up google-drive-ocamlfuse (0.7.11-0ubuntu1~ubuntu18.04.1) ...\n",
            "Processing triggers for man-db (2.8.3-2ubuntu0.1) ...\n",
            "Please, open the following URL in a web browser: https://accounts.google.com/o/oauth2/auth?client_id=32555940559.apps.googleusercontent.com&redirect_uri=urn%3Aietf%3Awg%3Aoauth%3A2.0%3Aoob&scope=https%3A%2F%2Fwww.googleapis.com%2Fauth%2Fdrive&response_type=code&access_type=offline&approval_prompt=force\n",
            "··········\n",
            "Please, open the following URL in a web browser: https://accounts.google.com/o/oauth2/auth?client_id=32555940559.apps.googleusercontent.com&redirect_uri=urn%3Aietf%3Awg%3Aoauth%3A2.0%3Aoob&scope=https%3A%2F%2Fwww.googleapis.com%2Fauth%2Fdrive&response_type=code&access_type=offline&approval_prompt=force\n",
            "Please enter the verification code: Access token retrieved correctly.\n"
          ],
          "name": "stdout"
        }
      ]
    },
    {
      "cell_type": "code",
      "metadata": {
        "id": "rOPCCBOprNa-",
        "colab_type": "code",
        "colab": {}
      },
      "source": [
        "%reload_ext autoreload\n",
        "%autoreload 2\n",
        "%matplotlib inline"
      ],
      "execution_count": 0,
      "outputs": []
    },
    {
      "cell_type": "code",
      "metadata": {
        "id": "1hfXqWxwrNbS",
        "colab_type": "code",
        "outputId": "3d8fc813-0f20-408d-a3da-279fc5f006d8",
        "colab": {
          "base_uri": "https://localhost:8080/",
          "height": 34
        }
      },
      "source": [
        "import sys  \n",
        "from imp import reload\n",
        "\n",
        "reload(sys)  \n",
        "#sys.setdefaultencoding('utf8')"
      ],
      "execution_count": 13,
      "outputs": [
        {
          "output_type": "execute_result",
          "data": {
            "text/plain": [
              "<module 'sys' (built-in)>"
            ]
          },
          "metadata": {
            "tags": []
          },
          "execution_count": 13
        }
      ]
    },
    {
      "cell_type": "code",
      "metadata": {
        "id": "E-S6xHNnrNbY",
        "colab_type": "code",
        "outputId": "e5fdcade-092d-49de-be3c-b39b53685db2",
        "colab": {
          "base_uri": "https://localhost:8080/",
          "height": 34
        }
      },
      "source": [
        "import sys\n",
        "reload(sys)  \n",
        "#sys.setdefaultencoding('Cp1252')"
      ],
      "execution_count": 14,
      "outputs": [
        {
          "output_type": "execute_result",
          "data": {
            "text/plain": [
              "<module 'sys' (built-in)>"
            ]
          },
          "metadata": {
            "tags": []
          },
          "execution_count": 14
        }
      ]
    },
    {
      "cell_type": "code",
      "metadata": {
        "id": "lym3QpuorNbe",
        "colab_type": "code",
        "colab": {}
      },
      "source": [
        "import mpld3\n",
        "mpld3.enable_notebook()"
      ],
      "execution_count": 0,
      "outputs": []
    },
    {
      "cell_type": "code",
      "metadata": {
        "id": "D4qaR3hQrNbh",
        "colab_type": "code",
        "colab": {}
      },
      "source": [
        "import sys\n",
        "sys.path.append('/content/drive/GoogleDrive_Utils/')"
      ],
      "execution_count": 0,
      "outputs": []
    },
    {
      "cell_type": "code",
      "metadata": {
        "id": "KTUaLAD8rNbk",
        "colab_type": "code",
        "colab": {}
      },
      "source": [
        "from pylab import rcParams\n",
        "rcParams['figure.figsize'] = 10, 10"
      ],
      "execution_count": 0,
      "outputs": []
    },
    {
      "cell_type": "code",
      "metadata": {
        "id": "aHO7CNd4rNbo",
        "colab_type": "code",
        "colab": {}
      },
      "source": [
        "import tensorflow as tf \n",
        "import numpy as np \n",
        "import pandas as pd \n",
        "import nltk\n",
        "import math\n",
        "import random\n",
        "from sklearn.svm import SVC\n",
        "from sklearn.utils import shuffle\n",
        "#from load_imdb_data import load_imdb_data\n",
        "from sklearn.linear_model import LogisticRegression\n",
        "from sklearn.model_selection import train_test_split\n",
        "from sklearn.metrics import f1_score \n",
        "from sklearn.ensemble import RandomForestClassifier\n",
        "from sklearn.ensemble import GradientBoostingClassifier\n",
        "from sklearn.metrics import accuracy_score\n",
        "from sklearn.feature_extraction.text import TfidfVectorizer\n",
        "import numpy as np \n",
        "import matplotlib.pyplot as plt \n",
        "np.random.seed(0)"
      ],
      "execution_count": 0,
      "outputs": []
    },
    {
      "cell_type": "code",
      "metadata": {
        "id": "akDpDLTorNbt",
        "colab_type": "code",
        "colab": {}
      },
      "source": [
        "data = open(\"/content/drive/NLP_bootcamp/Data/intent_data.txt\").readlines()"
      ],
      "execution_count": 0,
      "outputs": []
    },
    {
      "cell_type": "code",
      "metadata": {
        "id": "dx2HI2g6rNbw",
        "colab_type": "code",
        "colab": {}
      },
      "source": [
        "data = data[1:]"
      ],
      "execution_count": 0,
      "outputs": []
    },
    {
      "cell_type": "code",
      "metadata": {
        "id": "hd2TgU1arNb1",
        "colab_type": "code",
        "colab": {}
      },
      "source": [
        "sentence = []\n",
        "labels = []\n",
        "\n",
        "for item in data:\n",
        "    temp = item.split('   ')\n",
        "    sentence.append(temp[0].strip())\n",
        "    labels.append(temp[1].strip().replace(\"\\n\", ''))"
      ],
      "execution_count": 0,
      "outputs": []
    },
    {
      "cell_type": "code",
      "metadata": {
        "id": "hcP_1HaLrNb7",
        "colab_type": "code",
        "colab": {}
      },
      "source": [
        "#sentence = [line.decode('utf-8').strip() for line in sentence]\n",
        "sentence = [line.strip() for line in sentence]"
      ],
      "execution_count": 0,
      "outputs": []
    },
    {
      "cell_type": "code",
      "metadata": {
        "id": "llJHvVBkrNb_",
        "colab_type": "code",
        "outputId": "72f859fa-4d3b-4e13-cdf8-1a0ced2125cd",
        "colab": {
          "base_uri": "https://localhost:8080/",
          "height": 70
        }
      },
      "source": [
        "sentence[:2], labels[:2]"
      ],
      "execution_count": 23,
      "outputs": [
        {
          "output_type": "execute_result",
          "data": {
            "text/plain": [
              "(['I must look like a right weirdo .',\n",
              "  \"I really don't want to get up and get dressed for work\"],\n",
              " ['non-intent', 'trifle'])"
            ]
          },
          "metadata": {
            "tags": []
          },
          "execution_count": 23
        }
      ]
    },
    {
      "cell_type": "code",
      "metadata": {
        "id": "zcY6HrrTrNcF",
        "colab_type": "code",
        "colab": {}
      },
      "source": [
        "df = pd.DataFrame()\n",
        "df['review'] = sentence\n",
        "df['label'] = labels"
      ],
      "execution_count": 0,
      "outputs": []
    },
    {
      "cell_type": "code",
      "metadata": {
        "id": "mHdRVyGzrNcI",
        "colab_type": "code",
        "colab": {}
      },
      "source": [
        "df = df[df['label'].isin(['food', 'travel', 'career'])]"
      ],
      "execution_count": 0,
      "outputs": []
    },
    {
      "cell_type": "code",
      "metadata": {
        "id": "2URnjxnqrNcL",
        "colab_type": "code",
        "colab": {}
      },
      "source": [
        "df.reset_index(drop=True, inplace=True)"
      ],
      "execution_count": 0,
      "outputs": []
    },
    {
      "cell_type": "code",
      "metadata": {
        "id": "WtaXC87NrNcO",
        "colab_type": "code",
        "outputId": "36396c16-6b47-41ed-f997-1e85c196b1aa",
        "colab": {
          "base_uri": "https://localhost:8080/",
          "height": 197
        }
      },
      "source": [
        "df.head()"
      ],
      "execution_count": 27,
      "outputs": [
        {
          "output_type": "execute_result",
          "data": {
            "text/html": [
              "<div>\n",
              "<style scoped>\n",
              "    .dataframe tbody tr th:only-of-type {\n",
              "        vertical-align: middle;\n",
              "    }\n",
              "\n",
              "    .dataframe tbody tr th {\n",
              "        vertical-align: top;\n",
              "    }\n",
              "\n",
              "    .dataframe thead th {\n",
              "        text-align: right;\n",
              "    }\n",
              "</style>\n",
              "<table border=\"1\" class=\"dataframe\">\n",
              "  <thead>\n",
              "    <tr style=\"text-align: right;\">\n",
              "      <th></th>\n",
              "      <th>review</th>\n",
              "      <th>label</th>\n",
              "    </tr>\n",
              "  </thead>\n",
              "  <tbody>\n",
              "    <tr>\n",
              "      <th>0</th>\n",
              "      <td>I really want a hot dog . My co-workers went t...</td>\n",
              "      <td>food</td>\n",
              "    </tr>\n",
              "    <tr>\n",
              "      <th>1</th>\n",
              "      <td>I wanna go to the beach , but ... Where is the...</td>\n",
              "      <td>travel</td>\n",
              "    </tr>\n",
              "    <tr>\n",
              "      <th>2</th>\n",
              "      <td>I really look forward to Egypt next week ! Its...</td>\n",
              "      <td>travel</td>\n",
              "    </tr>\n",
              "    <tr>\n",
              "      <th>3</th>\n",
              "      <td>I should buy more oatmeal cookies .. I just at...</td>\n",
              "      <td>food</td>\n",
              "    </tr>\n",
              "    <tr>\n",
              "      <th>4</th>\n",
              "      <td>I want pancakes , should I make some ???</td>\n",
              "      <td>food</td>\n",
              "    </tr>\n",
              "  </tbody>\n",
              "</table>\n",
              "</div>"
            ],
            "text/plain": [
              "                                              review   label\n",
              "0  I really want a hot dog . My co-workers went t...    food\n",
              "1  I wanna go to the beach , but ... Where is the...  travel\n",
              "2  I really look forward to Egypt next week ! Its...  travel\n",
              "3  I should buy more oatmeal cookies .. I just at...    food\n",
              "4           I want pancakes , should I make some ???    food"
            ]
          },
          "metadata": {
            "tags": []
          },
          "execution_count": 27
        }
      ]
    },
    {
      "cell_type": "code",
      "metadata": {
        "id": "sEi3VFJDrNcU",
        "colab_type": "code",
        "colab": {}
      },
      "source": [
        "def processDocs(documents, vocab_size=5000):\n",
        "    \"\"\"\n",
        "    This functions takes in a collection of documents and generates a vocabulary based on the size given in input. \n",
        "    It returns a representation for each document in the list of input documents. \n",
        "    \"\"\"\n",
        "    vocab = {} \n",
        "    doc_id = 0 \n",
        "    doc_ids = []\n",
        "    \n",
        "    for doc in documents:\n",
        "        doc_ids.append(doc_id)                          # Give an ID to each document \n",
        "        doc_id += 1\n",
        "        \n",
        "        for word in nltk.word_tokenize(doc):            # Generate a vocabulary while iterating threw the documents \n",
        "            if word not in vocab:\n",
        "                vocab[word] = 1 \n",
        "            else:\n",
        "                vocab[word] += 1\n",
        "    \n",
        "    # Extract the most frequent words based on the vocabulary size \n",
        "    freq_words_list = sorted(vocab.items(), key=lambda x: x[1], reverse=True)[:vocab_size]\n",
        "    freq_words_set = set([item[0] for item in freq_words_list])\n",
        "    \n",
        "    # Give an index to each word in vocabulary \n",
        "    word2idx = {}         \n",
        "    index_word = 0\n",
        "    for word in freq_words_set:\n",
        "        word2idx[word] = index_word\n",
        "        index_word += 1\n",
        "    word2idx['UNK'] = index_word\n",
        "    \n",
        "    doc_repr = []                          # Represent each document with representation based on the vocabulary  \n",
        "    for doc in documents:\n",
        "        temp = []\n",
        "        for w in doc:\n",
        "            if w in word2idx:\n",
        "                temp.append(word2idx[w])\n",
        "            else:\n",
        "                temp.append(word2idx['UNK'])\n",
        "        doc_repr.append(temp)\n",
        "        \n",
        "    return documents, doc_ids, word2idx, doc_repr"
      ],
      "execution_count": 0,
      "outputs": []
    },
    {
      "cell_type": "code",
      "metadata": {
        "id": "nOX5cVW3rNcW",
        "colab_type": "code",
        "colab": {}
      },
      "source": [
        "docs, doc_ids, word2ids, doc_repr = processDocs(df['review'])"
      ],
      "execution_count": 0,
      "outputs": []
    },
    {
      "cell_type": "code",
      "metadata": {
        "id": "clUl41GirNcZ",
        "colab_type": "code",
        "outputId": "f5ad1d4d-801b-4b43-9dc2-e75632cc0352",
        "colab": {
          "base_uri": "https://localhost:8080/",
          "height": 34
        }
      },
      "source": [
        "len(docs), len(doc_ids), len(word2ids), len(doc_repr)"
      ],
      "execution_count": 30,
      "outputs": [
        {
          "output_type": "execute_result",
          "data": {
            "text/plain": [
              "(591, 591, 1900, 591)"
            ]
          },
          "metadata": {
            "tags": []
          },
          "execution_count": 30
        }
      ]
    },
    {
      "cell_type": "code",
      "metadata": {
        "id": "TftSKUXsrNcc",
        "colab_type": "code",
        "colab": {}
      },
      "source": [
        ""
      ],
      "execution_count": 0,
      "outputs": []
    },
    {
      "cell_type": "markdown",
      "metadata": {
        "id": "JTPD7i9QrNch",
        "colab_type": "text"
      },
      "source": [
        "## Architecture - PV-DM Distributed Memory version of Paragraph Vector"
      ]
    },
    {
      "cell_type": "markdown",
      "metadata": {
        "collapsed": true,
        "id": "hn2tIE0ArNcm",
        "colab_type": "text"
      },
      "source": [
        "### Adding batchsizes for speedup"
      ]
    },
    {
      "cell_type": "code",
      "metadata": {
        "id": "L7qvVgqzrNcn",
        "colab_type": "code",
        "colab": {}
      },
      "source": [
        "bucket_list = []\n",
        "\n",
        "def generate_batch_pvdm(doc_ids, doc_repr, sample_size=10, batch_size=1000, window_size=7):\n",
        "    global bucket_list\n",
        "\n",
        "    docs_ids_to_select = list(set(doc_ids) - set(bucket_list))\n",
        "    \n",
        "    \n",
        "    if len(docs_ids_to_select) < batch_size//sample_size:\n",
        "        bucket_list = []\n",
        "        docs_ids_to_select = doc_ids\n",
        "        \n",
        "    index = 0 \n",
        "    train_wX = np.ndarray(shape=(batch_size, window_size), dtype=np.int32)\n",
        "    train_dX = np.ndarray(shape=(batch_size, 1), dtype=np.int32)\n",
        "    train_label = np.ndarray(shape=(batch_size, 1), dtype=np.int32)\n",
        "    random_docs = random.sample(docs_ids_to_select, batch_size//sample_size)    # Choose set of random documents \n",
        "\n",
        "    bucket_list += random_docs\n",
        "    \n",
        "    for id_ in random_docs:\n",
        "        for j in range(sample_size):                                 # Generating a dataset of sample size \n",
        "            random_index = random.randint(0, len(doc_repr[id_]) - window_size - 1)\n",
        "            sample_window = doc_repr[id_][random_index: random_index + window_size + 1]\n",
        "            train_wX[index] = sample_window[:-1]\n",
        "            train_dX[index] = id_\n",
        "            train_label[index] = sample_window[-1]  \n",
        "            index += 1\n",
        "    return train_wX, train_dX, train_label "
      ],
      "execution_count": 0,
      "outputs": []
    },
    {
      "cell_type": "code",
      "metadata": {
        "id": "ypiGq4ENrNct",
        "colab_type": "code",
        "colab": {}
      },
      "source": [
        "doc_size = len(docs)\n",
        "embedding_size_w = 100\n",
        "embedding_size_d = 100\n",
        "vocab_size = len(word2ids)\n",
        "window_size = 7\n",
        "n_neg_samples = 30\n",
        "learning_rate = 10e-6\n",
        "epochs = 10001\n",
        "batch_size=1000\n",
        "mu=0.9\n",
        "combined_embed_vector_length = embedding_size_d + embedding_size_w"
      ],
      "execution_count": 0,
      "outputs": []
    },
    {
      "cell_type": "code",
      "metadata": {
        "id": "jRqiv4HxrNcw",
        "colab_type": "code",
        "colab": {}
      },
      "source": [
        "# Define placeholders for training \n",
        "train_wX = tf.placeholder(tf.int32, shape=[batch_size, window_size])\n",
        "train_dX = tf.placeholder(tf.int32, shape=[batch_size, 1])\n",
        "train_label = tf.placeholder(tf.int32, shape=[batch_size, 1])"
      ],
      "execution_count": 0,
      "outputs": []
    },
    {
      "cell_type": "code",
      "metadata": {
        "id": "7dkUIlv5rNcz",
        "colab_type": "code",
        "colab": {}
      },
      "source": [
        "doc_embedding_np = np.random.randn(doc_size, embedding_size_d)/np.sqrt(doc_size + embedding_size_d)\n",
        "word_embedding_np = np.random.randn(vocab_size, embedding_size_w)/np.sqrt(vocab_size + embedding_size_w)"
      ],
      "execution_count": 0,
      "outputs": []
    },
    {
      "cell_type": "code",
      "metadata": {
        "id": "Pe0WARwWrNc3",
        "colab_type": "code",
        "colab": {}
      },
      "source": [
        "# Define matrix for doc_embedding and word_embedding \n",
        "doc_embedding = tf.Variable(doc_embedding_np.astype(np.float32), name=\"doc_embedding\")\n",
        "word_embedding = tf.Variable(word_embedding_np.astype(np.float32),name=\"word_embedding\")"
      ],
      "execution_count": 0,
      "outputs": []
    },
    {
      "cell_type": "code",
      "metadata": {
        "id": "fbTqjNt1rNc8",
        "colab_type": "code",
        "colab": {}
      },
      "source": [
        "# Define weights for the output unit \n",
        "weights = tf.Variable(tf.truncated_normal([vocab_size, combined_embed_vector_length], \n",
        "                                       stddev=1.0 / math.sqrt(combined_embed_vector_length)))\n",
        "biases = tf.Variable(tf.zeros(vocab_size))"
      ],
      "execution_count": 0,
      "outputs": []
    },
    {
      "cell_type": "code",
      "metadata": {
        "id": "K08mqyFPrNc_",
        "colab_type": "code",
        "outputId": "9114780a-2117-43fb-cbb9-7c13fa0097a6",
        "colab": {
          "base_uri": "https://localhost:8080/",
          "height": 0
        }
      },
      "source": [
        "embed = []\n",
        "\n",
        "# generating a vector of size embedding_size_d\n",
        "embed_w = tf.zeros([1, embedding_size_w], dtype=tf.float32)\n",
        "\n",
        "# add all the word vecs in window_size\n",
        "for j in range(window_size):\n",
        "    embed_w += tf.nn.embedding_lookup(word_embedding, train_wX[:, j])\n",
        "embed.append(embed_w)\n",
        "\n",
        "# Add the doc2vec from the doc_embedding \n",
        "embed_d = tf.nn.embedding_lookup(doc_embedding, train_dX[:, 0])\n",
        "embed.append(embed_d)\n",
        "\n",
        "print (embed_w, embed_d)\n",
        "\n",
        "embed = tf.concat(embed, 1)"
      ],
      "execution_count": 37,
      "outputs": [
        {
          "output_type": "stream",
          "text": [
            "Tensor(\"add_6:0\", shape=(1000, 100), dtype=float32) Tensor(\"embedding_lookup_7/Identity:0\", shape=(1000, 100), dtype=float32)\n"
          ],
          "name": "stdout"
        }
      ]
    },
    {
      "cell_type": "code",
      "metadata": {
        "id": "T9jiQWNsrNdF",
        "colab_type": "code",
        "colab": {}
      },
      "source": [
        "loss = tf.nn.sampled_softmax_loss(weights=weights, \\\n",
        "                                  biases=biases, \\\n",
        "                                  labels=train_label, \\\n",
        "                                  inputs=embed, \\\n",
        "                                  num_sampled=n_neg_samples, \\\n",
        "                                  num_classes=vocab_size)"
      ],
      "execution_count": 0,
      "outputs": []
    },
    {
      "cell_type": "code",
      "metadata": {
        "id": "jsA0lpXlrNdJ",
        "colab_type": "code",
        "colab": {}
      },
      "source": [
        "loss = tf.reduce_mean(loss)"
      ],
      "execution_count": 0,
      "outputs": []
    },
    {
      "cell_type": "code",
      "metadata": {
        "id": "sqk1JPEurNdP",
        "colab_type": "code",
        "outputId": "c067e1a4-6a68-418c-c691-6f9e5dfa9188",
        "colab": {
          "base_uri": "https://localhost:8080/",
          "height": 0
        }
      },
      "source": [
        "optimizer = tf.train.AdagradOptimizer(learning_rate).minimize(loss)"
      ],
      "execution_count": 40,
      "outputs": [
        {
          "output_type": "stream",
          "text": [
            "WARNING:tensorflow:From /usr/local/lib/python3.6/dist-packages/tensorflow/python/training/adagrad.py:76: calling Constant.__init__ (from tensorflow.python.ops.init_ops) with dtype is deprecated and will be removed in a future version.\n",
            "Instructions for updating:\n",
            "Call initializer instance with the dtype argument instead of passing it to the constructor\n"
          ],
          "name": "stdout"
        }
      ]
    },
    {
      "cell_type": "code",
      "metadata": {
        "id": "V6Siq3KDrNdV",
        "colab_type": "code",
        "outputId": "f46389fe-b463-404d-c941-1effb3aac966",
        "colab": {
          "base_uri": "https://localhost:8080/",
          "height": 0
        }
      },
      "source": [
        "import os\n",
        "os.system(\"mkdir /dev/shm/tensorflow_models\")"
      ],
      "execution_count": 41,
      "outputs": [
        {
          "output_type": "execute_result",
          "data": {
            "text/plain": [
              "0"
            ]
          },
          "metadata": {
            "tags": []
          },
          "execution_count": 41
        }
      ]
    },
    {
      "cell_type": "code",
      "metadata": {
        "scrolled": false,
        "id": "hVlglyS-rNda",
        "colab_type": "code",
        "outputId": "35e959ec-6544-4f49-d720-4bc3734b0885",
        "colab": {
          "base_uri": "https://localhost:8080/",
          "height": 0
        }
      },
      "source": [
        "saver = tf.train.Saver()\n",
        "\n",
        "with tf.Session() as sess:\n",
        "    init = tf.global_variables_initializer()\n",
        "    sess.run(init)\n",
        "    average_loss = 0\n",
        "    \n",
        "    for step in range(epochs):\n",
        "        epoch_error = 0.0\n",
        "        temp_wX , temp_dX, temp_labels = generate_batch_pvdm(doc_ids=doc_ids, doc_repr=doc_repr)\n",
        "        feed_dict = {train_wX : temp_wX, train_dX : temp_dX,train_label : temp_labels}\n",
        "        op, l = sess.run([optimizer, loss], \n",
        "                                    feed_dict=feed_dict)\n",
        "        \n",
        "        epoch_error += l\n",
        "                \n",
        "        if step % 100 == 0:\n",
        "            print (\"Error at epoch : \", step, \" = \", epoch_error)\n",
        "            \n",
        "    save_path = saver.save(sess, \"/dev/shm/tensorflow_models/model_pvdm_batch_training.ckpt\")\n",
        "    print(\"Model saved in file: %s\" % save_path)"
      ],
      "execution_count": 42,
      "outputs": [
        {
          "output_type": "stream",
          "text": [
            "Error at epoch :  0  =  1.7591501474380493\n",
            "Error at epoch :  100  =  2.3027257919311523\n",
            "Error at epoch :  200  =  2.1683387756347656\n",
            "Error at epoch :  300  =  2.0503792762756348\n",
            "Error at epoch :  400  =  2.29191255569458\n",
            "Error at epoch :  500  =  1.9946051836013794\n",
            "Error at epoch :  600  =  2.3088674545288086\n",
            "Error at epoch :  700  =  1.9224631786346436\n",
            "Error at epoch :  800  =  1.9339288473129272\n",
            "Error at epoch :  900  =  1.8573800325393677\n",
            "Error at epoch :  1000  =  2.1252782344818115\n",
            "Error at epoch :  1100  =  2.12955904006958\n",
            "Error at epoch :  1200  =  2.3020668029785156\n",
            "Error at epoch :  1300  =  1.9930531978607178\n",
            "Error at epoch :  1400  =  2.414825439453125\n",
            "Error at epoch :  1500  =  2.225605010986328\n",
            "Error at epoch :  1600  =  2.2928547859191895\n",
            "Error at epoch :  1700  =  2.4597551822662354\n",
            "Error at epoch :  1800  =  2.1366465091705322\n",
            "Error at epoch :  1900  =  2.129546880722046\n",
            "Error at epoch :  2000  =  2.159388780593872\n",
            "Error at epoch :  2100  =  2.50608229637146\n",
            "Error at epoch :  2200  =  1.955993890762329\n",
            "Error at epoch :  2300  =  2.208932638168335\n",
            "Error at epoch :  2400  =  2.0865421295166016\n",
            "Error at epoch :  2500  =  2.2052578926086426\n",
            "Error at epoch :  2600  =  2.1253340244293213\n",
            "Error at epoch :  2700  =  2.1372334957122803\n",
            "Error at epoch :  2800  =  1.9322147369384766\n",
            "Error at epoch :  2900  =  2.0053508281707764\n",
            "Error at epoch :  3000  =  1.9035296440124512\n",
            "Error at epoch :  3100  =  2.373222589492798\n",
            "Error at epoch :  3200  =  2.062389612197876\n",
            "Error at epoch :  3300  =  2.1174659729003906\n",
            "Error at epoch :  3400  =  1.7992675304412842\n",
            "Error at epoch :  3500  =  1.961917519569397\n",
            "Error at epoch :  3600  =  1.9665859937667847\n",
            "Error at epoch :  3700  =  1.9646756649017334\n",
            "Error at epoch :  3800  =  1.9230921268463135\n",
            "Error at epoch :  3900  =  2.244907855987549\n",
            "Error at epoch :  4000  =  2.2076685428619385\n",
            "Error at epoch :  4100  =  1.547515869140625\n",
            "Error at epoch :  4200  =  2.044062852859497\n",
            "Error at epoch :  4300  =  2.070571184158325\n",
            "Error at epoch :  4400  =  2.0694339275360107\n",
            "Error at epoch :  4500  =  2.1702017784118652\n",
            "Error at epoch :  4600  =  1.9243428707122803\n",
            "Error at epoch :  4700  =  2.07476544380188\n",
            "Error at epoch :  4800  =  1.7792532444000244\n",
            "Error at epoch :  4900  =  2.1448426246643066\n",
            "Error at epoch :  5000  =  1.6102370023727417\n",
            "Error at epoch :  5100  =  1.9782625436782837\n",
            "Error at epoch :  5200  =  2.0296740531921387\n",
            "Error at epoch :  5300  =  1.8593789339065552\n",
            "Error at epoch :  5400  =  1.9080253839492798\n",
            "Error at epoch :  5500  =  1.9658684730529785\n",
            "Error at epoch :  5600  =  1.7691279649734497\n",
            "Error at epoch :  5700  =  2.2775323390960693\n",
            "Error at epoch :  5800  =  2.121668815612793\n",
            "Error at epoch :  5900  =  2.329087734222412\n",
            "Error at epoch :  6000  =  1.931290864944458\n",
            "Error at epoch :  6100  =  2.230814218521118\n",
            "Error at epoch :  6200  =  2.003324270248413\n",
            "Error at epoch :  6300  =  2.0005664825439453\n",
            "Error at epoch :  6400  =  1.8279706239700317\n",
            "Error at epoch :  6500  =  1.8356890678405762\n",
            "Error at epoch :  6600  =  1.8895970582962036\n",
            "Error at epoch :  6700  =  1.8769423961639404\n",
            "Error at epoch :  6800  =  1.9355437755584717\n",
            "Error at epoch :  6900  =  1.777645468711853\n",
            "Error at epoch :  7000  =  1.5161362886428833\n",
            "Error at epoch :  7100  =  1.877804160118103\n",
            "Error at epoch :  7200  =  1.6385573148727417\n",
            "Error at epoch :  7300  =  1.9716877937316895\n",
            "Error at epoch :  7400  =  2.333942174911499\n",
            "Error at epoch :  7500  =  2.257643699645996\n",
            "Error at epoch :  7600  =  2.3446505069732666\n",
            "Error at epoch :  7700  =  2.2109789848327637\n",
            "Error at epoch :  7800  =  1.9187623262405396\n",
            "Error at epoch :  7900  =  1.9746112823486328\n",
            "Error at epoch :  8000  =  2.178184986114502\n",
            "Error at epoch :  8100  =  1.9265787601470947\n",
            "Error at epoch :  8200  =  1.782801628112793\n",
            "Error at epoch :  8300  =  2.2696304321289062\n",
            "Error at epoch :  8400  =  1.977719783782959\n",
            "Error at epoch :  8500  =  2.0145061016082764\n",
            "Error at epoch :  8600  =  1.8038917779922485\n",
            "Error at epoch :  8700  =  1.9894486665725708\n",
            "Error at epoch :  8800  =  1.9002128839492798\n",
            "Error at epoch :  8900  =  2.2712149620056152\n",
            "Error at epoch :  9000  =  2.120633125305176\n",
            "Error at epoch :  9100  =  1.9842089414596558\n",
            "Error at epoch :  9200  =  2.312575578689575\n",
            "Error at epoch :  9300  =  2.332559585571289\n",
            "Error at epoch :  9400  =  2.0304384231567383\n",
            "Error at epoch :  9500  =  2.0120558738708496\n",
            "Error at epoch :  9600  =  2.512836456298828\n",
            "Error at epoch :  9700  =  1.698843240737915\n",
            "Error at epoch :  9800  =  2.2130496501922607\n",
            "Error at epoch :  9900  =  1.8405556678771973\n",
            "Error at epoch :  10000  =  1.5210556983947754\n",
            "Model saved in file: /dev/shm/tensorflow_models/model_pvdm_batch_training.ckpt\n"
          ],
          "name": "stdout"
        }
      ]
    },
    {
      "cell_type": "code",
      "metadata": {
        "id": "XhqmMUxirNde",
        "colab_type": "code",
        "colab": {}
      },
      "source": [
        ""
      ],
      "execution_count": 0,
      "outputs": []
    },
    {
      "cell_type": "markdown",
      "metadata": {
        "id": "3jVQThCdrNdi",
        "colab_type": "text"
      },
      "source": [
        "### Evaluation of the representation "
      ]
    },
    {
      "cell_type": "code",
      "metadata": {
        "scrolled": false,
        "id": "oEOO0xkTrNdj",
        "colab_type": "code",
        "outputId": "78be2296-64db-44dc-9138-8051debdbc9c",
        "colab": {
          "base_uri": "https://localhost:8080/",
          "height": 125
        }
      },
      "source": [
        "doc_pvdm = None\n",
        "\n",
        "with tf.Session() as sess:\n",
        "    saver = tf.train.Saver()\n",
        "    saver.restore(sess, \"/dev/shm/tensorflow_models/model_pvdm_batch_training.ckpt\")\n",
        "    print(\"Model restored.\")\n",
        "    doc2vec = doc_pvdm = doc_embedding.eval()\n",
        "    #performanceTest(doc2vec, list(imdb_data['sentiment']), method=None)"
      ],
      "execution_count": 43,
      "outputs": [
        {
          "output_type": "stream",
          "text": [
            "WARNING:tensorflow:From /usr/local/lib/python3.6/dist-packages/tensorflow/python/training/saver.py:1276: checkpoint_exists (from tensorflow.python.training.checkpoint_management) is deprecated and will be removed in a future version.\n",
            "Instructions for updating:\n",
            "Use standard file APIs to check for files with this prefix.\n",
            "INFO:tensorflow:Restoring parameters from /dev/shm/tensorflow_models/model_pvdm_batch_training.ckpt\n",
            "Model restored.\n"
          ],
          "name": "stdout"
        }
      ]
    },
    {
      "cell_type": "code",
      "metadata": {
        "id": "vPEA81VtrNdm",
        "colab_type": "code",
        "outputId": "59ff0c5a-c8d4-4ff2-9492-08d6e34ca3ee",
        "colab": {
          "base_uri": "https://localhost:8080/",
          "height": 247
        }
      },
      "source": [
        "doc_pvdm"
      ],
      "execution_count": 44,
      "outputs": [
        {
          "output_type": "execute_result",
          "data": {
            "text/plain": [
              "array([[ 0.06710093,  0.01522135,  0.03721017, ...,  0.0679746 ,\n",
              "         0.00482117,  0.01532143],\n",
              "       [ 0.07163115, -0.05127121, -0.04835653, ...,  0.03136954,\n",
              "         0.08228245,  0.05087428],\n",
              "       [-0.01405216, -0.0091061 ,  0.04180976, ...,  0.02221338,\n",
              "        -0.01520329,  0.01410562],\n",
              "       ...,\n",
              "       [-0.05926795, -0.02806693, -0.04149879, ...,  0.0451241 ,\n",
              "        -0.03191593,  0.0248745 ],\n",
              "       [-0.02172253,  0.00578099, -0.02009428, ..., -0.02997915,\n",
              "         0.00852036,  0.00019319],\n",
              "       [ 0.06419678, -0.00572703, -0.01006752, ...,  0.04406706,\n",
              "        -0.02241719, -0.04738774]], dtype=float32)"
            ]
          },
          "metadata": {
            "tags": []
          },
          "execution_count": 44
        }
      ]
    },
    {
      "cell_type": "code",
      "metadata": {
        "id": "lmr1COC8rNdp",
        "colab_type": "code",
        "colab": {}
      },
      "source": [
        "from sklearn.manifold import TSNE\n",
        "model = TSNE(perplexity=50, n_iter=5000)\n",
        "Z = model.fit_transform(doc_pvdm) "
      ],
      "execution_count": 0,
      "outputs": []
    },
    {
      "cell_type": "code",
      "metadata": {
        "id": "1DxTAp8PrNds",
        "colab_type": "code",
        "colab": {}
      },
      "source": [
        "df['axis1'] = Z[:, 0]\n",
        "df['axis2'] = Z[:, 1]"
      ],
      "execution_count": 0,
      "outputs": []
    },
    {
      "cell_type": "code",
      "metadata": {
        "id": "HHlA5WQorNdv",
        "colab_type": "code",
        "colab": {}
      },
      "source": [
        "df.reset_index(drop=True, inplace=True)"
      ],
      "execution_count": 0,
      "outputs": []
    },
    {
      "cell_type": "code",
      "metadata": {
        "id": "1aCIqolHrNdz",
        "colab_type": "code",
        "outputId": "e6ac7ca1-ceb1-4e79-dea7-5660b4c02c9d",
        "colab": {
          "base_uri": "https://localhost:8080/",
          "height": 197
        }
      },
      "source": [
        "df.head()"
      ],
      "execution_count": 48,
      "outputs": [
        {
          "output_type": "execute_result",
          "data": {
            "text/html": [
              "<div>\n",
              "<style scoped>\n",
              "    .dataframe tbody tr th:only-of-type {\n",
              "        vertical-align: middle;\n",
              "    }\n",
              "\n",
              "    .dataframe tbody tr th {\n",
              "        vertical-align: top;\n",
              "    }\n",
              "\n",
              "    .dataframe thead th {\n",
              "        text-align: right;\n",
              "    }\n",
              "</style>\n",
              "<table border=\"1\" class=\"dataframe\">\n",
              "  <thead>\n",
              "    <tr style=\"text-align: right;\">\n",
              "      <th></th>\n",
              "      <th>review</th>\n",
              "      <th>label</th>\n",
              "      <th>axis1</th>\n",
              "      <th>axis2</th>\n",
              "    </tr>\n",
              "  </thead>\n",
              "  <tbody>\n",
              "    <tr>\n",
              "      <th>0</th>\n",
              "      <td>I really want a hot dog . My co-workers went t...</td>\n",
              "      <td>food</td>\n",
              "      <td>-3.546474</td>\n",
              "      <td>0.672252</td>\n",
              "    </tr>\n",
              "    <tr>\n",
              "      <th>1</th>\n",
              "      <td>I wanna go to the beach , but ... Where is the...</td>\n",
              "      <td>travel</td>\n",
              "      <td>-3.473403</td>\n",
              "      <td>-0.266465</td>\n",
              "    </tr>\n",
              "    <tr>\n",
              "      <th>2</th>\n",
              "      <td>I really look forward to Egypt next week ! Its...</td>\n",
              "      <td>travel</td>\n",
              "      <td>-3.145915</td>\n",
              "      <td>0.211537</td>\n",
              "    </tr>\n",
              "    <tr>\n",
              "      <th>3</th>\n",
              "      <td>I should buy more oatmeal cookies .. I just at...</td>\n",
              "      <td>food</td>\n",
              "      <td>-1.387133</td>\n",
              "      <td>2.512581</td>\n",
              "    </tr>\n",
              "    <tr>\n",
              "      <th>4</th>\n",
              "      <td>I want pancakes , should I make some ???</td>\n",
              "      <td>food</td>\n",
              "      <td>-2.391444</td>\n",
              "      <td>0.514463</td>\n",
              "    </tr>\n",
              "  </tbody>\n",
              "</table>\n",
              "</div>"
            ],
            "text/plain": [
              "                                              review  ...     axis2\n",
              "0  I really want a hot dog . My co-workers went t...  ...  0.672252\n",
              "1  I wanna go to the beach , but ... Where is the...  ... -0.266465\n",
              "2  I really look forward to Egypt next week ! Its...  ...  0.211537\n",
              "3  I should buy more oatmeal cookies .. I just at...  ...  2.512581\n",
              "4           I want pancakes , should I make some ???  ...  0.514463\n",
              "\n",
              "[5 rows x 4 columns]"
            ]
          },
          "metadata": {
            "tags": []
          },
          "execution_count": 48
        }
      ]
    },
    {
      "cell_type": "code",
      "metadata": {
        "id": "vkz7APSUrNd6",
        "colab_type": "code",
        "outputId": "645d0d3c-3ed0-4d7c-c18a-8d4e6b19cdc8",
        "colab": {
          "base_uri": "https://localhost:8080/",
          "height": 597
        }
      },
      "source": [
        "from ggplot import *\n",
        "myplot = ggplot(aes(x='axis1', y='axis2', color='label'), data=df)  + geom_point()\n",
        "myplot.save('myplot.png')"
      ],
      "execution_count": 49,
      "outputs": [
        {
          "output_type": "display_data",
          "data": {
            "image/png": "[encoded data removed]",
            "text/html": [
              "\n",
              "\n",
              "<style>\n",
              "\n",
              "</style>\n",
              "\n",
              "<div id=\"fig_el1271400133836375925730880600\"></div>\n",
              "<script>\n",
              "function mpld3_load_lib(url, callback){\n",
              "  var s = document.createElement('script');\n",
              "  s.src = url;\n",
              "  s.async = true;\n",
              "  s.onreadystatechange = s.onload = callback;\n",
              "  s.onerror = function(){console.warn(\"failed to load library \" + url);};\n",
              "  document.getElementsByTagName(\"head\")[0].appendChild(s);\n",
              "}\n",
              "\n",
              "if(typeof(mpld3) !== \"undefined\" && mpld3._mpld3IsLoaded){\n",
              "   // already loaded: just create the figure\n",
              "   !function(mpld3){\n",
              "       \n",
              "       mpld3.draw_figure(\"fig_el1271400133836375925730880600\", {\"width\": 792.0, \"height\": 576.0, \"axes\": [{\"bbox\": [0.125, 0.125, 0.7, 0.755], \"xlim\": [0.0, 1.0], \"ylim\": [0.0, 1.0], \"xdomain\": [0.0, 1.0], \"ydomain\": [0.0, 1.0], \"xscale\": \"linear\", \"yscale\": \"linear\", \"axes\": [{\"position\": \"bottom\", \"nticks\": 6, \"tickvalues\": null, \"tickformat\": null, \"scale\": \"linear\", \"fontsize\": 12.0, \"grid\": {\"gridOn\": true, \"color\": \"#FFFFFF\", \"dasharray\": \"none\", \"alpha\": 1.0}, \"visible\": true}, {\"position\": \"left\", \"nticks\": 6, \"tickvalues\": null, \"tickformat\": null, \"scale\": \"linear\", \"fontsize\": 12.0, \"grid\": {\"gridOn\": true, \"color\": \"#FFFFFF\", \"dasharray\": \"none\", \"alpha\": 1.0}, \"visible\": true}], \"axesbg\": \"#E5E5E5\", \"axesbgalpha\": null, \"zoomable\": true, \"id\": \"el127140013383638768\", \"lines\": [{\"data\": \"data02\", \"xindex\": 0, \"yindex\": 1, \"coordinates\": \"axes\", \"id\": \"el127140013383078576\", \"color\": \"#F7736A\", \"linewidth\": 5.0, \"dasharray\": \"none\", \"alpha\": 1, \"zorder\": 1000002.0, \"drawstyle\": \"default\"}, {\"data\": \"data02\", \"xindex\": 0, \"yindex\": 2, \"coordinates\": \"axes\", \"id\": \"el127140013383079640\", \"color\": \"#32B159\", \"linewidth\": 5.0, \"dasharray\": \"none\", \"alpha\": 1, \"zorder\": 1000002.0, \"drawstyle\": \"default\"}, {\"data\": \"data02\", \"xindex\": 0, \"yindex\": 3, \"coordinates\": \"axes\", \"id\": \"el127140013383080704\", \"color\": \"#6C9BF4\", \"linewidth\": 5.0, \"dasharray\": \"none\", \"alpha\": 1, \"zorder\": 1000002.0, \"drawstyle\": \"default\"}], \"paths\": [{\"data\": \"data01\", \"xindex\": 0, \"yindex\": 1, \"coordinates\": \"axes\", \"pathcodes\": [\"M\", \"L\", \"L\", \"L\", \"Z\"], \"id\": \"el127140013382954792\", \"dasharray\": \"none\", \"alpha\": 1, \"facecolor\": \"none\", \"edgecolor\": \"none\", \"edgewidth\": 0.0, \"zorder\": 1000001.0}, {\"data\": \"data03\", \"xindex\": 0, \"yindex\": 1, \"coordinates\": \"axes\", \"pathcodes\": [\"M\", \"L\", \"S\", \"L\", \"S\", \"L\", \"S\", \"L\", \"S\", \"Z\"], \"id\": \"el127140013382953840\", \"dasharray\": \"none\", \"alpha\": 0.8, \"facecolor\": \"#E5E5E5\", \"edgecolor\": \"#CCCCCC\", \"edgewidth\": 0.5, \"zorder\": 1000000.0}], \"markers\": [], \"texts\": [{\"text\": \"label\", \"position\": [1.1167121212121212, 0.5448330573951434], \"coordinates\": \"axes\", \"h_anchor\": \"start\", \"v_baseline\": \"auto\", \"rotation\": -0.0, \"fontsize\": 9.995999999999999, \"color\": \"#000000\", \"alpha\": 1, \"zorder\": 1000003.0, \"id\": \"el127140013382954288\"}, {\"text\": \"career\", \"position\": [1.1167121212121212, 0.5103453826342899], \"coordinates\": \"axes\", \"h_anchor\": \"start\", \"v_baseline\": \"auto\", \"rotation\": -0.0, \"fontsize\": 9.995999999999999, \"color\": \"#000000\", \"alpha\": 1, \"zorder\": 1000003.0, \"id\": \"el127140013383078128\"}, {\"text\": \"food\", \"position\": [1.1167121212121212, 0.4758577078734363], \"coordinates\": \"axes\", \"h_anchor\": \"start\", \"v_baseline\": \"auto\", \"rotation\": -0.0, \"fontsize\": 9.995999999999999, \"color\": \"#000000\", \"alpha\": 1, \"zorder\": 1000003.0, \"id\": \"el127140013383079192\"}, {\"text\": \"travel\", \"position\": [1.1167121212121212, 0.4413700331125827], \"coordinates\": \"axes\", \"h_anchor\": \"start\", \"v_baseline\": \"auto\", \"rotation\": -0.0, \"fontsize\": 9.995999999999999, \"color\": \"#000000\", \"alpha\": 1, \"zorder\": 1000003.0, \"id\": \"el127140013383080256\"}], \"collections\": [], \"images\": [], \"sharex\": [], \"sharey\": []}], \"data\": {\"data01\": [[1.0662272727272728, 0.5448330573951434], [1.102287878787879, 0.5448330573951434], [1.102287878787879, 0.560923013245033], [1.0662272727272728, 0.560923013245033]], \"data02\": [[1.0662272727272728, 0.5183903605592347, 0.4839026857983811, 0.4494150110375275], [1.102287878787879, 0.5183903605592347, 0.4839026857983811, 0.4494150110375275]], \"data03\": [[1.0626212121212122, 0.4275768027961736], [1.1782637085137087, 0.4275768027961736], [1.181869769119769, 0.4275768027961736], [1.181869769119769, 0.4321739330389992], [1.181869769119769, 0.5678260669610007], [1.181869769119769, 0.5724231972038263], [1.1782637085137087, 0.5724231972038263], [1.0626212121212122, 0.5724231972038263], [1.0590151515151516, 0.5724231972038263], [1.0590151515151516, 0.5678260669610007], [1.0590151515151516, 0.4321739330389992], [1.0590151515151516, 0.4275768027961736], [1.0626212121212122, 0.4275768027961736]]}, \"id\": \"el127140013383637592\", \"plugins\": [{\"type\": \"reset\"}, {\"type\": \"zoom\", \"button\": true, \"enabled\": false}, {\"type\": \"boxzoom\", \"button\": true, \"enabled\": false}]});\n",
              "   }(mpld3);\n",
              "}else if(typeof define === \"function\" && define.amd){\n",
              "   // require.js is available: use it to load d3/mpld3\n",
              "   require.config({paths: {d3: \"https://mpld3.github.io/js/d3.v3.min\"}});\n",
              "   require([\"d3\"], function(d3){\n",
              "      window.d3 = d3;\n",
              "      mpld3_load_lib(\"https://mpld3.github.io/js/mpld3.v0.3.js\", function(){\n",
              "         \n",
              "         mpld3.draw_figure(\"fig_el1271400133836375925730880600\", {\"width\": 792.0, \"height\": 576.0, \"axes\": [{\"bbox\": [0.125, 0.125, 0.7, 0.755], \"xlim\": [0.0, 1.0], \"ylim\": [0.0, 1.0], \"xdomain\": [0.0, 1.0], \"ydomain\": [0.0, 1.0], \"xscale\": \"linear\", \"yscale\": \"linear\", \"axes\": [{\"position\": \"bottom\", \"nticks\": 6, \"tickvalues\": null, \"tickformat\": null, \"scale\": \"linear\", \"fontsize\": 12.0, \"grid\": {\"gridOn\": true, \"color\": \"#FFFFFF\", \"dasharray\": \"none\", \"alpha\": 1.0}, \"visible\": true}, {\"position\": \"left\", \"nticks\": 6, \"tickvalues\": null, \"tickformat\": null, \"scale\": \"linear\", \"fontsize\": 12.0, \"grid\": {\"gridOn\": true, \"color\": \"#FFFFFF\", \"dasharray\": \"none\", \"alpha\": 1.0}, \"visible\": true}], \"axesbg\": \"#E5E5E5\", \"axesbgalpha\": null, \"zoomable\": true, \"id\": \"el127140013383638768\", \"lines\": [{\"data\": \"data02\", \"xindex\": 0, \"yindex\": 1, \"coordinates\": \"axes\", \"id\": \"el127140013383078576\", \"color\": \"#F7736A\", \"linewidth\": 5.0, \"dasharray\": \"none\", \"alpha\": 1, \"zorder\": 1000002.0, \"drawstyle\": \"default\"}, {\"data\": \"data02\", \"xindex\": 0, \"yindex\": 2, \"coordinates\": \"axes\", \"id\": \"el127140013383079640\", \"color\": \"#32B159\", \"linewidth\": 5.0, \"dasharray\": \"none\", \"alpha\": 1, \"zorder\": 1000002.0, \"drawstyle\": \"default\"}, {\"data\": \"data02\", \"xindex\": 0, \"yindex\": 3, \"coordinates\": \"axes\", \"id\": \"el127140013383080704\", \"color\": \"#6C9BF4\", \"linewidth\": 5.0, \"dasharray\": \"none\", \"alpha\": 1, \"zorder\": 1000002.0, \"drawstyle\": \"default\"}], \"paths\": [{\"data\": \"data01\", \"xindex\": 0, \"yindex\": 1, \"coordinates\": \"axes\", \"pathcodes\": [\"M\", \"L\", \"L\", \"L\", \"Z\"], \"id\": \"el127140013382954792\", \"dasharray\": \"none\", \"alpha\": 1, \"facecolor\": \"none\", \"edgecolor\": \"none\", \"edgewidth\": 0.0, \"zorder\": 1000001.0}, {\"data\": \"data03\", \"xindex\": 0, \"yindex\": 1, \"coordinates\": \"axes\", \"pathcodes\": [\"M\", \"L\", \"S\", \"L\", \"S\", \"L\", \"S\", \"L\", \"S\", \"Z\"], \"id\": \"el127140013382953840\", \"dasharray\": \"none\", \"alpha\": 0.8, \"facecolor\": \"#E5E5E5\", \"edgecolor\": \"#CCCCCC\", \"edgewidth\": 0.5, \"zorder\": 1000000.0}], \"markers\": [], \"texts\": [{\"text\": \"label\", \"position\": [1.1167121212121212, 0.5448330573951434], \"coordinates\": \"axes\", \"h_anchor\": \"start\", \"v_baseline\": \"auto\", \"rotation\": -0.0, \"fontsize\": 9.995999999999999, \"color\": \"#000000\", \"alpha\": 1, \"zorder\": 1000003.0, \"id\": \"el127140013382954288\"}, {\"text\": \"career\", \"position\": [1.1167121212121212, 0.5103453826342899], \"coordinates\": \"axes\", \"h_anchor\": \"start\", \"v_baseline\": \"auto\", \"rotation\": -0.0, \"fontsize\": 9.995999999999999, \"color\": \"#000000\", \"alpha\": 1, \"zorder\": 1000003.0, \"id\": \"el127140013383078128\"}, {\"text\": \"food\", \"position\": [1.1167121212121212, 0.4758577078734363], \"coordinates\": \"axes\", \"h_anchor\": \"start\", \"v_baseline\": \"auto\", \"rotation\": -0.0, \"fontsize\": 9.995999999999999, \"color\": \"#000000\", \"alpha\": 1, \"zorder\": 1000003.0, \"id\": \"el127140013383079192\"}, {\"text\": \"travel\", \"position\": [1.1167121212121212, 0.4413700331125827], \"coordinates\": \"axes\", \"h_anchor\": \"start\", \"v_baseline\": \"auto\", \"rotation\": -0.0, \"fontsize\": 9.995999999999999, \"color\": \"#000000\", \"alpha\": 1, \"zorder\": 1000003.0, \"id\": \"el127140013383080256\"}], \"collections\": [], \"images\": [], \"sharex\": [], \"sharey\": []}], \"data\": {\"data01\": [[1.0662272727272728, 0.5448330573951434], [1.102287878787879, 0.5448330573951434], [1.102287878787879, 0.560923013245033], [1.0662272727272728, 0.560923013245033]], \"data02\": [[1.0662272727272728, 0.5183903605592347, 0.4839026857983811, 0.4494150110375275], [1.102287878787879, 0.5183903605592347, 0.4839026857983811, 0.4494150110375275]], \"data03\": [[1.0626212121212122, 0.4275768027961736], [1.1782637085137087, 0.4275768027961736], [1.181869769119769, 0.4275768027961736], [1.181869769119769, 0.4321739330389992], [1.181869769119769, 0.5678260669610007], [1.181869769119769, 0.5724231972038263], [1.1782637085137087, 0.5724231972038263], [1.0626212121212122, 0.5724231972038263], [1.0590151515151516, 0.5724231972038263], [1.0590151515151516, 0.5678260669610007], [1.0590151515151516, 0.4321739330389992], [1.0590151515151516, 0.4275768027961736], [1.0626212121212122, 0.4275768027961736]]}, \"id\": \"el127140013383637592\", \"plugins\": [{\"type\": \"reset\"}, {\"type\": \"zoom\", \"button\": true, \"enabled\": false}, {\"type\": \"boxzoom\", \"button\": true, \"enabled\": false}]});\n",
              "      });\n",
              "    });\n",
              "}else{\n",
              "    // require.js not available: dynamically load d3 & mpld3\n",
              "    mpld3_load_lib(\"https://mpld3.github.io/js/d3.v3.min.js\", function(){\n",
              "         mpld3_load_lib(\"https://mpld3.github.io/js/mpld3.v0.3.js\", function(){\n",
              "                 \n",
              "                 mpld3.draw_figure(\"fig_el1271400133836375925730880600\", {\"width\": 792.0, \"height\": 576.0, \"axes\": [{\"bbox\": [0.125, 0.125, 0.7, 0.755], \"xlim\": [0.0, 1.0], \"ylim\": [0.0, 1.0], \"xdomain\": [0.0, 1.0], \"ydomain\": [0.0, 1.0], \"xscale\": \"linear\", \"yscale\": \"linear\", \"axes\": [{\"position\": \"bottom\", \"nticks\": 6, \"tickvalues\": null, \"tickformat\": null, \"scale\": \"linear\", \"fontsize\": 12.0, \"grid\": {\"gridOn\": true, \"color\": \"#FFFFFF\", \"dasharray\": \"none\", \"alpha\": 1.0}, \"visible\": true}, {\"position\": \"left\", \"nticks\": 6, \"tickvalues\": null, \"tickformat\": null, \"scale\": \"linear\", \"fontsize\": 12.0, \"grid\": {\"gridOn\": true, \"color\": \"#FFFFFF\", \"dasharray\": \"none\", \"alpha\": 1.0}, \"visible\": true}], \"axesbg\": \"#E5E5E5\", \"axesbgalpha\": null, \"zoomable\": true, \"id\": \"el127140013383638768\", \"lines\": [{\"data\": \"data02\", \"xindex\": 0, \"yindex\": 1, \"coordinates\": \"axes\", \"id\": \"el127140013383078576\", \"color\": \"#F7736A\", \"linewidth\": 5.0, \"dasharray\": \"none\", \"alpha\": 1, \"zorder\": 1000002.0, \"drawstyle\": \"default\"}, {\"data\": \"data02\", \"xindex\": 0, \"yindex\": 2, \"coordinates\": \"axes\", \"id\": \"el127140013383079640\", \"color\": \"#32B159\", \"linewidth\": 5.0, \"dasharray\": \"none\", \"alpha\": 1, \"zorder\": 1000002.0, \"drawstyle\": \"default\"}, {\"data\": \"data02\", \"xindex\": 0, \"yindex\": 3, \"coordinates\": \"axes\", \"id\": \"el127140013383080704\", \"color\": \"#6C9BF4\", \"linewidth\": 5.0, \"dasharray\": \"none\", \"alpha\": 1, \"zorder\": 1000002.0, \"drawstyle\": \"default\"}], \"paths\": [{\"data\": \"data01\", \"xindex\": 0, \"yindex\": 1, \"coordinates\": \"axes\", \"pathcodes\": [\"M\", \"L\", \"L\", \"L\", \"Z\"], \"id\": \"el127140013382954792\", \"dasharray\": \"none\", \"alpha\": 1, \"facecolor\": \"none\", \"edgecolor\": \"none\", \"edgewidth\": 0.0, \"zorder\": 1000001.0}, {\"data\": \"data03\", \"xindex\": 0, \"yindex\": 1, \"coordinates\": \"axes\", \"pathcodes\": [\"M\", \"L\", \"S\", \"L\", \"S\", \"L\", \"S\", \"L\", \"S\", \"Z\"], \"id\": \"el127140013382953840\", \"dasharray\": \"none\", \"alpha\": 0.8, \"facecolor\": \"#E5E5E5\", \"edgecolor\": \"#CCCCCC\", \"edgewidth\": 0.5, \"zorder\": 1000000.0}], \"markers\": [], \"texts\": [{\"text\": \"label\", \"position\": [1.1167121212121212, 0.5448330573951434], \"coordinates\": \"axes\", \"h_anchor\": \"start\", \"v_baseline\": \"auto\", \"rotation\": -0.0, \"fontsize\": 9.995999999999999, \"color\": \"#000000\", \"alpha\": 1, \"zorder\": 1000003.0, \"id\": \"el127140013382954288\"}, {\"text\": \"career\", \"position\": [1.1167121212121212, 0.5103453826342899], \"coordinates\": \"axes\", \"h_anchor\": \"start\", \"v_baseline\": \"auto\", \"rotation\": -0.0, \"fontsize\": 9.995999999999999, \"color\": \"#000000\", \"alpha\": 1, \"zorder\": 1000003.0, \"id\": \"el127140013383078128\"}, {\"text\": \"food\", \"position\": [1.1167121212121212, 0.4758577078734363], \"coordinates\": \"axes\", \"h_anchor\": \"start\", \"v_baseline\": \"auto\", \"rotation\": -0.0, \"fontsize\": 9.995999999999999, \"color\": \"#000000\", \"alpha\": 1, \"zorder\": 1000003.0, \"id\": \"el127140013383079192\"}, {\"text\": \"travel\", \"position\": [1.1167121212121212, 0.4413700331125827], \"coordinates\": \"axes\", \"h_anchor\": \"start\", \"v_baseline\": \"auto\", \"rotation\": -0.0, \"fontsize\": 9.995999999999999, \"color\": \"#000000\", \"alpha\": 1, \"zorder\": 1000003.0, \"id\": \"el127140013383080256\"}], \"collections\": [], \"images\": [], \"sharex\": [], \"sharey\": []}], \"data\": {\"data01\": [[1.0662272727272728, 0.5448330573951434], [1.102287878787879, 0.5448330573951434], [1.102287878787879, 0.560923013245033], [1.0662272727272728, 0.560923013245033]], \"data02\": [[1.0662272727272728, 0.5183903605592347, 0.4839026857983811, 0.4494150110375275], [1.102287878787879, 0.5183903605592347, 0.4839026857983811, 0.4494150110375275]], \"data03\": [[1.0626212121212122, 0.4275768027961736], [1.1782637085137087, 0.4275768027961736], [1.181869769119769, 0.4275768027961736], [1.181869769119769, 0.4321739330389992], [1.181869769119769, 0.5678260669610007], [1.181869769119769, 0.5724231972038263], [1.1782637085137087, 0.5724231972038263], [1.0626212121212122, 0.5724231972038263], [1.0590151515151516, 0.5724231972038263], [1.0590151515151516, 0.5678260669610007], [1.0590151515151516, 0.4321739330389992], [1.0590151515151516, 0.4275768027961736], [1.0626212121212122, 0.4275768027961736]]}, \"id\": \"el127140013383637592\", \"plugins\": [{\"type\": \"reset\"}, {\"type\": \"zoom\", \"button\": true, \"enabled\": false}, {\"type\": \"boxzoom\", \"button\": true, \"enabled\": false}]});\n",
              "            })\n",
              "         });\n",
              "}\n",
              "</script>"
            ],
            "text/plain": [
              "<Figure size 792x576 with 1 Axes>"
            ]
          },
          "metadata": {
            "tags": []
          }
        }
      ]
    },
    {
      "cell_type": "code",
      "metadata": {
        "id": "pk5EIOvqrNd9",
        "colab_type": "code",
        "colab": {}
      },
      "source": [
        ""
      ],
      "execution_count": 0,
      "outputs": []
    }
  ]
}