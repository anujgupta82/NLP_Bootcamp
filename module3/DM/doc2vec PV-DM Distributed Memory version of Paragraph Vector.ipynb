{
  "nbformat": 4,
  "nbformat_minor": 0,
  "metadata": {
    "kernelspec": {
      "name": "python3",
      "display_name": "Python 3"
    },
    "language_info": {
      "codemirror_mode": {
        "name": "ipython",
        "version": 3
      },
      "file_extension": ".py",
      "mimetype": "text/x-python",
      "name": "python",
      "nbconvert_exporter": "python",
      "pygments_lexer": "ipython3",
      "version": "3.5.2"
    },
    "colab": {
      "name": "doc2vec PV-DM Distributed Memory version of Paragraph Vector.ipynb",
      "version": "0.3.2",
      "provenance": []
    },
    "accelerator": "GPU"
  },
  "cells": [
    {
      "cell_type": "code",
      "metadata": {
        "id": "nmKc8B1M14Hu",
        "colab_type": "code",
        "colab": {}
      },
      "source": [
        "#NACHISS :-\n",
        "#import nltk\n",
        "# nltk.download('punkt') \n",
        "#pip install mpld3 \n",
        "# pip3 install git+https://github.com/sushinoya/ggpy"
      ],
      "execution_count": 0,
      "outputs": []
    },
    {
      "cell_type": "code",
      "metadata": {
        "id": "WP8ZAzyYrnNM",
        "colab_type": "code",
        "outputId": "f6dbc513-bb12-40c1-d790-5a34985f1a17",
        "colab": {
          "base_uri": "https://localhost:8080/",
          "height": 70
        }
      },
      "source": [
        "import nltk\n",
        "nltk.download('punkt')"
      ],
      "execution_count": 11,
      "outputs": [
        {
          "output_type": "stream",
          "text": [
            "[nltk_data] Downloading package punkt to /root/nltk_data...\n",
            "[nltk_data]   Package punkt is already up-to-date!\n"
          ],
          "name": "stdout"
        },
        {
          "output_type": "execute_result",
          "data": {
            "text/plain": [
              "True"
            ]
          },
          "metadata": {
            "tags": []
          },
          "execution_count": 11
        }
      ]
    },
    {
      "cell_type": "code",
      "metadata": {
        "id": "3FHd0FLT2ORn",
        "colab_type": "code",
        "colab": {}
      },
      "source": [
        ""
      ],
      "execution_count": 0,
      "outputs": []
    },
    {
      "cell_type": "code",
      "metadata": {
        "id": "rOPCCBOprNa-",
        "colab_type": "code",
        "colab": {}
      },
      "source": [
        "%reload_ext autoreload\n",
        "%autoreload 2\n",
        "%matplotlib inline"
      ],
      "execution_count": 0,
      "outputs": []
    },
    {
      "cell_type": "code",
      "metadata": {
        "id": "1hfXqWxwrNbS",
        "colab_type": "code",
        "outputId": "e1f41a7d-ed1b-4b92-c1aa-7046593d3a0b",
        "colab": {
          "base_uri": "https://localhost:8080/",
          "height": 34
        }
      },
      "source": [
        "import sys  \n",
        "from imp import reload\n",
        "\n",
        "reload(sys)  \n",
        "#sys.setdefaultencoding('utf8')"
      ],
      "execution_count": 13,
      "outputs": [
        {
          "output_type": "execute_result",
          "data": {
            "text/plain": [
              "<module 'sys' (built-in)>"
            ]
          },
          "metadata": {
            "tags": []
          },
          "execution_count": 13
        }
      ]
    },
    {
      "cell_type": "code",
      "metadata": {
        "id": "E-S6xHNnrNbY",
        "colab_type": "code",
        "outputId": "de8b6aff-17cf-477d-d350-8c9db5721702",
        "colab": {
          "base_uri": "https://localhost:8080/",
          "height": 34
        }
      },
      "source": [
        "import sys\n",
        "reload(sys)  \n",
        "#sys.setdefaultencoding('Cp1252')"
      ],
      "execution_count": 14,
      "outputs": [
        {
          "output_type": "execute_result",
          "data": {
            "text/plain": [
              "<module 'sys' (built-in)>"
            ]
          },
          "metadata": {
            "tags": []
          },
          "execution_count": 14
        }
      ]
    },
    {
      "cell_type": "code",
      "metadata": {
        "id": "lym3QpuorNbe",
        "colab_type": "code",
        "colab": {}
      },
      "source": [
        "import mpld3\n",
        "mpld3.enable_notebook()"
      ],
      "execution_count": 0,
      "outputs": []
    },
    {
      "cell_type": "code",
      "metadata": {
        "id": "D4qaR3hQrNbh",
        "colab_type": "code",
        "colab": {}
      },
      "source": [
        "import sys\n",
        "sys.path.append('/content/drive/GoogleDrive_Utils/')"
      ],
      "execution_count": 0,
      "outputs": []
    },
    {
      "cell_type": "code",
      "metadata": {
        "id": "KTUaLAD8rNbk",
        "colab_type": "code",
        "colab": {}
      },
      "source": [
        "from pylab import rcParams\n",
        "rcParams['figure.figsize'] = 10, 10"
      ],
      "execution_count": 0,
      "outputs": []
    },
    {
      "cell_type": "code",
      "metadata": {
        "id": "aHO7CNd4rNbo",
        "colab_type": "code",
        "colab": {}
      },
      "source": [
        "import tensorflow as tf \n",
        "import numpy as np \n",
        "import pandas as pd \n",
        "import nltk\n",
        "import math\n",
        "import random\n",
        "from sklearn.svm import SVC\n",
        "from sklearn.utils import shuffle\n",
        "#from load_imdb_data import load_imdb_data\n",
        "from sklearn.linear_model import LogisticRegression\n",
        "from sklearn.model_selection import train_test_split\n",
        "from sklearn.metrics import f1_score \n",
        "from sklearn.ensemble import RandomForestClassifier\n",
        "from sklearn.ensemble import GradientBoostingClassifier\n",
        "from sklearn.metrics import accuracy_score\n",
        "from sklearn.feature_extraction.text import TfidfVectorizer\n",
        "import numpy as np \n",
        "import matplotlib.pyplot as plt \n",
        "np.random.seed(0)"
      ],
      "execution_count": 0,
      "outputs": []
    },
    {
      "cell_type": "code",
      "metadata": {
        "id": "akDpDLTorNbt",
        "colab_type": "code",
        "colab": {}
      },
      "source": [
        "data = open(\"/content/drive/NLP_bootcamp/Data/intent_data.txt\").readlines()"
      ],
      "execution_count": 0,
      "outputs": []
    },
    {
      "cell_type": "code",
      "metadata": {
        "id": "dx2HI2g6rNbw",
        "colab_type": "code",
        "colab": {}
      },
      "source": [
        "data = data[1:]"
      ],
      "execution_count": 0,
      "outputs": []
    },
    {
      "cell_type": "code",
      "metadata": {
        "id": "hd2TgU1arNb1",
        "colab_type": "code",
        "colab": {}
      },
      "source": [
        "sentence = []\n",
        "labels = []\n",
        "\n",
        "for item in data:\n",
        "    temp = item.split('   ')\n",
        "    sentence.append(temp[0].strip())\n",
        "    labels.append(temp[1].strip().replace(\"\\n\", ''))"
      ],
      "execution_count": 0,
      "outputs": []
    },
    {
      "cell_type": "code",
      "metadata": {
        "id": "hcP_1HaLrNb7",
        "colab_type": "code",
        "colab": {}
      },
      "source": [
        "#sentence = [line.decode('utf-8').strip() for line in sentence]\n",
        "sentence = [line.strip() for line in sentence]"
      ],
      "execution_count": 0,
      "outputs": []
    },
    {
      "cell_type": "code",
      "metadata": {
        "id": "llJHvVBkrNb_",
        "colab_type": "code",
        "outputId": "a27c0a0a-8f4d-4bca-ea51-cc2f36645b1c",
        "colab": {
          "base_uri": "https://localhost:8080/",
          "height": 70
        }
      },
      "source": [
        "sentence[:2], labels[:2]"
      ],
      "execution_count": 23,
      "outputs": [
        {
          "output_type": "execute_result",
          "data": {
            "text/plain": [
              "(['I must look like a right weirdo .',\n",
              "  \"I really don't want to get up and get dressed for work\"],\n",
              " ['non-intent', 'trifle'])"
            ]
          },
          "metadata": {
            "tags": []
          },
          "execution_count": 23
        }
      ]
    },
    {
      "cell_type": "code",
      "metadata": {
        "id": "zcY6HrrTrNcF",
        "colab_type": "code",
        "colab": {}
      },
      "source": [
        "df = pd.DataFrame()\n",
        "df['review'] = sentence\n",
        "df['label'] = labels"
      ],
      "execution_count": 0,
      "outputs": []
    },
    {
      "cell_type": "code",
      "metadata": {
        "id": "mHdRVyGzrNcI",
        "colab_type": "code",
        "colab": {}
      },
      "source": [
        "df = df[df['label'].isin(['food', 'travel', 'career'])]"
      ],
      "execution_count": 0,
      "outputs": []
    },
    {
      "cell_type": "code",
      "metadata": {
        "id": "2URnjxnqrNcL",
        "colab_type": "code",
        "colab": {}
      },
      "source": [
        "df.reset_index(drop=True, inplace=True)"
      ],
      "execution_count": 0,
      "outputs": []
    },
    {
      "cell_type": "code",
      "metadata": {
        "id": "WtaXC87NrNcO",
        "colab_type": "code",
        "outputId": "d8224e18-d122-42fe-f884-12dec7aedf1d",
        "colab": {
          "base_uri": "https://localhost:8080/",
          "height": 197
        }
      },
      "source": [
        "df.head()"
      ],
      "execution_count": 27,
      "outputs": [
        {
          "output_type": "execute_result",
          "data": {
            "text/html": [
              "<div>\n",
              "<style scoped>\n",
              "    .dataframe tbody tr th:only-of-type {\n",
              "        vertical-align: middle;\n",
              "    }\n",
              "\n",
              "    .dataframe tbody tr th {\n",
              "        vertical-align: top;\n",
              "    }\n",
              "\n",
              "    .dataframe thead th {\n",
              "        text-align: right;\n",
              "    }\n",
              "</style>\n",
              "<table border=\"1\" class=\"dataframe\">\n",
              "  <thead>\n",
              "    <tr style=\"text-align: right;\">\n",
              "      <th></th>\n",
              "      <th>review</th>\n",
              "      <th>label</th>\n",
              "    </tr>\n",
              "  </thead>\n",
              "  <tbody>\n",
              "    <tr>\n",
              "      <th>0</th>\n",
              "      <td>I really want a hot dog . My co-workers went t...</td>\n",
              "      <td>food</td>\n",
              "    </tr>\n",
              "    <tr>\n",
              "      <th>1</th>\n",
              "      <td>I wanna go to the beach , but ... Where is the...</td>\n",
              "      <td>travel</td>\n",
              "    </tr>\n",
              "    <tr>\n",
              "      <th>2</th>\n",
              "      <td>I really look forward to Egypt next week ! Its...</td>\n",
              "      <td>travel</td>\n",
              "    </tr>\n",
              "    <tr>\n",
              "      <th>3</th>\n",
              "      <td>I should buy more oatmeal cookies .. I just at...</td>\n",
              "      <td>food</td>\n",
              "    </tr>\n",
              "    <tr>\n",
              "      <th>4</th>\n",
              "      <td>I want pancakes , should I make some ???</td>\n",
              "      <td>food</td>\n",
              "    </tr>\n",
              "  </tbody>\n",
              "</table>\n",
              "</div>"
            ],
            "text/plain": [
              "                                              review   label\n",
              "0  I really want a hot dog . My co-workers went t...    food\n",
              "1  I wanna go to the beach , but ... Where is the...  travel\n",
              "2  I really look forward to Egypt next week ! Its...  travel\n",
              "3  I should buy more oatmeal cookies .. I just at...    food\n",
              "4           I want pancakes , should I make some ???    food"
            ]
          },
          "metadata": {
            "tags": []
          },
          "execution_count": 27
        }
      ]
    },
    {
      "cell_type": "code",
      "metadata": {
        "id": "sEi3VFJDrNcU",
        "colab_type": "code",
        "colab": {}
      },
      "source": [
        "def processDocs(documents, vocab_size=5000):\n",
        "    \"\"\"\n",
        "    This functions takes in a collection of documents and generates a vocabulary based on the size given in input. \n",
        "    It returns a representation for each document in the list of input documents. \n",
        "    \"\"\"\n",
        "    vocab = {} \n",
        "    doc_id = 0 \n",
        "    doc_ids = []\n",
        "    \n",
        "    for doc in documents:\n",
        "        doc_ids.append(doc_id)                          # Give an ID to each document \n",
        "        doc_id += 1\n",
        "        \n",
        "        for word in nltk.word_tokenize(doc):            # Generate a vocabulary while iterating threw the documents \n",
        "            if word not in vocab:\n",
        "                vocab[word] = 1 \n",
        "            else:\n",
        "                vocab[word] += 1\n",
        "    \n",
        "    # Extract the most frequent words based on the vocabulary size \n",
        "    freq_words_list = sorted(vocab.items(), key=lambda x: x[1], reverse=True)[:vocab_size]\n",
        "    freq_words_set = set([item[0] for item in freq_words_list])\n",
        "    \n",
        "    # Give an index to each word in vocabulary \n",
        "    word2idx = {}         \n",
        "    index_word = 0\n",
        "    for word in freq_words_set:\n",
        "        word2idx[word] = index_word\n",
        "        index_word += 1\n",
        "    word2idx['UNK'] = index_word\n",
        "    \n",
        "    doc_repr = []                          # Represent each document with representation based on the vocabulary  \n",
        "    for doc in documents:\n",
        "        temp = []\n",
        "        for w in doc:\n",
        "            if w in word2idx:\n",
        "                temp.append(word2idx[w])\n",
        "            else:\n",
        "                temp.append(word2idx['UNK'])\n",
        "        doc_repr.append(temp)\n",
        "        \n",
        "    return documents, doc_ids, word2idx, doc_repr"
      ],
      "execution_count": 0,
      "outputs": []
    },
    {
      "cell_type": "code",
      "metadata": {
        "id": "nOX5cVW3rNcW",
        "colab_type": "code",
        "colab": {}
      },
      "source": [
        "docs, doc_ids, word2ids, doc_repr = processDocs(df['review'])"
      ],
      "execution_count": 0,
      "outputs": []
    },
    {
      "cell_type": "code",
      "metadata": {
        "id": "clUl41GirNcZ",
        "colab_type": "code",
        "outputId": "e4a466d6-7191-400d-9706-2ca03cca1e1f",
        "colab": {
          "base_uri": "https://localhost:8080/",
          "height": 34
        }
      },
      "source": [
        "len(docs), len(doc_ids), len(word2ids), len(doc_repr)"
      ],
      "execution_count": 30,
      "outputs": [
        {
          "output_type": "execute_result",
          "data": {
            "text/plain": [
              "(591, 591, 1900, 591)"
            ]
          },
          "metadata": {
            "tags": []
          },
          "execution_count": 30
        }
      ]
    },
    {
      "cell_type": "code",
      "metadata": {
        "id": "TftSKUXsrNcc",
        "colab_type": "code",
        "colab": {}
      },
      "source": [
        ""
      ],
      "execution_count": 0,
      "outputs": []
    },
    {
      "cell_type": "markdown",
      "metadata": {
        "id": "JTPD7i9QrNch",
        "colab_type": "text"
      },
      "source": [
        "## Architecture - PV-DM Distributed Memory version of Paragraph Vector"
      ]
    },
    {
      "cell_type": "markdown",
      "metadata": {
        "collapsed": true,
        "id": "hn2tIE0ArNcm",
        "colab_type": "text"
      },
      "source": [
        "### Adding batchsizes for speedup"
      ]
    },
    {
      "cell_type": "code",
      "metadata": {
        "id": "L7qvVgqzrNcn",
        "colab_type": "code",
        "colab": {}
      },
      "source": [
        "bucket_list = []\n",
        "\n",
        "def generate_batch_pvdm(doc_ids, doc_repr, sample_size=10, batch_size=1000, window_size=7):\n",
        "    global bucket_list\n",
        "\n",
        "    docs_ids_to_select = list(set(doc_ids) - set(bucket_list))\n",
        "    \n",
        "    \n",
        "    if len(docs_ids_to_select) < batch_size//sample_size:\n",
        "        bucket_list = []\n",
        "        docs_ids_to_select = doc_ids\n",
        "        \n",
        "    index = 0 \n",
        "    train_wX = np.ndarray(shape=(batch_size, window_size), dtype=np.int32)\n",
        "    train_dX = np.ndarray(shape=(batch_size, 1), dtype=np.int32)\n",
        "    train_label = np.ndarray(shape=(batch_size, 1), dtype=np.int32)\n",
        "    random_docs = random.sample(docs_ids_to_select, batch_size//sample_size)    # Choose set of random documents \n",
        "\n",
        "    bucket_list += random_docs\n",
        "    \n",
        "    for id_ in random_docs:\n",
        "        for j in range(sample_size):                                 # Generating a dataset of sample size \n",
        "            random_index = random.randint(0, len(doc_repr[id_]) - window_size - 1)\n",
        "            sample_window = doc_repr[id_][random_index: random_index + window_size + 1]\n",
        "            train_wX[index] = sample_window[:-1]\n",
        "            train_dX[index] = id_\n",
        "            train_label[index] = sample_window[-1]  \n",
        "            index += 1\n",
        "    return train_wX, train_dX, train_label "
      ],
      "execution_count": 0,
      "outputs": []
    },
    {
      "cell_type": "code",
      "metadata": {
        "id": "ypiGq4ENrNct",
        "colab_type": "code",
        "colab": {}
      },
      "source": [
        "doc_size = len(docs)\n",
        "embedding_size_w = 100\n",
        "embedding_size_d = 100\n",
        "vocab_size = len(word2ids)\n",
        "window_size = 7\n",
        "n_neg_samples = 30\n",
        "learning_rate = 10e-6\n",
        "epochs = 10001\n",
        "batch_size=1000\n",
        "mu=0.9\n",
        "combined_embed_vector_length = embedding_size_d + embedding_size_w"
      ],
      "execution_count": 0,
      "outputs": []
    },
    {
      "cell_type": "code",
      "metadata": {
        "id": "jRqiv4HxrNcw",
        "colab_type": "code",
        "colab": {}
      },
      "source": [
        "# Define placeholders for training \n",
        "train_wX = tf.placeholder(tf.int32, shape=[batch_size, window_size])\n",
        "train_dX = tf.placeholder(tf.int32, shape=[batch_size, 1])\n",
        "train_label = tf.placeholder(tf.int32, shape=[batch_size, 1])"
      ],
      "execution_count": 0,
      "outputs": []
    },
    {
      "cell_type": "code",
      "metadata": {
        "id": "7dkUIlv5rNcz",
        "colab_type": "code",
        "colab": {}
      },
      "source": [
        "doc_embedding_np = np.random.randn(doc_size, embedding_size_d)/np.sqrt(doc_size + embedding_size_d)\n",
        "word_embedding_np = np.random.randn(vocab_size, embedding_size_w)/np.sqrt(vocab_size + embedding_size_w)"
      ],
      "execution_count": 0,
      "outputs": []
    },
    {
      "cell_type": "code",
      "metadata": {
        "id": "Pe0WARwWrNc3",
        "colab_type": "code",
        "colab": {}
      },
      "source": [
        "# Define matrix for doc_embedding and word_embedding \n",
        "doc_embedding = tf.Variable(doc_embedding_np.astype(np.float32), name=\"doc_embedding\")\n",
        "word_embedding = tf.Variable(word_embedding_np.astype(np.float32),name=\"word_embedding\")"
      ],
      "execution_count": 0,
      "outputs": []
    },
    {
      "cell_type": "code",
      "metadata": {
        "id": "fbTqjNt1rNc8",
        "colab_type": "code",
        "colab": {}
      },
      "source": [
        "# Define weights for the output unit \n",
        "weights = tf.Variable(tf.truncated_normal([vocab_size, combined_embed_vector_length], \n",
        "                                       stddev=1.0 / math.sqrt(combined_embed_vector_length)))\n",
        "biases = tf.Variable(tf.zeros(vocab_size))"
      ],
      "execution_count": 0,
      "outputs": []
    },
    {
      "cell_type": "code",
      "metadata": {
        "id": "K08mqyFPrNc_",
        "colab_type": "code",
        "outputId": "c3c746dc-9f88-4611-d54d-3498ab8d26b4",
        "colab": {
          "base_uri": "https://localhost:8080/",
          "height": 0
        }
      },
      "source": [
        "embed = []\n",
        "\n",
        "# generating a vector of size embedding_size_d\n",
        "embed_w = tf.zeros([1, embedding_size_w], dtype=tf.float32)\n",
        "\n",
        "# add all the word vecs in window_size\n",
        "for j in range(window_size):\n",
        "    embed_w += tf.nn.embedding_lookup(word_embedding, train_wX[:, j])\n",
        "embed.append(embed_w)\n",
        "\n",
        "# Add the doc2vec from the doc_embedding \n",
        "embed_d = tf.nn.embedding_lookup(doc_embedding, train_dX[:, 0])\n",
        "embed.append(embed_d)\n",
        "\n",
        "print (embed_w, embed_d)\n",
        "\n",
        "embed = tf.concat(embed, 1)"
      ],
      "execution_count": 37,
      "outputs": [
        {
          "output_type": "stream",
          "text": [
            "Tensor(\"add_6:0\", shape=(1000, 100), dtype=float32) Tensor(\"embedding_lookup_7/Identity:0\", shape=(1000, 100), dtype=float32)\n"
          ],
          "name": "stdout"
        }
      ]
    },
    {
      "cell_type": "code",
      "metadata": {
        "id": "T9jiQWNsrNdF",
        "colab_type": "code",
        "colab": {}
      },
      "source": [
        "loss = tf.nn.sampled_softmax_loss(weights=weights, \\\n",
        "                                  biases=biases, \\\n",
        "                                  labels=train_label, \\\n",
        "                                  inputs=embed, \\\n",
        "                                  num_sampled=n_neg_samples, \\\n",
        "                                  num_classes=vocab_size)"
      ],
      "execution_count": 0,
      "outputs": []
    },
    {
      "cell_type": "code",
      "metadata": {
        "id": "jsA0lpXlrNdJ",
        "colab_type": "code",
        "colab": {}
      },
      "source": [
        "loss = tf.reduce_mean(loss)"
      ],
      "execution_count": 0,
      "outputs": []
    },
    {
      "cell_type": "code",
      "metadata": {
        "id": "sqk1JPEurNdP",
        "colab_type": "code",
        "outputId": "da827e60-59b5-4f2b-c4ce-4a07e26c7f43",
        "colab": {
          "base_uri": "https://localhost:8080/",
          "height": 0
        }
      },
      "source": [
        "optimizer = tf.train.AdagradOptimizer(learning_rate).minimize(loss)"
      ],
      "execution_count": 40,
      "outputs": [
        {
          "output_type": "stream",
          "text": [
            "WARNING:tensorflow:From /usr/local/lib/python3.6/dist-packages/tensorflow/python/training/adagrad.py:76: calling Constant.__init__ (from tensorflow.python.ops.init_ops) with dtype is deprecated and will be removed in a future version.\n",
            "Instructions for updating:\n",
            "Call initializer instance with the dtype argument instead of passing it to the constructor\n"
          ],
          "name": "stdout"
        }
      ]
    },
    {
      "cell_type": "code",
      "metadata": {
        "id": "V6Siq3KDrNdV",
        "colab_type": "code",
        "outputId": "fd6fcf74-9662-40b1-ad95-892a4ec5feed",
        "colab": {
          "base_uri": "https://localhost:8080/",
          "height": 0
        }
      },
      "source": [
        "import os\n",
        "os.system(\"mkdir /dev/shm/tensorflow_models\")"
      ],
      "execution_count": 41,
      "outputs": [
        {
          "output_type": "execute_result",
          "data": {
            "text/plain": [
              "0"
            ]
          },
          "metadata": {
            "tags": []
          },
          "execution_count": 41
        }
      ]
    },
    {
      "cell_type": "code",
      "metadata": {
        "scrolled": false,
        "id": "hVlglyS-rNda",
        "colab_type": "code",
        "outputId": "ed02897e-ac8e-4c66-d1c3-6a1d99f3eab0",
        "colab": {
          "base_uri": "https://localhost:8080/",
          "height": 0
        }
      },
      "source": [
        "saver = tf.train.Saver()\n",
        "\n",
        "with tf.Session() as sess:\n",
        "    init = tf.global_variables_initializer()\n",
        "    sess.run(init)\n",
        "    average_loss = 0\n",
        "    \n",
        "    for step in range(epochs):\n",
        "        epoch_error = 0.0\n",
        "        temp_wX , temp_dX, temp_labels = generate_batch_pvdm(doc_ids=doc_ids, doc_repr=doc_repr)\n",
        "        feed_dict = {train_wX : temp_wX, train_dX : temp_dX,train_label : temp_labels}\n",
        "        op, l = sess.run([optimizer, loss], \n",
        "                                    feed_dict=feed_dict)\n",
        "        \n",
        "        epoch_error += l\n",
        "                \n",
        "        if step % 100 == 0:\n",
        "            print (\"Error at epoch : \", step, \" = \", epoch_error)\n",
        "            \n",
        "    save_path = saver.save(sess, \"/dev/shm/tensorflow_models/model_pvdm_batch_training.ckpt\")\n",
        "    print(\"Model saved in file: %s\" % save_path)"
      ],
      "execution_count": 42,
      "outputs": [
        {
          "output_type": "stream",
          "text": [
            "Error at epoch :  0  =  1.894989013671875\n",
            "Error at epoch :  100  =  2.086819887161255\n",
            "Error at epoch :  200  =  2.0767173767089844\n",
            "Error at epoch :  300  =  2.007236957550049\n",
            "Error at epoch :  400  =  2.181705951690674\n",
            "Error at epoch :  500  =  2.150397777557373\n",
            "Error at epoch :  600  =  1.6272814273834229\n",
            "Error at epoch :  700  =  1.8211605548858643\n",
            "Error at epoch :  800  =  2.1475775241851807\n",
            "Error at epoch :  900  =  2.2835347652435303\n",
            "Error at epoch :  1000  =  2.3583147525787354\n",
            "Error at epoch :  1100  =  2.322810173034668\n",
            "Error at epoch :  1200  =  2.1828057765960693\n",
            "Error at epoch :  1300  =  2.1206769943237305\n",
            "Error at epoch :  1400  =  2.29824161529541\n",
            "Error at epoch :  1500  =  2.30199933052063\n",
            "Error at epoch :  1600  =  1.9323220252990723\n",
            "Error at epoch :  1700  =  2.1107776165008545\n",
            "Error at epoch :  1800  =  2.393939971923828\n",
            "Error at epoch :  1900  =  1.9400460720062256\n",
            "Error at epoch :  2000  =  2.204941987991333\n",
            "Error at epoch :  2100  =  2.291238307952881\n",
            "Error at epoch :  2200  =  1.9321972131729126\n",
            "Error at epoch :  2300  =  1.7994083166122437\n",
            "Error at epoch :  2400  =  1.6962835788726807\n",
            "Error at epoch :  2500  =  2.3770155906677246\n",
            "Error at epoch :  2600  =  1.9836232662200928\n",
            "Error at epoch :  2700  =  1.9879001379013062\n",
            "Error at epoch :  2800  =  1.332322120666504\n",
            "Error at epoch :  2900  =  2.1469860076904297\n",
            "Error at epoch :  3000  =  2.2286903858184814\n",
            "Error at epoch :  3100  =  1.889828085899353\n",
            "Error at epoch :  3200  =  2.188876152038574\n",
            "Error at epoch :  3300  =  2.151287078857422\n",
            "Error at epoch :  3400  =  2.139565944671631\n",
            "Error at epoch :  3500  =  2.173307180404663\n",
            "Error at epoch :  3600  =  2.4073097705841064\n",
            "Error at epoch :  3700  =  1.9788709878921509\n",
            "Error at epoch :  3800  =  2.60899019241333\n",
            "Error at epoch :  3900  =  2.1240339279174805\n",
            "Error at epoch :  4000  =  2.0132460594177246\n",
            "Error at epoch :  4100  =  2.548570394515991\n",
            "Error at epoch :  4200  =  2.032430410385132\n",
            "Error at epoch :  4300  =  2.1082911491394043\n",
            "Error at epoch :  4400  =  2.0036909580230713\n",
            "Error at epoch :  4500  =  2.185776472091675\n",
            "Error at epoch :  4600  =  1.8088289499282837\n",
            "Error at epoch :  4700  =  1.5401564836502075\n",
            "Error at epoch :  4800  =  1.946152687072754\n",
            "Error at epoch :  4900  =  2.0915939807891846\n",
            "Error at epoch :  5000  =  2.094325065612793\n",
            "Error at epoch :  5100  =  2.0320165157318115\n",
            "Error at epoch :  5200  =  1.889245629310608\n",
            "Error at epoch :  5300  =  1.8695274591445923\n",
            "Error at epoch :  5400  =  2.407949209213257\n",
            "Error at epoch :  5500  =  1.948898434638977\n",
            "Error at epoch :  5600  =  2.249805212020874\n",
            "Error at epoch :  5700  =  2.159106492996216\n",
            "Error at epoch :  5800  =  2.4307568073272705\n",
            "Error at epoch :  5900  =  1.7600080966949463\n",
            "Error at epoch :  6000  =  2.165294647216797\n",
            "Error at epoch :  6100  =  2.4290854930877686\n",
            "Error at epoch :  6200  =  2.051035165786743\n",
            "Error at epoch :  6300  =  1.883212924003601\n",
            "Error at epoch :  6400  =  2.3379340171813965\n",
            "Error at epoch :  6500  =  2.4034130573272705\n",
            "Error at epoch :  6600  =  2.067363977432251\n",
            "Error at epoch :  6700  =  2.023775577545166\n",
            "Error at epoch :  6800  =  2.314624786376953\n",
            "Error at epoch :  6900  =  2.0082061290740967\n",
            "Error at epoch :  7000  =  2.4063024520874023\n",
            "Error at epoch :  7100  =  2.2858974933624268\n",
            "Error at epoch :  7200  =  2.261504650115967\n",
            "Error at epoch :  7300  =  2.2540180683135986\n",
            "Error at epoch :  7400  =  2.1124517917633057\n",
            "Error at epoch :  7500  =  2.020484447479248\n",
            "Error at epoch :  7600  =  1.7448391914367676\n",
            "Error at epoch :  7700  =  2.1126508712768555\n",
            "Error at epoch :  7800  =  2.214198589324951\n",
            "Error at epoch :  7900  =  2.2657222747802734\n",
            "Error at epoch :  8000  =  1.907902717590332\n",
            "Error at epoch :  8100  =  2.0695247650146484\n",
            "Error at epoch :  8200  =  1.5745521783828735\n",
            "Error at epoch :  8300  =  2.1301069259643555\n",
            "Error at epoch :  8400  =  2.421597957611084\n",
            "Error at epoch :  8500  =  2.1579456329345703\n",
            "Error at epoch :  8600  =  2.0743114948272705\n",
            "Error at epoch :  8700  =  2.0282628536224365\n",
            "Error at epoch :  8800  =  2.3754184246063232\n",
            "Error at epoch :  8900  =  2.3347885608673096\n",
            "Error at epoch :  9000  =  2.4821670055389404\n",
            "Error at epoch :  9100  =  1.6036396026611328\n",
            "Error at epoch :  9200  =  2.5056257247924805\n",
            "Error at epoch :  9300  =  2.2558088302612305\n",
            "Error at epoch :  9400  =  1.8892887830734253\n",
            "Error at epoch :  9500  =  1.6483635902404785\n",
            "Error at epoch :  9600  =  2.2454440593719482\n",
            "Error at epoch :  9700  =  2.1965575218200684\n",
            "Error at epoch :  9800  =  2.1448116302490234\n",
            "Error at epoch :  9900  =  2.073330879211426\n",
            "Error at epoch :  10000  =  1.9749647378921509\n",
            "Model saved in file: /dev/shm/tensorflow_models/model_pvdm_batch_training.ckpt\n"
          ],
          "name": "stdout"
        }
      ]
    },
    {
      "cell_type": "code",
      "metadata": {
        "id": "XhqmMUxirNde",
        "colab_type": "code",
        "colab": {}
      },
      "source": [
        ""
      ],
      "execution_count": 0,
      "outputs": []
    },
    {
      "cell_type": "markdown",
      "metadata": {
        "id": "3jVQThCdrNdi",
        "colab_type": "text"
      },
      "source": [
        "### Evaluation of the representation "
      ]
    },
    {
      "cell_type": "code",
      "metadata": {
        "scrolled": false,
        "id": "oEOO0xkTrNdj",
        "colab_type": "code",
        "colab": {
          "base_uri": "https://localhost:8080/",
          "height": 125
        },
        "outputId": "f6815700-a147-4962-e7bc-48b1c9a8aa61"
      },
      "source": [
        "doc_pvdm = None\n",
        "\n",
        "with tf.Session() as sess:\n",
        "    saver = tf.train.Saver()\n",
        "    saver.restore(sess, \"/dev/shm/tensorflow_models/model_pvdm_batch_training.ckpt\")\n",
        "    print(\"Model restored.\")\n",
        "    doc2vec = doc_pvdm = doc_embedding.eval()\n",
        "    #performanceTest(doc2vec, list(imdb_data['sentiment']), method=None)"
      ],
      "execution_count": 43,
      "outputs": [
        {
          "output_type": "stream",
          "text": [
            "WARNING:tensorflow:From /usr/local/lib/python3.6/dist-packages/tensorflow/python/training/saver.py:1276: checkpoint_exists (from tensorflow.python.training.checkpoint_management) is deprecated and will be removed in a future version.\n",
            "Instructions for updating:\n",
            "Use standard file APIs to check for files with this prefix.\n",
            "INFO:tensorflow:Restoring parameters from /dev/shm/tensorflow_models/model_pvdm_batch_training.ckpt\n",
            "Model restored.\n"
          ],
          "name": "stdout"
        }
      ]
    },
    {
      "cell_type": "code",
      "metadata": {
        "id": "vPEA81VtrNdm",
        "colab_type": "code",
        "colab": {
          "base_uri": "https://localhost:8080/",
          "height": 247
        },
        "outputId": "d00cfd66-996c-4cde-d820-129963f85f83"
      },
      "source": [
        "doc_pvdm"
      ],
      "execution_count": 44,
      "outputs": [
        {
          "output_type": "execute_result",
          "data": {
            "text/plain": [
              "array([[ 0.06711376,  0.01525491,  0.03725871, ...,  0.06793973,\n",
              "         0.00480114,  0.01529656],\n",
              "       [ 0.07164558, -0.05123476, -0.04830107, ...,  0.03132842,\n",
              "         0.08226214,  0.05084723],\n",
              "       [-0.01404005, -0.00907638,  0.04185812, ...,  0.02217614,\n",
              "        -0.01522166,  0.01408306],\n",
              "       ...,\n",
              "       [-0.05925691, -0.02803757, -0.04144836, ...,  0.04508892,\n",
              "        -0.03193487,  0.02484783],\n",
              "       [-0.02170883,  0.00581272, -0.02004351, ..., -0.03001419,\n",
              "         0.00849768,  0.00017232],\n",
              "       [ 0.06421538, -0.00569185, -0.01001166, ...,  0.0440238 ,\n",
              "        -0.02243866, -0.04741025]], dtype=float32)"
            ]
          },
          "metadata": {
            "tags": []
          },
          "execution_count": 44
        }
      ]
    },
    {
      "cell_type": "code",
      "metadata": {
        "id": "lmr1COC8rNdp",
        "colab_type": "code",
        "colab": {}
      },
      "source": [
        "from sklearn.manifold import TSNE\n",
        "model = TSNE(perplexity=50, n_iter=5000)\n",
        "Z = model.fit_transform(doc_pvdm) "
      ],
      "execution_count": 0,
      "outputs": []
    },
    {
      "cell_type": "code",
      "metadata": {
        "id": "1DxTAp8PrNds",
        "colab_type": "code",
        "colab": {}
      },
      "source": [
        "df['axis1'] = Z[:, 0]\n",
        "df['axis2'] = Z[:, 1]"
      ],
      "execution_count": 0,
      "outputs": []
    },
    {
      "cell_type": "code",
      "metadata": {
        "id": "HHlA5WQorNdv",
        "colab_type": "code",
        "colab": {}
      },
      "source": [
        "df.reset_index(drop=True, inplace=True)"
      ],
      "execution_count": 0,
      "outputs": []
    },
    {
      "cell_type": "code",
      "metadata": {
        "id": "1aCIqolHrNdz",
        "colab_type": "code",
        "colab": {
          "base_uri": "https://localhost:8080/",
          "height": 197
        },
        "outputId": "ba7e84d4-6f79-45ef-b025-477b077958dd"
      },
      "source": [
        "df.head()"
      ],
      "execution_count": 48,
      "outputs": [
        {
          "output_type": "execute_result",
          "data": {
            "text/html": [
              "<div>\n",
              "<style scoped>\n",
              "    .dataframe tbody tr th:only-of-type {\n",
              "        vertical-align: middle;\n",
              "    }\n",
              "\n",
              "    .dataframe tbody tr th {\n",
              "        vertical-align: top;\n",
              "    }\n",
              "\n",
              "    .dataframe thead th {\n",
              "        text-align: right;\n",
              "    }\n",
              "</style>\n",
              "<table border=\"1\" class=\"dataframe\">\n",
              "  <thead>\n",
              "    <tr style=\"text-align: right;\">\n",
              "      <th></th>\n",
              "      <th>review</th>\n",
              "      <th>label</th>\n",
              "      <th>axis1</th>\n",
              "      <th>axis2</th>\n",
              "    </tr>\n",
              "  </thead>\n",
              "  <tbody>\n",
              "    <tr>\n",
              "      <th>0</th>\n",
              "      <td>I really want a hot dog . My co-workers went t...</td>\n",
              "      <td>food</td>\n",
              "      <td>2.979122</td>\n",
              "      <td>-0.696382</td>\n",
              "    </tr>\n",
              "    <tr>\n",
              "      <th>1</th>\n",
              "      <td>I wanna go to the beach , but ... Where is the...</td>\n",
              "      <td>travel</td>\n",
              "      <td>2.516792</td>\n",
              "      <td>-1.611466</td>\n",
              "    </tr>\n",
              "    <tr>\n",
              "      <th>2</th>\n",
              "      <td>I really look forward to Egypt next week ! Its...</td>\n",
              "      <td>travel</td>\n",
              "      <td>3.246175</td>\n",
              "      <td>-1.629473</td>\n",
              "    </tr>\n",
              "    <tr>\n",
              "      <th>3</th>\n",
              "      <td>I should buy more oatmeal cookies .. I just at...</td>\n",
              "      <td>food</td>\n",
              "      <td>0.884732</td>\n",
              "      <td>-1.261158</td>\n",
              "    </tr>\n",
              "    <tr>\n",
              "      <th>4</th>\n",
              "      <td>I want pancakes , should I make some ???</td>\n",
              "      <td>food</td>\n",
              "      <td>2.454674</td>\n",
              "      <td>-0.894398</td>\n",
              "    </tr>\n",
              "  </tbody>\n",
              "</table>\n",
              "</div>"
            ],
            "text/plain": [
              "                                              review  ...     axis2\n",
              "0  I really want a hot dog . My co-workers went t...  ... -0.696382\n",
              "1  I wanna go to the beach , but ... Where is the...  ... -1.611466\n",
              "2  I really look forward to Egypt next week ! Its...  ... -1.629473\n",
              "3  I should buy more oatmeal cookies .. I just at...  ... -1.261158\n",
              "4           I want pancakes , should I make some ???  ... -0.894398\n",
              "\n",
              "[5 rows x 4 columns]"
            ]
          },
          "metadata": {
            "tags": []
          },
          "execution_count": 48
        }
      ]
    },
    {
      "cell_type": "code",
      "metadata": {
        "id": "vkz7APSUrNd6",
        "colab_type": "code",
        "colab": {
          "base_uri": "https://localhost:8080/",
          "height": 597
        },
        "outputId": "2a1aae17-292a-4f23-dc1b-2c302d5a0f51"
      },
      "source": [
        "from ggplot import *\n",
        "myplot = ggplot(aes(x='axis1', y='axis2', color='label'), data=df)  + geom_point()\n",
        "myplot.save('myplot.png')"
      ],
      "execution_count": 49,
      "outputs": [
        {
          "output_type": "display_data",
          "data": {
            "image/png": "[encoded data removed]",
            "text/html": [
              "\n",
              "\n",
              "<style>\n",
              "\n",
              "</style>\n",
              "\n",
              "<div id=\"fig_el1271405207882824485202435751\"></div>\n",
              "<script>\n",
              "function mpld3_load_lib(url, callback){\n",
              "  var s = document.createElement('script');\n",
              "  s.src = url;\n",
              "  s.async = true;\n",
              "  s.onreadystatechange = s.onload = callback;\n",
              "  s.onerror = function(){console.warn(\"failed to load library \" + url);};\n",
              "  document.getElementsByTagName(\"head\")[0].appendChild(s);\n",
              "}\n",
              "\n",
              "if(typeof(mpld3) !== \"undefined\" && mpld3._mpld3IsLoaded){\n",
              "   // already loaded: just create the figure\n",
              "   !function(mpld3){\n",
              "       \n",
              "       mpld3.draw_figure(\"fig_el1271405207882824485202435751\", {\"width\": 792.0, \"height\": 576.0, \"axes\": [{\"bbox\": [0.125, 0.125, 0.7, 0.755], \"xlim\": [0.0, 1.0], \"ylim\": [0.0, 1.0], \"xdomain\": [0.0, 1.0], \"ydomain\": [0.0, 1.0], \"xscale\": \"linear\", \"yscale\": \"linear\", \"axes\": [{\"position\": \"bottom\", \"nticks\": 6, \"tickvalues\": null, \"tickformat\": null, \"scale\": \"linear\", \"fontsize\": 12.0, \"grid\": {\"gridOn\": true, \"color\": \"#FFFFFF\", \"dasharray\": \"none\", \"alpha\": 1.0}, \"visible\": true}, {\"position\": \"left\", \"nticks\": 6, \"tickvalues\": null, \"tickformat\": null, \"scale\": \"linear\", \"fontsize\": 12.0, \"grid\": {\"gridOn\": true, \"color\": \"#FFFFFF\", \"dasharray\": \"none\", \"alpha\": 1.0}, \"visible\": true}], \"axesbg\": \"#E5E5E5\", \"axesbgalpha\": null, \"zoomable\": true, \"id\": \"el127140520788365608\", \"lines\": [{\"data\": \"data02\", \"xindex\": 0, \"yindex\": 1, \"coordinates\": \"axes\", \"id\": \"el127140520787756200\", \"color\": \"#F7736A\", \"linewidth\": 5.0, \"dasharray\": \"none\", \"alpha\": 1, \"zorder\": 1000002.0, \"drawstyle\": \"default\"}, {\"data\": \"data02\", \"xindex\": 0, \"yindex\": 2, \"coordinates\": \"axes\", \"id\": \"el127140520787757264\", \"color\": \"#32B159\", \"linewidth\": 5.0, \"dasharray\": \"none\", \"alpha\": 1, \"zorder\": 1000002.0, \"drawstyle\": \"default\"}, {\"data\": \"data02\", \"xindex\": 0, \"yindex\": 3, \"coordinates\": \"axes\", \"id\": \"el127140520787758328\", \"color\": \"#6C9BF4\", \"linewidth\": 5.0, \"dasharray\": \"none\", \"alpha\": 1, \"zorder\": 1000002.0, \"drawstyle\": \"default\"}], \"paths\": [{\"data\": \"data01\", \"xindex\": 0, \"yindex\": 1, \"coordinates\": \"axes\", \"pathcodes\": [\"M\", \"L\", \"L\", \"L\", \"Z\"], \"id\": \"el127140520787755360\", \"dasharray\": \"none\", \"alpha\": 1, \"facecolor\": \"none\", \"edgecolor\": \"none\", \"edgewidth\": 0.0, \"zorder\": 1000001.0}, {\"data\": \"data03\", \"xindex\": 0, \"yindex\": 1, \"coordinates\": \"axes\", \"pathcodes\": [\"M\", \"L\", \"S\", \"L\", \"S\", \"L\", \"S\", \"L\", \"S\", \"Z\"], \"id\": \"el127140520787639600\", \"dasharray\": \"none\", \"alpha\": 0.8, \"facecolor\": \"#E5E5E5\", \"edgecolor\": \"#CCCCCC\", \"edgewidth\": 0.5, \"zorder\": 1000000.0}], \"markers\": [], \"texts\": [{\"text\": \"label\", \"position\": [1.1167121212121212, 0.5448330573951434], \"coordinates\": \"axes\", \"h_anchor\": \"start\", \"v_baseline\": \"auto\", \"rotation\": -0.0, \"fontsize\": 9.995999999999999, \"color\": \"#000000\", \"alpha\": 1, \"zorder\": 1000003.0, \"id\": \"el127140520787640104\"}, {\"text\": \"career\", \"position\": [1.1167121212121212, 0.5103453826342899], \"coordinates\": \"axes\", \"h_anchor\": \"start\", \"v_baseline\": \"auto\", \"rotation\": -0.0, \"fontsize\": 9.995999999999999, \"color\": \"#000000\", \"alpha\": 1, \"zorder\": 1000003.0, \"id\": \"el127140520787755752\"}, {\"text\": \"food\", \"position\": [1.1167121212121212, 0.4758577078734363], \"coordinates\": \"axes\", \"h_anchor\": \"start\", \"v_baseline\": \"auto\", \"rotation\": -0.0, \"fontsize\": 9.995999999999999, \"color\": \"#000000\", \"alpha\": 1, \"zorder\": 1000003.0, \"id\": \"el127140520787756816\"}, {\"text\": \"travel\", \"position\": [1.1167121212121212, 0.4413700331125827], \"coordinates\": \"axes\", \"h_anchor\": \"start\", \"v_baseline\": \"auto\", \"rotation\": -0.0, \"fontsize\": 9.995999999999999, \"color\": \"#000000\", \"alpha\": 1, \"zorder\": 1000003.0, \"id\": \"el127140520787757880\"}], \"collections\": [], \"images\": [], \"sharex\": [], \"sharey\": []}], \"data\": {\"data01\": [[1.0662272727272728, 0.5448330573951434], [1.102287878787879, 0.5448330573951434], [1.102287878787879, 0.560923013245033], [1.0662272727272728, 0.560923013245033]], \"data02\": [[1.0662272727272728, 0.5183903605592347, 0.4839026857983811, 0.4494150110375275], [1.102287878787879, 0.5183903605592347, 0.4839026857983811, 0.4494150110375275]], \"data03\": [[1.0626212121212122, 0.4275768027961736], [1.1782637085137087, 0.4275768027961736], [1.181869769119769, 0.4275768027961736], [1.181869769119769, 0.4321739330389992], [1.181869769119769, 0.5678260669610007], [1.181869769119769, 0.5724231972038263], [1.1782637085137087, 0.5724231972038263], [1.0626212121212122, 0.5724231972038263], [1.0590151515151516, 0.5724231972038263], [1.0590151515151516, 0.5678260669610007], [1.0590151515151516, 0.4321739330389992], [1.0590151515151516, 0.4275768027961736], [1.0626212121212122, 0.4275768027961736]]}, \"id\": \"el127140520788282448\", \"plugins\": [{\"type\": \"reset\"}, {\"type\": \"zoom\", \"button\": true, \"enabled\": false}, {\"type\": \"boxzoom\", \"button\": true, \"enabled\": false}]});\n",
              "   }(mpld3);\n",
              "}else if(typeof define === \"function\" && define.amd){\n",
              "   // require.js is available: use it to load d3/mpld3\n",
              "   require.config({paths: {d3: \"https://mpld3.github.io/js/d3.v3.min\"}});\n",
              "   require([\"d3\"], function(d3){\n",
              "      window.d3 = d3;\n",
              "      mpld3_load_lib(\"https://mpld3.github.io/js/mpld3.v0.3.js\", function(){\n",
              "         \n",
              "         mpld3.draw_figure(\"fig_el1271405207882824485202435751\", {\"width\": 792.0, \"height\": 576.0, \"axes\": [{\"bbox\": [0.125, 0.125, 0.7, 0.755], \"xlim\": [0.0, 1.0], \"ylim\": [0.0, 1.0], \"xdomain\": [0.0, 1.0], \"ydomain\": [0.0, 1.0], \"xscale\": \"linear\", \"yscale\": \"linear\", \"axes\": [{\"position\": \"bottom\", \"nticks\": 6, \"tickvalues\": null, \"tickformat\": null, \"scale\": \"linear\", \"fontsize\": 12.0, \"grid\": {\"gridOn\": true, \"color\": \"#FFFFFF\", \"dasharray\": \"none\", \"alpha\": 1.0}, \"visible\": true}, {\"position\": \"left\", \"nticks\": 6, \"tickvalues\": null, \"tickformat\": null, \"scale\": \"linear\", \"fontsize\": 12.0, \"grid\": {\"gridOn\": true, \"color\": \"#FFFFFF\", \"dasharray\": \"none\", \"alpha\": 1.0}, \"visible\": true}], \"axesbg\": \"#E5E5E5\", \"axesbgalpha\": null, \"zoomable\": true, \"id\": \"el127140520788365608\", \"lines\": [{\"data\": \"data02\", \"xindex\": 0, \"yindex\": 1, \"coordinates\": \"axes\", \"id\": \"el127140520787756200\", \"color\": \"#F7736A\", \"linewidth\": 5.0, \"dasharray\": \"none\", \"alpha\": 1, \"zorder\": 1000002.0, \"drawstyle\": \"default\"}, {\"data\": \"data02\", \"xindex\": 0, \"yindex\": 2, \"coordinates\": \"axes\", \"id\": \"el127140520787757264\", \"color\": \"#32B159\", \"linewidth\": 5.0, \"dasharray\": \"none\", \"alpha\": 1, \"zorder\": 1000002.0, \"drawstyle\": \"default\"}, {\"data\": \"data02\", \"xindex\": 0, \"yindex\": 3, \"coordinates\": \"axes\", \"id\": \"el127140520787758328\", \"color\": \"#6C9BF4\", \"linewidth\": 5.0, \"dasharray\": \"none\", \"alpha\": 1, \"zorder\": 1000002.0, \"drawstyle\": \"default\"}], \"paths\": [{\"data\": \"data01\", \"xindex\": 0, \"yindex\": 1, \"coordinates\": \"axes\", \"pathcodes\": [\"M\", \"L\", \"L\", \"L\", \"Z\"], \"id\": \"el127140520787755360\", \"dasharray\": \"none\", \"alpha\": 1, \"facecolor\": \"none\", \"edgecolor\": \"none\", \"edgewidth\": 0.0, \"zorder\": 1000001.0}, {\"data\": \"data03\", \"xindex\": 0, \"yindex\": 1, \"coordinates\": \"axes\", \"pathcodes\": [\"M\", \"L\", \"S\", \"L\", \"S\", \"L\", \"S\", \"L\", \"S\", \"Z\"], \"id\": \"el127140520787639600\", \"dasharray\": \"none\", \"alpha\": 0.8, \"facecolor\": \"#E5E5E5\", \"edgecolor\": \"#CCCCCC\", \"edgewidth\": 0.5, \"zorder\": 1000000.0}], \"markers\": [], \"texts\": [{\"text\": \"label\", \"position\": [1.1167121212121212, 0.5448330573951434], \"coordinates\": \"axes\", \"h_anchor\": \"start\", \"v_baseline\": \"auto\", \"rotation\": -0.0, \"fontsize\": 9.995999999999999, \"color\": \"#000000\", \"alpha\": 1, \"zorder\": 1000003.0, \"id\": \"el127140520787640104\"}, {\"text\": \"career\", \"position\": [1.1167121212121212, 0.5103453826342899], \"coordinates\": \"axes\", \"h_anchor\": \"start\", \"v_baseline\": \"auto\", \"rotation\": -0.0, \"fontsize\": 9.995999999999999, \"color\": \"#000000\", \"alpha\": 1, \"zorder\": 1000003.0, \"id\": \"el127140520787755752\"}, {\"text\": \"food\", \"position\": [1.1167121212121212, 0.4758577078734363], \"coordinates\": \"axes\", \"h_anchor\": \"start\", \"v_baseline\": \"auto\", \"rotation\": -0.0, \"fontsize\": 9.995999999999999, \"color\": \"#000000\", \"alpha\": 1, \"zorder\": 1000003.0, \"id\": \"el127140520787756816\"}, {\"text\": \"travel\", \"position\": [1.1167121212121212, 0.4413700331125827], \"coordinates\": \"axes\", \"h_anchor\": \"start\", \"v_baseline\": \"auto\", \"rotation\": -0.0, \"fontsize\": 9.995999999999999, \"color\": \"#000000\", \"alpha\": 1, \"zorder\": 1000003.0, \"id\": \"el127140520787757880\"}], \"collections\": [], \"images\": [], \"sharex\": [], \"sharey\": []}], \"data\": {\"data01\": [[1.0662272727272728, 0.5448330573951434], [1.102287878787879, 0.5448330573951434], [1.102287878787879, 0.560923013245033], [1.0662272727272728, 0.560923013245033]], \"data02\": [[1.0662272727272728, 0.5183903605592347, 0.4839026857983811, 0.4494150110375275], [1.102287878787879, 0.5183903605592347, 0.4839026857983811, 0.4494150110375275]], \"data03\": [[1.0626212121212122, 0.4275768027961736], [1.1782637085137087, 0.4275768027961736], [1.181869769119769, 0.4275768027961736], [1.181869769119769, 0.4321739330389992], [1.181869769119769, 0.5678260669610007], [1.181869769119769, 0.5724231972038263], [1.1782637085137087, 0.5724231972038263], [1.0626212121212122, 0.5724231972038263], [1.0590151515151516, 0.5724231972038263], [1.0590151515151516, 0.5678260669610007], [1.0590151515151516, 0.4321739330389992], [1.0590151515151516, 0.4275768027961736], [1.0626212121212122, 0.4275768027961736]]}, \"id\": \"el127140520788282448\", \"plugins\": [{\"type\": \"reset\"}, {\"type\": \"zoom\", \"button\": true, \"enabled\": false}, {\"type\": \"boxzoom\", \"button\": true, \"enabled\": false}]});\n",
              "      });\n",
              "    });\n",
              "}else{\n",
              "    // require.js not available: dynamically load d3 & mpld3\n",
              "    mpld3_load_lib(\"https://mpld3.github.io/js/d3.v3.min.js\", function(){\n",
              "         mpld3_load_lib(\"https://mpld3.github.io/js/mpld3.v0.3.js\", function(){\n",
              "                 \n",
              "                 mpld3.draw_figure(\"fig_el1271405207882824485202435751\", {\"width\": 792.0, \"height\": 576.0, \"axes\": [{\"bbox\": [0.125, 0.125, 0.7, 0.755], \"xlim\": [0.0, 1.0], \"ylim\": [0.0, 1.0], \"xdomain\": [0.0, 1.0], \"ydomain\": [0.0, 1.0], \"xscale\": \"linear\", \"yscale\": \"linear\", \"axes\": [{\"position\": \"bottom\", \"nticks\": 6, \"tickvalues\": null, \"tickformat\": null, \"scale\": \"linear\", \"fontsize\": 12.0, \"grid\": {\"gridOn\": true, \"color\": \"#FFFFFF\", \"dasharray\": \"none\", \"alpha\": 1.0}, \"visible\": true}, {\"position\": \"left\", \"nticks\": 6, \"tickvalues\": null, \"tickformat\": null, \"scale\": \"linear\", \"fontsize\": 12.0, \"grid\": {\"gridOn\": true, \"color\": \"#FFFFFF\", \"dasharray\": \"none\", \"alpha\": 1.0}, \"visible\": true}], \"axesbg\": \"#E5E5E5\", \"axesbgalpha\": null, \"zoomable\": true, \"id\": \"el127140520788365608\", \"lines\": [{\"data\": \"data02\", \"xindex\": 0, \"yindex\": 1, \"coordinates\": \"axes\", \"id\": \"el127140520787756200\", \"color\": \"#F7736A\", \"linewidth\": 5.0, \"dasharray\": \"none\", \"alpha\": 1, \"zorder\": 1000002.0, \"drawstyle\": \"default\"}, {\"data\": \"data02\", \"xindex\": 0, \"yindex\": 2, \"coordinates\": \"axes\", \"id\": \"el127140520787757264\", \"color\": \"#32B159\", \"linewidth\": 5.0, \"dasharray\": \"none\", \"alpha\": 1, \"zorder\": 1000002.0, \"drawstyle\": \"default\"}, {\"data\": \"data02\", \"xindex\": 0, \"yindex\": 3, \"coordinates\": \"axes\", \"id\": \"el127140520787758328\", \"color\": \"#6C9BF4\", \"linewidth\": 5.0, \"dasharray\": \"none\", \"alpha\": 1, \"zorder\": 1000002.0, \"drawstyle\": \"default\"}], \"paths\": [{\"data\": \"data01\", \"xindex\": 0, \"yindex\": 1, \"coordinates\": \"axes\", \"pathcodes\": [\"M\", \"L\", \"L\", \"L\", \"Z\"], \"id\": \"el127140520787755360\", \"dasharray\": \"none\", \"alpha\": 1, \"facecolor\": \"none\", \"edgecolor\": \"none\", \"edgewidth\": 0.0, \"zorder\": 1000001.0}, {\"data\": \"data03\", \"xindex\": 0, \"yindex\": 1, \"coordinates\": \"axes\", \"pathcodes\": [\"M\", \"L\", \"S\", \"L\", \"S\", \"L\", \"S\", \"L\", \"S\", \"Z\"], \"id\": \"el127140520787639600\", \"dasharray\": \"none\", \"alpha\": 0.8, \"facecolor\": \"#E5E5E5\", \"edgecolor\": \"#CCCCCC\", \"edgewidth\": 0.5, \"zorder\": 1000000.0}], \"markers\": [], \"texts\": [{\"text\": \"label\", \"position\": [1.1167121212121212, 0.5448330573951434], \"coordinates\": \"axes\", \"h_anchor\": \"start\", \"v_baseline\": \"auto\", \"rotation\": -0.0, \"fontsize\": 9.995999999999999, \"color\": \"#000000\", \"alpha\": 1, \"zorder\": 1000003.0, \"id\": \"el127140520787640104\"}, {\"text\": \"career\", \"position\": [1.1167121212121212, 0.5103453826342899], \"coordinates\": \"axes\", \"h_anchor\": \"start\", \"v_baseline\": \"auto\", \"rotation\": -0.0, \"fontsize\": 9.995999999999999, \"color\": \"#000000\", \"alpha\": 1, \"zorder\": 1000003.0, \"id\": \"el127140520787755752\"}, {\"text\": \"food\", \"position\": [1.1167121212121212, 0.4758577078734363], \"coordinates\": \"axes\", \"h_anchor\": \"start\", \"v_baseline\": \"auto\", \"rotation\": -0.0, \"fontsize\": 9.995999999999999, \"color\": \"#000000\", \"alpha\": 1, \"zorder\": 1000003.0, \"id\": \"el127140520787756816\"}, {\"text\": \"travel\", \"position\": [1.1167121212121212, 0.4413700331125827], \"coordinates\": \"axes\", \"h_anchor\": \"start\", \"v_baseline\": \"auto\", \"rotation\": -0.0, \"fontsize\": 9.995999999999999, \"color\": \"#000000\", \"alpha\": 1, \"zorder\": 1000003.0, \"id\": \"el127140520787757880\"}], \"collections\": [], \"images\": [], \"sharex\": [], \"sharey\": []}], \"data\": {\"data01\": [[1.0662272727272728, 0.5448330573951434], [1.102287878787879, 0.5448330573951434], [1.102287878787879, 0.560923013245033], [1.0662272727272728, 0.560923013245033]], \"data02\": [[1.0662272727272728, 0.5183903605592347, 0.4839026857983811, 0.4494150110375275], [1.102287878787879, 0.5183903605592347, 0.4839026857983811, 0.4494150110375275]], \"data03\": [[1.0626212121212122, 0.4275768027961736], [1.1782637085137087, 0.4275768027961736], [1.181869769119769, 0.4275768027961736], [1.181869769119769, 0.4321739330389992], [1.181869769119769, 0.5678260669610007], [1.181869769119769, 0.5724231972038263], [1.1782637085137087, 0.5724231972038263], [1.0626212121212122, 0.5724231972038263], [1.0590151515151516, 0.5724231972038263], [1.0590151515151516, 0.5678260669610007], [1.0590151515151516, 0.4321739330389992], [1.0590151515151516, 0.4275768027961736], [1.0626212121212122, 0.4275768027961736]]}, \"id\": \"el127140520788282448\", \"plugins\": [{\"type\": \"reset\"}, {\"type\": \"zoom\", \"button\": true, \"enabled\": false}, {\"type\": \"boxzoom\", \"button\": true, \"enabled\": false}]});\n",
              "            })\n",
              "         });\n",
              "}\n",
              "</script>"
            ],
            "text/plain": [
              "<Figure size 792x576 with 1 Axes>"
            ]
          },
          "metadata": {
            "tags": []
          }
        }
      ]
    },
    {
      "cell_type": "code",
      "metadata": {
        "id": "pk5EIOvqrNd9",
        "colab_type": "code",
        "colab": {}
      },
      "source": [
        ""
      ],
      "execution_count": 0,
      "outputs": []
    }
  ]
}