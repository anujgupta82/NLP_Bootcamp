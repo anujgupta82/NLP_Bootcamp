{
 "cells": [
  {
   "cell_type": "code",
   "execution_count": 1,
   "metadata": {},
   "outputs": [],
   "source": [
    "%reload_ext autoreload\n",
    "%autoreload 2\n",
    "%matplotlib inline"
   ]
  },
  {
   "cell_type": "code",
   "execution_count": 7,
   "metadata": {},
   "outputs": [
    {
     "data": {
      "text/plain": [
       "<module 'sys' (built-in)>"
      ]
     },
     "execution_count": 7,
     "metadata": {},
     "output_type": "execute_result"
    }
   ],
   "source": [
    "import sys  \n",
    "from imp import reload\n",
    "\n",
    "reload(sys)  \n",
    "#sys.setdefaultencoding('utf8')"
   ]
  },
  {
   "cell_type": "code",
   "execution_count": 9,
   "metadata": {},
   "outputs": [
    {
     "data": {
      "text/plain": [
       "<module 'sys' (built-in)>"
      ]
     },
     "execution_count": 9,
     "metadata": {},
     "output_type": "execute_result"
    }
   ],
   "source": [
    "import sys\n",
    "reload(sys)  \n",
    "#sys.setdefaultencoding('Cp1252')"
   ]
  },
  {
   "cell_type": "code",
   "execution_count": 10,
   "metadata": {},
   "outputs": [],
   "source": [
    "import mpld3\n",
    "mpld3.enable_notebook()"
   ]
  },
  {
   "cell_type": "code",
   "execution_count": 11,
   "metadata": {},
   "outputs": [],
   "source": [
    "import sys\n",
    "sys.path.append('../../Utils/')"
   ]
  },
  {
   "cell_type": "code",
   "execution_count": 12,
   "metadata": {},
   "outputs": [],
   "source": [
    "from pylab import rcParams\n",
    "rcParams['figure.figsize'] = 10, 10"
   ]
  },
  {
   "cell_type": "code",
   "execution_count": 13,
   "metadata": {},
   "outputs": [],
   "source": [
    "import tensorflow as tf \n",
    "import numpy as np \n",
    "import pandas as pd \n",
    "import nltk\n",
    "import math\n",
    "import random\n",
    "from sklearn.svm import SVC\n",
    "from sklearn.utils import shuffle\n",
    "from load_imdb_data import load_imdb_data\n",
    "from sklearn.linear_model import LogisticRegression\n",
    "from sklearn.model_selection import train_test_split\n",
    "from sklearn.metrics import f1_score \n",
    "from sklearn.ensemble import RandomForestClassifier\n",
    "from sklearn.ensemble import GradientBoostingClassifier\n",
    "from sklearn.metrics import accuracy_score\n",
    "from sklearn.feature_extraction.text import TfidfVectorizer\n",
    "import numpy as np \n",
    "import matplotlib.pyplot as plt \n",
    "np.random.seed(0)"
   ]
  },
  {
   "cell_type": "code",
   "execution_count": 14,
   "metadata": {},
   "outputs": [],
   "source": [
    "data = open(\"../../data/intent_data.txt\").readlines()"
   ]
  },
  {
   "cell_type": "code",
   "execution_count": 15,
   "metadata": {},
   "outputs": [],
   "source": [
    "data = data[1:]"
   ]
  },
  {
   "cell_type": "code",
   "execution_count": 16,
   "metadata": {},
   "outputs": [],
   "source": [
    "sentence = []\n",
    "labels = []\n",
    "\n",
    "for item in data:\n",
    "    temp = item.split('   ')\n",
    "    sentence.append(temp[0].strip())\n",
    "    labels.append(temp[1].strip().replace(\"\\n\", ''))"
   ]
  },
  {
   "cell_type": "code",
   "execution_count": 18,
   "metadata": {},
   "outputs": [],
   "source": [
    "#sentence = [line.decode('utf-8').strip() for line in sentence]\n",
    "sentence = [line.strip() for line in sentence]"
   ]
  },
  {
   "cell_type": "code",
   "execution_count": 19,
   "metadata": {},
   "outputs": [
    {
     "data": {
      "text/plain": [
       "(['I must look like a right weirdo .',\n",
       "  \"I really don't want to get up and get dressed for work\"],\n",
       " ['non-intent', 'trifle'])"
      ]
     },
     "execution_count": 19,
     "metadata": {},
     "output_type": "execute_result"
    }
   ],
   "source": [
    "sentence[:2], labels[:2]"
   ]
  },
  {
   "cell_type": "code",
   "execution_count": 20,
   "metadata": {},
   "outputs": [],
   "source": [
    "df = pd.DataFrame()\n",
    "df['review'] = sentence\n",
    "df['label'] = labels"
   ]
  },
  {
   "cell_type": "code",
   "execution_count": 21,
   "metadata": {},
   "outputs": [],
   "source": [
    "df = df[df['label'].isin(['food', 'travel', 'career'])]"
   ]
  },
  {
   "cell_type": "code",
   "execution_count": 22,
   "metadata": {},
   "outputs": [],
   "source": [
    "df.reset_index(drop=True, inplace=True)"
   ]
  },
  {
   "cell_type": "code",
   "execution_count": 23,
   "metadata": {},
   "outputs": [
    {
     "data": {
      "text/html": [
       "<div>\n",
       "<style scoped>\n",
       "    .dataframe tbody tr th:only-of-type {\n",
       "        vertical-align: middle;\n",
       "    }\n",
       "\n",
       "    .dataframe tbody tr th {\n",
       "        vertical-align: top;\n",
       "    }\n",
       "\n",
       "    .dataframe thead th {\n",
       "        text-align: right;\n",
       "    }\n",
       "</style>\n",
       "<table border=\"1\" class=\"dataframe\">\n",
       "  <thead>\n",
       "    <tr style=\"text-align: right;\">\n",
       "      <th></th>\n",
       "      <th>review</th>\n",
       "      <th>label</th>\n",
       "    </tr>\n",
       "  </thead>\n",
       "  <tbody>\n",
       "    <tr>\n",
       "      <th>0</th>\n",
       "      <td>I really want a hot dog . My co-workers went t...</td>\n",
       "      <td>food</td>\n",
       "    </tr>\n",
       "    <tr>\n",
       "      <th>1</th>\n",
       "      <td>I wanna go to the beach , but ... Where is the...</td>\n",
       "      <td>travel</td>\n",
       "    </tr>\n",
       "    <tr>\n",
       "      <th>2</th>\n",
       "      <td>I really look forward to Egypt next week ! Its...</td>\n",
       "      <td>travel</td>\n",
       "    </tr>\n",
       "    <tr>\n",
       "      <th>3</th>\n",
       "      <td>I should buy more oatmeal cookies .. I just at...</td>\n",
       "      <td>food</td>\n",
       "    </tr>\n",
       "    <tr>\n",
       "      <th>4</th>\n",
       "      <td>I want pancakes , should I make some ???</td>\n",
       "      <td>food</td>\n",
       "    </tr>\n",
       "  </tbody>\n",
       "</table>\n",
       "</div>"
      ],
      "text/plain": [
       "                                              review   label\n",
       "0  I really want a hot dog . My co-workers went t...    food\n",
       "1  I wanna go to the beach , but ... Where is the...  travel\n",
       "2  I really look forward to Egypt next week ! Its...  travel\n",
       "3  I should buy more oatmeal cookies .. I just at...    food\n",
       "4           I want pancakes , should I make some ???    food"
      ]
     },
     "execution_count": 23,
     "metadata": {},
     "output_type": "execute_result"
    }
   ],
   "source": [
    "df.head()"
   ]
  },
  {
   "cell_type": "code",
   "execution_count": 24,
   "metadata": {},
   "outputs": [],
   "source": [
    "def processDocs(documents, vocab_size=5000):\n",
    "    \"\"\"\n",
    "    This functions takes in a collection of documents and generates a vocabulary based on the size given in input. \n",
    "    It returns a representation for each document in the list of input documents. \n",
    "    \"\"\"\n",
    "    vocab = {} \n",
    "    doc_id = 0 \n",
    "    doc_ids = []\n",
    "    \n",
    "    for doc in documents:\n",
    "        doc_ids.append(doc_id)                          # Give an ID to each document \n",
    "        doc_id += 1\n",
    "        \n",
    "        for word in nltk.word_tokenize(doc):            # Generate a vocabulary while iterating threw the documents \n",
    "            if word not in vocab:\n",
    "                vocab[word] = 1 \n",
    "            else:\n",
    "                vocab[word] += 1\n",
    "    \n",
    "    # Extract the most frequent words based on the vocabulary size \n",
    "    freq_words_list = sorted(vocab.items(), key=lambda x: x[1], reverse=True)[:vocab_size]\n",
    "    freq_words_set = set([item[0] for item in freq_words_list])\n",
    "    \n",
    "    # Give an index to each word in vocabulary \n",
    "    word2idx = {}         \n",
    "    index_word = 0\n",
    "    for word in freq_words_set:\n",
    "        word2idx[word] = index_word\n",
    "        index_word += 1\n",
    "    word2idx['UNK'] = index_word\n",
    "    \n",
    "    doc_repr = []                          # Represent each document with representation based on the vocabulary  \n",
    "    for doc in documents:\n",
    "        temp = []\n",
    "        for w in doc:\n",
    "            if w in word2idx:\n",
    "                temp.append(word2idx[w])\n",
    "            else:\n",
    "                temp.append(word2idx['UNK'])\n",
    "        doc_repr.append(temp)\n",
    "        \n",
    "    return documents, doc_ids, word2idx, doc_repr"
   ]
  },
  {
   "cell_type": "code",
   "execution_count": 25,
   "metadata": {},
   "outputs": [],
   "source": [
    "docs, doc_ids, word2ids, doc_repr = processDocs(df['review'])"
   ]
  },
  {
   "cell_type": "code",
   "execution_count": 26,
   "metadata": {},
   "outputs": [
    {
     "data": {
      "text/plain": [
       "(591, 591, 1901, 591)"
      ]
     },
     "execution_count": 26,
     "metadata": {},
     "output_type": "execute_result"
    }
   ],
   "source": [
    "len(docs), len(doc_ids), len(word2ids), len(doc_repr)"
   ]
  },
  {
   "cell_type": "code",
   "execution_count": null,
   "metadata": {},
   "outputs": [],
   "source": []
  },
  {
   "cell_type": "markdown",
   "metadata": {},
   "source": [
    "## Architecture - PV-DM Distributed Memory version of Paragraph Vector"
   ]
  },
  {
   "cell_type": "markdown",
   "metadata": {
    "collapsed": true
   },
   "source": [
    "### Adding batchsizes for speedup"
   ]
  },
  {
   "cell_type": "code",
   "execution_count": 27,
   "metadata": {},
   "outputs": [],
   "source": [
    "bucket_list = []\n",
    "\n",
    "def generate_batch_pvdm(doc_ids, doc_repr, sample_size=10, batch_size=1000, window_size=7):\n",
    "    global bucket_list\n",
    "\n",
    "    docs_ids_to_select = list(set(doc_ids) - set(bucket_list))\n",
    "    \n",
    "    \n",
    "    if len(docs_ids_to_select) < batch_size//sample_size:\n",
    "        bucket_list = []\n",
    "        docs_ids_to_select = doc_ids\n",
    "        \n",
    "    index = 0 \n",
    "    train_wX = np.ndarray(shape=(batch_size, window_size), dtype=np.int32)\n",
    "    train_dX = np.ndarray(shape=(batch_size, 1), dtype=np.int32)\n",
    "    train_label = np.ndarray(shape=(batch_size, 1), dtype=np.int32)\n",
    "    random_docs = random.sample(docs_ids_to_select, batch_size//sample_size)    # Choose set of random documents \n",
    "\n",
    "    bucket_list += random_docs\n",
    "    \n",
    "    for id_ in random_docs:\n",
    "        for j in range(sample_size):                                 # Generating a dataset of sample size \n",
    "            random_index = random.randint(0, len(doc_repr[id_]) - window_size - 1)\n",
    "            sample_window = doc_repr[id_][random_index: random_index + window_size + 1]\n",
    "            train_wX[index] = sample_window[:-1]\n",
    "            train_dX[index] = id_\n",
    "            train_label[index] = sample_window[-1]  \n",
    "            index += 1\n",
    "    return train_wX, train_dX, train_label "
   ]
  },
  {
   "cell_type": "code",
   "execution_count": 28,
   "metadata": {},
   "outputs": [],
   "source": [
    "doc_size = len(docs)\n",
    "embedding_size_w = 100\n",
    "embedding_size_d = 100\n",
    "vocab_size = len(word2ids)\n",
    "window_size = 7\n",
    "n_neg_samples = 30\n",
    "learning_rate = 10e-6\n",
    "epochs = 10001\n",
    "batch_size=1000\n",
    "mu=0.9\n",
    "combined_embed_vector_length = embedding_size_d + embedding_size_w"
   ]
  },
  {
   "cell_type": "code",
   "execution_count": 29,
   "metadata": {},
   "outputs": [],
   "source": [
    "# Define placeholders for training \n",
    "train_wX = tf.placeholder(tf.int32, shape=[batch_size, window_size])\n",
    "train_dX = tf.placeholder(tf.int32, shape=[batch_size, 1])\n",
    "train_label = tf.placeholder(tf.int32, shape=[batch_size, 1])"
   ]
  },
  {
   "cell_type": "code",
   "execution_count": 30,
   "metadata": {},
   "outputs": [],
   "source": [
    "doc_embedding_np = np.random.randn(doc_size, embedding_size_d)/np.sqrt(doc_size + embedding_size_d)\n",
    "word_embedding_np = np.random.randn(vocab_size, embedding_size_w)/np.sqrt(vocab_size + embedding_size_w)"
   ]
  },
  {
   "cell_type": "code",
   "execution_count": 31,
   "metadata": {},
   "outputs": [],
   "source": [
    "# Define matrix for doc_embedding and word_embedding \n",
    "doc_embedding = tf.Variable(doc_embedding_np.astype(np.float32), name=\"doc_embedding\")\n",
    "word_embedding = tf.Variable(word_embedding_np.astype(np.float32),name=\"word_embedding\")"
   ]
  },
  {
   "cell_type": "code",
   "execution_count": 32,
   "metadata": {},
   "outputs": [],
   "source": [
    "# Define weights for the output unit \n",
    "weights = tf.Variable(tf.truncated_normal([vocab_size, combined_embed_vector_length], \n",
    "                                       stddev=1.0 / math.sqrt(combined_embed_vector_length)))\n",
    "biases = tf.Variable(tf.zeros(vocab_size))"
   ]
  },
  {
   "cell_type": "code",
   "execution_count": 34,
   "metadata": {},
   "outputs": [
    {
     "name": "stdout",
     "output_type": "stream",
     "text": [
      "Tensor(\"add_6:0\", shape=(1000, 100), dtype=float32) Tensor(\"embedding_lookup_7:0\", shape=(1000, 100), dtype=float32)\n"
     ]
    }
   ],
   "source": [
    "embed = []\n",
    "\n",
    "# generating a vector of size embedding_size_d\n",
    "embed_w = tf.zeros([1, embedding_size_w], dtype=tf.float32)\n",
    "\n",
    "# add all the word vecs in window_size\n",
    "for j in range(window_size):\n",
    "    embed_w += tf.nn.embedding_lookup(word_embedding, train_wX[:, j])\n",
    "embed.append(embed_w)\n",
    "\n",
    "# Add the doc2vec from the doc_embedding \n",
    "embed_d = tf.nn.embedding_lookup(doc_embedding, train_dX[:, 0])\n",
    "embed.append(embed_d)\n",
    "\n",
    "print (embed_w, embed_d)\n",
    "\n",
    "embed = tf.concat(embed, 1)"
   ]
  },
  {
   "cell_type": "code",
   "execution_count": 35,
   "metadata": {},
   "outputs": [],
   "source": [
    "loss = tf.nn.sampled_softmax_loss(weights=weights, \\\n",
    "                                  biases=biases, \\\n",
    "                                  labels=train_label, \\\n",
    "                                  inputs=embed, \\\n",
    "                                  num_sampled=n_neg_samples, \\\n",
    "                                  num_classes=vocab_size)"
   ]
  },
  {
   "cell_type": "code",
   "execution_count": 36,
   "metadata": {},
   "outputs": [],
   "source": [
    "loss = tf.reduce_mean(loss)"
   ]
  },
  {
   "cell_type": "code",
   "execution_count": 37,
   "metadata": {},
   "outputs": [],
   "source": [
    "optimizer = tf.train.AdagradOptimizer(learning_rate).minimize(loss)"
   ]
  },
  {
   "cell_type": "code",
   "execution_count": 38,
   "metadata": {},
   "outputs": [
    {
     "data": {
      "text/plain": [
       "256"
      ]
     },
     "execution_count": 38,
     "metadata": {},
     "output_type": "execute_result"
    }
   ],
   "source": [
    "import os\n",
    "os.system(\"mkdir /dev/shm/tensorflow_models\")"
   ]
  },
  {
   "cell_type": "code",
   "execution_count": 40,
   "metadata": {
    "scrolled": false
   },
   "outputs": [
    {
     "name": "stdout",
     "output_type": "stream",
     "text": [
      "Error at epoch :  0  =  2.39558482170105\n",
      "Error at epoch :  100  =  2.1010963916778564\n",
      "Error at epoch :  200  =  2.4926207065582275\n",
      "Error at epoch :  300  =  1.9733412265777588\n",
      "Error at epoch :  400  =  2.568958282470703\n",
      "Error at epoch :  500  =  2.240765333175659\n",
      "Error at epoch :  600  =  2.350950002670288\n",
      "Error at epoch :  700  =  2.4614598751068115\n",
      "Error at epoch :  800  =  2.0558061599731445\n",
      "Error at epoch :  900  =  2.5341153144836426\n",
      "Error at epoch :  1000  =  2.0842864513397217\n",
      "Error at epoch :  1100  =  2.173076629638672\n",
      "Error at epoch :  1200  =  1.8386852741241455\n",
      "Error at epoch :  1300  =  2.1438727378845215\n",
      "Error at epoch :  1400  =  1.8991338014602661\n",
      "Error at epoch :  1500  =  1.9410735368728638\n",
      "Error at epoch :  1600  =  2.2806317806243896\n",
      "Error at epoch :  1700  =  1.8958332538604736\n",
      "Error at epoch :  1800  =  2.253342390060425\n",
      "Error at epoch :  1900  =  1.7826446294784546\n",
      "Error at epoch :  2000  =  1.7984576225280762\n",
      "Error at epoch :  2100  =  2.1114745140075684\n",
      "Error at epoch :  2200  =  2.160341739654541\n",
      "Error at epoch :  2300  =  2.0552079677581787\n",
      "Error at epoch :  2400  =  2.2865214347839355\n",
      "Error at epoch :  2500  =  2.215708017349243\n",
      "Error at epoch :  2600  =  2.3182313442230225\n",
      "Error at epoch :  2700  =  2.0061490535736084\n",
      "Error at epoch :  2800  =  2.3512744903564453\n",
      "Error at epoch :  2900  =  2.067307710647583\n",
      "Error at epoch :  3000  =  2.5068068504333496\n",
      "Error at epoch :  3100  =  2.3685390949249268\n",
      "Error at epoch :  3200  =  1.9040488004684448\n",
      "Error at epoch :  3300  =  2.2997474670410156\n",
      "Error at epoch :  3400  =  2.0538012981414795\n",
      "Error at epoch :  3500  =  2.3905465602874756\n",
      "Error at epoch :  3600  =  2.208798408508301\n",
      "Error at epoch :  3700  =  1.9592089653015137\n",
      "Error at epoch :  3800  =  2.2155327796936035\n",
      "Error at epoch :  3900  =  2.298905372619629\n",
      "Error at epoch :  4000  =  2.05317759513855\n",
      "Error at epoch :  4100  =  1.9006867408752441\n",
      "Error at epoch :  4200  =  2.024078369140625\n",
      "Error at epoch :  4300  =  2.116382360458374\n",
      "Error at epoch :  4400  =  2.3750927448272705\n",
      "Error at epoch :  4500  =  2.213101387023926\n",
      "Error at epoch :  4600  =  2.360851287841797\n",
      "Error at epoch :  4700  =  2.236241340637207\n",
      "Error at epoch :  4800  =  2.1866955757141113\n",
      "Error at epoch :  4900  =  1.905767560005188\n",
      "Error at epoch :  5000  =  1.839754343032837\n",
      "Error at epoch :  5100  =  2.1858291625976562\n",
      "Error at epoch :  5200  =  2.0142478942871094\n",
      "Error at epoch :  5300  =  2.4855518341064453\n",
      "Error at epoch :  5400  =  2.3492603302001953\n",
      "Error at epoch :  5500  =  1.9631288051605225\n",
      "Error at epoch :  5600  =  2.334404706954956\n",
      "Error at epoch :  5700  =  2.1994686126708984\n",
      "Error at epoch :  5800  =  2.2509987354278564\n",
      "Error at epoch :  5900  =  2.2166717052459717\n",
      "Error at epoch :  6000  =  2.0480103492736816\n",
      "Error at epoch :  6100  =  2.147864818572998\n",
      "Error at epoch :  6200  =  1.8975070714950562\n",
      "Error at epoch :  6300  =  2.0871469974517822\n",
      "Error at epoch :  6400  =  2.127486228942871\n",
      "Error at epoch :  6500  =  2.1582319736480713\n",
      "Error at epoch :  6600  =  2.24487042427063\n",
      "Error at epoch :  6700  =  2.0659849643707275\n",
      "Error at epoch :  6800  =  2.050180196762085\n",
      "Error at epoch :  6900  =  2.4604527950286865\n",
      "Error at epoch :  7000  =  2.4309399127960205\n",
      "Error at epoch :  7100  =  2.130204200744629\n",
      "Error at epoch :  7200  =  2.0241382122039795\n",
      "Error at epoch :  7300  =  2.047891855239868\n",
      "Error at epoch :  7400  =  1.5976018905639648\n",
      "Error at epoch :  7500  =  2.098482608795166\n",
      "Error at epoch :  7600  =  2.112833023071289\n",
      "Error at epoch :  7700  =  1.8497885465621948\n",
      "Error at epoch :  7800  =  1.9038190841674805\n",
      "Error at epoch :  7900  =  2.135730504989624\n",
      "Error at epoch :  8000  =  1.7171831130981445\n",
      "Error at epoch :  8100  =  1.9552419185638428\n",
      "Error at epoch :  8200  =  2.322425603866577\n",
      "Error at epoch :  8300  =  1.9623026847839355\n",
      "Error at epoch :  8400  =  1.618682622909546\n",
      "Error at epoch :  8500  =  2.0705621242523193\n",
      "Error at epoch :  8600  =  2.282078742980957\n",
      "Error at epoch :  8700  =  1.9843318462371826\n",
      "Error at epoch :  8800  =  2.17289662361145\n",
      "Error at epoch :  8900  =  2.043933391571045\n",
      "Error at epoch :  9000  =  2.1931509971618652\n",
      "Error at epoch :  9100  =  2.0171144008636475\n",
      "Error at epoch :  9200  =  2.398125410079956\n",
      "Error at epoch :  9300  =  2.1950128078460693\n",
      "Error at epoch :  9400  =  2.2420480251312256\n",
      "Error at epoch :  9500  =  2.134838819503784\n",
      "Error at epoch :  9600  =  2.1227314472198486\n",
      "Error at epoch :  9700  =  1.941306710243225\n",
      "Error at epoch :  9800  =  2.0940394401550293\n",
      "Error at epoch :  9900  =  2.0606586933135986\n",
      "Error at epoch :  10000  =  1.5432217121124268\n",
      "Model saved in file: /dev/shm/tensorflow_models/model_pvdm_batch_training.ckpt\n"
     ]
    }
   ],
   "source": [
    "saver = tf.train.Saver()\n",
    "\n",
    "with tf.Session() as sess:\n",
    "    init = tf.global_variables_initializer()\n",
    "    sess.run(init)\n",
    "    average_loss = 0\n",
    "    \n",
    "    for step in range(epochs):\n",
    "        epoch_error = 0.0\n",
    "        temp_wX , temp_dX, temp_labels = generate_batch_pvdm(doc_ids=doc_ids, doc_repr=doc_repr)\n",
    "        feed_dict = {train_wX : temp_wX, train_dX : temp_dX,train_label : temp_labels}\n",
    "        op, l = sess.run([optimizer, loss], \n",
    "                                    feed_dict=feed_dict)\n",
    "        \n",
    "        epoch_error += l\n",
    "                \n",
    "        if step % 100 == 0:\n",
    "            print (\"Error at epoch : \", step, \" = \", epoch_error)\n",
    "            \n",
    "    save_path = saver.save(sess, \"/dev/shm/tensorflow_models/model_pvdm_batch_training.ckpt\")\n",
    "    print(\"Model saved in file: %s\" % save_path)"
   ]
  },
  {
   "cell_type": "code",
   "execution_count": null,
   "metadata": {
    "collapsed": true
   },
   "outputs": [],
   "source": []
  },
  {
   "cell_type": "markdown",
   "metadata": {},
   "source": [
    "### Evaluation of the representation "
   ]
  },
  {
   "cell_type": "code",
   "execution_count": 41,
   "metadata": {
    "scrolled": false
   },
   "outputs": [
    {
     "name": "stdout",
     "output_type": "stream",
     "text": [
      "INFO:tensorflow:Restoring parameters from /dev/shm/tensorflow_models/model_pvdm_batch_training.ckpt\n",
      "Model restored.\n"
     ]
    }
   ],
   "source": [
    "doc_pvdm = None\n",
    "\n",
    "with tf.Session() as sess:\n",
    "    saver = tf.train.Saver()\n",
    "    saver.restore(sess, \"/dev/shm/tensorflow_models/model_pvdm_batch_training.ckpt\")\n",
    "    print(\"Model restored.\")\n",
    "    doc2vec = doc_pvdm = doc_embedding.eval()\n",
    "    #performanceTest(doc2vec, list(imdb_data['sentiment']), method=None)"
   ]
  },
  {
   "cell_type": "code",
   "execution_count": 42,
   "metadata": {},
   "outputs": [
    {
     "data": {
      "text/plain": [
       "array([[ 0.06710316,  0.01522323,  0.037236  , ...,  0.06792206,\n",
       "         0.00482333,  0.01528981],\n",
       "       [ 0.0716304 , -0.05127098, -0.04832826, ...,  0.03131485,\n",
       "         0.08228817,  0.05084361],\n",
       "       [-0.01405153, -0.00910595,  0.041837  , ...,  0.02216267,\n",
       "        -0.01519922,  0.01407307],\n",
       "       ...,\n",
       "       [-0.05926265, -0.02806516, -0.04147395, ...,  0.04507519,\n",
       "        -0.03191489,  0.02484348],\n",
       "       [-0.02171955,  0.00578829, -0.02006715, ..., -0.03002608,\n",
       "         0.00851845,  0.00016619],\n",
       "       [ 0.0642072 , -0.00572014, -0.01003487, ...,  0.04401367,\n",
       "        -0.02242042, -0.04742105]], dtype=float32)"
      ]
     },
     "execution_count": 42,
     "metadata": {},
     "output_type": "execute_result"
    }
   ],
   "source": [
    "doc_pvdm"
   ]
  },
  {
   "cell_type": "code",
   "execution_count": 43,
   "metadata": {},
   "outputs": [],
   "source": [
    "from sklearn.manifold import TSNE\n",
    "model = TSNE(perplexity=50, n_iter=5000)\n",
    "Z = model.fit_transform(doc_pvdm) "
   ]
  },
  {
   "cell_type": "code",
   "execution_count": 44,
   "metadata": {},
   "outputs": [],
   "source": [
    "df['axis1'] = Z[:, 0]\n",
    "df['axis2'] = Z[:, 1]"
   ]
  },
  {
   "cell_type": "code",
   "execution_count": 45,
   "metadata": {},
   "outputs": [],
   "source": [
    "df.reset_index(drop=True, inplace=True)"
   ]
  },
  {
   "cell_type": "code",
   "execution_count": 46,
   "metadata": {},
   "outputs": [
    {
     "data": {
      "text/html": [
       "<div>\n",
       "<style scoped>\n",
       "    .dataframe tbody tr th:only-of-type {\n",
       "        vertical-align: middle;\n",
       "    }\n",
       "\n",
       "    .dataframe tbody tr th {\n",
       "        vertical-align: top;\n",
       "    }\n",
       "\n",
       "    .dataframe thead th {\n",
       "        text-align: right;\n",
       "    }\n",
       "</style>\n",
       "<table border=\"1\" class=\"dataframe\">\n",
       "  <thead>\n",
       "    <tr style=\"text-align: right;\">\n",
       "      <th></th>\n",
       "      <th>review</th>\n",
       "      <th>label</th>\n",
       "      <th>axis1</th>\n",
       "      <th>axis2</th>\n",
       "    </tr>\n",
       "  </thead>\n",
       "  <tbody>\n",
       "    <tr>\n",
       "      <th>0</th>\n",
       "      <td>I really want a hot dog . My co-workers went t...</td>\n",
       "      <td>food</td>\n",
       "      <td>-1.444408</td>\n",
       "      <td>0.317180</td>\n",
       "    </tr>\n",
       "    <tr>\n",
       "      <th>1</th>\n",
       "      <td>I wanna go to the beach , but ... Where is the...</td>\n",
       "      <td>travel</td>\n",
       "      <td>0.022460</td>\n",
       "      <td>-1.047988</td>\n",
       "    </tr>\n",
       "    <tr>\n",
       "      <th>2</th>\n",
       "      <td>I really look forward to Egypt next week ! Its...</td>\n",
       "      <td>travel</td>\n",
       "      <td>-1.654806</td>\n",
       "      <td>-0.251050</td>\n",
       "    </tr>\n",
       "    <tr>\n",
       "      <th>3</th>\n",
       "      <td>I should buy more oatmeal cookies .. I just at...</td>\n",
       "      <td>food</td>\n",
       "      <td>-0.335669</td>\n",
       "      <td>1.979056</td>\n",
       "    </tr>\n",
       "    <tr>\n",
       "      <th>4</th>\n",
       "      <td>I want pancakes , should I make some ???</td>\n",
       "      <td>food</td>\n",
       "      <td>0.564902</td>\n",
       "      <td>0.377289</td>\n",
       "    </tr>\n",
       "  </tbody>\n",
       "</table>\n",
       "</div>"
      ],
      "text/plain": [
       "                                              review   label     axis1  \\\n",
       "0  I really want a hot dog . My co-workers went t...    food -1.444408   \n",
       "1  I wanna go to the beach , but ... Where is the...  travel  0.022460   \n",
       "2  I really look forward to Egypt next week ! Its...  travel -1.654806   \n",
       "3  I should buy more oatmeal cookies .. I just at...    food -0.335669   \n",
       "4           I want pancakes , should I make some ???    food  0.564902   \n",
       "\n",
       "      axis2  \n",
       "0  0.317180  \n",
       "1 -1.047988  \n",
       "2 -0.251050  \n",
       "3  1.979056  \n",
       "4  0.377289  "
      ]
     },
     "execution_count": 46,
     "metadata": {},
     "output_type": "execute_result"
    }
   ],
   "source": [
    "df.head()"
   ]
  },
  {
   "cell_type": "code",
   "execution_count": 47,
   "metadata": {},
   "outputs": [
    {
     "name": "stderr",
     "output_type": "stream",
     "text": [
      "/home/piyush/Piyush/study/anthill/anthill/lib/python3.5/site-packages/ggplot/utils.py:81: FutureWarning: pandas.tslib is deprecated and will be removed in a future version.\n",
      "You can access Timestamp as pandas.Timestamp\n",
      "  pd.tslib.Timestamp,\n",
      "/home/piyush/Piyush/study/anthill/anthill/lib/python3.5/site-packages/ggplot/stats/smoothers.py:4: FutureWarning: The pandas.lib module is deprecated and will be removed in a future version. These are private functions and can be accessed from pandas._libs.lib instead\n",
      "  from pandas.lib import Timestamp\n"
     ]
    },
    {
     "ename": "ImportError",
     "evalue": "cannot import name 'Timestamp'",
     "output_type": "error",
     "traceback": [
      "\u001b[0;31m---------------------------------------------------------------------------\u001b[0m",
      "\u001b[0;31mImportError\u001b[0m                               Traceback (most recent call last)",
      "\u001b[0;32m<ipython-input-47-b0f182f6ff43>\u001b[0m in \u001b[0;36m<module>\u001b[0;34m()\u001b[0m\n\u001b[0;32m----> 1\u001b[0;31m \u001b[0;32mfrom\u001b[0m \u001b[0mggplot\u001b[0m \u001b[0;32mimport\u001b[0m \u001b[0;34m*\u001b[0m\u001b[0;34m\u001b[0m\u001b[0m\n\u001b[0m\u001b[1;32m      2\u001b[0m \u001b[0mggplot\u001b[0m\u001b[0;34m(\u001b[0m\u001b[0maes\u001b[0m\u001b[0;34m(\u001b[0m\u001b[0mx\u001b[0m\u001b[0;34m=\u001b[0m\u001b[0;34m'axis1'\u001b[0m\u001b[0;34m,\u001b[0m \u001b[0my\u001b[0m\u001b[0;34m=\u001b[0m\u001b[0;34m'axis2'\u001b[0m\u001b[0;34m,\u001b[0m \u001b[0mcolor\u001b[0m\u001b[0;34m=\u001b[0m\u001b[0;34m'label'\u001b[0m\u001b[0;34m)\u001b[0m\u001b[0;34m,\u001b[0m \u001b[0mdata\u001b[0m\u001b[0;34m=\u001b[0m\u001b[0mdf\u001b[0m\u001b[0;34m)\u001b[0m  \u001b[0;34m+\u001b[0m \u001b[0mgeom_point\u001b[0m\u001b[0;34m(\u001b[0m\u001b[0;34m)\u001b[0m\u001b[0;34m\u001b[0m\u001b[0m\n",
      "\u001b[0;32m~/Piyush/study/anthill/anthill/lib/python3.5/site-packages/ggplot/__init__.py\u001b[0m in \u001b[0;36m<module>\u001b[0;34m()\u001b[0m\n\u001b[1;32m     18\u001b[0m \u001b[0;34m\u001b[0m\u001b[0m\n\u001b[1;32m     19\u001b[0m \u001b[0;32mfrom\u001b[0m \u001b[0;34m.\u001b[0m\u001b[0mgeoms\u001b[0m \u001b[0;32mimport\u001b[0m \u001b[0mgeom_area\u001b[0m\u001b[0;34m,\u001b[0m \u001b[0mgeom_blank\u001b[0m\u001b[0;34m,\u001b[0m \u001b[0mgeom_boxplot\u001b[0m\u001b[0;34m,\u001b[0m \u001b[0mgeom_line\u001b[0m\u001b[0;34m,\u001b[0m \u001b[0mgeom_point\u001b[0m\u001b[0;34m,\u001b[0m \u001b[0mgeom_jitter\u001b[0m\u001b[0;34m,\u001b[0m \u001b[0mgeom_histogram\u001b[0m\u001b[0;34m,\u001b[0m \u001b[0mgeom_density\u001b[0m\u001b[0;34m,\u001b[0m \u001b[0mgeom_hline\u001b[0m\u001b[0;34m,\u001b[0m \u001b[0mgeom_vline\u001b[0m\u001b[0;34m,\u001b[0m \u001b[0mgeom_bar\u001b[0m\u001b[0;34m,\u001b[0m \u001b[0mgeom_abline\u001b[0m\u001b[0;34m,\u001b[0m \u001b[0mgeom_tile\u001b[0m\u001b[0;34m,\u001b[0m \u001b[0mgeom_rect\u001b[0m\u001b[0;34m,\u001b[0m \u001b[0mgeom_bin2d\u001b[0m\u001b[0;34m,\u001b[0m \u001b[0mgeom_step\u001b[0m\u001b[0;34m,\u001b[0m \u001b[0mgeom_text\u001b[0m\u001b[0;34m,\u001b[0m \u001b[0mgeom_path\u001b[0m\u001b[0;34m,\u001b[0m \u001b[0mgeom_ribbon\u001b[0m\u001b[0;34m,\u001b[0m \u001b[0mgeom_now_its_art\u001b[0m\u001b[0;34m,\u001b[0m \u001b[0mgeom_violin\u001b[0m\u001b[0;34m,\u001b[0m \u001b[0mgeom_errorbar\u001b[0m\u001b[0;34m,\u001b[0m \u001b[0mgeom_polygon\u001b[0m\u001b[0;34m\u001b[0m\u001b[0m\n\u001b[0;32m---> 20\u001b[0;31m \u001b[0;32mfrom\u001b[0m \u001b[0;34m.\u001b[0m\u001b[0mstats\u001b[0m \u001b[0;32mimport\u001b[0m \u001b[0mstat_smooth\u001b[0m\u001b[0;34m,\u001b[0m \u001b[0mstat_density\u001b[0m\u001b[0;34m\u001b[0m\u001b[0m\n\u001b[0m\u001b[1;32m     21\u001b[0m \u001b[0;34m\u001b[0m\u001b[0m\n\u001b[1;32m     22\u001b[0m \u001b[0;32mfrom\u001b[0m \u001b[0;34m.\u001b[0m\u001b[0mfacets\u001b[0m \u001b[0;32mimport\u001b[0m \u001b[0mfacet_wrap\u001b[0m\u001b[0;34m,\u001b[0m \u001b[0mfacet_grid\u001b[0m\u001b[0;34m,\u001b[0m \u001b[0mFacet\u001b[0m\u001b[0;34m\u001b[0m\u001b[0m\n",
      "\u001b[0;32m~/Piyush/study/anthill/anthill/lib/python3.5/site-packages/ggplot/stats/__init__.py\u001b[0m in \u001b[0;36m<module>\u001b[0;34m()\u001b[0m\n\u001b[1;32m      1\u001b[0m \u001b[0;32mfrom\u001b[0m \u001b[0;34m.\u001b[0m\u001b[0mstat_density\u001b[0m \u001b[0;32mimport\u001b[0m \u001b[0mstat_density\u001b[0m\u001b[0;34m\u001b[0m\u001b[0m\n\u001b[0;32m----> 2\u001b[0;31m \u001b[0;32mfrom\u001b[0m \u001b[0;34m.\u001b[0m\u001b[0mstat_smooth\u001b[0m \u001b[0;32mimport\u001b[0m \u001b[0mstat_smooth\u001b[0m\u001b[0;34m\u001b[0m\u001b[0m\n\u001b[0m",
      "\u001b[0;32m~/Piyush/study/anthill/anthill/lib/python3.5/site-packages/ggplot/stats/stat_smooth.py\u001b[0m in \u001b[0;36m<module>\u001b[0;34m()\u001b[0m\n\u001b[1;32m      3\u001b[0m \u001b[0;34m\u001b[0m\u001b[0m\n\u001b[1;32m      4\u001b[0m \u001b[0;32mfrom\u001b[0m \u001b[0;34m.\u001b[0m\u001b[0;34m.\u001b[0m\u001b[0mgeoms\u001b[0m\u001b[0;34m.\u001b[0m\u001b[0mgeom\u001b[0m \u001b[0;32mimport\u001b[0m \u001b[0mgeom\u001b[0m\u001b[0;34m\u001b[0m\u001b[0m\n\u001b[0;32m----> 5\u001b[0;31m \u001b[0;32mfrom\u001b[0m \u001b[0;34m.\u001b[0m \u001b[0;32mimport\u001b[0m \u001b[0msmoothers\u001b[0m\u001b[0;34m\u001b[0m\u001b[0m\n\u001b[0m\u001b[1;32m      6\u001b[0m \u001b[0;32mfrom\u001b[0m \u001b[0;34m.\u001b[0m\u001b[0;34m.\u001b[0m\u001b[0mutils\u001b[0m \u001b[0;32mimport\u001b[0m \u001b[0mis_date\u001b[0m\u001b[0;34m\u001b[0m\u001b[0m\n\u001b[1;32m      7\u001b[0m \u001b[0;34m\u001b[0m\u001b[0m\n",
      "\u001b[0;32m~/Piyush/study/anthill/anthill/lib/python3.5/site-packages/ggplot/stats/smoothers.py\u001b[0m in \u001b[0;36m<module>\u001b[0;34m()\u001b[0m\n\u001b[1;32m      2\u001b[0m                         unicode_literals)\n\u001b[1;32m      3\u001b[0m \u001b[0;32mimport\u001b[0m \u001b[0mnumpy\u001b[0m \u001b[0;32mas\u001b[0m \u001b[0mnp\u001b[0m\u001b[0;34m\u001b[0m\u001b[0m\n\u001b[0;32m----> 4\u001b[0;31m \u001b[0;32mfrom\u001b[0m \u001b[0mpandas\u001b[0m\u001b[0;34m.\u001b[0m\u001b[0mlib\u001b[0m \u001b[0;32mimport\u001b[0m \u001b[0mTimestamp\u001b[0m\u001b[0;34m\u001b[0m\u001b[0m\n\u001b[0m\u001b[1;32m      5\u001b[0m \u001b[0;32mimport\u001b[0m \u001b[0mpandas\u001b[0m \u001b[0;32mas\u001b[0m \u001b[0mpd\u001b[0m\u001b[0;34m\u001b[0m\u001b[0m\n\u001b[1;32m      6\u001b[0m \u001b[0;32mimport\u001b[0m \u001b[0mstatsmodels\u001b[0m\u001b[0;34m.\u001b[0m\u001b[0mapi\u001b[0m \u001b[0;32mas\u001b[0m \u001b[0msm\u001b[0m\u001b[0;34m\u001b[0m\u001b[0m\n",
      "\u001b[0;31mImportError\u001b[0m: cannot import name 'Timestamp'"
     ]
    }
   ],
   "source": [
    "from ggplot import *\n",
    "ggplot(aes(x='axis1', y='axis2', color='label'), data=df)  + geom_point()"
   ]
  },
  {
   "cell_type": "code",
   "execution_count": null,
   "metadata": {
    "collapsed": true
   },
   "outputs": [],
   "source": []
  }
 ],
 "metadata": {
  "kernelspec": {
   "display_name": "Python 3",
   "language": "python",
   "name": "python3"
  },
  "language_info": {
   "codemirror_mode": {
    "name": "ipython",
    "version": 3
   },
   "file_extension": ".py",
   "mimetype": "text/x-python",
   "name": "python",
   "nbconvert_exporter": "python",
   "pygments_lexer": "ipython3",
   "version": "3.5.2"
  }
 },
 "nbformat": 4,
 "nbformat_minor": 2
}
