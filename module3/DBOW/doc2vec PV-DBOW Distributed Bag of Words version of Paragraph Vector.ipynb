{
  "nbformat": 4,
  "nbformat_minor": 0,
  "metadata": {
    "kernelspec": {
      "display_name": "Python 3",
      "language": "python",
      "name": "python3"
    },
    "language_info": {
      "codemirror_mode": {
        "name": "ipython",
        "version": 3
      },
      "file_extension": ".py",
      "mimetype": "text/x-python",
      "name": "python",
      "nbconvert_exporter": "python",
      "pygments_lexer": "ipython3",
      "version": "3.5.2"
    },
    "colab": {
      "name": "doc2vec PV-DBOW Distributed Bag of Words version of Paragraph Vector.ipynb",
      "version": "0.3.2",
      "provenance": []
    }
  },
  "cells": [
    {
      "cell_type": "code",
      "metadata": {
        "id": "wtPCc3S4wvBn",
        "colab_type": "code",
        "colab": {}
      },
      "source": [
        ""
      ],
      "execution_count": 0,
      "outputs": []
    },
    {
      "cell_type": "code",
      "metadata": {
        "id": "L9xb2l9BwriQ",
        "colab_type": "code",
        "colab": {}
      },
      "source": [
        "%reload_ext autoreload\n",
        "%matplotlib inline"
      ],
      "execution_count": 0,
      "outputs": []
    },
    {
      "cell_type": "code",
      "metadata": {
        "id": "ApEKnGYDwriT",
        "colab_type": "code",
        "colab": {}
      },
      "source": [
        "import sys\n",
        "sys.path.append('/content/drive/GoogleDrive_Utils/')"
      ],
      "execution_count": 0,
      "outputs": []
    },
    {
      "cell_type": "code",
      "metadata": {
        "id": "zPaetXJUwriX",
        "colab_type": "code",
        "colab": {}
      },
      "source": [
        "import tensorflow as tf \n",
        "import numpy as np \n",
        "import pandas as pd \n",
        "import nltk\n",
        "import math\n",
        "import random\n",
        "from sklearn.svm import SVC\n",
        "from sklearn.utils import shuffle\n",
        "from load_imdb_data import load_imdb_data\n",
        "from sklearn.linear_model import LogisticRegression\n",
        "from sklearn.model_selection import train_test_split\n",
        "from sklearn.metrics import f1_score \n",
        "from sklearn.ensemble import RandomForestClassifier\n",
        "from sklearn.ensemble import GradientBoostingClassifier\n",
        "from sklearn.metrics import accuracy_score\n",
        "from sklearn.feature_extraction.text import TfidfVectorizer\n",
        "import numpy as np \n",
        "import matplotlib.pyplot as plt \n",
        "np.random.seed(0)"
      ],
      "execution_count": 0,
      "outputs": []
    },
    {
      "cell_type": "code",
      "metadata": {
        "id": "6mPrOiIpwriZ",
        "colab_type": "code",
        "colab": {}
      },
      "source": [
        "data = open(\"/content/drive/NLP_bootcamp/Data/intent_data.txt\").readlines()"
      ],
      "execution_count": 0,
      "outputs": []
    },
    {
      "cell_type": "code",
      "metadata": {
        "id": "gO0SJwaKwrid",
        "colab_type": "code",
        "colab": {}
      },
      "source": [
        "data = data[1:]"
      ],
      "execution_count": 0,
      "outputs": []
    },
    {
      "cell_type": "code",
      "metadata": {
        "id": "k9A1nqUJwrig",
        "colab_type": "code",
        "colab": {}
      },
      "source": [
        "sentence = []\n",
        "labels = []\n",
        "\n",
        "for item in data:\n",
        "    temp = item.split('   ')\n",
        "    sentence.append(temp[0].strip())\n",
        "    labels.append(temp[1].strip().replace(\"\\n\", ''))"
      ],
      "execution_count": 0,
      "outputs": []
    },
    {
      "cell_type": "code",
      "metadata": {
        "id": "5cVcg3kdwrii",
        "colab_type": "code",
        "colab": {}
      },
      "source": [
        "#sentence = [line.decode('utf-8').strip() for line in sentence]\n",
        "sentence = [line.strip() for line in sentence]"
      ],
      "execution_count": 0,
      "outputs": []
    },
    {
      "cell_type": "code",
      "metadata": {
        "id": "GjiZI7rowrim",
        "colab_type": "code",
        "colab": {}
      },
      "source": [
        "df = pd.DataFrame()\n",
        "df['review'] = sentence\n",
        "df['label'] = labels"
      ],
      "execution_count": 0,
      "outputs": []
    },
    {
      "cell_type": "code",
      "metadata": {
        "id": "HcX2baBAwrio",
        "colab_type": "code",
        "colab": {}
      },
      "source": [
        "df = df[df['label'].isin(['food', 'travel', 'career'])]"
      ],
      "execution_count": 0,
      "outputs": []
    },
    {
      "cell_type": "code",
      "metadata": {
        "id": "fDOmhVhiwris",
        "colab_type": "code",
        "colab": {}
      },
      "source": [
        "df.reset_index(drop=True, inplace=True)"
      ],
      "execution_count": 0,
      "outputs": []
    },
    {
      "cell_type": "code",
      "metadata": {
        "id": "vSFH1HvNwriw",
        "colab_type": "code",
        "colab": {},
        "outputId": "087d84e9-dced-47f9-882e-8a535b67516f"
      },
      "source": [
        "df.head()"
      ],
      "execution_count": 0,
      "outputs": [
        {
          "output_type": "execute_result",
          "data": {
            "text/html": [
              "<div>\n",
              "<style scoped>\n",
              "    .dataframe tbody tr th:only-of-type {\n",
              "        vertical-align: middle;\n",
              "    }\n",
              "\n",
              "    .dataframe tbody tr th {\n",
              "        vertical-align: top;\n",
              "    }\n",
              "\n",
              "    .dataframe thead th {\n",
              "        text-align: right;\n",
              "    }\n",
              "</style>\n",
              "<table border=\"1\" class=\"dataframe\">\n",
              "  <thead>\n",
              "    <tr style=\"text-align: right;\">\n",
              "      <th></th>\n",
              "      <th>review</th>\n",
              "      <th>label</th>\n",
              "    </tr>\n",
              "  </thead>\n",
              "  <tbody>\n",
              "    <tr>\n",
              "      <th>0</th>\n",
              "      <td>I really want a hot dog . My co-workers went t...</td>\n",
              "      <td>food</td>\n",
              "    </tr>\n",
              "    <tr>\n",
              "      <th>1</th>\n",
              "      <td>I wanna go to the beach , but ... Where is the...</td>\n",
              "      <td>travel</td>\n",
              "    </tr>\n",
              "    <tr>\n",
              "      <th>2</th>\n",
              "      <td>I really look forward to Egypt next week ! Its...</td>\n",
              "      <td>travel</td>\n",
              "    </tr>\n",
              "    <tr>\n",
              "      <th>3</th>\n",
              "      <td>I should buy more oatmeal cookies .. I just at...</td>\n",
              "      <td>food</td>\n",
              "    </tr>\n",
              "    <tr>\n",
              "      <th>4</th>\n",
              "      <td>I want pancakes , should I make some ???</td>\n",
              "      <td>food</td>\n",
              "    </tr>\n",
              "  </tbody>\n",
              "</table>\n",
              "</div>"
            ],
            "text/plain": [
              "                                              review   label\n",
              "0  I really want a hot dog . My co-workers went t...    food\n",
              "1  I wanna go to the beach , but ... Where is the...  travel\n",
              "2  I really look forward to Egypt next week ! Its...  travel\n",
              "3  I should buy more oatmeal cookies .. I just at...    food\n",
              "4           I want pancakes , should I make some ???    food"
            ]
          },
          "metadata": {
            "tags": []
          },
          "execution_count": 11
        }
      ]
    },
    {
      "cell_type": "code",
      "metadata": {
        "id": "6mwYqRqXwri1",
        "colab_type": "code",
        "colab": {}
      },
      "source": [
        "def processDocs(documents, vocab_size=5000):\n",
        "    \"\"\"\n",
        "    This functions takes in a collection of documents and generates a vocabulary based on the size given in input. \n",
        "    It returns a representation for each document in the list of input documents. \n",
        "    \"\"\"\n",
        "    vocab = {} \n",
        "    doc_id = 0 \n",
        "    doc_ids = []\n",
        "    \n",
        "    for doc in documents:\n",
        "        doc_ids.append(doc_id)                          # Give an ID to each document \n",
        "        doc_id += 1\n",
        "        \n",
        "        for word in nltk.word_tokenize(doc):            # Generate a vocabulary while iterating threw the documents \n",
        "            if word not in vocab:\n",
        "                vocab[word] = 1 \n",
        "            else:\n",
        "                vocab[word] += 1\n",
        "    \n",
        "    # Extract the most frequent words based on the vocabulary size \n",
        "    freq_words_list = sorted(vocab.items(), key=lambda x: x[1], reverse=True)[:vocab_size]\n",
        "    freq_words_set = set([item[0] for item in freq_words_list])\n",
        "    \n",
        "    # Give an index to each word in vocabulary \n",
        "    word2idx = {}         \n",
        "    index_word = 0\n",
        "    for word in freq_words_set:\n",
        "        word2idx[word] = index_word\n",
        "        index_word += 1\n",
        "    word2idx['UNK'] = index_word\n",
        "    \n",
        "    doc_repr = []                          # Represent each document with representation based on the vocabulary  \n",
        "    for doc in documents:\n",
        "        temp = []\n",
        "        for w in doc:\n",
        "            if w in word2idx:\n",
        "                temp.append(word2idx[w])\n",
        "            else:\n",
        "                temp.append(word2idx['UNK'])\n",
        "        doc_repr.append(temp)\n",
        "        \n",
        "    return documents, doc_ids, word2idx, doc_repr"
      ],
      "execution_count": 0,
      "outputs": []
    },
    {
      "cell_type": "code",
      "metadata": {
        "scrolled": true,
        "id": "FDTghqHFwri3",
        "colab_type": "code",
        "colab": {}
      },
      "source": [
        "docs, doc_ids, word2ids, doc_repr = processDocs(df['review'], vocab_size=5000)"
      ],
      "execution_count": 0,
      "outputs": []
    },
    {
      "cell_type": "code",
      "metadata": {
        "id": "2mqhDB-Zwri9",
        "colab_type": "code",
        "colab": {},
        "outputId": "5121d68e-4ddb-44c7-f4d3-349705320f42"
      },
      "source": [
        "print(len(docs), len(doc_ids), len(word2ids), len(doc_repr))"
      ],
      "execution_count": 0,
      "outputs": [
        {
          "output_type": "stream",
          "text": [
            "591 591 1901 591\n"
          ],
          "name": "stdout"
        }
      ]
    },
    {
      "cell_type": "code",
      "metadata": {
        "id": "3ZeWQSwgwrjA",
        "colab_type": "code",
        "colab": {}
      },
      "source": [
        ""
      ],
      "execution_count": 0,
      "outputs": []
    },
    {
      "cell_type": "code",
      "metadata": {
        "id": "3gSbZnnAwrjC",
        "colab_type": "code",
        "colab": {}
      },
      "source": [
        ""
      ],
      "execution_count": 0,
      "outputs": []
    },
    {
      "cell_type": "markdown",
      "metadata": {
        "id": "bxcpoOXUwrjF",
        "colab_type": "text"
      },
      "source": [
        "## Architecture - PV-DBOW Distributed Bag of Words version of Paragraph Vector"
      ]
    },
    {
      "cell_type": "markdown",
      "metadata": {
        "id": "1LZFvZiXwrjG",
        "colab_type": "text"
      },
      "source": [
        "### Adding batchsizes for speedup"
      ]
    },
    {
      "cell_type": "code",
      "metadata": {
        "id": "em5Orv--wrjH",
        "colab_type": "code",
        "colab": {}
      },
      "source": [
        "bucket_list = []\n",
        "\n",
        "def generate_batch_pvdbow(doc_ids, doc_repr, sample_size=20, batch_size=1000, window_size=7):\n",
        "    global bucket_list\n",
        "\n",
        "    docs_ids_to_select = list(set(doc_ids) - set(bucket_list))\n",
        "    \n",
        "    \n",
        "    if len(docs_ids_to_select) < batch_size//sample_size:\n",
        "        bucket_list = []\n",
        "        docs_ids_to_select = doc_ids\n",
        "        \n",
        "    index = 0 \n",
        "    train_dX = np.ndarray(shape=(batch_size, 1), dtype=np.int32)\n",
        "    train_label = np.ndarray(shape=(batch_size, window_size), dtype=np.int32)\n",
        "    random_docs = random.sample(docs_ids_to_select, batch_size//sample_size)    # Choose set of random documents \n",
        "\n",
        "    bucket_list += random_docs\n",
        "    \n",
        "    for id_ in random_docs:\n",
        "        for j in range(sample_size):                                 # Generating a dataset of sample size \n",
        "            random_index = random.randint(0, len(doc_repr[id_]) - window_size)\n",
        "            sample_window = doc_repr[id_][random_index: random_index + window_size]\n",
        "            train_dX[index] = id_\n",
        "            train_label[index] = sample_window\n",
        "            index += 1\n",
        "    return train_dX, train_label "
      ],
      "execution_count": 0,
      "outputs": []
    },
    {
      "cell_type": "code",
      "metadata": {
        "id": "78xaZHpswrjK",
        "colab_type": "code",
        "colab": {}
      },
      "source": [
        "doc_size = len(docs)\n",
        "embedding_size_d = 100\n",
        "embedding_size_w = 100\n",
        "vocab_size = len(word2ids)\n",
        "window_size = 7\n",
        "n_neg_samples = 20\n",
        "learning_rate = 10e-2\n",
        "epochs = 10001\n",
        "batch_size=1000\n",
        "mu=0.99"
      ],
      "execution_count": 0,
      "outputs": []
    },
    {
      "cell_type": "code",
      "metadata": {
        "id": "yZLygX-WwrjN",
        "colab_type": "code",
        "colab": {}
      },
      "source": [
        "# Define placeholders for training \n",
        "train_dX = tf.placeholder(tf.int32, shape=[batch_size, 1])\n",
        "train_label = tf.placeholder(tf.int32, shape=[batch_size, window_size])"
      ],
      "execution_count": 0,
      "outputs": []
    },
    {
      "cell_type": "code",
      "metadata": {
        "id": "iTyDozjIwrjP",
        "colab_type": "code",
        "colab": {}
      },
      "source": [
        "doc_embedding_np = np.random.randn(doc_size, embedding_size_d)/np.sqrt(doc_size + embedding_size_d)\n",
        "word_embedding_np = np.random.randn(vocab_size, embedding_size_w)/np.sqrt(vocab_size + embedding_size_w)"
      ],
      "execution_count": 0,
      "outputs": []
    },
    {
      "cell_type": "code",
      "metadata": {
        "id": "nZAywp7KwrjV",
        "colab_type": "code",
        "colab": {}
      },
      "source": [
        "# Define matrix for doc_embedding and word_embedding \n",
        "doc_embedding = tf.Variable(doc_embedding_np.astype(np.float32), name=\"doc_embedding\")\n",
        "word_embedding = tf.Variable(word_embedding_np.astype(np.float32),name=\"word_embedding\")"
      ],
      "execution_count": 0,
      "outputs": []
    },
    {
      "cell_type": "code",
      "metadata": {
        "id": "sJGwm-NDwrjc",
        "colab_type": "code",
        "colab": {}
      },
      "source": [
        "# Define weights for the output unit \n",
        "weights = tf.Variable(tf.truncated_normal([vocab_size, embedding_size_d], \n",
        "                                       stddev=1.0 / math.sqrt(vocab_size)))\n",
        "biases = tf.Variable(tf.zeros(vocab_size))"
      ],
      "execution_count": 0,
      "outputs": []
    },
    {
      "cell_type": "code",
      "metadata": {
        "id": "aPEmMU5-wrjg",
        "colab_type": "code",
        "colab": {},
        "outputId": "a0369a17-17d1-43ab-bc65-434a4394b196"
      },
      "source": [
        "print (weights.get_shape())"
      ],
      "execution_count": 0,
      "outputs": [
        {
          "output_type": "stream",
          "text": [
            "(1901, 100)\n"
          ],
          "name": "stdout"
        }
      ]
    },
    {
      "cell_type": "code",
      "metadata": {
        "id": "W79vJ3elwrji",
        "colab_type": "code",
        "colab": {}
      },
      "source": [
        "# Add the doc2vec from the doc_embedding \n",
        "embed = tf.nn.embedding_lookup(doc_embedding, train_dX[:, 0])"
      ],
      "execution_count": 0,
      "outputs": []
    },
    {
      "cell_type": "code",
      "metadata": {
        "id": "wWG5Sng1wrjl",
        "colab_type": "code",
        "colab": {}
      },
      "source": [
        "loss = tf.nn.sampled_softmax_loss(weights=weights, \\\n",
        "                                  biases=biases, \\\n",
        "                                  labels=train_label, \\\n",
        "                                  inputs=embed, \\\n",
        "                                  num_sampled=n_neg_samples, \\\n",
        "                                  num_classes=vocab_size, \\\n",
        "                                  num_true=window_size)"
      ],
      "execution_count": 0,
      "outputs": []
    },
    {
      "cell_type": "code",
      "metadata": {
        "id": "PZcQM9bMwrjp",
        "colab_type": "code",
        "colab": {}
      },
      "source": [
        "loss = tf.reduce_mean(loss)"
      ],
      "execution_count": 0,
      "outputs": []
    },
    {
      "cell_type": "code",
      "metadata": {
        "id": "iuxGkBqtwrjr",
        "colab_type": "code",
        "colab": {}
      },
      "source": [
        "optimizer = tf.train.AdagradOptimizer(learning_rate).minimize(loss)"
      ],
      "execution_count": 0,
      "outputs": []
    },
    {
      "cell_type": "code",
      "metadata": {
        "id": "u2FQkGXhwrju",
        "colab_type": "code",
        "colab": {},
        "outputId": "4dd90b18-3a2d-47d8-ef7d-39be10babc62"
      },
      "source": [
        "import os\n",
        "os.system(\"mkdir /dev/shm/tensorflow_models\")"
      ],
      "execution_count": 0,
      "outputs": [
        {
          "output_type": "execute_result",
          "data": {
            "text/plain": [
              "256"
            ]
          },
          "metadata": {
            "tags": []
          },
          "execution_count": 26
        }
      ]
    },
    {
      "cell_type": "code",
      "metadata": {
        "scrolled": false,
        "id": "x_HTD8LRwrjw",
        "colab_type": "code",
        "colab": {},
        "outputId": "93f2fdb9-96d6-4dc3-a0ab-a8a20656926f"
      },
      "source": [
        "saver = tf.train.Saver()\n",
        "\n",
        "with tf.Session() as sess:\n",
        "    init = tf.global_variables_initializer()\n",
        "    sess.run(init)\n",
        "    average_loss = 0\n",
        "    \n",
        "    for step in range(epochs):\n",
        "        epoch_error = 0.0\n",
        "        temp_dX, temp_labels = generate_batch_pvdbow(doc_ids=doc_ids, doc_repr=doc_repr)\n",
        "        feed_dict = {train_dX : temp_dX,train_label : temp_labels}\n",
        "        op, l = sess.run([optimizer, loss], \n",
        "                                    feed_dict=feed_dict)\n",
        "        \n",
        "        epoch_error += l\n",
        "                \n",
        "        if step % 1000 == 0:\n",
        "            print (\"Error at epoch : \", step, \" = \", epoch_error)\n",
        "            \n",
        "    save_path = saver.save(sess, \"/dev/shm/tensorflow_models/model_pvdbow_batch_training.ckpt\")\n",
        "    print(\"Model saved in file: %s\" % save_path)"
      ],
      "execution_count": 0,
      "outputs": [
        {
          "output_type": "stream",
          "text": [
            "Error at epoch :  0  =  2.4073591232299805\n",
            "Error at epoch :  1000  =  2.109384059906006\n",
            "Error at epoch :  2000  =  2.143552541732788\n",
            "Error at epoch :  3000  =  2.014096260070801\n",
            "Error at epoch :  4000  =  1.9974722862243652\n",
            "Error at epoch :  5000  =  2.0209951400756836\n",
            "Error at epoch :  6000  =  1.9960951805114746\n",
            "Error at epoch :  7000  =  1.9878110885620117\n",
            "Error at epoch :  8000  =  1.9969727993011475\n",
            "Error at epoch :  9000  =  1.9778573513031006\n",
            "Error at epoch :  10000  =  1.9885063171386719\n",
            "Model saved in file: /dev/shm/tensorflow_models/model_pvdbow_batch_training.ckpt\n"
          ],
          "name": "stdout"
        }
      ]
    },
    {
      "cell_type": "code",
      "metadata": {
        "id": "Y1gKQiSiwrjz",
        "colab_type": "code",
        "colab": {}
      },
      "source": [
        ""
      ],
      "execution_count": 0,
      "outputs": []
    },
    {
      "cell_type": "markdown",
      "metadata": {
        "id": "4Qw9sAl9wrj3",
        "colab_type": "text"
      },
      "source": [
        "### Evaluation of the representation "
      ]
    },
    {
      "cell_type": "code",
      "metadata": {
        "id": "TR27TX7iwrj4",
        "colab_type": "code",
        "colab": {},
        "outputId": "44c7cc41-2f8a-41c9-d5c5-76c6eef62705"
      },
      "source": [
        "doc_pvdbow = None\n",
        "\n",
        "with tf.Session() as sess:\n",
        "    saver = tf.train.Saver()\n",
        "    saver.restore(sess, \"/dev/shm/tensorflow_models/model_pvdbow_batch_training.ckpt\")\n",
        "    print(\"Model restored.\")\n",
        "    doc2vec = doc_pvdbow = doc_embedding.eval()\n",
        "    #performanceTest(doc2vec, list(imdb_data['sentiment']), method=None)"
      ],
      "execution_count": 0,
      "outputs": [
        {
          "output_type": "stream",
          "text": [
            "INFO:tensorflow:Restoring parameters from /dev/shm/tensorflow_models/model_pvdbow_batch_training.ckpt\n",
            "Model restored.\n"
          ],
          "name": "stdout"
        }
      ]
    },
    {
      "cell_type": "code",
      "metadata": {
        "id": "SUTECvowwrj8",
        "colab_type": "code",
        "colab": {}
      },
      "source": [
        "from sklearn.manifold import TSNE\n",
        "model = TSNE(perplexity=50, n_iter=5000)\n",
        "Z = model.fit_transform(doc_pvdbow) "
      ],
      "execution_count": 0,
      "outputs": []
    },
    {
      "cell_type": "code",
      "metadata": {
        "id": "nojU2BiDwrkA",
        "colab_type": "code",
        "colab": {}
      },
      "source": [
        "df['axis1'] = Z[:, 0]\n",
        "df['axis2'] = Z[:, 1]"
      ],
      "execution_count": 0,
      "outputs": []
    },
    {
      "cell_type": "code",
      "metadata": {
        "id": "H3FbMjEXwrkE",
        "colab_type": "code",
        "colab": {}
      },
      "source": [
        "df.reset_index(drop=True, inplace=True)"
      ],
      "execution_count": 0,
      "outputs": []
    },
    {
      "cell_type": "code",
      "metadata": {
        "id": "wD2rIQw-wrkH",
        "colab_type": "code",
        "colab": {},
        "outputId": "40fa1e09-8e6d-4cbd-f504-239a4a084436"
      },
      "source": [
        "df.head()"
      ],
      "execution_count": 0,
      "outputs": [
        {
          "output_type": "execute_result",
          "data": {
            "text/html": [
              "<div>\n",
              "<style scoped>\n",
              "    .dataframe tbody tr th:only-of-type {\n",
              "        vertical-align: middle;\n",
              "    }\n",
              "\n",
              "    .dataframe tbody tr th {\n",
              "        vertical-align: top;\n",
              "    }\n",
              "\n",
              "    .dataframe thead th {\n",
              "        text-align: right;\n",
              "    }\n",
              "</style>\n",
              "<table border=\"1\" class=\"dataframe\">\n",
              "  <thead>\n",
              "    <tr style=\"text-align: right;\">\n",
              "      <th></th>\n",
              "      <th>review</th>\n",
              "      <th>label</th>\n",
              "      <th>axis1</th>\n",
              "      <th>axis2</th>\n",
              "    </tr>\n",
              "  </thead>\n",
              "  <tbody>\n",
              "    <tr>\n",
              "      <th>0</th>\n",
              "      <td>I really want a hot dog . My co-workers went t...</td>\n",
              "      <td>food</td>\n",
              "      <td>0.567406</td>\n",
              "      <td>-2.897944</td>\n",
              "    </tr>\n",
              "    <tr>\n",
              "      <th>1</th>\n",
              "      <td>I wanna go to the beach , but ... Where is the...</td>\n",
              "      <td>travel</td>\n",
              "      <td>-1.261111</td>\n",
              "      <td>-2.092740</td>\n",
              "    </tr>\n",
              "    <tr>\n",
              "      <th>2</th>\n",
              "      <td>I really look forward to Egypt next week ! Its...</td>\n",
              "      <td>travel</td>\n",
              "      <td>-0.510877</td>\n",
              "      <td>-2.661244</td>\n",
              "    </tr>\n",
              "    <tr>\n",
              "      <th>3</th>\n",
              "      <td>I should buy more oatmeal cookies .. I just at...</td>\n",
              "      <td>food</td>\n",
              "      <td>-0.545468</td>\n",
              "      <td>-2.346704</td>\n",
              "    </tr>\n",
              "    <tr>\n",
              "      <th>4</th>\n",
              "      <td>I want pancakes , should I make some ???</td>\n",
              "      <td>food</td>\n",
              "      <td>1.548381</td>\n",
              "      <td>-3.218254</td>\n",
              "    </tr>\n",
              "  </tbody>\n",
              "</table>\n",
              "</div>"
            ],
            "text/plain": [
              "                                              review   label     axis1  \\\n",
              "0  I really want a hot dog . My co-workers went t...    food  0.567406   \n",
              "1  I wanna go to the beach , but ... Where is the...  travel -1.261111   \n",
              "2  I really look forward to Egypt next week ! Its...  travel -0.510877   \n",
              "3  I should buy more oatmeal cookies .. I just at...    food -0.545468   \n",
              "4           I want pancakes , should I make some ???    food  1.548381   \n",
              "\n",
              "      axis2  \n",
              "0 -2.897944  \n",
              "1 -2.092740  \n",
              "2 -2.661244  \n",
              "3 -2.346704  \n",
              "4 -3.218254  "
            ]
          },
          "metadata": {
            "tags": []
          },
          "execution_count": 32
        }
      ]
    },
    {
      "cell_type": "code",
      "metadata": {
        "id": "VGcXhHFCwrkJ",
        "colab_type": "code",
        "colab": {},
        "outputId": "c3608ede-787f-4db4-e84d-2ce90a315cbd"
      },
      "source": [
        "from ggplot import *\n",
        "myplot = ggplot(aes(x='axis1', y='axis2', color='label'), data=df)  + geom_point()\n",
        "myplot.save('myplot.png')"
      ],
      "execution_count": 0,
      "outputs": [
        {
          "output_type": "display_data",
          "data": {
            "image/png": "[encoded data removed]",
            "text/plain": [
              "<Figure size 792x576 with 1 Axes>"
            ]
          },
          "metadata": {
            "tags": []
          }
        }
      ]
    },
    {
      "cell_type": "code",
      "metadata": {
        "id": "JNcmbYDwwrkL",
        "colab_type": "code",
        "colab": {}
      },
      "source": [
        ""
      ],
      "execution_count": 0,
      "outputs": []
    }
  ]
}