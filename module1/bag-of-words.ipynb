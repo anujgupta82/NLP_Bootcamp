{
  "nbformat": 4,
  "nbformat_minor": 0,
  "metadata": {
    "kernelspec": {
      "name": "python3",
      "display_name": "Python 3"
    },
    "language_info": {
      "codemirror_mode": {
        "name": "ipython",
        "version": 3
      },
      "file_extension": ".py",
      "mimetype": "text/x-python",
      "name": "python",
      "nbconvert_exporter": "python",
      "pygments_lexer": "ipython3",
      "version": "3.5.2"
    },
    "colab": {
      "name": "bag-of-words.ipynb",
      "version": "0.3.2",
      "provenance": []
    },
    "accelerator": "GPU"
  },
  "cells": [
    {
      "cell_type": "code",
      "metadata": {
        "id": "FZSdJXGpHwny",
        "colab_type": "code",
        "colab": {}
      },
      "source": [
        "# NACHISS - CLEAN "
      ],
      "execution_count": 0,
      "outputs": []
    },
    {
      "cell_type": "code",
      "metadata": {
        "id": "uEYMZzjqGOwZ",
        "colab_type": "code",
        "colab": {
          "base_uri": "https://localhost:8080/",
          "height": 34
        },
        "outputId": "d17df101-bf0f-4871-ab77-a53f753d9198"
      },
      "source": [
        "!ls /content/drive/NLP_bootcamp/Data/training.1600000.processed.noemoticon.csv"
      ],
      "execution_count": 17,
      "outputs": [
        {
          "output_type": "stream",
          "text": [
            "/content/drive/NLP_bootcamp/Data/training.1600000.processed.noemoticon.csv\n"
          ],
          "name": "stdout"
        }
      ]
    },
    {
      "cell_type": "code",
      "metadata": {
        "id": "pnOmP9HdFcTZ",
        "colab_type": "code",
        "colab": {
          "base_uri": "https://localhost:8080/",
          "height": 52
        },
        "outputId": "33ef8769-5c4d-4e7e-901e-b36f25fa656d"
      },
      "source": [
        "%load_ext autoreload\n",
        "%autoreload 2"
      ],
      "execution_count": 18,
      "outputs": [
        {
          "output_type": "stream",
          "text": [
            "The autoreload extension is already loaded. To reload it, use:\n",
            "  %reload_ext autoreload\n"
          ],
          "name": "stdout"
        }
      ]
    },
    {
      "cell_type": "markdown",
      "metadata": {
        "id": "WGeJefi_FcTf",
        "colab_type": "text"
      },
      "source": [
        "# A simple sentiment prototype"
      ]
    },
    {
      "cell_type": "code",
      "metadata": {
        "id": "DTAJR0j3FcTg",
        "colab_type": "code",
        "colab": {}
      },
      "source": [
        "import os  # manipulate paths\n",
        "import pandas as pd  # SQL-like operations and convenience functions\n",
        "import joblib  # save and load models"
      ],
      "execution_count": 0,
      "outputs": []
    },
    {
      "cell_type": "markdown",
      "metadata": {
        "id": "A-CarBQ0FcTj",
        "colab_type": "text"
      },
      "source": [
        "Download the Sentiment140 data from [their website](http://help.sentiment140.com/for-students) or directly from [Standford site](http://cs.stanford.edu/people/alecmgo/trainingandtestdata.zip) and set `DATA_DIR` to the directory in which you have put the `CSV` files."
      ]
    },
    {
      "cell_type": "code",
      "metadata": {
        "id": "0qDB3ZqdFcTm",
        "colab_type": "code",
        "colab": {}
      },
      "source": [
        "DATA_DIR = \"/content/drive/NLP_bootcamp/Data/\"\n",
        "training_csv_file = os.path.join(DATA_DIR, 'training.1600000.processed.noemoticon.csv')"
      ],
      "execution_count": 0,
      "outputs": []
    },
    {
      "cell_type": "code",
      "metadata": {
        "id": "4Awz6PzXFcTp",
        "colab_type": "code",
        "colab": {
          "base_uri": "https://localhost:8080/",
          "height": 34
        },
        "outputId": "87bd2892-cf00-4a99-a4cd-8b525b166808"
      },
      "source": [
        "training_csv_file"
      ],
      "execution_count": 21,
      "outputs": [
        {
          "output_type": "execute_result",
          "data": {
            "text/plain": [
              "'/content/drive/NLP_bootcamp/Data/training.1600000.processed.noemoticon.csv'"
            ]
          },
          "metadata": {
            "tags": []
          },
          "execution_count": 21
        }
      ]
    },
    {
      "cell_type": "markdown",
      "metadata": {
        "id": "SRJj760aFcTu",
        "colab_type": "text"
      },
      "source": [
        "## A peek at the data"
      ]
    },
    {
      "cell_type": "code",
      "metadata": {
        "id": "4lo5WjEQFcTv",
        "colab_type": "code",
        "colab": {}
      },
      "source": [
        "names = ('polarity', 'id', 'date', 'query', 'author', 'text')\n",
        "df = pd.read_csv(training_csv_file, encoding='latin1', names=names)"
      ],
      "execution_count": 0,
      "outputs": []
    },
    {
      "cell_type": "code",
      "metadata": {
        "id": "IuRSa3v_FcTy",
        "colab_type": "code",
        "colab": {
          "base_uri": "https://localhost:8080/",
          "height": 197
        },
        "outputId": "1504a9b9-b607-4e7d-99d0-e7f39ba57599"
      },
      "source": [
        "pd.options.display.max_colwidth = 140  # allow wide columns\n",
        "df.head()  # show first 5 rows"
      ],
      "execution_count": 23,
      "outputs": [
        {
          "output_type": "execute_result",
          "data": {
            "text/html": [
              "<div>\n",
              "<style scoped>\n",
              "    .dataframe tbody tr th:only-of-type {\n",
              "        vertical-align: middle;\n",
              "    }\n",
              "\n",
              "    .dataframe tbody tr th {\n",
              "        vertical-align: top;\n",
              "    }\n",
              "\n",
              "    .dataframe thead th {\n",
              "        text-align: right;\n",
              "    }\n",
              "</style>\n",
              "<table border=\"1\" class=\"dataframe\">\n",
              "  <thead>\n",
              "    <tr style=\"text-align: right;\">\n",
              "      <th></th>\n",
              "      <th>polarity</th>\n",
              "      <th>id</th>\n",
              "      <th>date</th>\n",
              "      <th>query</th>\n",
              "      <th>author</th>\n",
              "      <th>text</th>\n",
              "    </tr>\n",
              "  </thead>\n",
              "  <tbody>\n",
              "    <tr>\n",
              "      <th>0</th>\n",
              "      <td>0</td>\n",
              "      <td>1467810369</td>\n",
              "      <td>Mon Apr 06 22:19:45 PDT 2009</td>\n",
              "      <td>NO_QUERY</td>\n",
              "      <td>_TheSpecialOne_</td>\n",
              "      <td>@switchfoot http://twitpic.com/2y1zl - Awww, that's a bummer.  You shoulda got David Carr of Third Day to do it. ;D</td>\n",
              "    </tr>\n",
              "    <tr>\n",
              "      <th>1</th>\n",
              "      <td>0</td>\n",
              "      <td>1467810672</td>\n",
              "      <td>Mon Apr 06 22:19:49 PDT 2009</td>\n",
              "      <td>NO_QUERY</td>\n",
              "      <td>scotthamilton</td>\n",
              "      <td>is upset that he can't update his Facebook by texting it... and might cry as a result  School today also. Blah!</td>\n",
              "    </tr>\n",
              "    <tr>\n",
              "      <th>2</th>\n",
              "      <td>0</td>\n",
              "      <td>1467810917</td>\n",
              "      <td>Mon Apr 06 22:19:53 PDT 2009</td>\n",
              "      <td>NO_QUERY</td>\n",
              "      <td>mattycus</td>\n",
              "      <td>@Kenichan I dived many times for the ball. Managed to save 50%  The rest go out of bounds</td>\n",
              "    </tr>\n",
              "    <tr>\n",
              "      <th>3</th>\n",
              "      <td>0</td>\n",
              "      <td>1467811184</td>\n",
              "      <td>Mon Apr 06 22:19:57 PDT 2009</td>\n",
              "      <td>NO_QUERY</td>\n",
              "      <td>ElleCTF</td>\n",
              "      <td>my whole body feels itchy and like its on fire</td>\n",
              "    </tr>\n",
              "    <tr>\n",
              "      <th>4</th>\n",
              "      <td>0</td>\n",
              "      <td>1467811193</td>\n",
              "      <td>Mon Apr 06 22:19:57 PDT 2009</td>\n",
              "      <td>NO_QUERY</td>\n",
              "      <td>Karoli</td>\n",
              "      <td>@nationwideclass no, it's not behaving at all. i'm mad. why am i here? because I can't see you all over there.</td>\n",
              "    </tr>\n",
              "  </tbody>\n",
              "</table>\n",
              "</div>"
            ],
            "text/plain": [
              "   polarity  ...                                                                                                                 text\n",
              "0         0  ...  @switchfoot http://twitpic.com/2y1zl - Awww, that's a bummer.  You shoulda got David Carr of Third Day to do it. ;D\n",
              "1         0  ...      is upset that he can't update his Facebook by texting it... and might cry as a result  School today also. Blah!\n",
              "2         0  ...                            @Kenichan I dived many times for the ball. Managed to save 50%  The rest go out of bounds\n",
              "3         0  ...                                                                      my whole body feels itchy and like its on fire \n",
              "4         0  ...      @nationwideclass no, it's not behaving at all. i'm mad. why am i here? because I can't see you all over there. \n",
              "\n",
              "[5 rows x 6 columns]"
            ]
          },
          "metadata": {
            "tags": []
          },
          "execution_count": 23
        }
      ]
    },
    {
      "cell_type": "code",
      "metadata": {
        "id": "SABNiBPfFcT2",
        "colab_type": "code",
        "colab": {
          "base_uri": "https://localhost:8080/",
          "height": 197
        },
        "outputId": "acd595f5-8825-4d39-b3c1-c5cd7afd826b"
      },
      "source": [
        "df.tail()"
      ],
      "execution_count": 24,
      "outputs": [
        {
          "output_type": "execute_result",
          "data": {
            "text/html": [
              "<div>\n",
              "<style scoped>\n",
              "    .dataframe tbody tr th:only-of-type {\n",
              "        vertical-align: middle;\n",
              "    }\n",
              "\n",
              "    .dataframe tbody tr th {\n",
              "        vertical-align: top;\n",
              "    }\n",
              "\n",
              "    .dataframe thead th {\n",
              "        text-align: right;\n",
              "    }\n",
              "</style>\n",
              "<table border=\"1\" class=\"dataframe\">\n",
              "  <thead>\n",
              "    <tr style=\"text-align: right;\">\n",
              "      <th></th>\n",
              "      <th>polarity</th>\n",
              "      <th>id</th>\n",
              "      <th>date</th>\n",
              "      <th>query</th>\n",
              "      <th>author</th>\n",
              "      <th>text</th>\n",
              "    </tr>\n",
              "  </thead>\n",
              "  <tbody>\n",
              "    <tr>\n",
              "      <th>1599995</th>\n",
              "      <td>4</td>\n",
              "      <td>2193601966</td>\n",
              "      <td>Tue Jun 16 08:40:49 PDT 2009</td>\n",
              "      <td>NO_QUERY</td>\n",
              "      <td>AmandaMarie1028</td>\n",
              "      <td>Just woke up. Having no school is the best feeling ever</td>\n",
              "    </tr>\n",
              "    <tr>\n",
              "      <th>1599996</th>\n",
              "      <td>4</td>\n",
              "      <td>2193601969</td>\n",
              "      <td>Tue Jun 16 08:40:49 PDT 2009</td>\n",
              "      <td>NO_QUERY</td>\n",
              "      <td>TheWDBoards</td>\n",
              "      <td>TheWDB.com - Very cool to hear old Walt interviews!  â« http://blip.fm/~8bmta</td>\n",
              "    </tr>\n",
              "    <tr>\n",
              "      <th>1599997</th>\n",
              "      <td>4</td>\n",
              "      <td>2193601991</td>\n",
              "      <td>Tue Jun 16 08:40:49 PDT 2009</td>\n",
              "      <td>NO_QUERY</td>\n",
              "      <td>bpbabe</td>\n",
              "      <td>Are you ready for your MoJo Makeover? Ask me for details</td>\n",
              "    </tr>\n",
              "    <tr>\n",
              "      <th>1599998</th>\n",
              "      <td>4</td>\n",
              "      <td>2193602064</td>\n",
              "      <td>Tue Jun 16 08:40:49 PDT 2009</td>\n",
              "      <td>NO_QUERY</td>\n",
              "      <td>tinydiamondz</td>\n",
              "      <td>Happy 38th Birthday to my boo of alll time!!! Tupac Amaru Shakur</td>\n",
              "    </tr>\n",
              "    <tr>\n",
              "      <th>1599999</th>\n",
              "      <td>4</td>\n",
              "      <td>2193602129</td>\n",
              "      <td>Tue Jun 16 08:40:50 PDT 2009</td>\n",
              "      <td>NO_QUERY</td>\n",
              "      <td>RyanTrevMorris</td>\n",
              "      <td>happy #charitytuesday @theNSPCC @SparksCharity @SpeakingUpH4H</td>\n",
              "    </tr>\n",
              "  </tbody>\n",
              "</table>\n",
              "</div>"
            ],
            "text/plain": [
              "         polarity  ...                                                                            text\n",
              "1599995         4  ...                        Just woke up. Having no school is the best feeling ever \n",
              "1599996         4  ...  TheWDB.com - Very cool to hear old Walt interviews!  â« http://blip.fm/~8bmta\n",
              "1599997         4  ...                       Are you ready for your MoJo Makeover? Ask me for details \n",
              "1599998         4  ...               Happy 38th Birthday to my boo of alll time!!! Tupac Amaru Shakur \n",
              "1599999         4  ...                  happy #charitytuesday @theNSPCC @SparksCharity @SpeakingUpH4H \n",
              "\n",
              "[5 rows x 6 columns]"
            ]
          },
          "metadata": {
            "tags": []
          },
          "execution_count": 24
        }
      ]
    },
    {
      "cell_type": "code",
      "metadata": {
        "id": "9wi0YWq7FcT5",
        "colab_type": "code",
        "colab": {}
      },
      "source": [
        "df['polarity'].replace({0: -1, 4: 1}, inplace=True)\n",
        "text = df['text']\n",
        "target = df['polarity'].values"
      ],
      "execution_count": 0,
      "outputs": []
    },
    {
      "cell_type": "code",
      "metadata": {
        "id": "eaG1aIs6FcT8",
        "colab_type": "code",
        "colab": {
          "base_uri": "https://localhost:8080/",
          "height": 34
        },
        "outputId": "1056d03b-195c-4b15-a72e-7a4fd73c67c8"
      },
      "source": [
        "print(len(target), len(text))"
      ],
      "execution_count": 26,
      "outputs": [
        {
          "output_type": "stream",
          "text": [
            "1600000 1600000\n"
          ],
          "name": "stdout"
        }
      ]
    },
    {
      "cell_type": "markdown",
      "metadata": {
        "id": "1a68nYeCFcUA",
        "colab_type": "text"
      },
      "source": [
        "## Train the model\n",
        "\n",
        "Set 20% of the data aside to test the trained model"
      ]
    },
    {
      "cell_type": "code",
      "metadata": {
        "id": "J2XEJaZKIdVg",
        "colab_type": "code",
        "colab": {}
      },
      "source": [
        ""
      ],
      "execution_count": 0,
      "outputs": []
    },
    {
      "cell_type": "code",
      "metadata": {
        "id": "ryOb2bEuFcUB",
        "colab_type": "code",
        "colab": {}
      },
      "source": [
        "import sklearn\n",
        "#from sklearn.cross_validation import train_test_split\n",
        "from sklearn.model_selection import train_test_split\n",
        "text_train, text_validation, target_train, target_validation = (\n",
        "    train_test_split(text, target, test_size=0.2, random_state=42)\n",
        ")"
      ],
      "execution_count": 0,
      "outputs": []
    },
    {
      "cell_type": "markdown",
      "metadata": {
        "id": "TY23KBJLFcUF",
        "colab_type": "text"
      },
      "source": [
        "Build a pipeline"
      ]
    },
    {
      "cell_type": "code",
      "metadata": {
        "id": "0Q6TF6dJFcUG",
        "colab_type": "code",
        "colab": {}
      },
      "source": [
        "from sklearn.feature_extraction.text import CountVectorizer\n",
        "from sklearn.feature_selection import SelectKBest, chi2\n",
        "from sklearn.linear_model import LogisticRegressionCV\n",
        "from sklearn.pipeline import Pipeline\n",
        "\n",
        "vectorizer = CountVectorizer(ngram_range=(1, 2), max_features=100000)\n",
        "feature_selector = SelectKBest(chi2, k=5000)\n",
        "classifier = LogisticRegressionCV(n_jobs=4)"
      ],
      "execution_count": 0,
      "outputs": []
    },
    {
      "cell_type": "markdown",
      "metadata": {
        "id": "EibTa-AkFcUJ",
        "colab_type": "text"
      },
      "source": [
        "This next cell took ~3 minutes to run on my machine"
      ]
    },
    {
      "cell_type": "code",
      "metadata": {
        "id": "cBpB3t4iFcUK",
        "colab_type": "code",
        "colab": {
          "base_uri": "https://localhost:8080/",
          "height": 87
        },
        "outputId": "1adfbf54-b932-4890-a4a5-662dedd18b5e"
      },
      "source": [
        "if os.path.exists('model.pkl'):\n",
        "    sentiment_pipeline = joblib.load('model.pkl')\n",
        "else:\n",
        "    sentiment_pipeline = Pipeline((\n",
        "        ('v', vectorizer),\n",
        "        ('f', feature_selector),\n",
        "        ('c', classifier)\n",
        "    ))\n",
        "    sentiment_pipeline.fit(text_train, target_train)\n",
        "    joblib.dump(sentiment_pipeline, 'model.pkl');"
      ],
      "execution_count": 30,
      "outputs": [
        {
          "output_type": "stream",
          "text": [
            "/usr/local/lib/python3.6/dist-packages/sklearn/model_selection/_split.py:1978: FutureWarning: The default value of cv will change from 3 to 5 in version 0.22. Specify it explicitly to silence this warning.\n",
            "  warnings.warn(CV_WARNING, FutureWarning)\n",
            "/usr/local/lib/python3.6/dist-packages/sklearn/linear_model/logistic.py:947: ConvergenceWarning: lbfgs failed to converge. Increase the number of iterations.\n",
            "  \"of iterations.\", ConvergenceWarning)\n"
          ],
          "name": "stderr"
        }
      ]
    },
    {
      "cell_type": "markdown",
      "metadata": {
        "id": "4dqJd1VgFcUN",
        "colab_type": "text"
      },
      "source": [
        "## Test the model"
      ]
    },
    {
      "cell_type": "code",
      "metadata": {
        "id": "UIQpSABAFcUN",
        "colab_type": "code",
        "colab": {
          "base_uri": "https://localhost:8080/",
          "height": 34
        },
        "outputId": "6c13cbdd-0b02-4ccd-e73f-74d1d9815fc5"
      },
      "source": [
        "print(sentiment_pipeline.predict(['bad', 'good', \"didnt like\", \"today was a good day\", \"i hate this product\"]))"
      ],
      "execution_count": 31,
      "outputs": [
        {
          "output_type": "stream",
          "text": [
            "[-1  1 -1  1 -1]\n"
          ],
          "name": "stdout"
        }
      ]
    },
    {
      "cell_type": "code",
      "metadata": {
        "id": "vWuKb5JpFcUR",
        "colab_type": "code",
        "colab": {
          "base_uri": "https://localhost:8080/",
          "height": 194
        },
        "outputId": "f4d581a4-5d23-447f-ccdc-73d00f75e9b7"
      },
      "source": [
        "for text, target in zip(text_validation[:10], target_validation[:10]):\n",
        "    print(sentiment_pipeline.predict([text])[0], target, '\\t', text)"
      ],
      "execution_count": 32,
      "outputs": [
        {
          "output_type": "stream",
          "text": [
            "1 -1 \t @chrishasboobs AHHH I HOPE YOUR OK!!! \n",
            "1 -1 \t @misstoriblack cool , i have no tweet apps  for my razr 2\n",
            "1 -1 \t @TiannaChaos i know  just family drama. its lame.hey next time u hang out with kim n u guys like have a sleepover or whatever, ill call u\n",
            "-1 -1 \t School email won't open  and I have geography stuff on there to revise! *Stupid School* :'(\n",
            "1 -1 \t upper airways problem \n",
            "-1 -1 \t Going to miss Pastor's sermon on Faith... \n",
            "1 1 \t on lunch....dj should come eat with me \n",
            "-1 -1 \t @piginthepoke oh why are you feeling like that? \n",
            "-1 -1 \t gahh noo!peyton needs to live!this is horrible \n",
            "1 1 \t @mrstessyman thank you glad you like it! There is a product review bit on the site  Enjoy knitting it!\n"
          ],
          "name": "stdout"
        }
      ]
    },
    {
      "cell_type": "code",
      "metadata": {
        "id": "wsQMxR9QFcUV",
        "colab_type": "code",
        "colab": {
          "base_uri": "https://localhost:8080/",
          "height": 34
        },
        "outputId": "84118efe-8473-406b-a108-e0e65d3613dd"
      },
      "source": [
        "sentiment_pipeline.score(text_validation, target_validation)"
      ],
      "execution_count": 33,
      "outputs": [
        {
          "output_type": "execute_result",
          "data": {
            "text/plain": [
              "0.799475"
            ]
          },
          "metadata": {
            "tags": []
          },
          "execution_count": 33
        }
      ]
    },
    {
      "cell_type": "markdown",
      "metadata": {
        "id": "pRuOg6lFFcUZ",
        "colab_type": "text"
      },
      "source": [
        "## What did the model learn?"
      ]
    },
    {
      "cell_type": "code",
      "metadata": {
        "id": "q9syYQ3uFcUa",
        "colab_type": "code",
        "colab": {}
      },
      "source": [
        "feature_names = sentiment_pipeline.steps[0][1].get_feature_names()\n",
        "feature_names = [feature_names[i] for i in \n",
        "                 sentiment_pipeline.steps[1][1].get_support(indices=True)]\n",
        "\n",
        "def show_most_informative_features(feature_names, clf, n=1000):\n",
        "    coefs_with_fns = sorted(zip(clf.coef_[0], feature_names))\n",
        "    top = zip(coefs_with_fns[:n], coefs_with_fns[:-(n + 1):-1])\n",
        "    for (coef_1, fn_1), (coef_2, fn_2) in top:\n",
        "        print(\"\\t%.4f\\t%-15s\\t\\t%.4f\\t%-15s\" % (coef_1, fn_1, coef_2, fn_2))"
      ],
      "execution_count": 0,
      "outputs": []
    },
    {
      "cell_type": "code",
      "metadata": {
        "id": "NIcE2N12FcUd",
        "colab_type": "code",
        "colab": {
          "base_uri": "https://localhost:8080/",
          "height": 1000
        },
        "outputId": "7143e1e7-fe1b-489e-cead-e57f20a8c883"
      },
      "source": [
        "show_most_informative_features(feature_names, sentiment_pipeline.steps[2][1], n=500)"
      ],
      "execution_count": 35,
      "outputs": [
        {
          "output_type": "stream",
          "text": [
            "\t-3.4419\tnot happy      \t\t2.6677\tno problem     \n",
            "\t-3.2841\tclean me       \t\t2.6432\tno worries     \n",
            "\t-2.9337\tinaperfectworld\t\t2.5395\tcannot wait    \n",
            "\t-2.9111\tnot looking    \t\t2.3148\tcant wait      \n",
            "\t-2.9024\tsad            \t\t2.2814\tno prob        \n",
            "\t-2.8635\tpassed away    \t\t2.2347\tsmiling        \n",
            "\t-2.6954\tsadly          \t\t2.1875\tnothing wrong  \n",
            "\t-2.6288\tgutted         \t\t2.1168\tnot bad        \n",
            "\t-2.6195\tnot nice       \t\t2.0543\tsad sad        \n",
            "\t-2.6100\tnot cool       \t\t1.9154\tcongratulations\n",
            "\t-2.5822\tno luck        \t\t1.8035\tfuzzball       \n",
            "\t-2.5809\tdisappointing  \t\t1.7795\tno probs       \n",
            "\t-2.5067\theartbreaking  \t\t1.7703\twelcome        \n",
            "\t-2.5044\tsadd           \t\t1.7268\tmusicmonday    \n",
            "\t-2.4769\theartbroken    \t\t1.7012\thate hate      \n",
            "\t-2.4462\tboohoo         \t\t1.6602\tsmile          \n",
            "\t-2.4255\tdontyouhate    \t\t1.6524\tyayyy          \n",
            "\t-2.4240\trip            \t\t1.6217\twoooo          \n",
            "\t-2.4006\tpoor           \t\t1.6184\tthankyou       \n",
            "\t-2.3978\tnot fun        \t\t1.5969\tjust sayin     \n",
            "\t-2.3921\tbummer         \t\t1.5835\tsmiles         \n",
            "\t-2.3649\tdepressed      \t\t1.5729\theheh          \n",
            "\t-2.3401\tbummed         \t\t1.5707\tproud          \n",
            "\t-2.3319\tcancelled      \t\t1.5599\tfollowfriday   \n",
            "\t-2.3173\tunfortunately  \t\t1.5577\tlaughter       \n",
            "\t-2.3113\tnot excited    \t\t1.5492\tgracias        \n",
            "\t-2.3092\tdepressing     \t\t1.5484\tthanks         \n",
            "\t-2.3069\tupsetting      \t\t1.5421\tamusing        \n",
            "\t-2.2919\tpakcricket     \t\t1.5403\tmy pleasure    \n",
            "\t-2.2914\theadache       \t\t1.5055\tgoodsex        \n",
            "\t-2.2688\tdevastated     \t\t1.4888\tyayy           \n",
            "\t-2.2541\tnooooo         \t\t1.4854\tfeel free      \n",
            "\t-2.2431\tfuneral        \t\t1.4813\tgiggle         \n",
            "\t-2.2319\tair france     \t\t1.4772\thehehe         \n",
            "\t-2.2275\thurts          \t\t1.4722\tthumbs up      \n",
            "\t-2.2182\truined         \t\t1.4607\tgrin           \n",
            "\t-2.2176\tboooo          \t\t1.4271\tcan wait       \n",
            "\t-2.2109\tlet down       \t\t1.4234\tblessed        \n",
            "\t-2.2002\ttaking forever \t\t1.4097\thihi           \n",
            "\t-2.1980\tmisses         \t\t1.4021\tyummm          \n",
            "\t-2.1919\tnoooooo        \t\t1.3996\tthank          \n",
            "\t-2.1791\tfed up         \t\t1.3952\tcrack me       \n",
            "\t-2.1779\tmissin         \t\t1.3943\twoohoo         \n",
            "\t-2.1760\thomesick       \t\t1.3923\thonored        \n",
            "\t-2.1757\tbooooo         \t\t1.3919\tcongrats       \n",
            "\t-2.1728\ttoothache      \t\t1.3918\tblessings      \n",
            "\t-2.1689\tnot good       \t\t1.3893\tyey            \n",
            "\t-2.1646\tpoorly         \t\t1.3816\twooooo         \n",
            "\t-2.1522\tftl            \t\t1.3751\texcellent      \n",
            "\t-2.1362\tdissapointed   \t\t1.3589\tfeels good     \n",
            "\t-2.1299\tnot enjoying   \t\t1.3546\theey           \n",
            "\t-2.1257\tdisappointed   \t\t1.3410\twhoo           \n",
            "\t-2.1125\tsaddest        \t\t1.3356\tsocial media   \n",
            "\t-2.1036\twhat wrong     \t\t1.3340\tfor following  \n",
            "\t-2.1005\tso mean        \t\t1.3307\theehee         \n",
            "\t-2.0964\tmissing        \t\t1.3283\tteehee         \n",
            "\t-2.0960\tunhappy        \t\t1.3258\tthx            \n",
            "\t-2.0929\tsaddened       \t\t1.3201\tdon forget     \n",
            "\t-2.0840\tsick           \t\t1.3179\ttnx            \n",
            "\t-2.0827\tunfair         \t\t1.3163\tcheers         \n",
            "\t-2.0776\tmeanie         \t\t1.3123\tpleasure       \n",
            "\t-2.0730\tfarrah         \t\t1.3014\theya           \n",
            "\t-2.0675\thuhuhu         \t\t1.2933\tsweetest       \n",
            "\t-2.0505\tnever reply    \t\t1.2908\thowdy          \n",
            "\t-2.0458\tsadness        \t\t1.2739\treward         \n",
            "\t-2.0445\tdied           \t\t1.2651\tawesomeness    \n",
            "\t-2.0376\tbooo           \t\t1.2641\tloving         \n",
            "\t-2.0368\tcondolences    \t\t1.2613\tglad           \n",
            "\t-2.0330\tsadface        \t\t1.2602\tstay tuned     \n",
            "\t-2.0149\tnot fair       \t\t1.2594\tnice work      \n",
            "\t-2.0134\twouldn let     \t\t1.2585\tpeaceful       \n",
            "\t-2.0067\tsucks          \t\t1.2559\tappreciated    \n",
            "\t-2.0027\tcries          \t\t1.2527\ttommcfly http  \n",
            "\t-1.9870\tmigraine       \t\t1.2523\tsad just       \n",
            "\t-1.9866\thates          \t\t1.2495\talike          \n",
            "\t-1.9785\tdreading       \t\t1.2394\trelaxed        \n",
            "\t-1.9768\tlonely         \t\t1.2352\tfound you      \n",
            "\t-1.9580\tno fun         \t\t1.2317\thehe           \n",
            "\t-1.9481\tnoooooooooo    \t\t1.2315\texcited        \n",
            "\t-1.9441\tnot feeling    \t\t1.2287\theh            \n",
            "\t-1.9357\twon let        \t\t1.2281\thooray         \n",
            "\t-1.9324\tnot funny      \t\t1.2269\tblessing       \n",
            "\t-1.9280\tcanceled       \t\t1.2250\tstoked         \n",
            "\t-1.9166\tisn good       \t\t1.2166\tfabulous       \n",
            "\t-1.9126\tfathers day    \t\t1.2111\tgoood          \n",
            "\t-1.9103\ttragic         \t\t1.2092\tyaay           \n",
            "\t-1.9025\twon work       \t\t1.2078\tugh hate       \n",
            "\t-1.9009\thappy father   \t\t1.2042\tsad but        \n",
            "\t-1.8893\tdrop by        \t\t1.2031\ttoo funny      \n",
            "\t-1.8881\tate all        \t\t1.2022\tftw            \n",
            "\t-1.8756\tunloved        \t\t1.1977\thappy          \n",
            "\t-1.8731\tmiss           \t\t1.1930\tyaaay          \n",
            "\t-1.8703\tbreaks my      \t\t1.1924\twhy thank      \n",
            "\t-1.8702\tinjured        \t\t1.1903\tlearning how   \n",
            "\t-1.8677\tcramps         \t\t1.1896\tnp             \n",
            "\t-1.8646\tsold out       \t\t1.1865\tyay            \n",
            "\t-1.8630\tiran           \t\t1.1854\twoot           \n",
            "\t-1.8607\tjury duty      \t\t1.1813\tgoooood        \n",
            "\t-1.8586\tunfortunate    \t\t1.1781\tadorable       \n",
            "\t-1.8548\tgood bye       \t\t1.1762\tthankful       \n",
            "\t-1.8547\tneda           \t\t1.1751\tdont forget    \n",
            "\t-1.8546\tupset          \t\t1.1691\tyummy          \n",
            "\t-1.8448\tno new         \t\t1.1643\thee            \n",
            "\t-1.8336\tsux            \t\t1.1549\tgrateful       \n",
            "\t-1.8324\tbroke          \t\t1.1510\tthanx          \n",
            "\t-1.8314\tcrying         \t\t1.1506\tyumm           \n",
            "\t-1.8275\tnot found      \t\t1.1414\thello          \n",
            "\t-1.8271\tnot liking     \t\t1.1385\tgoodnight      \n",
            "\t-1.8047\tnot feelin     \t\t1.1318\tlovin          \n",
            "\t-1.8042\twhy won        \t\t1.1298\tgod is         \n",
            "\t-1.7987\tcrashes        \t\t1.1285\tkindly         \n",
            "\t-1.7970\thorrible       \t\t1.1275\tnicely         \n",
            "\t-1.7926\tnot coming     \t\t1.1268\tquote          \n",
            "\t-1.7924\twont let       \t\t1.1226\twonderful      \n",
            "\t-1.7894\tstill no       \t\t1.1220\trocks          \n",
            "\t-1.7815\tthrowing up    \t\t1.1148\tsick but       \n",
            "\t-1.7791\tno good        \t\t1.1138\thow sweet      \n",
            "\t-1.7788\thappy fathers  \t\t1.1133\tawesome        \n",
            "\t-1.7703\tfeel well      \t\t1.1111\tsure thing     \n",
            "\t-1.7701\thiccups        \t\t1.1106\tgotta love     \n",
            "\t-1.7637\tnowhere to     \t\t1.1059\tgooood         \n",
            "\t-1.7636\tcoughing       \t\t1.0961\tbom dia        \n",
            "\t-1.7633\talas           \t\t1.0961\tinspired       \n",
            "\t-1.7591\twhyyyy         \t\t1.0960\tbed night      \n",
            "\t-1.7564\tnoooo          \t\t1.0905\tyum            \n",
            "\t-1.7539\thayfever       \t\t1.0897\tgoodluck       \n",
            "\t-1.7532\tbnp            \t\t1.0882\thandy          \n",
            "\t-1.7517\tnooooooo       \t\t1.0872\twe come        \n",
            "\t-1.7515\tunfortunatly   \t\t1.0830\tdon mind       \n",
            "\t-1.7495\tdownside       \t\t1.0756\thilarious      \n",
            "\t-1.7472\tsadder         \t\t1.0661\tbe sad         \n",
            "\t-1.7469\twon come       \t\t1.0542\tyessss         \n",
            "\t-1.7435\twhy must       \t\t1.0522\tpraise         \n",
            "\t-1.7371\twishin         \t\t1.0507\thugh           \n",
            "\t-1.7285\tthere goes     \t\t1.0504\tenjoying       \n",
            "\t-1.7281\twhats wrong    \t\t1.0486\tgo girl        \n",
            "\t-1.7246\tnever got      \t\t1.0474\tpleased        \n",
            "\t-1.7223\touchie         \t\t1.0440\trelaxing       \n",
            "\t-1.7194\tawful          \t\t1.0439\tat last        \n",
            "\t-1.7187\tdidn win       \t\t1.0423\tabout time     \n",
            "\t-1.7137\tfailed         \t\t1.0400\tfunniest       \n",
            "\t-1.7046\tughhhh         \t\t1.0363\tw00t           \n",
            "\t-1.6992\tboooooo        \t\t1.0333\topinion        \n",
            "\t-1.6985\tstinks         \t\t1.0326\tlaughing       \n",
            "\t-1.6966\tughhh          \t\t1.0288\tyou want       \n",
            "\t-1.6899\tfrustrated     \t\t1.0251\ttetris         \n",
            "\t-1.6888\thurting        \t\t1.0199\tcolorblindfish \n",
            "\t-1.6836\tbad luck       \t\t1.0146\tcome join      \n",
            "\t-1.6790\tbroken         \t\t1.0138\tcute           \n",
            "\t-1.6780\tlaid off       \t\t1.0132\tre good        \n",
            "\t-1.6779\trainin         \t\t1.0132\tknew you       \n",
            "\t-1.6743\tdisabled       \t\t1.0117\tpositive       \n",
            "\t-1.6736\tfeeling ill    \t\t1.0090\trealhughjackman\n",
            "\t-1.6726\tshame          \t\t1.0083\thola           \n",
            "\t-1.6697\tugh            \t\t1.0059\tfantastic      \n",
            "\t-1.6690\thmph           \t\t1.0035\tamazing        \n",
            "\t-1.6688\tfml            \t\t1.0028\tshine          \n",
            "\t-1.6667\tstruggling     \t\t1.0018\tbrilliant      \n",
            "\t-1.6612\tsummer school  \t\t1.0015\tgreetings      \n",
            "\t-1.6607\tis down        \t\t1.0008\tgoodmorning    \n",
            "\t-1.6518\tdisappointment \t\t1.0003\thiya           \n",
            "\t-1.6490\theartburn      \t\t0.9965\taww thanks     \n",
            "\t-1.6427\tpity           \t\t0.9960\tthe poor       \n",
            "\t-1.6410\twon see        \t\t0.9950\tmade my        \n",
            "\t-1.6385\tnot showing    \t\t0.9945\tpower of       \n",
            "\t-1.6365\tterrible       \t\t0.9936\tthanking       \n",
            "\t-1.6345\tstung          \t\t0.9930\tpumped         \n",
            "\t-1.6329\tignoring me    \t\t0.9899\tcool           \n",
            "\t-1.6308\tneglected      \t\t0.9859\twooo           \n",
            "\t-1.6297\tyucky          \t\t0.9845\tlike plan      \n",
            "\t-1.6287\touch           \t\t0.9844\tawsome         \n",
            "\t-1.6251\tbronchitis     \t\t0.9817\tloves          \n",
            "\t-1.6235\tnot very       \t\t0.9799\tdays until     \n",
            "\t-1.6187\tneed hug       \t\t0.9796\tttyl           \n",
            "\t-1.6176\tnot ready      \t\t0.9758\tglad could     \n",
            "\t-1.6153\t3gs            \t\t0.9740\tbliss          \n",
            "\t-1.6112\tanswer me      \t\t0.9740\tenjoy          \n",
            "\t-1.6108\tache           \t\t0.9739\tcurious        \n",
            "\t-1.6078\tmiserable      \t\t0.9713\tmultiply       \n",
            "\t-1.6075\tfeel ill       \t\t0.9696\thandsome       \n",
            "\t-1.6069\tstranded       \t\t0.9691\tunique         \n",
            "\t-1.6066\tclosed         \t\t0.9686\tfamiliar       \n",
            "\t-1.6055\tdisappeared    \t\t0.9650\tugh im         \n",
            "\t-1.6020\tdisconnected   \t\t0.9641\tcutest         \n",
            "\t-1.5942\tnoes           \t\t0.9618\twoo            \n",
            "\t-1.5902\tinfection      \t\t0.9601\tthnx           \n",
            "\t-1.5884\twithout me     \t\t0.9583\tit fun         \n",
            "\t-1.5855\thate           \t\t0.9523\thappiness      \n",
            "\t-1.5837\tdown today     \t\t0.9496\tjust wanted    \n",
            "\t-1.5816\tsucky          \t\t0.9486\ttry it         \n",
            "\t-1.5791\tran over       \t\t0.9446\tyou wanna      \n",
            "\t-1.5726\tthe er         \t\t0.9433\tprefer         \n",
            "\t-1.5715\tloosing        \t\t0.9417\tinspiring      \n",
            "\t-1.5623\tgoodbyes       \t\t0.9412\tmmmm           \n",
            "\t-1.5608\tbed alone      \t\t0.9408\tnew favorite   \n",
            "\t-1.5605\tmms            \t\t0.9397\tadore          \n",
            "\t-1.5554\tbad times      \t\t0.9392\tsweet          \n",
            "\t-1.5543\tbut but        \t\t0.9352\tluck           \n",
            "\t-1.5524\tick            \t\t0.9326\tbetter now     \n",
            "\t-1.5483\tgotta wait     \t\t0.9321\tsleep tight    \n",
            "\t-1.5405\tnot available  \t\t0.9319\tgood work      \n",
            "\t-1.5381\tno fair        \t\t0.9310\tlovely         \n",
            "\t-1.5360\ttwitter won    \t\t0.9309\taw thanks      \n",
            "\t-1.5351\tlosing         \t\t0.9293\tmyweakness     \n",
            "\t-1.5332\tsaddens        \t\t0.9203\tcutie          \n",
            "\t-1.5322\tscrewed        \t\t0.9178\trelax          \n",
            "\t-1.5305\tnot well       \t\t0.9154\tproductive     \n",
            "\t-1.5245\tcoursework     \t\t0.9130\t17 again       \n",
            "\t-1.5242\tyou thank      \t\t0.9107\thelps          \n",
            "\t-1.5237\thaving trouble \t\t0.9103\tahaha          \n",
            "\t-1.5225\targh           \t\t0.9101\tfunny          \n",
            "\t-1.5205\tdammit         \t\t0.9088\tholla          \n",
            "\t-1.5201\tcrappy         \t\t0.9080\theyyy          \n",
            "\t-1.5195\tdangit         \t\t0.9059\tis fun         \n",
            "\t-1.5180\tan end         \t\t0.9058\teveryone should\n",
            "\t-1.5178\tnever answer   \t\t0.9047\tbeauty         \n",
            "\t-1.5162\trest in        \t\t0.9014\tback later     \n",
            "\t-1.5109\tbut live       \t\t0.8989\tlove being     \n",
            "\t-1.5108\tleaving me     \t\t0.8934\tya tomorrow    \n",
            "\t-1.5106\tsuffering      \t\t0.8911\theyy           \n",
            "\t-1.5060\tgloomy         \t\t0.8881\tbored bored    \n",
            "\t-1.5048\tworried        \t\t0.8872\tjust need      \n",
            "\t-1.5047\tfather day     \t\t0.8871\tsooo excited   \n",
            "\t-1.5032\tiranelection   \t\t0.8806\tthat cute      \n",
            "\t-1.5023\tshitty         \t\t0.8793\tmmmmm          \n",
            "\t-1.5017\tgot cold       \t\t0.8787\tcompliment     \n",
            "\t-1.4982\tnever see      \t\t0.8768\tgorgeous       \n",
            "\t-1.4952\tspilled        \t\t0.8760\tneat           \n",
            "\t-1.4901\tscratched      \t\t0.8760\tits great      \n",
            "\t-1.4885\tisnt working   \t\t0.8739\tty             \n",
            "\t-1.4859\tto reality     \t\t0.8707\tiamdiddy       \n",
            "\t-1.4853\tnot playing    \t\t0.8704\twas sick       \n",
            "\t-1.4851\ttear           \t\t0.8701\tyou might      \n",
            "\t-1.4811\tsicky          \t\t0.8679\thahaha         \n",
            "\t-1.4800\tsunburned      \t\t0.8618\tlets           \n",
            "\t-1.4784\tdamnit         \t\t0.8611\twww            \n",
            "\t-1.4747\tswollen        \t\t0.8550\tbom            \n",
            "\t-1.4725\tsome reason    \t\t0.8526\tperfect        \n",
            "\t-1.4708\tfail           \t\t0.8520\tgreat news     \n",
            "\t-1.4646\tcried          \t\t0.8515\tnice           \n",
            "\t-1.4644\ttears          \t\t0.8507\tgood evening   \n",
            "\t-1.4629\tregents        \t\t0.8496\talways good    \n",
            "\t-1.4617\tbeing mean     \t\t0.8489\tlovee          \n",
            "\t-1.4607\tiphone update  \t\t0.8477\tof course      \n",
            "\t-1.4597\tburnt my       \t\t0.8457\tloves it       \n",
            "\t-1.4592\tstolen         \t\t0.8437\tgreat meeting  \n",
            "\t-1.4590\tnoooooooo      \t\t0.8436\tfly with       \n",
            "\t-1.4563\texpired        \t\t0.8400\thurts like     \n",
            "\t-1.4471\tnooo           \t\t0.8363\tentertaining   \n",
            "\t-1.4457\tno1            \t\t0.8272\tjoin me        \n",
            "\t-1.4452\tshattered      \t\t0.8267\tgiveaway       \n",
            "\t-1.4446\trained         \t\t0.8195\tsurprised      \n",
            "\t-1.4438\tgoodbye        \t\t0.8194\tfeedback       \n",
            "\t-1.4430\tfrustrating    \t\t0.8178\tgood choice    \n",
            "\t-1.4420\tstressed       \t\t0.8171\tha             \n",
            "\t-1.4406\tforgot my      \t\t0.8163\thumor          \n",
            "\t-1.4370\towie           \t\t0.8137\tmrtweet        \n",
            "\t-1.4369\thow come       \t\t0.8119\tanytime        \n",
            "\t-1.4339\thumid          \t\t0.8114\tme laugh       \n",
            "\t-1.4314\tcrushed        \t\t0.8098\tjust wondering \n",
            "\t-1.4274\tcry            \t\t0.8084\tfeatured       \n",
            "\t-1.4257\tfroze          \t\t0.8079\tin case        \n",
            "\t-1.4251\twheres         \t\t0.8073\teven better    \n",
            "\t-1.4233\twishing could  \t\t0.8070\thello there    \n",
            "\t-1.4211\tdivorce        \t\t0.8068\there come      \n",
            "\t-1.4179\tno sun         \t\t0.8046\tfresh          \n",
            "\t-1.4175\tbut nobody     \t\t0.8007\trecommendation \n",
            "\t-1.4153\tboo            \t\t0.8004\tnighty         \n",
            "\t-1.4138\tdelayed        \t\t0.7974\tcertainly      \n",
            "\t-1.4137\tbad day        \t\t0.7972\thi             \n",
            "\t-1.4122\trubbish        \t\t0.7963\taha            \n",
            "\t-1.4120\tmissed         \t\t0.7939\tsuccess        \n",
            "\t-1.4107\tsuspended      \t\t0.7937\tð¼ð            \n",
            "\t-1.4102\t30 tag         \t\t0.7930\twent well      \n",
            "\t-1.4086\tdrained        \t\t0.7912\tcelebration    \n",
            "\t-1.4073\twoe            \t\t0.7905\tpeace          \n",
            "\t-1.4057\tsob            \t\t0.7872\tlaughs         \n",
            "\t-1.4031\tno go          \t\t0.7868\twatch out      \n",
            "\t-1.4020\thuhu           \t\t0.7864\thell yeah      \n",
            "\t-1.4007\targhh          \t\t0.7844\tcoolest        \n",
            "\t-1.4001\tmuch pain      \t\t0.7827\tenjoyed        \n",
            "\t-1.3945\tashamed        \t\t0.7820\tgreat week     \n",
            "\t-1.3926\twhy can        \t\t0.7814\t100 followers  \n",
            "\t-1.3919\tsomething wrong\t\t0.7809\tchillin        \n",
            "\t-1.3900\tsniffle        \t\t0.7788\thow are        \n",
            "\t-1.3896\twe lost        \t\t0.7788\tlove this      \n",
            "\t-1.3890\tno word        \t\t0.7774\tconversation   \n",
            "\t-1.3889\tcannot         \t\t0.7770\ttalented       \n",
            "\t-1.3869\ttorn           \t\t0.7770\tchatting       \n",
            "\t-1.3864\tnot able       \t\t0.7767\thttp blip      \n",
            "\t-1.3836\tignored        \t\t0.7754\tcase you       \n",
            "\t-1.3831\tbit my         \t\t0.7753\tmuch better    \n",
            "\t-1.3810\targ            \t\t0.7743\tclever         \n",
            "\t-1.3798\tworst          \t\t0.7739\tgenius         \n",
            "\t-1.3787\tfailing        \t\t0.7735\tyesss          \n",
            "\t-1.3786\treally ill     \t\t0.7726\tget sick       \n",
            "\t-1.3735\tgrrrrrr        \t\t0.7721\tchilling       \n",
            "\t-1.3729\tvet            \t\t0.7720\theadache and   \n",
            "\t-1.3705\tleaves         \t\t0.7705\thaha           \n",
            "\t-1.3681\tlost my        \t\t0.7699\tyour thinking  \n",
            "\t-1.3637\tmourning       \t\t0.7697\tmmm            \n",
            "\t-1.3623\tgrrr           \t\t0.7696\tsweet dreams   \n",
            "\t-1.3621\tdisgusting     \t\t0.7695\tbeautiful      \n",
            "\t-1.3617\tbugger         \t\t0.7682\tuseful         \n",
            "\t-1.3614\tasthma         \t\t0.7676\thahahaha       \n",
            "\t-1.3564\twasn able      \t\t0.7675\tappreciate that\n",
            "\t-1.3522\tgross          \t\t0.7666\tworth it       \n",
            "\t-1.3502\tis ill         \t\t0.7639\thas great      \n",
            "\t-1.3486\tripped         \t\t0.7634\tof fun         \n",
            "\t-1.3485\tno iphone      \t\t0.7619\tthe lord       \n",
            "\t-1.3481\ttoo fast       \t\t0.7592\tright back     \n",
            "\t-1.3453\tcouldn make    \t\t0.7585\tcelebrating    \n",
            "\t-1.3445\tpainful        \t\t0.7559\tlakers         \n",
            "\t-1.3417\ted mcmahon     \t\t0.7555\tlong as        \n",
            "\t-1.3413\tsurgery        \t\t0.7553\tin mind        \n",
            "\t-1.3378\tos3            \t\t0.7493\tclassic        \n",
            "\t-1.3377\tyuck           \t\t0.7468\twhoop          \n",
            "\t-1.3377\tunable         \t\t0.7442\tinteresting    \n",
            "\t-1.3373\tthrow up       \t\t0.7438\trecommend      \n",
            "\t-1.3370\thating         \t\t0.7432\trockin         \n",
            "\t-1.3367\tcant           \t\t0.7428\tlet get        \n",
            "\t-1.3333\tdestroyed      \t\t0.7427\train rain      \n",
            "\t-1.3329\tcrashed        \t\t0.7402\thah            \n",
            "\t-1.3312\tboo for        \t\t0.7389\tfollow them    \n",
            "\t-1.3308\tdies           \t\t0.7374\tdon worry      \n",
            "\t-1.3306\twhat waste     \t\t0.7371\tfinally        \n",
            "\t-1.3283\tstorming       \t\t0.7331\trocking        \n",
            "\t-1.3278\tblister        \t\t0.7325\tsad and        \n",
            "\t-1.3266\tstressing      \t\t0.7321\tsweetheart     \n",
            "\t-1.3265\truining        \t\t0.7308\trules          \n",
            "\t-1.3256\tsprained       \t\t0.7296\taww thank      \n",
            "\t-1.3253\tdislike        \t\t0.7296\tjust thought   \n",
            "\t-1.3203\tno power       \t\t0.7291\tgreatest       \n",
            "\t-1.3197\tallergic       \t\t0.7284\tcoming soon    \n",
            "\t-1.3194\tsleepless night\t\t0.7275\tlove           \n",
            "\t-1.3186\tpoisoning      \t\t0.7253\tvery happy     \n",
            "\t-1.3168\thorrid         \t\t0.7250\ttwittering     \n",
            "\t-1.3168\tconcert but    \t\t0.7213\tdm me          \n",
            "\t-1.3164\trefuses        \t\t0.7200\tnow following  \n",
            "\t-1.3163\thurt           \t\t0.7191\thave beautiful \n",
            "\t-1.3156\tno bueno       \t\t0.7167\tawww thanks    \n",
            "\t-1.3155\twas hoping     \t\t0.7163\tbirthday hope  \n",
            "\t-1.3144\ttrackle        \t\t0.7157\tsad he         \n",
            "\t-1.3114\tburned         \t\t0.7147\tsmart          \n",
            "\t-1.3094\tkeeps crashing \t\t0.7146\tmariahcarey    \n",
            "\t-1.3083\tnightmare      \t\t0.7127\ttasty          \n",
            "\t-1.3061\tisn working    \t\t0.7126\tbed good       \n",
            "\t-1.3049\tmad that       \t\t0.7116\tdont worry     \n",
            "\t-1.3040\tdeleted        \t\t0.7104\tmy headache    \n",
            "\t-1.3037\tdon like       \t\t0.7098\tfeel sad       \n",
            "\t-1.3010\tnauseous       \t\t0.7098\tpoor guy       \n",
            "\t-1.2966\tlink didn      \t\t0.7092\tblast          \n",
            "\t-1.2965\tbad news       \t\t0.7084\tso exciting    \n",
            "\t-1.2962\turgh           \t\t0.7081\tgreat to       \n",
            "\t-1.2960\tdoesn look     \t\t0.7072\tcheck them     \n",
            "\t-1.2919\tnot impressed  \t\t0.7033\tmy dear        \n",
            "\t-1.2910\tcancel         \t\t0.7028\tbeing sick     \n",
            "\t-1.2908\tno friends     \t\t0.7018\twell worth     \n",
            "\t-1.2896\tsry            \t\t0.7010\treally cute    \n",
            "\t-1.2894\tbleeding       \t\t0.7008\ttweeters       \n",
            "\t-1.2888\tnever gonna    \t\t0.6997\tthat right     \n",
            "\t-1.2877\tanxiety        \t\t0.6989\tfor follow     \n",
            "\t-1.2869\tcan find       \t\t0.6989\tam happy       \n",
            "\t-1.2866\tso mad         \t\t0.6986\tstyle          \n",
            "\t-1.2852\tfeel for       \t\t0.6982\t½ï             \n",
            "\t-1.2831\tis acting      \t\t0.6964\tperhaps        \n",
            "\t-1.2829\tcant find      \t\t0.6964\tmorning good   \n",
            "\t-1.2808\tlast show      \t\t0.6962\tmuch fun       \n",
            "\t-1.2795\toh noes        \t\t0.6959\tquotes         \n",
            "\t-1.2793\tbye to         \t\t0.6957\tto hurt        \n",
            "\t-1.2773\tsniff          \t\t0.6948\tsurprise       \n",
            "\t-1.2765\tnot here       \t\t0.6944\texciting       \n",
            "\t-1.2736\tsigh           \t\t0.6941\tchallenge      \n",
            "\t-1.2726\tsorry          \t\t0.6931\thave great     \n",
            "\t-1.2722\thasnt          \t\t0.6921\tcool http      \n",
            "\t-1.2706\tdamaged        \t\t0.6900\ttweeties       \n",
            "\t-1.2677\tsucked         \t\t0.6880\thappy sunday   \n",
            "\t-1.2667\thacked         \t\t0.6878\t140            \n",
            "\t-1.2667\tfalling apart  \t\t0.6873\tto ya          \n",
            "\t-1.2650\texpensive      \t\t0.6854\ttune           \n",
            "\t-1.2640\toww            \t\t0.6853\tgood           \n",
            "\t-1.2636\tstill waiting  \t\t0.6847\tdiversity      \n",
            "\t-1.2627\tannoyed        \t\t0.6840\tdoing great    \n",
            "\t-1.2626\tscared         \t\t0.6838\tliked it       \n",
            "\t-1.2620\tstrep          \t\t0.6837\tgreat          \n",
            "\t-1.2613\tmigraines      \t\t0.6835\tbride          \n",
            "\t-1.2607\tmessed         \t\t0.6832\tfollow him     \n",
            "\t-1.2604\tgonna rain     \t\t0.6828\tvery cute      \n",
            "\t-1.2592\tdidn get       \t\t0.6827\tthe follow     \n",
            "\t-1.2565\tnever going    \t\t0.6824\tdepends        \n",
            "\t-1.2555\tboo hoo        \t\t0.6822\ttell all       \n",
            "\t-1.2533\targhhh         \t\t0.6819\ttweet was      \n",
            "\t-1.2526\thit my         \t\t0.6817\tfollow         \n",
            "\t-1.2525\tblocked        \t\t0.6789\ttomfelton      \n",
            "\t-1.2511\tnone           \t\t0.6781\tindeed         \n",
            "\t-1.2506\tby myself      \t\t0.6766\tsick of        \n",
            "\t-1.2501\tim lonely      \t\t0.6759\tgreat job      \n",
            "\t-1.2500\tso sorry       \t\t0.6745\thurts from     \n",
            "\t-1.2482\tbut me         \t\t0.6726\tthe ff         \n",
            "\t-1.2474\tcouldn go      \t\t0.6707\tmuseum         \n",
            "\t-1.2463\tfeeling down   \t\t0.6700\tit great       \n",
            "\t-1.2456\tblows          \t\t0.6688\tadventure      \n",
            "\t-1.2449\tnot getting    \t\t0.6686\tstrawberry     \n",
            "\t-1.2438\tjailbreak      \t\t0.6683\tfor asking     \n",
            "\t-1.2434\twishes he      \t\t0.6675\tgood plan      \n",
            "\t-1.2415\tlast episode   \t\t0.6657\tremember to    \n",
            "\t-1.2401\tdull           \t\t0.6655\thi there       \n",
            "\t-1.2398\tcloudy         \t\t0.6649\tcreative       \n",
            "\t-1.2386\tcoulda         \t\t0.6643\tchill          \n",
            "\t-1.2379\tfreezing       \t\t0.6638\tsang           \n",
            "\t-1.2363\tdavid carradine\t\t0.6637\ttoo cute       \n",
            "\t-1.2326\t447            \t\t0.6622\tlove my        \n",
            "\t-1.2312\tbe missed      \t\t0.6621\tyoungq         \n",
            "\t-1.2305\tneed new       \t\t0.6621\tre cool        \n",
            "\t-1.2303\tattacked       \t\t0.6615\tannoying you   \n",
            "\t-1.2303\tsuicide        \t\t0.6600\tdelicious      \n",
            "\t-1.2294\twish           \t\t0.6598\tdig            \n",
            "\t-1.2289\tlost           \t\t0.6596\tjoin us        \n",
            "\t-1.2289\tfor maintenance\t\t0.6592\thave nice      \n",
            "\t-1.2285\twhy did        \t\t0.6582\tsong of        \n",
            "\t-1.2256\twhy does       \t\t0.6582\tall is         \n",
            "\t-1.2251\twhy wont       \t\t0.6573\tblessed day    \n",
            "\t-1.2242\tmy hopes       \t\t0.6569\tkeep the       \n",
            "\t-1.2232\tfell           \t\t0.6567\tsexy           \n",
            "\t-1.2225\tisn going      \t\t0.6566\tsmile on       \n",
            "\t-1.2205\tsunburnt       \t\t0.6562\tcheck this     \n",
            "\t-1.2193\tallergies      \t\t0.6561\theaven         \n",
            "\t-1.2190\tpostponed      \t\t0.6554\tbanksyart2     \n",
            "\t-1.2164\tarent          \t\t0.6550\tre very        \n",
            "\t-1.2145\tcool especially\t\t0.6534\the he          \n",
            "\t-1.2122\tburnt          \t\t0.6530\tgot my         \n",
            "\t-1.2118\tfever          \t\t0.6528\they            \n",
            "\t-1.2111\twhere is       \t\t0.6503\ttwitterverse   \n",
            "\t-1.2107\twas looking    \t\t0.6500\tjoining        \n",
            "\t-1.2100\toh no          \t\t0.6490\tadded          \n",
            "\t-1.2088\trained out     \t\t0.6482\tits good       \n",
            "\t-1.2088\tdentist        \t\t0.6481\tallen          \n",
            "\t-1.2088\tstill havent   \t\t0.6478\tand eating     \n",
            "\t-1.2086\tughhhhh        \t\t0.6466\tbirthday wishes\n",
            "\t-1.2081\taww man        \t\t0.6456\thope to        \n",
            "\t-1.2081\tsore           \t\t0.6445\tsome fun       \n",
            "\t-1.2074\toh dear        \t\t0.6436\tlistening      \n",
            "\t-1.2074\twont work      \t\t0.6436\ttake look      \n",
            "\t-1.2067\tis leaving     \t\t0.6429\tworship        \n",
            "\t-1.2058\tthrew up       \t\t0.6415\tworry          \n",
            "\t-1.2037\twon load       \t\t0.6412\thahah          \n",
            "\t-1.2027\twishing was    \t\t0.6410\tsir            \n",
            "\t-1.1998\tuncomfortable  \t\t0.6410\tall good       \n",
            "\t-1.1986\twish was       \t\t0.6402\tat http        \n",
            "\t-1.1984\tnot having     \t\t0.6398\tgeek           \n",
            "\t-1.1976\tsaddens me     \t\t0.6395\tmay the        \n",
            "\t-1.1974\tdepression     \t\t0.6388\thave wonderful \n",
            "\t-1.1974\tacting up      \t\t0.6382\trecommendations\n",
            "\t-1.1971\tsuck           \t\t0.6374\tlove it        \n",
            "\t-1.1945\tiphone software\t\t0.6366\tretweet        \n",
            "\t-1.1935\tgetting old    \t\t0.6359\tmyspace com    \n",
            "\t-1.1922\twhat happened  \t\t0.6359\ttweeps         \n",
            "\t-1.1907\tgrr            \t\t0.6348\thow cute       \n",
            "\t-1.1907\ticky           \t\t0.6347\tyou too        \n",
            "\t-1.1905\tcouldnt        \t\t0.6344\tmost welcome   \n",
            "\t-1.1878\tunwell         \t\t0.6341\tspreading      \n",
            "\t-1.1864\thaving issues  \t\t0.6325\tincredible     \n",
            "\t-1.1861\tvery sorry     \t\t0.6318\tappreciate     \n",
            "\t-1.1824\tworrying       \t\t0.6310\thappy mother   \n",
            "\t-1.1806\tughh           \t\t0.6300\tall love       \n",
            "\t-1.1758\tstuck          \t\t0.6299\tsick so        \n",
            "\t-1.1757\tbut no         \t\t0.6282\tnothing like   \n",
            "\t-1.1754\tmissing her    \t\t0.6274\tis perfect     \n",
            "\t-1.1752\thit by         \t\t0.6257\thad fun        \n",
            "\t-1.1748\tbe long        \t\t0.6230\tall about      \n",
            "\t-1.1704\twisdom teeth   \t\t0.6228\tor pay         \n",
            "\t-1.1696\terror          \t\t0.6225\tare great      \n",
            "\t-1.1678\tgetting cold   \t\t0.6222\tloves the      \n",
            "\t-1.1660\tsmh            \t\t0.6203\thurts and      \n",
            "\t-1.1658\trash           \t\t0.6203\tat www         \n",
            "\t-1.1655\tcouldn even    \t\t0.6202\tcontent        \n",
            "\t-1.1653\twishing        \t\t0.6194\tyes            \n",
            "\t-1.1629\trunning out    \t\t0.6193\tyou really     \n",
            "\t-1.1628\tand stuck      \t\t0.6192\tplenty         \n",
            "\t-1.1596\tall alone      \t\t0.6191\twho came       \n",
            "\t-1.1593\twhere did      \t\t0.6169\tno sorry       \n",
            "\t-1.1582\twhen will      \t\t0.6162\tspread the     \n",
            "\t-1.1580\tfawcett        \t\t0.6150\tlyrics         \n",
            "\t-1.1577\tissues with    \t\t0.6149\trocked         \n",
            "\t-1.1567\tewww           \t\t0.6141\tyou need       \n",
            "\t-1.1564\tis broken      \t\t0.6139\tfave           \n",
            "\t-1.1556\tcruel          \t\t0.6123\tmorning how    \n",
            "\t-1.1556\tno money       \t\t0.6094\toh and         \n",
            "\t-1.1553\twish lived     \t\t0.6093\taplusk         \n",
            "\t-1.1551\tthey took      \t\t0.6093\tjust ordered   \n",
            "\t-1.1528\tso confused    \t\t0.6082\tis loving      \n",
            "\t-1.1524\titchy          \t\t0.6072\tyup            \n",
            "\t-1.1511\twithout him    \t\t0.6067\tnerd           \n",
            "\t-1.1499\twimbledon      \t\t0.6043\tfine           \n",
            "\t-1.1476\twould but      \t\t0.6031\tsick and       \n",
            "\t-1.1474\tgonna suck     \t\t0.6004\thow love       \n",
            "\t-1.1471\taccident       \t\t0.6004\task            \n",
            "\t-1.1470\tshould ve      \t\t0.5996\tgot twitter    \n",
            "\t-1.1467\teyes out       \t\t0.5992\thomemade       \n",
            "\t-1.1465\tboring         \t\t0.5983\tthanks http    \n"
          ],
          "name": "stdout"
        }
      ]
    },
    {
      "cell_type": "code",
      "metadata": {
        "id": "Zk799mozFcUh",
        "colab_type": "code",
        "colab": {}
      },
      "source": [
        ""
      ],
      "execution_count": 0,
      "outputs": []
    },
    {
      "cell_type": "code",
      "metadata": {
        "id": "xOpv8vdvFcUn",
        "colab_type": "code",
        "colab": {}
      },
      "source": [
        ""
      ],
      "execution_count": 0,
      "outputs": []
    }
  ]
}